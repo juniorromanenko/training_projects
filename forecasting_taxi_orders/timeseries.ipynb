{
 "cells": [
  {
   "cell_type": "markdown",
   "metadata": {},
   "source": [
    "#  Прогнозирование заказов такси"
   ]
  },
  {
   "cell_type": "markdown",
   "metadata": {},
   "source": [
    "Компания «Чётенькое такси» собрала исторические данные о заказах такси в аэропортах. Чтобы привлекать больше водителей в период пиковой нагрузки, нужно спрогнозировать количество заказов такси на следующий час. Постройте модель для такого предсказания.\n",
    "\n",
    "Значение метрики *RMSE* на тестовой выборке должно быть не больше 48.\n",
    "\n",
    "Вам нужно:\n",
    "\n",
    "1. Загрузить данные и выполнить их ресемплирование по одному часу.\n",
    "2. Проанализировать данные.\n",
    "3. Обучить разные модели с различными гиперпараметрами. Сделать тестовую выборку размером 10% от исходных данных.\n",
    "4. Проверить данные на тестовой выборке и сделать выводы.\n",
    "\n",
    "\n",
    "Данные лежат в файле `taxi.csv`. Количество заказов находится в столбце `num_orders` (от англ. *number of orders*, «число заказов»)."
   ]
  },
  {
   "cell_type": "code",
   "execution_count": 2,
   "metadata": {},
   "outputs": [],
   "source": [
    "# !pip install pandas_profiling\n",
    "# !pip install treeinterpreter\n",
    "# !pip install waterfallcharts\n",
    "# !pip install optuna\n",
    "# !pip install shap"
   ]
  },
  {
   "cell_type": "code",
   "execution_count": 60,
   "metadata": {},
   "outputs": [],
   "source": [
    "import pandas_profiling\n",
    "\n",
    "import scipy as ss\n",
    "import pandas as pd\n",
    "import seaborn as sns\n",
    "sns.set_theme(style=\"darkgrid\")\n",
    "import matplotlib.pyplot as plt\n",
    "%matplotlib inline\n",
    "import numpy as np\n",
    "# import datetime as dt\n",
    "\n",
    "from statsmodels.tsa.seasonal import seasonal_decompose\n",
    "\n",
    "from sklearn.model_selection import train_test_split, cross_val_score, GridSearchCV, TimeSeriesSplit\n",
    "from sklearn.linear_model import LinearRegression\n",
    "from sklearn.ensemble import RandomForestRegressor\n",
    "from sklearn.metrics import mean_squared_error, confusion_matrix\n",
    "from sklearn.preprocessing import StandardScaler, OneHotEncoder\n",
    "from sklearn.inspection import plot_partial_dependence\n",
    "\n",
    "from lightgbm import LGBMRegressor \n",
    "\n",
    "\n",
    "from catboost import cv, Pool, CatBoostRegressor\n",
    "\n",
    "from treeinterpreter import treeinterpreter as ti\n",
    "from scipy.cluster import hierarchy as hc\n",
    "\n",
    "import scipy.stats\n",
    "\n",
    "import optuna\n",
    "from optuna import Trial\n",
    "\n",
    "import shap"
   ]
  },
  {
   "cell_type": "markdown",
   "metadata": {},
   "source": [
    "## Подготовка"
   ]
  },
  {
   "cell_type": "code",
   "execution_count": 82,
   "metadata": {},
   "outputs": [],
   "source": [
    "df = pd.read_csv('C:/Users/nikit/Yandex/projects/datasets/taxi.csv', index_col=[0], parse_dates=[0])"
   ]
  },
  {
   "cell_type": "code",
   "execution_count": 83,
   "metadata": {},
   "outputs": [
    {
     "data": {
      "text/html": [
       "<div>\n",
       "<style scoped>\n",
       "    .dataframe tbody tr th:only-of-type {\n",
       "        vertical-align: middle;\n",
       "    }\n",
       "\n",
       "    .dataframe tbody tr th {\n",
       "        vertical-align: top;\n",
       "    }\n",
       "\n",
       "    .dataframe thead th {\n",
       "        text-align: right;\n",
       "    }\n",
       "</style>\n",
       "<table border=\"1\" class=\"dataframe\">\n",
       "  <thead>\n",
       "    <tr style=\"text-align: right;\">\n",
       "      <th></th>\n",
       "      <th>num_orders</th>\n",
       "    </tr>\n",
       "  </thead>\n",
       "  <tbody>\n",
       "    <tr>\n",
       "      <th>count</th>\n",
       "      <td>26496.000000</td>\n",
       "    </tr>\n",
       "    <tr>\n",
       "      <th>mean</th>\n",
       "      <td>14.070463</td>\n",
       "    </tr>\n",
       "    <tr>\n",
       "      <th>std</th>\n",
       "      <td>9.211330</td>\n",
       "    </tr>\n",
       "    <tr>\n",
       "      <th>min</th>\n",
       "      <td>0.000000</td>\n",
       "    </tr>\n",
       "    <tr>\n",
       "      <th>25%</th>\n",
       "      <td>8.000000</td>\n",
       "    </tr>\n",
       "    <tr>\n",
       "      <th>50%</th>\n",
       "      <td>13.000000</td>\n",
       "    </tr>\n",
       "    <tr>\n",
       "      <th>75%</th>\n",
       "      <td>19.000000</td>\n",
       "    </tr>\n",
       "    <tr>\n",
       "      <th>max</th>\n",
       "      <td>119.000000</td>\n",
       "    </tr>\n",
       "  </tbody>\n",
       "</table>\n",
       "</div>"
      ],
      "text/plain": [
       "         num_orders\n",
       "count  26496.000000\n",
       "mean      14.070463\n",
       "std        9.211330\n",
       "min        0.000000\n",
       "25%        8.000000\n",
       "50%       13.000000\n",
       "75%       19.000000\n",
       "max      119.000000"
      ]
     },
     "execution_count": 83,
     "metadata": {},
     "output_type": "execute_result"
    }
   ],
   "source": [
    "df.describe()"
   ]
  },
  {
   "cell_type": "markdown",
   "metadata": {},
   "source": [
    "Имеется смещение в распределении"
   ]
  },
  {
   "cell_type": "code",
   "execution_count": 84,
   "metadata": {
    "scrolled": true
   },
   "outputs": [
    {
     "name": "stdout",
     "output_type": "stream",
     "text": [
      "<class 'pandas.core.frame.DataFrame'>\n",
      "DatetimeIndex: 26496 entries, 2018-03-01 00:00:00 to 2018-08-31 23:50:00\n",
      "Data columns (total 1 columns):\n",
      " #   Column      Non-Null Count  Dtype\n",
      "---  ------      --------------  -----\n",
      " 0   num_orders  26496 non-null  int64\n",
      "dtypes: int64(1)\n",
      "memory usage: 414.0 KB\n"
     ]
    }
   ],
   "source": [
    "df.info()"
   ]
  },
  {
   "cell_type": "markdown",
   "metadata": {},
   "source": [
    "В данных нет пропусков, имеется 537 строк, где заказов 0, нужно будет глянуть."
   ]
  },
  {
   "cell_type": "code",
   "execution_count": 86,
   "metadata": {},
   "outputs": [],
   "source": [
    "df.sort_index(inplace=True)"
   ]
  },
  {
   "cell_type": "code",
   "execution_count": 87,
   "metadata": {},
   "outputs": [
    {
     "data": {
      "text/html": [
       "<div>\n",
       "<style scoped>\n",
       "    .dataframe tbody tr th:only-of-type {\n",
       "        vertical-align: middle;\n",
       "    }\n",
       "\n",
       "    .dataframe tbody tr th {\n",
       "        vertical-align: top;\n",
       "    }\n",
       "\n",
       "    .dataframe thead th {\n",
       "        text-align: right;\n",
       "    }\n",
       "</style>\n",
       "<table border=\"1\" class=\"dataframe\">\n",
       "  <thead>\n",
       "    <tr style=\"text-align: right;\">\n",
       "      <th></th>\n",
       "      <th>num_orders</th>\n",
       "    </tr>\n",
       "    <tr>\n",
       "      <th>datetime</th>\n",
       "      <th></th>\n",
       "    </tr>\n",
       "  </thead>\n",
       "  <tbody>\n",
       "    <tr>\n",
       "      <th>2018-03-01 00:00:00</th>\n",
       "      <td>9</td>\n",
       "    </tr>\n",
       "    <tr>\n",
       "      <th>2018-03-01 00:10:00</th>\n",
       "      <td>14</td>\n",
       "    </tr>\n",
       "    <tr>\n",
       "      <th>2018-03-01 00:20:00</th>\n",
       "      <td>28</td>\n",
       "    </tr>\n",
       "    <tr>\n",
       "      <th>2018-03-01 00:30:00</th>\n",
       "      <td>20</td>\n",
       "    </tr>\n",
       "    <tr>\n",
       "      <th>2018-03-01 00:40:00</th>\n",
       "      <td>32</td>\n",
       "    </tr>\n",
       "    <tr>\n",
       "      <th>...</th>\n",
       "      <td>...</td>\n",
       "    </tr>\n",
       "    <tr>\n",
       "      <th>2018-08-31 23:10:00</th>\n",
       "      <td>32</td>\n",
       "    </tr>\n",
       "    <tr>\n",
       "      <th>2018-08-31 23:20:00</th>\n",
       "      <td>24</td>\n",
       "    </tr>\n",
       "    <tr>\n",
       "      <th>2018-08-31 23:30:00</th>\n",
       "      <td>27</td>\n",
       "    </tr>\n",
       "    <tr>\n",
       "      <th>2018-08-31 23:40:00</th>\n",
       "      <td>39</td>\n",
       "    </tr>\n",
       "    <tr>\n",
       "      <th>2018-08-31 23:50:00</th>\n",
       "      <td>53</td>\n",
       "    </tr>\n",
       "  </tbody>\n",
       "</table>\n",
       "<p>26496 rows × 1 columns</p>\n",
       "</div>"
      ],
      "text/plain": [
       "                     num_orders\n",
       "datetime                       \n",
       "2018-03-01 00:00:00           9\n",
       "2018-03-01 00:10:00          14\n",
       "2018-03-01 00:20:00          28\n",
       "2018-03-01 00:30:00          20\n",
       "2018-03-01 00:40:00          32\n",
       "...                         ...\n",
       "2018-08-31 23:10:00          32\n",
       "2018-08-31 23:20:00          24\n",
       "2018-08-31 23:30:00          27\n",
       "2018-08-31 23:40:00          39\n",
       "2018-08-31 23:50:00          53\n",
       "\n",
       "[26496 rows x 1 columns]"
      ]
     },
     "execution_count": 87,
     "metadata": {},
     "output_type": "execute_result"
    }
   ],
   "source": [
    "df"
   ]
  },
  {
   "cell_type": "markdown",
   "metadata": {},
   "source": [
    "<div style=\"border-radius: 15px; box-shadow: 4px 4px 4px; border: 3px solid indigo; padding: 15px\"> \n",
    "<h2 align=\"center\"> Вывод <a class=\"tocSkip\"> </h2>\n",
    "Пока что ничего нельзя сказать, кроме того, что данные хорошие и что распределение слегка скошено."
   ]
  },
  {
   "cell_type": "markdown",
   "metadata": {},
   "source": [
    "## Анализ"
   ]
  },
  {
   "cell_type": "code",
   "execution_count": 88,
   "metadata": {},
   "outputs": [],
   "source": [
    "df_resample = df.resample('1H').sum()"
   ]
  },
  {
   "cell_type": "code",
   "execution_count": 89,
   "metadata": {},
   "outputs": [],
   "source": [
    "decomposed = seasonal_decompose(df_resample) "
   ]
  },
  {
   "cell_type": "code",
   "execution_count": 90,
   "metadata": {},
   "outputs": [
    {
     "data": {
      "image/png": "[encoded data removed]",
      "text/plain": [
       "<Figure size 432x288 with 1 Axes>"
      ]
     },
     "metadata": {
      "needs_background": "light"
     },
     "output_type": "display_data"
    }
   ],
   "source": [
    "decomposed.trend.plot();"
   ]
  },
  {
   "cell_type": "markdown",
   "metadata": {},
   "source": [
    "С каждым месяцем люди все больше и больше пользуются такси. Также можно заметить, что в июне происходит торможение, т.е. рост не наблюдается. До мая рост также не наблюдается, в мае начинается рост."
   ]
  },
  {
   "cell_type": "code",
   "execution_count": 91,
   "metadata": {},
   "outputs": [
    {
     "data": {
      "image/png": "[encoded data removed]",
      "text/plain": [
       "<Figure size 1080x432 with 1 Axes>"
      ]
     },
     "metadata": {
      "needs_background": "light"
     },
     "output_type": "display_data"
    }
   ],
   "source": [
    "decomposed.seasonal['2018-03-01':'2018-03-02'].plot(figsize=(15, 6));"
   ]
  },
  {
   "cell_type": "markdown",
   "metadata": {},
   "source": [
    "Можно выделить 3 периода, когда часто заказывают такси(сезонность) - утром, вечером, а также в полночь, следовательно можно обозначить это модели, чтобы они понимала, что в такое время большой наплыв народа."
   ]
  },
  {
   "cell_type": "code",
   "execution_count": 92,
   "metadata": {},
   "outputs": [
    {
     "data": {
      "image/png": "[encoded data removed]",
      "text/plain": [
       "<Figure size 1080x432 with 1 Axes>"
      ]
     },
     "metadata": {
      "needs_background": "light"
     },
     "output_type": "display_data"
    }
   ],
   "source": [
    "# график ближе\n",
    "decomposed.seasonal['2018-03-01':'2018-03-01'].plot(figsize=(15, 6));"
   ]
  },
  {
   "cell_type": "code",
   "execution_count": 93,
   "metadata": {},
   "outputs": [
    {
     "data": {
      "image/png": "[encoded data removed]",
      "text/plain": [
       "<Figure size 432x288 with 1 Axes>"
      ]
     },
     "metadata": {
      "needs_background": "light"
     },
     "output_type": "display_data"
    }
   ],
   "source": [
    "# остатки\n",
    "decomposed.resid.plot();"
   ]
  },
  {
   "cell_type": "markdown",
   "metadata": {},
   "source": [
    "<div style=\"border-radius: 15px; box-shadow: 4px 4px 4px; border: 3px solid indigo; padding: 15px\"> \n",
    "<h2 align=\"center\"> Вывод <a class=\"tocSkip\"> </h2>\n",
    "Имеется тренд(восходящий), а также сезенность(3 периода в дне, когда количетсов заказов в час растет). Также видно рост дисперсии, начиная с августа, это повляет на качество тестовой выборки."
   ]
  },
  {
   "cell_type": "markdown",
   "metadata": {},
   "source": [
    "## Обучение"
   ]
  },
  {
   "cell_type": "code",
   "execution_count": 1,
   "metadata": {},
   "outputs": [],
   "source": [
    "def new_features(data, shift, rolling_mean_size):\n",
    "    new_df = data.copy()\n",
    "    new_df['month'] = new_df.index.month\n",
    "    new_df['hour'] = new_df.index.hour\n",
    "     \n",
    "    for lag in range(1, shift + 1):\n",
    "        new_df['lag_{}'.format(lag)] = new_df['num_orders'].shift(lag)\n",
    "\n",
    "    new_df['rolling_mean'] = new_df['num_orders'].shift().rolling(rolling_mean_size).mean()\n",
    "    new_df['diff_rolling_mean'] = new_df['rolling_mean'].diff()\n",
    "    \n",
    "    new_df['rolling_median'] = new_df['num_orders'].shift().rolling(rolling_mean_size).median()\n",
    "    \n",
    "    new_df['stationary'] = new_df['num_orders'].shift().diff()\n",
    "    \n",
    "    return new_df"
   ]
  },
  {
   "cell_type": "code",
   "execution_count": 95,
   "metadata": {},
   "outputs": [],
   "source": [
    "data = new_features(df_resample, 24, 24)"
   ]
  },
  {
   "cell_type": "code",
   "execution_count": 96,
   "metadata": {},
   "outputs": [],
   "source": [
    "def orders(df):\n",
    "    hour = df['hour']\n",
    "    if hour >= 6 and hour <= 10:\n",
    "        return 'morning'\n",
    "    if hour >= 12 and hour <=16:\n",
    "        return 'lunch'\n",
    "    if hour >= 18 or hour == 0:\n",
    "        return 'evening'\n",
    "    return 'standard'"
   ]
  },
  {
   "cell_type": "code",
   "execution_count": 97,
   "metadata": {},
   "outputs": [],
   "source": [
    "data['increase_orders'] = data.apply(orders, axis=1)"
   ]
  },
  {
   "cell_type": "code",
   "execution_count": 98,
   "metadata": {},
   "outputs": [
    {
     "data": {
      "text/plain": [
       "evening     1288\n",
       "standard    1288\n",
       "morning      920\n",
       "lunch        920\n",
       "Name: increase_orders, dtype: int64"
      ]
     },
     "execution_count": 98,
     "metadata": {},
     "output_type": "execute_result"
    }
   ],
   "source": [
    "data['increase_orders'].value_counts()"
   ]
  },
  {
   "cell_type": "code",
   "execution_count": 99,
   "metadata": {},
   "outputs": [],
   "source": [
    "# косинусо-синосовое преобразование признаков, связанных со временем и  датой\n",
    "def cos_sin_transformation(data, columns):\n",
    "    for column in columns:\n",
    "        data['mnth_sin_' + column] = np.sin((data[column]-1)*(2.*np.pi/12))\n",
    "        data['mnth_cos_' + column] = np.cos((data[column]-1)*(2.*np.pi/12))\n",
    "     \n",
    "    \n",
    "columns = ['month', 'hour']    \n",
    "cos_sin_transformation(data, columns)"
   ]
  },
  {
   "cell_type": "code",
   "execution_count": 100,
   "metadata": {},
   "outputs": [
    {
     "data": {
      "text/plain": [
       "Index(['num_orders', 'month', 'hour', 'lag_1', 'lag_2', 'lag_3', 'lag_4',\n",
       "       'lag_5', 'lag_6', 'lag_7', 'lag_8', 'lag_9', 'lag_10', 'lag_11',\n",
       "       'lag_12', 'lag_13', 'lag_14', 'lag_15', 'lag_16', 'lag_17', 'lag_18',\n",
       "       'lag_19', 'lag_20', 'lag_21', 'lag_22', 'lag_23', 'lag_24',\n",
       "       'rolling_mean', 'diff_rolling_mean', 'rolling_median', 'stationary',\n",
       "       'increase_orders', 'mnth_sin_month', 'mnth_cos_month', 'mnth_sin_hour',\n",
       "       'mnth_cos_hour'],\n",
       "      dtype='object')"
      ]
     },
     "execution_count": 100,
     "metadata": {},
     "output_type": "execute_result"
    }
   ],
   "source": [
    "data.columns"
   ]
  },
  {
   "cell_type": "code",
   "execution_count": 101,
   "metadata": {},
   "outputs": [],
   "source": [
    "train, test = train_test_split(data, test_size=0.1, random_state=67, shuffle=False)\n",
    "train = train.dropna()"
   ]
  },
  {
   "cell_type": "code",
   "execution_count": 102,
   "metadata": {},
   "outputs": [],
   "source": [
    "X_train = train.drop(['num_orders', 'month', 'hour'], axis=1)\n",
    "X_test = test.drop(['num_orders', 'month', 'hour'], axis=1)\n",
    "\n",
    "y_train = train['num_orders']\n",
    "y_test = test['num_orders']"
   ]
  },
  {
   "cell_type": "code",
   "execution_count": 103,
   "metadata": {},
   "outputs": [],
   "source": [
    "scaler = StandardScaler()\n",
    "numeric = X_train.drop(['increase_orders'], axis=1).columns\n",
    "X_train[numeric] = scaler.fit_transform(X_train[numeric])\n",
    "X_test[numeric] = scaler.transform(X_test[numeric])"
   ]
  },
  {
   "cell_type": "code",
   "execution_count": 104,
   "metadata": {},
   "outputs": [],
   "source": [
    "ohe = OneHotEncoder(drop='first')\n",
    "ohe_df_train = ohe.fit_transform(np.array(X_train['increase_orders']).reshape(-1, 1))\n",
    "ohe_df_train = pd.DataFrame(ohe_df_train.todense(), columns=ohe.get_feature_names_out(), index = X_train.index)\n",
    "\n",
    "ohe_df_test = ohe.transform(np.array(X_test['increase_orders']).reshape(-1, 1))\n",
    "ohe_df_test = pd.DataFrame(ohe_df_test.todense(), columns=ohe.get_feature_names_out(), index = X_test.index)\n",
    "\n",
    "X_train = X_train[numeric].join(ohe_df_train)\n",
    "\n",
    "X_test = X_test[numeric].join(ohe_df_test)\n"
   ]
  },
  {
   "cell_type": "markdown",
   "metadata": {},
   "source": [
    "### Baseline"
   ]
  },
  {
   "cell_type": "markdown",
   "metadata": {},
   "source": [
    "Собираюсь использовать линейную модель, рандомные леса, а также LGBM. Есть только некоторые ограничения в деревянных моделях, они не смогут предсказать тренд через какое-то определенное время, т.е. если тренд растет, то деревянные модели в какой-то период не смогут предсказывать значения выше той планки, на которой они обучались."
   ]
  },
  {
   "cell_type": "code",
   "execution_count": 105,
   "metadata": {
    "scrolled": false
   },
   "outputs": [
    {
     "data": {
      "text/html": [
       "<div>\n",
       "<style scoped>\n",
       "    .dataframe tbody tr th:only-of-type {\n",
       "        vertical-align: middle;\n",
       "    }\n",
       "\n",
       "    .dataframe tbody tr th {\n",
       "        vertical-align: top;\n",
       "    }\n",
       "\n",
       "    .dataframe thead th {\n",
       "        text-align: right;\n",
       "    }\n",
       "</style>\n",
       "<table border=\"1\" class=\"dataframe\">\n",
       "  <thead>\n",
       "    <tr style=\"text-align: right;\">\n",
       "      <th></th>\n",
       "      <th>lag_1</th>\n",
       "      <th>lag_2</th>\n",
       "      <th>lag_3</th>\n",
       "      <th>lag_4</th>\n",
       "      <th>lag_5</th>\n",
       "      <th>lag_6</th>\n",
       "      <th>lag_7</th>\n",
       "      <th>lag_8</th>\n",
       "      <th>lag_9</th>\n",
       "      <th>lag_10</th>\n",
       "      <th>...</th>\n",
       "      <th>diff_rolling_mean</th>\n",
       "      <th>rolling_median</th>\n",
       "      <th>stationary</th>\n",
       "      <th>mnth_sin_month</th>\n",
       "      <th>mnth_cos_month</th>\n",
       "      <th>mnth_sin_hour</th>\n",
       "      <th>mnth_cos_hour</th>\n",
       "      <th>x0_lunch</th>\n",
       "      <th>x0_morning</th>\n",
       "      <th>x0_standard</th>\n",
       "    </tr>\n",
       "    <tr>\n",
       "      <th>datetime</th>\n",
       "      <th></th>\n",
       "      <th></th>\n",
       "      <th></th>\n",
       "      <th></th>\n",
       "      <th></th>\n",
       "      <th></th>\n",
       "      <th></th>\n",
       "      <th></th>\n",
       "      <th></th>\n",
       "      <th></th>\n",
       "      <th></th>\n",
       "      <th></th>\n",
       "      <th></th>\n",
       "      <th></th>\n",
       "      <th></th>\n",
       "      <th></th>\n",
       "      <th></th>\n",
       "      <th></th>\n",
       "      <th></th>\n",
       "      <th></th>\n",
       "      <th></th>\n",
       "    </tr>\n",
       "  </thead>\n",
       "  <tbody>\n",
       "    <tr>\n",
       "      <th>2018-03-02 01:00:00</th>\n",
       "      <td>0.299600</td>\n",
       "      <td>-0.527416</td>\n",
       "      <td>0.894829</td>\n",
       "      <td>-0.320059</td>\n",
       "      <td>-0.449034</td>\n",
       "      <td>-0.862704</td>\n",
       "      <td>-0.138431</td>\n",
       "      <td>-0.888696</td>\n",
       "      <td>-0.914215</td>\n",
       "      <td>-0.318720</td>\n",
       "      <td>...</td>\n",
       "      <td>-1.085777</td>\n",
       "      <td>-0.890683</td>\n",
       "      <td>0.884077</td>\n",
       "      <td>0.667426</td>\n",
       "      <td>1.665400</td>\n",
       "      <td>-1.285181e-16</td>\n",
       "      <td>1.413677</td>\n",
       "      <td>0.0</td>\n",
       "      <td>0.0</td>\n",
       "      <td>1.0</td>\n",
       "    </tr>\n",
       "    <tr>\n",
       "      <th>2018-03-02 02:00:00</th>\n",
       "      <td>1.075147</td>\n",
       "      <td>0.299817</td>\n",
       "      <td>-0.527352</td>\n",
       "      <td>0.895864</td>\n",
       "      <td>-0.319646</td>\n",
       "      <td>-0.448696</td>\n",
       "      <td>-0.863038</td>\n",
       "      <td>-0.138275</td>\n",
       "      <td>-0.888341</td>\n",
       "      <td>-0.914023</td>\n",
       "      <td>...</td>\n",
       "      <td>1.085976</td>\n",
       "      <td>-0.890683</td>\n",
       "      <td>0.828807</td>\n",
       "      <td>0.667426</td>\n",
       "      <td>1.665400</td>\n",
       "      <td>7.071963e-01</td>\n",
       "      <td>1.224232</td>\n",
       "      <td>0.0</td>\n",
       "      <td>0.0</td>\n",
       "      <td>1.0</td>\n",
       "    </tr>\n",
       "    <tr>\n",
       "      <th>2018-03-02 03:00:00</th>\n",
       "      <td>-0.088173</td>\n",
       "      <td>1.075348</td>\n",
       "      <td>0.300099</td>\n",
       "      <td>-0.527025</td>\n",
       "      <td>0.896600</td>\n",
       "      <td>-0.319319</td>\n",
       "      <td>-0.448977</td>\n",
       "      <td>-0.862819</td>\n",
       "      <td>-0.137998</td>\n",
       "      <td>-0.888140</td>\n",
       "      <td>...</td>\n",
       "      <td>0.110261</td>\n",
       "      <td>-0.890683</td>\n",
       "      <td>-1.243806</td>\n",
       "      <td>0.667426</td>\n",
       "      <td>1.665400</td>\n",
       "      <td>1.224900e+00</td>\n",
       "      <td>0.706659</td>\n",
       "      <td>0.0</td>\n",
       "      <td>0.0</td>\n",
       "      <td>1.0</td>\n",
       "    </tr>\n",
       "    <tr>\n",
       "      <th>2018-03-02 04:00:00</th>\n",
       "      <td>-0.372540</td>\n",
       "      <td>-0.087949</td>\n",
       "      <td>1.075834</td>\n",
       "      <td>0.300838</td>\n",
       "      <td>-0.526667</td>\n",
       "      <td>0.896829</td>\n",
       "      <td>-0.319583</td>\n",
       "      <td>-0.448794</td>\n",
       "      <td>-0.862467</td>\n",
       "      <td>-0.137541</td>\n",
       "      <td>...</td>\n",
       "      <td>-0.078587</td>\n",
       "      <td>-0.890683</td>\n",
       "      <td>-0.304221</td>\n",
       "      <td>0.667426</td>\n",
       "      <td>1.665400</td>\n",
       "      <td>1.414393e+00</td>\n",
       "      <td>-0.000358</td>\n",
       "      <td>0.0</td>\n",
       "      <td>0.0</td>\n",
       "      <td>1.0</td>\n",
       "    </tr>\n",
       "    <tr>\n",
       "      <th>2018-03-02 05:00:00</th>\n",
       "      <td>-1.510008</td>\n",
       "      <td>-0.372310</td>\n",
       "      <td>-0.087769</td>\n",
       "      <td>1.076959</td>\n",
       "      <td>0.301416</td>\n",
       "      <td>-0.526323</td>\n",
       "      <td>0.896722</td>\n",
       "      <td>-0.319411</td>\n",
       "      <td>-0.448485</td>\n",
       "      <td>-0.862257</td>\n",
       "      <td>...</td>\n",
       "      <td>-0.739555</td>\n",
       "      <td>-0.890683</td>\n",
       "      <td>-1.216171</td>\n",
       "      <td>0.667426</td>\n",
       "      <td>1.665400</td>\n",
       "      <td>1.224900e+00</td>\n",
       "      <td>-0.707375</td>\n",
       "      <td>0.0</td>\n",
       "      <td>0.0</td>\n",
       "      <td>1.0</td>\n",
       "    </tr>\n",
       "    <tr>\n",
       "      <th>...</th>\n",
       "      <td>...</td>\n",
       "      <td>...</td>\n",
       "      <td>...</td>\n",
       "      <td>...</td>\n",
       "      <td>...</td>\n",
       "      <td>...</td>\n",
       "      <td>...</td>\n",
       "      <td>...</td>\n",
       "      <td>...</td>\n",
       "      <td>...</td>\n",
       "      <td>...</td>\n",
       "      <td>...</td>\n",
       "      <td>...</td>\n",
       "      <td>...</td>\n",
       "      <td>...</td>\n",
       "      <td>...</td>\n",
       "      <td>...</td>\n",
       "      <td>...</td>\n",
       "      <td>...</td>\n",
       "      <td>...</td>\n",
       "      <td>...</td>\n",
       "    </tr>\n",
       "    <tr>\n",
       "      <th>2018-08-13 09:00:00</th>\n",
       "      <td>0.325452</td>\n",
       "      <td>-1.018586</td>\n",
       "      <td>-0.320489</td>\n",
       "      <td>0.119743</td>\n",
       "      <td>1.672928</td>\n",
       "      <td>2.319981</td>\n",
       "      <td>9.281462</td>\n",
       "      <td>5.037040</td>\n",
       "      <td>2.113029</td>\n",
       "      <td>2.761325</td>\n",
       "      <td>...</td>\n",
       "      <td>-0.204486</td>\n",
       "      <td>2.069620</td>\n",
       "      <td>1.436774</td>\n",
       "      <td>-2.274212</td>\n",
       "      <td>-0.819029</td>\n",
       "      <td>-1.224900e+00</td>\n",
       "      <td>-0.707375</td>\n",
       "      <td>0.0</td>\n",
       "      <td>1.0</td>\n",
       "      <td>0.0</td>\n",
       "    </tr>\n",
       "    <tr>\n",
       "      <th>2018-08-13 10:00:00</th>\n",
       "      <td>1.514623</td>\n",
       "      <td>0.325668</td>\n",
       "      <td>-1.018651</td>\n",
       "      <td>-0.320059</td>\n",
       "      <td>0.120273</td>\n",
       "      <td>1.673094</td>\n",
       "      <td>2.320058</td>\n",
       "      <td>9.280798</td>\n",
       "      <td>5.036778</td>\n",
       "      <td>2.114256</td>\n",
       "      <td>...</td>\n",
       "      <td>0.897128</td>\n",
       "      <td>2.199458</td>\n",
       "      <td>1.270965</td>\n",
       "      <td>-2.274212</td>\n",
       "      <td>-0.819029</td>\n",
       "      <td>-1.414393e+00</td>\n",
       "      <td>-0.000358</td>\n",
       "      <td>0.0</td>\n",
       "      <td>1.0</td>\n",
       "      <td>0.0</td>\n",
       "    </tr>\n",
       "    <tr>\n",
       "      <th>2018-08-13 11:00:00</th>\n",
       "      <td>2.005803</td>\n",
       "      <td>1.514816</td>\n",
       "      <td>0.325957</td>\n",
       "      <td>-1.018568</td>\n",
       "      <td>-0.319646</td>\n",
       "      <td>0.120564</td>\n",
       "      <td>1.673087</td>\n",
       "      <td>2.320000</td>\n",
       "      <td>9.280095</td>\n",
       "      <td>5.039005</td>\n",
       "      <td>...</td>\n",
       "      <td>1.495147</td>\n",
       "      <td>2.329295</td>\n",
       "      <td>0.524824</td>\n",
       "      <td>-2.274212</td>\n",
       "      <td>-0.819029</td>\n",
       "      <td>-1.224900e+00</td>\n",
       "      <td>0.706659</td>\n",
       "      <td>0.0</td>\n",
       "      <td>0.0</td>\n",
       "      <td>1.0</td>\n",
       "    </tr>\n",
       "    <tr>\n",
       "      <th>2018-08-13 12:00:00</th>\n",
       "      <td>1.695584</td>\n",
       "      <td>2.005986</td>\n",
       "      <td>1.515417</td>\n",
       "      <td>0.326709</td>\n",
       "      <td>-1.018341</td>\n",
       "      <td>-0.319319</td>\n",
       "      <td>0.120357</td>\n",
       "      <td>1.673085</td>\n",
       "      <td>2.320020</td>\n",
       "      <td>9.283772</td>\n",
       "      <td>...</td>\n",
       "      <td>1.967267</td>\n",
       "      <td>2.718809</td>\n",
       "      <td>-0.331856</td>\n",
       "      <td>-2.274212</td>\n",
       "      <td>-0.819029</td>\n",
       "      <td>-7.071963e-01</td>\n",
       "      <td>1.224232</td>\n",
       "      <td>1.0</td>\n",
       "      <td>0.0</td>\n",
       "      <td>0.0</td>\n",
       "    </tr>\n",
       "    <tr>\n",
       "      <th>2018-08-13 13:00:00</th>\n",
       "      <td>0.351304</td>\n",
       "      <td>1.695773</td>\n",
       "      <td>2.006716</td>\n",
       "      <td>1.516761</td>\n",
       "      <td>0.327293</td>\n",
       "      <td>-1.017957</td>\n",
       "      <td>-0.319583</td>\n",
       "      <td>0.120491</td>\n",
       "      <td>1.673173</td>\n",
       "      <td>2.321318</td>\n",
       "      <td>...</td>\n",
       "      <td>-0.991353</td>\n",
       "      <td>2.640906</td>\n",
       "      <td>-1.437250</td>\n",
       "      <td>-2.274212</td>\n",
       "      <td>-0.819029</td>\n",
       "      <td>-4.749444e-16</td>\n",
       "      <td>1.413677</td>\n",
       "      <td>1.0</td>\n",
       "      <td>0.0</td>\n",
       "      <td>0.0</td>\n",
       "    </tr>\n",
       "  </tbody>\n",
       "</table>\n",
       "<p>3949 rows × 35 columns</p>\n",
       "</div>"
      ],
      "text/plain": [
       "                        lag_1     lag_2     lag_3     lag_4     lag_5  \\\n",
       "datetime                                                                \n",
       "2018-03-02 01:00:00  0.299600 -0.527416  0.894829 -0.320059 -0.449034   \n",
       "2018-03-02 02:00:00  1.075147  0.299817 -0.527352  0.895864 -0.319646   \n",
       "2018-03-02 03:00:00 -0.088173  1.075348  0.300099 -0.527025  0.896600   \n",
       "2018-03-02 04:00:00 -0.372540 -0.087949  1.075834  0.300838 -0.526667   \n",
       "2018-03-02 05:00:00 -1.510008 -0.372310 -0.087769  1.076959  0.301416   \n",
       "...                       ...       ...       ...       ...       ...   \n",
       "2018-08-13 09:00:00  0.325452 -1.018586 -0.320489  0.119743  1.672928   \n",
       "2018-08-13 10:00:00  1.514623  0.325668 -1.018651 -0.320059  0.120273   \n",
       "2018-08-13 11:00:00  2.005803  1.514816  0.325957 -1.018568 -0.319646   \n",
       "2018-08-13 12:00:00  1.695584  2.005986  1.515417  0.326709 -1.018341   \n",
       "2018-08-13 13:00:00  0.351304  1.695773  2.006716  1.516761  0.327293   \n",
       "\n",
       "                        lag_6     lag_7     lag_8     lag_9    lag_10  ...  \\\n",
       "datetime                                                               ...   \n",
       "2018-03-02 01:00:00 -0.862704 -0.138431 -0.888696 -0.914215 -0.318720  ...   \n",
       "2018-03-02 02:00:00 -0.448696 -0.863038 -0.138275 -0.888341 -0.914023  ...   \n",
       "2018-03-02 03:00:00 -0.319319 -0.448977 -0.862819 -0.137998 -0.888140  ...   \n",
       "2018-03-02 04:00:00  0.896829 -0.319583 -0.448794 -0.862467 -0.137541  ...   \n",
       "2018-03-02 05:00:00 -0.526323  0.896722 -0.319411 -0.448485 -0.862257  ...   \n",
       "...                       ...       ...       ...       ...       ...  ...   \n",
       "2018-08-13 09:00:00  2.319981  9.281462  5.037040  2.113029  2.761325  ...   \n",
       "2018-08-13 10:00:00  1.673094  2.320058  9.280798  5.036778  2.114256  ...   \n",
       "2018-08-13 11:00:00  0.120564  1.673087  2.320000  9.280095  5.039005  ...   \n",
       "2018-08-13 12:00:00 -0.319319  0.120357  1.673085  2.320020  9.283772  ...   \n",
       "2018-08-13 13:00:00 -1.017957 -0.319583  0.120491  1.673173  2.321318  ...   \n",
       "\n",
       "                     diff_rolling_mean  rolling_median  stationary  \\\n",
       "datetime                                                             \n",
       "2018-03-02 01:00:00          -1.085777       -0.890683    0.884077   \n",
       "2018-03-02 02:00:00           1.085976       -0.890683    0.828807   \n",
       "2018-03-02 03:00:00           0.110261       -0.890683   -1.243806   \n",
       "2018-03-02 04:00:00          -0.078587       -0.890683   -0.304221   \n",
       "2018-03-02 05:00:00          -0.739555       -0.890683   -1.216171   \n",
       "...                                ...             ...         ...   \n",
       "2018-08-13 09:00:00          -0.204486        2.069620    1.436774   \n",
       "2018-08-13 10:00:00           0.897128        2.199458    1.270965   \n",
       "2018-08-13 11:00:00           1.495147        2.329295    0.524824   \n",
       "2018-08-13 12:00:00           1.967267        2.718809   -0.331856   \n",
       "2018-08-13 13:00:00          -0.991353        2.640906   -1.437250   \n",
       "\n",
       "                     mnth_sin_month  mnth_cos_month  mnth_sin_hour  \\\n",
       "datetime                                                             \n",
       "2018-03-02 01:00:00        0.667426        1.665400  -1.285181e-16   \n",
       "2018-03-02 02:00:00        0.667426        1.665400   7.071963e-01   \n",
       "2018-03-02 03:00:00        0.667426        1.665400   1.224900e+00   \n",
       "2018-03-02 04:00:00        0.667426        1.665400   1.414393e+00   \n",
       "2018-03-02 05:00:00        0.667426        1.665400   1.224900e+00   \n",
       "...                             ...             ...            ...   \n",
       "2018-08-13 09:00:00       -2.274212       -0.819029  -1.224900e+00   \n",
       "2018-08-13 10:00:00       -2.274212       -0.819029  -1.414393e+00   \n",
       "2018-08-13 11:00:00       -2.274212       -0.819029  -1.224900e+00   \n",
       "2018-08-13 12:00:00       -2.274212       -0.819029  -7.071963e-01   \n",
       "2018-08-13 13:00:00       -2.274212       -0.819029  -4.749444e-16   \n",
       "\n",
       "                     mnth_cos_hour  x0_lunch  x0_morning  x0_standard  \n",
       "datetime                                                               \n",
       "2018-03-02 01:00:00       1.413677       0.0         0.0          1.0  \n",
       "2018-03-02 02:00:00       1.224232       0.0         0.0          1.0  \n",
       "2018-03-02 03:00:00       0.706659       0.0         0.0          1.0  \n",
       "2018-03-02 04:00:00      -0.000358       0.0         0.0          1.0  \n",
       "2018-03-02 05:00:00      -0.707375       0.0         0.0          1.0  \n",
       "...                            ...       ...         ...          ...  \n",
       "2018-08-13 09:00:00      -0.707375       0.0         1.0          0.0  \n",
       "2018-08-13 10:00:00      -0.000358       0.0         1.0          0.0  \n",
       "2018-08-13 11:00:00       0.706659       0.0         0.0          1.0  \n",
       "2018-08-13 12:00:00       1.224232       1.0         0.0          0.0  \n",
       "2018-08-13 13:00:00       1.413677       1.0         0.0          0.0  \n",
       "\n",
       "[3949 rows x 35 columns]"
      ]
     },
     "execution_count": 105,
     "metadata": {},
     "output_type": "execute_result"
    }
   ],
   "source": [
    "X_train"
   ]
  },
  {
   "cell_type": "code",
   "execution_count": 106,
   "metadata": {
    "scrolled": true
   },
   "outputs": [
    {
     "data": {
      "text/plain": [
       "44.9953394386414"
      ]
     },
     "execution_count": 106,
     "metadata": {},
     "output_type": "execute_result"
    }
   ],
   "source": [
    "lr = LinearRegression()\n",
    "lr.fit(X_train, y_train)\n",
    "pred = lr.predict(X_test)\n",
    "mean_squared_error(y_test, pred, squared=False)"
   ]
  },
  {
   "cell_type": "markdown",
   "metadata": {},
   "source": [
    "Неплохо, глянем результаты RandomForest без нахождения оптимальных гиперпараметров"
   ]
  },
  {
   "cell_type": "code",
   "execution_count": 107,
   "metadata": {},
   "outputs": [
    {
     "data": {
      "image/png": "[encoded data removed]",
      "text/plain": [
       "<Figure size 576x864 with 1 Axes>"
      ]
     },
     "metadata": {
      "needs_background": "light"
     },
     "output_type": "display_data"
    }
   ],
   "source": [
    "plt.figure(figsize=(8, 12))\n",
    "sns.barplot(x=lr.coef_, y=X_test.columns);"
   ]
  },
  {
   "cell_type": "markdown",
   "metadata": {},
   "source": [
    "Все предсказание делается исключительно по скользящему среднему"
   ]
  },
  {
   "cell_type": "code",
   "execution_count": 108,
   "metadata": {},
   "outputs": [
    {
     "data": {
      "text/plain": [
       "50.8644189542878"
      ]
     },
     "execution_count": 108,
     "metadata": {},
     "output_type": "execute_result"
    }
   ],
   "source": [
    "forest = RandomForestRegressor(n_estimators=100,\n",
    "                               max_features='sqrt', \n",
    "                               max_depth=6,\n",
    "                               n_jobs = -1,\n",
    "                               oob_score=True)\n",
    "\n",
    "forest.fit(X_train, y_train)\n",
    "pred = forest.predict(X_test)\n",
    "mean_squared_error(y_test, pred, squared=False)"
   ]
  },
  {
   "cell_type": "markdown",
   "metadata": {},
   "source": [
    "Baseline лучше на линейной модели, глянем, что будет дальше, когда добавится градиентный бустинг."
   ]
  },
  {
   "cell_type": "code",
   "execution_count": 109,
   "metadata": {},
   "outputs": [],
   "source": [
    "analys_df = pd.DataFrame(forest.feature_importances_, index = X_train.columns).reset_index()\n",
    "analys_df.columns = ['features', 'imp']"
   ]
  },
  {
   "cell_type": "code",
   "execution_count": 110,
   "metadata": {},
   "outputs": [
    {
     "data": {
      "image/png": "[encoded data removed]",
      "text/plain": [
       "<Figure size 576x864 with 1 Axes>"
      ]
     },
     "metadata": {
      "needs_background": "light"
     },
     "output_type": "display_data"
    }
   ],
   "source": [
    "plt.figure(figsize=(8, 12))\n",
    "sns.barplot(x=analys_df['imp'], y=analys_df['features']);"
   ]
  },
  {
   "cell_type": "markdown",
   "metadata": {},
   "source": [
    "Деревянная модель делает предсказание по пришлому значению количества заказов(за час и 24 часа до)"
   ]
  },
  {
   "cell_type": "markdown",
   "metadata": {},
   "source": [
    "Ниже решил попробовать выявить те признаки, которые коррелируют друг с другом, т.е. заменяют друг друга, в итоге хотелось бы удалить их, если таковы имеются"
   ]
  },
  {
   "cell_type": "code",
   "execution_count": 111,
   "metadata": {},
   "outputs": [],
   "source": [
    "def cluster_columns(df, figsize=(10,6), font_size=12):\n",
    "    corr = np.round(scipy.stats.spearmanr(df).correlation, 4)\n",
    "    corr_condensed = hc.distance.squareform(1-corr)\n",
    "    z = hc.linkage(corr_condensed, method='average')\n",
    "    fig = plt.figure(figsize=figsize)\n",
    "    hc.dendrogram(z, labels=df.columns, orientation='left', leaf_font_size=font_size)\n",
    "    plt.show()"
   ]
  },
  {
   "cell_type": "markdown",
   "metadata": {},
   "source": [
    "Суть в том, что чем правее от \"корня\"(корень, это левая часть графика) дерева соединяются пары столбцов, тем более они схожи.\n",
    "\n",
    "Какова суть, если у нас в правой части есть связь между признаками очень близкой к 0, то эти признакми взаимозаменяют друг друга, следовательно, их можно удалить. Чем дальше от 0, тем эти признаки не коррелируют между собой.\n",
    "\n",
    "В данном случае у нас есть rolling_mean и rolling_median, которые почти взаимозаменяют друг друга, но не прям критично. Можно попробовать удалить какой-то из них, который менее важен, если результат модели не сильно изменится, то оставить с удаленным признаком."
   ]
  },
  {
   "cell_type": "code",
   "execution_count": 112,
   "metadata": {},
   "outputs": [
    {
     "data": {
      "image/png": "[encoded data removed]",
      "text/plain": [
       "<Figure size 720x432 with 1 Axes>"
      ]
     },
     "metadata": {
      "needs_background": "light"
     },
     "output_type": "display_data"
    }
   ],
   "source": [
    "cluster_columns(X_train)"
   ]
  },
  {
   "cell_type": "markdown",
   "metadata": {},
   "source": [
    "В данном случае видно, что есть некая зависимость у rolling_mean и rolling_median, что логично, но это не сильно критично."
   ]
  },
  {
   "cell_type": "markdown",
   "metadata": {},
   "source": [
    "### Улучшение моделей"
   ]
  },
  {
   "cell_type": "markdown",
   "metadata": {},
   "source": [
    "### RandomForest"
   ]
  },
  {
   "cell_type": "code",
   "execution_count": 113,
   "metadata": {},
   "outputs": [
    {
     "data": {
      "text/plain": [
       "GridSearchCV(cv=TimeSeriesSplit(gap=0, max_train_size=None, n_splits=10, test_size=None),\n",
       "             estimator=RandomForestRegressor(max_features='sqrt'), n_jobs=-1,\n",
       "             param_grid={'max_depth': [4, 8, 12],\n",
       "                         'n_estimators': [100, 200, 400, 800, 1000]},\n",
       "             scoring='neg_root_mean_squared_error')"
      ]
     },
     "execution_count": 113,
     "metadata": {},
     "output_type": "execute_result"
    }
   ],
   "source": [
    "time_cv = TimeSeriesSplit(n_splits=10)\n",
    "parameters = {\n",
    "    'n_estimators': [100, 200, 400, 800, 1000],\n",
    "    'max_depth': [4, 8, 12]\n",
    "}\n",
    "\n",
    "\n",
    "rfc = RandomForestRegressor(max_features='sqrt')\n",
    "gs = GridSearchCV(rfc, parameters, cv=time_cv, n_jobs=-1, scoring='neg_root_mean_squared_error')\n",
    "gs.fit(X_train, y_train)"
   ]
  },
  {
   "cell_type": "code",
   "execution_count": 114,
   "metadata": {
    "scrolled": true
   },
   "outputs": [
    {
     "data": {
      "text/plain": [
       "(24.174513198823878, {'max_depth': 12, 'n_estimators': 400})"
      ]
     },
     "execution_count": 114,
     "metadata": {},
     "output_type": "execute_result"
    }
   ],
   "source": [
    "-gs.best_score_, gs.best_params_"
   ]
  },
  {
   "cell_type": "code",
   "execution_count": 115,
   "metadata": {
    "scrolled": false
   },
   "outputs": [
    {
     "data": {
      "text/plain": [
       "44.1379863727048"
      ]
     },
     "execution_count": 115,
     "metadata": {},
     "output_type": "execute_result"
    }
   ],
   "source": [
    "pred = gs.predict(X_test)\n",
    "mean_squared_error(y_test, pred, squared=False)"
   ]
  },
  {
   "cell_type": "markdown",
   "metadata": {},
   "source": [
    "### LGBM"
   ]
  },
  {
   "cell_type": "code",
   "execution_count": 116,
   "metadata": {},
   "outputs": [
    {
     "data": {
      "text/plain": [
       "GridSearchCV(cv=TimeSeriesSplit(gap=0, max_train_size=None, n_splits=10, test_size=None),\n",
       "             estimator=LGBMRegressor(), n_jobs=-1,\n",
       "             param_grid={'learning_rate': [0.01], 'max_depth': [12, 18],\n",
       "                         'n_estimators': [400, 600], 'num_leaves': [12, 24]},\n",
       "             scoring='neg_root_mean_squared_error')"
      ]
     },
     "execution_count": 116,
     "metadata": {},
     "output_type": "execute_result"
    }
   ],
   "source": [
    "parameters = {\n",
    "    'n_estimators': [400, 600],\n",
    "    'max_depth': [12, 18],\n",
    "    'learning_rate': [0.01],\n",
    "    'num_leaves': [12, 24]\n",
    "}\n",
    "\n",
    "\n",
    "lgbm = LGBMRegressor()\n",
    "gs = GridSearchCV(lgbm, parameters, cv=time_cv, n_jobs=-1, scoring='neg_root_mean_squared_error')\n",
    "gs.fit(X_train, y_train)"
   ]
  },
  {
   "cell_type": "code",
   "execution_count": 117,
   "metadata": {},
   "outputs": [
    {
     "data": {
      "text/plain": [
       "(24.07108186208653,\n",
       " {'learning_rate': 0.01,\n",
       "  'max_depth': 12,\n",
       "  'n_estimators': 600,\n",
       "  'num_leaves': 24})"
      ]
     },
     "execution_count": 117,
     "metadata": {},
     "output_type": "execute_result"
    }
   ],
   "source": [
    "-gs.best_score_, gs.best_params_"
   ]
  },
  {
   "cell_type": "code",
   "execution_count": 118,
   "metadata": {},
   "outputs": [
    {
     "data": {
      "text/plain": [
       "42.65518494917868"
      ]
     },
     "execution_count": 118,
     "metadata": {},
     "output_type": "execute_result"
    }
   ],
   "source": [
    "pred = gs.predict(X_test)\n",
    "mean_squared_error(y_test, pred, squared=False)"
   ]
  },
  {
   "cell_type": "markdown",
   "metadata": {},
   "source": [
    "<div style=\"border-radius: 15px; box-shadow: 4px 4px 4px; border: 3px solid indigo; padding: 15px\"> \n",
    "<h2 align=\"center\"> Вывод <a class=\"tocSkip\"> </h2>\n",
    "Были обучены модели: LinearRegression, RandomForest, LightGBM. Лучшая среди них - LightGBM."
   ]
  },
  {
   "cell_type": "markdown",
   "metadata": {},
   "source": [
    "## Тестирование"
   ]
  },
  {
   "cell_type": "markdown",
   "metadata": {},
   "source": [
    "### Догонка гиперпараметров с помощью optuna"
   ]
  },
  {
   "cell_type": "code",
   "execution_count": 119,
   "metadata": {},
   "outputs": [
    {
     "name": "stderr",
     "output_type": "stream",
     "text": [
      "\u001b[32m[I 2022-08-25 14:24:54,983]\u001b[0m A new study created in memory with name: no-name-8b945eb3-db17-4a39-b7ff-4b924b34b9a0\u001b[0m\n",
      "\u001b[32m[I 2022-08-25 14:24:56,917]\u001b[0m Trial 0 finished with value: 24.03679781582115 and parameters: {'max_depth': 18, 'n_estimators': 620, 'num_leaves': 22}. Best is trial 0 with value: 24.03679781582115.\u001b[0m\n",
      "\u001b[32m[I 2022-08-25 14:24:58,640]\u001b[0m Trial 1 finished with value: 24.050760931920543 and parameters: {'max_depth': 18, 'n_estimators': 580, 'num_leaves': 21}. Best is trial 1 with value: 24.050760931920543.\u001b[0m\n",
      "\u001b[32m[I 2022-08-25 14:25:00,184]\u001b[0m Trial 2 finished with value: 24.082609319359054 and parameters: {'max_depth': 19, 'n_estimators': 560, 'num_leaves': 20}. Best is trial 2 with value: 24.082609319359054.\u001b[0m\n",
      "\u001b[32m[I 2022-08-25 14:25:01,952]\u001b[0m Trial 3 finished with value: 24.05758506101572 and parameters: {'max_depth': 18, 'n_estimators': 560, 'num_leaves': 23}. Best is trial 2 with value: 24.082609319359054.\u001b[0m\n",
      "\u001b[32m[I 2022-08-25 14:25:03,719]\u001b[0m Trial 4 finished with value: 24.054055766861573 and parameters: {'max_depth': 17, 'n_estimators': 580, 'num_leaves': 23}. Best is trial 2 with value: 24.082609319359054.\u001b[0m\n",
      "\u001b[32m[I 2022-08-25 14:25:05,437]\u001b[0m Trial 5 finished with value: 24.055065967939758 and parameters: {'max_depth': 18, 'n_estimators': 560, 'num_leaves': 22}. Best is trial 2 with value: 24.082609319359054.\u001b[0m\n",
      "\u001b[32m[I 2022-08-25 14:25:07,436]\u001b[0m Trial 6 finished with value: 24.03203416719463 and parameters: {'max_depth': 18, 'n_estimators': 640, 'num_leaves': 22}. Best is trial 2 with value: 24.082609319359054.\u001b[0m\n",
      "\u001b[32m[I 2022-08-25 14:25:09,251]\u001b[0m Trial 7 finished with value: 24.0504161487001 and parameters: {'max_depth': 18, 'n_estimators': 640, 'num_leaves': 21}. Best is trial 2 with value: 24.082609319359054.\u001b[0m\n",
      "\u001b[32m[I 2022-08-25 14:25:10,876]\u001b[0m Trial 8 finished with value: 24.054002239338722 and parameters: {'max_depth': 19, 'n_estimators': 560, 'num_leaves': 21}. Best is trial 2 with value: 24.082609319359054.\u001b[0m\n",
      "\u001b[32m[I 2022-08-25 14:25:12,728]\u001b[0m Trial 9 finished with value: 24.03679781582115 and parameters: {'max_depth': 18, 'n_estimators': 620, 'num_leaves': 22}. Best is trial 2 with value: 24.082609319359054.\u001b[0m\n",
      "\u001b[32m[I 2022-08-25 14:25:14,459]\u001b[0m Trial 10 finished with value: 24.06850289778061 and parameters: {'max_depth': 19, 'n_estimators': 600, 'num_leaves': 20}. Best is trial 2 with value: 24.082609319359054.\u001b[0m\n",
      "\u001b[32m[I 2022-08-25 14:25:16,133]\u001b[0m Trial 11 finished with value: 24.06850289778061 and parameters: {'max_depth': 19, 'n_estimators': 600, 'num_leaves': 20}. Best is trial 2 with value: 24.082609319359054.\u001b[0m\n",
      "\u001b[32m[I 2022-08-25 14:25:17,829]\u001b[0m Trial 12 finished with value: 24.06850289778061 and parameters: {'max_depth': 19, 'n_estimators': 600, 'num_leaves': 20}. Best is trial 2 with value: 24.082609319359054.\u001b[0m\n",
      "\u001b[32m[I 2022-08-25 14:25:19,463]\u001b[0m Trial 13 finished with value: 24.07635046616924 and parameters: {'max_depth': 19, 'n_estimators': 580, 'num_leaves': 20}. Best is trial 2 with value: 24.082609319359054.\u001b[0m\n",
      "\u001b[32m[I 2022-08-25 14:25:21,354]\u001b[0m Trial 14 finished with value: 24.08371226429349 and parameters: {'max_depth': 19, 'n_estimators': 580, 'num_leaves': 24}. Best is trial 14 with value: 24.08371226429349.\u001b[0m\n",
      "\u001b[32m[I 2022-08-25 14:25:23,258]\u001b[0m Trial 15 finished with value: 24.08371226429349 and parameters: {'max_depth': 17, 'n_estimators': 580, 'num_leaves': 24}. Best is trial 14 with value: 24.08371226429349.\u001b[0m\n",
      "\u001b[32m[I 2022-08-25 14:25:25,211]\u001b[0m Trial 16 finished with value: 24.08371226429349 and parameters: {'max_depth': 17, 'n_estimators': 580, 'num_leaves': 24}. Best is trial 14 with value: 24.08371226429349.\u001b[0m\n",
      "\u001b[32m[I 2022-08-25 14:25:27,140]\u001b[0m Trial 17 finished with value: 24.08371226429349 and parameters: {'max_depth': 17, 'n_estimators': 580, 'num_leaves': 24}. Best is trial 14 with value: 24.08371226429349.\u001b[0m\n",
      "\u001b[32m[I 2022-08-25 14:25:29,049]\u001b[0m Trial 18 finished with value: 24.047512588877265 and parameters: {'max_depth': 17, 'n_estimators': 600, 'num_leaves': 23}. Best is trial 14 with value: 24.08371226429349.\u001b[0m\n",
      "\u001b[32m[I 2022-08-25 14:25:31,044]\u001b[0m Trial 19 finished with value: 24.07726629133535 and parameters: {'max_depth': 17, 'n_estimators': 620, 'num_leaves': 24}. Best is trial 14 with value: 24.08371226429349.\u001b[0m\n",
      "\u001b[32m[I 2022-08-25 14:25:33,027]\u001b[0m Trial 20 finished with value: 24.08371226429349 and parameters: {'max_depth': 17, 'n_estimators': 580, 'num_leaves': 24}. Best is trial 14 with value: 24.08371226429349.\u001b[0m\n",
      "\u001b[32m[I 2022-08-25 14:25:34,914]\u001b[0m Trial 21 finished with value: 24.08371226429349 and parameters: {'max_depth': 17, 'n_estimators': 580, 'num_leaves': 24}. Best is trial 14 with value: 24.08371226429349.\u001b[0m\n",
      "\u001b[32m[I 2022-08-25 14:25:36,759]\u001b[0m Trial 22 finished with value: 24.054055766861573 and parameters: {'max_depth': 17, 'n_estimators': 580, 'num_leaves': 23}. Best is trial 14 with value: 24.08371226429349.\u001b[0m\n",
      "\u001b[32m[I 2022-08-25 14:25:38,702]\u001b[0m Trial 23 finished with value: 24.080415047278525 and parameters: {'max_depth': 17, 'n_estimators': 600, 'num_leaves': 24}. Best is trial 14 with value: 24.08371226429349.\u001b[0m\n",
      "\u001b[32m[I 2022-08-25 14:25:40,596]\u001b[0m Trial 24 finished with value: 24.05946480204576 and parameters: {'max_depth': 17, 'n_estimators': 560, 'num_leaves': 23}. Best is trial 14 with value: 24.08371226429349.\u001b[0m\n",
      "\u001b[32m[I 2022-08-25 14:25:42,482]\u001b[0m Trial 25 finished with value: 24.08371226429349 and parameters: {'max_depth': 17, 'n_estimators': 580, 'num_leaves': 24}. Best is trial 14 with value: 24.08371226429349.\u001b[0m\n",
      "\u001b[32m[I 2022-08-25 14:25:44,442]\u001b[0m Trial 26 finished with value: 24.080415047278525 and parameters: {'max_depth': 17, 'n_estimators': 600, 'num_leaves': 24}. Best is trial 14 with value: 24.08371226429349.\u001b[0m\n",
      "\u001b[32m[I 2022-08-25 14:25:46,310]\u001b[0m Trial 27 finished with value: 24.054055766861573 and parameters: {'max_depth': 17, 'n_estimators': 580, 'num_leaves': 23}. Best is trial 14 with value: 24.08371226429349.\u001b[0m\n",
      "\u001b[32m[I 2022-08-25 14:25:48,122]\u001b[0m Trial 28 finished with value: 24.086694485555643 and parameters: {'max_depth': 17, 'n_estimators': 560, 'num_leaves': 24}. Best is trial 28 with value: 24.086694485555643.\u001b[0m\n",
      "\u001b[32m[I 2022-08-25 14:25:49,860]\u001b[0m Trial 29 finished with value: 24.05946480204576 and parameters: {'max_depth': 17, 'n_estimators': 560, 'num_leaves': 23}. Best is trial 28 with value: 24.086694485555643.\u001b[0m\n"
     ]
    }
   ],
   "source": [
    "def objective(trial):\n",
    "    params = {\n",
    "        'max_depth': trial.suggest_int('max_depth', 17, 19),\n",
    "        'n_estimators': trial.suggest_int('n_estimators', 560, 640, 20),\n",
    "        'num_leaves': trial.suggest_int('num_leaves', 20, 24),\n",
    "        'learning_rate': [0.01]\n",
    "    }\n",
    "\n",
    "    \n",
    "    # задаём модели требуемые параметры    \n",
    "    model=LGBMRegressor(**params)\n",
    "\n",
    "    # проводим кросс-валидацию  \n",
    "    score = cross_val_score(estimator=model, X=X_train, y=y_train, \n",
    "                            scoring='neg_root_mean_squared_error', cv=time_cv, n_jobs=-1)\n",
    "\n",
    "    \n",
    "    return -score.mean()\n",
    "\n",
    "\n",
    "study = optuna.create_study(direction='maximize')\n",
    "study.optimize(objective, n_trials=30)"
   ]
  },
  {
   "cell_type": "code",
   "execution_count": 120,
   "metadata": {},
   "outputs": [
    {
     "data": {
      "text/plain": [
       "({'max_depth': 17, 'n_estimators': 560, 'num_leaves': 24}, 24.086694485555643)"
      ]
     },
     "execution_count": 120,
     "metadata": {},
     "output_type": "execute_result"
    }
   ],
   "source": [
    "study.best_params, study.best_value"
   ]
  },
  {
   "cell_type": "code",
   "execution_count": 121,
   "metadata": {},
   "outputs": [
    {
     "name": "stdout",
     "output_type": "stream",
     "text": [
      "Wall time: 543 ms\n"
     ]
    },
    {
     "data": {
      "text/plain": [
       "42.69812859903616"
      ]
     },
     "execution_count": 121,
     "metadata": {},
     "output_type": "execute_result"
    }
   ],
   "source": [
    "%%time\n",
    "lgbm_basic = LGBMRegressor(learning_rate=0.01,\n",
    "                     max_depth=17,\n",
    "                     n_estimators=560,\n",
    "                     num_leaves=24)\n",
    "\n",
    "lgbm_basic.fit(X_train, y_train)\n",
    "pred = lgbm_basic.predict(X_test)\n",
    "mean_squared_error(y_test, pred, squared=False)"
   ]
  },
  {
   "cell_type": "markdown",
   "metadata": {},
   "source": [
    "Хотелось бы понять, какие столцбы нам не нужны, т.е. у нас как бы распределение должно быть одинаковым в тренировочной и тестовой выборке, но может быть такое, что это совсем не так, т.к. какие-то столбцы делают их отличными. Ниже постараюсь это выяснить. \n",
    "\n",
    "Постараемся спрогнозировать, находится ли строка в тренировочной или тестовой выборке. Для этого совмещаем тестовую и трейновую выборки, создаем зависимую переменную, которая покажет нам, в какой выборке эта строка и строим таблицу важности признаков, которая отражает нам важность столбца, т.е. столбцы с высокой важностью могут влиять на распределение.\n"
   ]
  },
  {
   "cell_type": "code",
   "execution_count": 122,
   "metadata": {},
   "outputs": [],
   "source": [
    "full_test = pd.concat([X_train, X_test])\n",
    "full_target = np.array([0]*len(X_train) + [1]*len(X_test))"
   ]
  },
  {
   "cell_type": "code",
   "execution_count": 124,
   "metadata": {},
   "outputs": [
    {
     "data": {
      "text/plain": [
       "LGBMRegressor(learning_rate=0.01, max_depth=17, n_estimators=560, num_leaves=24)"
      ]
     },
     "execution_count": 124,
     "metadata": {},
     "output_type": "execute_result"
    }
   ],
   "source": [
    "lgbm = LGBMRegressor(learning_rate=0.01,\n",
    "                     max_depth=17,\n",
    "                     n_estimators=560,\n",
    "                     num_leaves=24)\n",
    "\n",
    "lgbm.fit(full_test, full_target)"
   ]
  },
  {
   "cell_type": "code",
   "execution_count": 125,
   "metadata": {},
   "outputs": [
    {
     "data": {
      "text/html": [
       "<div>\n",
       "<style scoped>\n",
       "    .dataframe tbody tr th:only-of-type {\n",
       "        vertical-align: middle;\n",
       "    }\n",
       "\n",
       "    .dataframe tbody tr th {\n",
       "        vertical-align: top;\n",
       "    }\n",
       "\n",
       "    .dataframe thead th {\n",
       "        text-align: right;\n",
       "    }\n",
       "</style>\n",
       "<table border=\"1\" class=\"dataframe\">\n",
       "  <thead>\n",
       "    <tr style=\"text-align: right;\">\n",
       "      <th></th>\n",
       "      <th>features</th>\n",
       "      <th>imp</th>\n",
       "    </tr>\n",
       "  </thead>\n",
       "  <tbody>\n",
       "    <tr>\n",
       "      <th>26</th>\n",
       "      <td>rolling_median</td>\n",
       "      <td>2571</td>\n",
       "    </tr>\n",
       "    <tr>\n",
       "      <th>24</th>\n",
       "      <td>rolling_mean</td>\n",
       "      <td>2239</td>\n",
       "    </tr>\n",
       "    <tr>\n",
       "      <th>28</th>\n",
       "      <td>mnth_sin_month</td>\n",
       "      <td>503</td>\n",
       "    </tr>\n",
       "    <tr>\n",
       "      <th>11</th>\n",
       "      <td>lag_12</td>\n",
       "      <td>454</td>\n",
       "    </tr>\n",
       "    <tr>\n",
       "      <th>15</th>\n",
       "      <td>lag_16</td>\n",
       "      <td>453</td>\n",
       "    </tr>\n",
       "    <tr>\n",
       "      <th>4</th>\n",
       "      <td>lag_5</td>\n",
       "      <td>353</td>\n",
       "    </tr>\n",
       "    <tr>\n",
       "      <th>0</th>\n",
       "      <td>lag_1</td>\n",
       "      <td>350</td>\n",
       "    </tr>\n",
       "    <tr>\n",
       "      <th>8</th>\n",
       "      <td>lag_9</td>\n",
       "      <td>348</td>\n",
       "    </tr>\n",
       "    <tr>\n",
       "      <th>10</th>\n",
       "      <td>lag_11</td>\n",
       "      <td>347</td>\n",
       "    </tr>\n",
       "    <tr>\n",
       "      <th>5</th>\n",
       "      <td>lag_6</td>\n",
       "      <td>337</td>\n",
       "    </tr>\n",
       "    <tr>\n",
       "      <th>18</th>\n",
       "      <td>lag_19</td>\n",
       "      <td>314</td>\n",
       "    </tr>\n",
       "    <tr>\n",
       "      <th>1</th>\n",
       "      <td>lag_2</td>\n",
       "      <td>306</td>\n",
       "    </tr>\n",
       "    <tr>\n",
       "      <th>2</th>\n",
       "      <td>lag_3</td>\n",
       "      <td>294</td>\n",
       "    </tr>\n",
       "    <tr>\n",
       "      <th>16</th>\n",
       "      <td>lag_17</td>\n",
       "      <td>293</td>\n",
       "    </tr>\n",
       "    <tr>\n",
       "      <th>22</th>\n",
       "      <td>lag_23</td>\n",
       "      <td>289</td>\n",
       "    </tr>\n",
       "    <tr>\n",
       "      <th>9</th>\n",
       "      <td>lag_10</td>\n",
       "      <td>288</td>\n",
       "    </tr>\n",
       "    <tr>\n",
       "      <th>19</th>\n",
       "      <td>lag_20</td>\n",
       "      <td>287</td>\n",
       "    </tr>\n",
       "    <tr>\n",
       "      <th>25</th>\n",
       "      <td>diff_rolling_mean</td>\n",
       "      <td>277</td>\n",
       "    </tr>\n",
       "    <tr>\n",
       "      <th>3</th>\n",
       "      <td>lag_4</td>\n",
       "      <td>261</td>\n",
       "    </tr>\n",
       "    <tr>\n",
       "      <th>17</th>\n",
       "      <td>lag_18</td>\n",
       "      <td>254</td>\n",
       "    </tr>\n",
       "    <tr>\n",
       "      <th>7</th>\n",
       "      <td>lag_8</td>\n",
       "      <td>254</td>\n",
       "    </tr>\n",
       "    <tr>\n",
       "      <th>21</th>\n",
       "      <td>lag_22</td>\n",
       "      <td>238</td>\n",
       "    </tr>\n",
       "    <tr>\n",
       "      <th>14</th>\n",
       "      <td>lag_15</td>\n",
       "      <td>238</td>\n",
       "    </tr>\n",
       "    <tr>\n",
       "      <th>6</th>\n",
       "      <td>lag_7</td>\n",
       "      <td>233</td>\n",
       "    </tr>\n",
       "    <tr>\n",
       "      <th>23</th>\n",
       "      <td>lag_24</td>\n",
       "      <td>230</td>\n",
       "    </tr>\n",
       "    <tr>\n",
       "      <th>12</th>\n",
       "      <td>lag_13</td>\n",
       "      <td>211</td>\n",
       "    </tr>\n",
       "    <tr>\n",
       "      <th>20</th>\n",
       "      <td>lag_21</td>\n",
       "      <td>180</td>\n",
       "    </tr>\n",
       "    <tr>\n",
       "      <th>13</th>\n",
       "      <td>lag_14</td>\n",
       "      <td>178</td>\n",
       "    </tr>\n",
       "    <tr>\n",
       "      <th>27</th>\n",
       "      <td>stationary</td>\n",
       "      <td>76</td>\n",
       "    </tr>\n",
       "    <tr>\n",
       "      <th>31</th>\n",
       "      <td>mnth_cos_hour</td>\n",
       "      <td>43</td>\n",
       "    </tr>\n",
       "    <tr>\n",
       "      <th>30</th>\n",
       "      <td>mnth_sin_hour</td>\n",
       "      <td>36</td>\n",
       "    </tr>\n",
       "    <tr>\n",
       "      <th>29</th>\n",
       "      <td>mnth_cos_month</td>\n",
       "      <td>31</td>\n",
       "    </tr>\n",
       "    <tr>\n",
       "      <th>33</th>\n",
       "      <td>x0_morning</td>\n",
       "      <td>9</td>\n",
       "    </tr>\n",
       "    <tr>\n",
       "      <th>32</th>\n",
       "      <td>x0_lunch</td>\n",
       "      <td>1</td>\n",
       "    </tr>\n",
       "    <tr>\n",
       "      <th>34</th>\n",
       "      <td>x0_standard</td>\n",
       "      <td>0</td>\n",
       "    </tr>\n",
       "  </tbody>\n",
       "</table>\n",
       "</div>"
      ],
      "text/plain": [
       "             features   imp\n",
       "26     rolling_median  2571\n",
       "24       rolling_mean  2239\n",
       "28     mnth_sin_month   503\n",
       "11             lag_12   454\n",
       "15             lag_16   453\n",
       "4               lag_5   353\n",
       "0               lag_1   350\n",
       "8               lag_9   348\n",
       "10             lag_11   347\n",
       "5               lag_6   337\n",
       "18             lag_19   314\n",
       "1               lag_2   306\n",
       "2               lag_3   294\n",
       "16             lag_17   293\n",
       "22             lag_23   289\n",
       "9              lag_10   288\n",
       "19             lag_20   287\n",
       "25  diff_rolling_mean   277\n",
       "3               lag_4   261\n",
       "17             lag_18   254\n",
       "7               lag_8   254\n",
       "21             lag_22   238\n",
       "14             lag_15   238\n",
       "6               lag_7   233\n",
       "23             lag_24   230\n",
       "12             lag_13   211\n",
       "20             lag_21   180\n",
       "13             lag_14   178\n",
       "27         stationary    76\n",
       "31      mnth_cos_hour    43\n",
       "30      mnth_sin_hour    36\n",
       "29     mnth_cos_month    31\n",
       "33         x0_morning     9\n",
       "32           x0_lunch     1\n",
       "34        x0_standard     0"
      ]
     },
     "execution_count": 125,
     "metadata": {},
     "output_type": "execute_result"
    }
   ],
   "source": [
    "future_df = pd.DataFrame(lgbm.feature_importances_, index = full_test.columns).reset_index()\n",
    "future_df.columns = ['features', 'imp']\n",
    "future_df.sort_values('imp', ascending=False)"
   ]
  },
  {
   "cell_type": "markdown",
   "metadata": {},
   "source": [
    "Не влияют на деление нижние признаки. Видно, что влияют первые 2 признака: rolling_median и rolling_mean"
   ]
  },
  {
   "cell_type": "code",
   "execution_count": 127,
   "metadata": {},
   "outputs": [
    {
     "name": "stdout",
     "output_type": "stream",
     "text": [
      "Изначальный rmse 42.69812859903616\n",
      "rolling_median 42.24025068186276\n",
      "rolling_mean 42.67435937910173\n"
     ]
    }
   ],
   "source": [
    "print('Изначальный rmse', mean_squared_error(y_test, pred, squared=False))\n",
    "\n",
    "for column in np.array(future_df.sort_values('imp', ascending=False)['features'])[:2]:\n",
    "    model = LGBMRegressor(learning_rate=0.01,\n",
    "                          max_depth=17,\n",
    "                          n_estimators=560,\n",
    "                          num_leaves=24)\n",
    "\n",
    "    model.fit(X_train.drop(column, axis=1), y_train)\n",
    "    \n",
    "    print(column, mean_squared_error(y_test, model.predict(X_test.drop(column, axis=1)), squared=False))"
   ]
  },
  {
   "cell_type": "markdown",
   "metadata": {},
   "source": [
    "Без этих признаков становится чуть лучше, удалим их, обучим модель заново, чтобы посмотреть, останется ли результат в районе того, каким был"
   ]
  },
  {
   "cell_type": "code",
   "execution_count": 128,
   "metadata": {},
   "outputs": [],
   "source": [
    "column_drop = ['rolling_mean', 'rolling_median']"
   ]
  },
  {
   "cell_type": "code",
   "execution_count": 134,
   "metadata": {},
   "outputs": [],
   "source": [
    "def find_best_features(x_train, y_train, x_test, y_test):\n",
    "    model = LGBMRegressor(learning_rate=0.01,\n",
    "                          max_depth=17,\n",
    "                          n_estimators=560,\n",
    "                          num_leaves=20)\n",
    "\n",
    "    model.fit(x_train, y_train)\n",
    "    print('RMSE cv',-cross_val_score(model, x_train, y_train, scoring='neg_root_mean_squared_error', cv=time_cv).mean())\n",
    "\n",
    "\n",
    "    pred = model.predict(x_test)\n",
    "    print('RMSE test', mean_squared_error(y_test, pred, squared=False))"
   ]
  },
  {
   "cell_type": "code",
   "execution_count": 135,
   "metadata": {},
   "outputs": [
    {
     "name": "stdout",
     "output_type": "stream",
     "text": [
      "RMSE cv 24.082609319359054\n",
      "RMSE test 42.421103009301035\n"
     ]
    }
   ],
   "source": [
    "# до\n",
    "find_best_features(X_train, y_train, X_test, y_test)"
   ]
  },
  {
   "cell_type": "code",
   "execution_count": 136,
   "metadata": {},
   "outputs": [
    {
     "name": "stdout",
     "output_type": "stream",
     "text": [
      "RMSE cv 24.044916724986706\n",
      "RMSE test 42.80676470151387\n"
     ]
    }
   ],
   "source": [
    "# после\n",
    "find_best_features(X_train.drop(column_drop, axis=1), y_train, X_test.drop(column_drop, axis=1), y_test)"
   ]
  },
  {
   "cell_type": "markdown",
   "metadata": {},
   "source": [
    "Модель не стала сильно хуже, следовательно, эти признаки сильно не повлияли, можно оставить без них."
   ]
  },
  {
   "cell_type": "code",
   "execution_count": 137,
   "metadata": {},
   "outputs": [],
   "source": [
    "X_train_drop = X_train.drop(column_drop, axis=1)\n",
    "X_test_drop = X_test.drop(column_drop, axis=1)"
   ]
  },
  {
   "cell_type": "code",
   "execution_count": 138,
   "metadata": {},
   "outputs": [
    {
     "name": "stdout",
     "output_type": "stream",
     "text": [
      "Wall time: 584 ms\n"
     ]
    },
    {
     "data": {
      "text/plain": [
       "42.412924329503554"
      ]
     },
     "execution_count": 138,
     "metadata": {},
     "output_type": "execute_result"
    }
   ],
   "source": [
    "%%time\n",
    "lgbm_basic = LGBMRegressor(learning_rate=0.01,\n",
    "                     max_depth=17,\n",
    "                     n_estimators=560,\n",
    "                     num_leaves=24)\n",
    "\n",
    "lgbm_basic.fit(X_train_drop, y_train)\n",
    "pred = lgbm_basic.predict(X_test_drop)\n",
    "mean_squared_error(y_test, pred, squared=False)"
   ]
  },
  {
   "cell_type": "markdown",
   "metadata": {},
   "source": [
    "---"
   ]
  },
  {
   "cell_type": "markdown",
   "metadata": {},
   "source": [
    "### Catboost"
   ]
  },
  {
   "cell_type": "code",
   "execution_count": 139,
   "metadata": {},
   "outputs": [
    {
     "data": {
      "application/vnd.jupyter.widget-view+json": {
       "model_id": "4e6e939377044452b327a0861cd8062b",
       "version_major": 2,
       "version_minor": 0
      },
      "text/plain": [
       "MetricVisualizer(layout=Layout(align_self='stretch', height='500px'))"
      ]
     },
     "metadata": {},
     "output_type": "display_data"
    },
    {
     "name": "stdout",
     "output_type": "stream",
     "text": [
      "Training on fold [0/10]\n"
     ]
    },
    {
     "name": "stderr",
     "output_type": "stream",
     "text": [
      " Warning: The least populated class in y has only 1 members, which is too few. The minimum number of members in any class cannot be less than parts count=10\n"
     ]
    },
    {
     "name": "stdout",
     "output_type": "stream",
     "text": [
      "\n",
      "bestTest = 33.55057851\n",
      "bestIteration = 998\n",
      "\n",
      "Training on fold [1/10]\n"
     ]
    },
    {
     "name": "stderr",
     "output_type": "stream",
     "text": [
      " Warning: The least populated class in y has only 1 members, which is too few. The minimum number of members in any class cannot be less than parts count=10\n"
     ]
    },
    {
     "name": "stdout",
     "output_type": "stream",
     "text": [
      "\n",
      "bestTest = 23.3338363\n",
      "bestIteration = 994\n",
      "\n",
      "Training on fold [2/10]\n"
     ]
    },
    {
     "name": "stderr",
     "output_type": "stream",
     "text": [
      " Warning: The least populated class in y has only 1 members, which is too few. The minimum number of members in any class cannot be less than parts count=10\n"
     ]
    },
    {
     "name": "stdout",
     "output_type": "stream",
     "text": [
      "\n",
      "bestTest = 22.55579946\n",
      "bestIteration = 999\n",
      "\n",
      "Training on fold [3/10]\n"
     ]
    },
    {
     "name": "stderr",
     "output_type": "stream",
     "text": [
      " Warning: The least populated class in y has only 1 members, which is too few. The minimum number of members in any class cannot be less than parts count=10\n"
     ]
    },
    {
     "name": "stdout",
     "output_type": "stream",
     "text": [
      "\n",
      "bestTest = 21.51250065\n",
      "bestIteration = 999\n",
      "\n",
      "Training on fold [4/10]\n"
     ]
    },
    {
     "name": "stderr",
     "output_type": "stream",
     "text": [
      " Warning: The least populated class in y has only 1 members, which is too few. The minimum number of members in any class cannot be less than parts count=10\n"
     ]
    },
    {
     "name": "stdout",
     "output_type": "stream",
     "text": [
      "\n",
      "bestTest = 19.74942229\n",
      "bestIteration = 997\n",
      "\n",
      "Training on fold [5/10]\n"
     ]
    },
    {
     "name": "stderr",
     "output_type": "stream",
     "text": [
      " Warning: The least populated class in y has only 1 members, which is too few. The minimum number of members in any class cannot be less than parts count=10\n"
     ]
    },
    {
     "name": "stdout",
     "output_type": "stream",
     "text": [
      "\n",
      "bestTest = 21.27541152\n",
      "bestIteration = 998\n",
      "\n",
      "Training on fold [6/10]\n"
     ]
    },
    {
     "name": "stderr",
     "output_type": "stream",
     "text": [
      " Warning: The least populated class in y has only 1 members, which is too few. The minimum number of members in any class cannot be less than parts count=10\n"
     ]
    },
    {
     "name": "stdout",
     "output_type": "stream",
     "text": [
      "\n",
      "bestTest = 20.78975622\n",
      "bestIteration = 998\n",
      "\n",
      "Training on fold [7/10]\n"
     ]
    },
    {
     "name": "stderr",
     "output_type": "stream",
     "text": [
      " Warning: The least populated class in y has only 1 members, which is too few. The minimum number of members in any class cannot be less than parts count=10\n"
     ]
    },
    {
     "name": "stdout",
     "output_type": "stream",
     "text": [
      "\n",
      "bestTest = 21.21148873\n",
      "bestIteration = 999\n",
      "\n",
      "Training on fold [8/10]\n"
     ]
    },
    {
     "name": "stderr",
     "output_type": "stream",
     "text": [
      " Warning: The least populated class in y has only 1 members, which is too few. The minimum number of members in any class cannot be less than parts count=10\n"
     ]
    },
    {
     "name": "stdout",
     "output_type": "stream",
     "text": [
      "\n",
      "bestTest = 19.68942001\n",
      "bestIteration = 988\n",
      "\n",
      "Training on fold [9/10]\n"
     ]
    },
    {
     "name": "stderr",
     "output_type": "stream",
     "text": [
      " Warning: The least populated class in y has only 1 members, which is too few. The minimum number of members in any class cannot be less than parts count=10\n"
     ]
    },
    {
     "name": "stdout",
     "output_type": "stream",
     "text": [
      "\n",
      "bestTest = 19.49688222\n",
      "bestIteration = 292\n",
      "\n"
     ]
    }
   ],
   "source": [
    "# Произвожу кросс-валидацию\n",
    "params = {}\n",
    "params['loss_function'] = 'RMSE'\n",
    "params['iterations'] = 1000\n",
    "#params['custom_loss'] = 'AUC'\n",
    "params['random_seed'] = 67\n",
    "params['learning_rate'] = 0.01\n",
    "\n",
    "cv_data = cv(\n",
    "    params = params,\n",
    "    pool = Pool(X_train, label=y_train),\n",
    "    fold_count=10,\n",
    "    shuffle=True,\n",
    "    partition_random_seed=0,\n",
    "    plot=True,\n",
    "    stratified=True,\n",
    "    verbose=False\n",
    ")"
   ]
  },
  {
   "cell_type": "code",
   "execution_count": 140,
   "metadata": {},
   "outputs": [
    {
     "data": {
      "text/plain": [
       "27.61222162397277"
      ]
     },
     "execution_count": 140,
     "metadata": {},
     "output_type": "execute_result"
    }
   ],
   "source": [
    "cv_data['test-RMSE-mean'].mean()"
   ]
  },
  {
   "cell_type": "code",
   "execution_count": 141,
   "metadata": {},
   "outputs": [
    {
     "data": {
      "application/vnd.jupyter.widget-view+json": {
       "model_id": "a1613856fb5c4d89815e8050642ca60b",
       "version_major": 2,
       "version_minor": 0
      },
      "text/plain": [
       "MetricVisualizer(layout=Layout(align_self='stretch', height='500px'))"
      ]
     },
     "metadata": {},
     "output_type": "display_data"
    },
    {
     "data": {
      "text/plain": [
       "<catboost.core.CatBoostRegressor at 0x27464a3b310>"
      ]
     },
     "execution_count": 141,
     "metadata": {},
     "output_type": "execute_result"
    }
   ],
   "source": [
    "model = CatBoostRegressor(\n",
    "    iterations=990,\n",
    "    learning_rate=0.01,\n",
    "    random_seed=67,\n",
    "    #custom_loss='RMSE',\n",
    "    use_best_model=True)\n",
    "\n",
    "model.fit(\n",
    "    X_train, y_train,\n",
    "    eval_set=(X_test, y_test),\n",
    "    verbose=False,\n",
    "    plot=True\n",
    ")"
   ]
  },
  {
   "cell_type": "code",
   "execution_count": 142,
   "metadata": {},
   "outputs": [
    {
     "data": {
      "text/plain": [
       "44.16227699340217"
      ]
     },
     "execution_count": 142,
     "metadata": {},
     "output_type": "execute_result"
    }
   ],
   "source": [
    "pred = model.predict(X_test)\n",
    "mean_squared_error(y_test, pred, squared=False)"
   ]
  },
  {
   "cell_type": "markdown",
   "metadata": {},
   "source": [
    "Хуже, чем у LGBM, следовательно, выбираю LGBM"
   ]
  },
  {
   "cell_type": "markdown",
   "metadata": {},
   "source": [
    "<div style=\"border-radius: 15px; box-shadow: 4px 4px 4px; border: 3px solid indigo; padding: 15px\"> \n",
    "<h2 align=\"center\"> Вывод <a class=\"tocSkip\"> </h2>\n",
    "Обучил CatBoost для сравнения, он оказался хуже. Нашёл лучшие гиперпараметры для LightGBM, а также удалил некие фичи для улучшения модели."
   ]
  },
  {
   "cell_type": "markdown",
   "metadata": {},
   "source": [
    "## Выводы"
   ]
  },
  {
   "cell_type": "code",
   "execution_count": 143,
   "metadata": {},
   "outputs": [
    {
     "data": {
      "image/png": "[encoded data removed]",
      "text/plain": [
       "<Figure size 576x864 with 1 Axes>"
      ]
     },
     "metadata": {
      "needs_background": "light"
     },
     "output_type": "display_data"
    }
   ],
   "source": [
    "analys_df_lgbm = pd.DataFrame(lgbm_basic.feature_importances_, index = X_train_drop.columns).reset_index()\n",
    "analys_df_lgbm.columns = ['features', 'imp']\n",
    "plt.figure(figsize=(8, 12))\n",
    "sns.barplot(x=analys_df_lgbm['imp'], y=analys_df_lgbm['features']);"
   ]
  },
  {
   "cell_type": "markdown",
   "metadata": {},
   "source": [
    "Если глянуть график важности признаков, то видно, что самые важные признаки - час, lag_1, lag_17, lag_24, mnth_sin_hour, mnth_cos_hour"
   ]
  },
  {
   "cell_type": "code",
   "execution_count": 144,
   "metadata": {},
   "outputs": [
    {
     "data": {
      "image/png": "[encoded data removed]",
      "text/plain": [
       "<Figure size 576x432 with 1 Axes>"
      ]
     },
     "metadata": {
      "needs_background": "light"
     },
     "output_type": "display_data"
    }
   ],
   "source": [
    "pred = lgbm_basic.predict(X_test_drop)\n",
    "plt.figure(figsize=(8, 6))\n",
    "pd.Series(pred, index=y_test.index).plot(alpha=0.4)\n",
    "y_test.plot(alpha=0.4);\n",
    "plt.xlabel('Время');\n",
    "plt.ylabel('Количество заказов');\n",
    "plt.title('Прогноз/Факт');\n",
    "plt.legend(['Пронноз', 'Факт']);"
   ]
  },
  {
   "cell_type": "markdown",
   "metadata": {},
   "source": [
    "Модель плохо предсказывает высокое количество заказов. А в остальном все хорошо."
   ]
  },
  {
   "cell_type": "markdown",
   "metadata": {},
   "source": [
    "### Shap(LGBM)"
   ]
  },
  {
   "cell_type": "code",
   "execution_count": 145,
   "metadata": {},
   "outputs": [
    {
     "data": {
      "image/png": "[encoded data removed]",
      "text/plain": [
       "<Figure size 576x1058.4 with 2 Axes>"
      ]
     },
     "metadata": {
      "needs_background": "light"
     },
     "output_type": "display_data"
    }
   ],
   "source": [
    "shap_values = shap.TreeExplainer(lgbm_basic).shap_values(X_test_drop)\n",
    "shap.summary_plot(shap_values, X_test_drop, max_display=83)"
   ]
  },
  {
   "cell_type": "markdown",
   "metadata": {},
   "source": [
    "Какие выводы можно сделать: чем меньше больше прошлое количество заказов, тем больше будет в след. часу и наоборот; чем выше прошлое количество заказок за 24 часа, тем выше будет заказов в след. часу; чем больше время, тем выше количество заказов. Это из тех выводов, которые явно видно, остальные не так сильно выражены."
   ]
  },
  {
   "cell_type": "markdown",
   "metadata": {},
   "source": [
    "<div style=\"border-radius: 15px; box-shadow: 4px 4px 4px; border: 3px solid indigo; padding: 15px\"> \n",
    "<h2 align=\"center\"> Вывод <a class=\"tocSkip\"> </h2>\n",
    "Исходя из работы над проектом были выявылены тренд и сезонность. Разработана модель, которая может предсказывать будущее, но не слишком далекое. Среди всех моделей, которые были обучены, выбрана LightGBM, которая дала результа RMSE = 42. Выявлены некоторые зависимости: чем меньше больше прошлое количество заказов, тем больше будет в след. часу и наоборот; чем выше прошлое количество заказок за 24 часа, тем выше будет заказов в след. часу; чем больше время, тем выше количество заказов. Это из тех выводов, которые явно видно, остальные не так сильно выражены."
   ]
  }
 ],
 "metadata": {
  "ExecuteTimeLog": [
   {
    "duration": 514,
    "start_time": "2022-08-16T14:06:30.564Z"
   },
   {
    "duration": 72,
    "start_time": "2022-08-16T14:06:43.491Z"
   },
   {
    "duration": 145,
    "start_time": "2022-08-16T14:06:49.937Z"
   },
   {
    "duration": 16,
    "start_time": "2022-08-16T14:06:52.828Z"
   },
   {
    "duration": 11,
    "start_time": "2022-08-16T14:07:23.164Z"
   },
   {
    "duration": 13,
    "start_time": "2022-08-16T14:07:26.704Z"
   },
   {
    "duration": 16094,
    "start_time": "2022-08-16T14:10:09.864Z"
   },
   {
    "duration": 3,
    "start_time": "2022-08-16T14:10:34.129Z"
   },
   {
    "duration": 1866,
    "start_time": "2022-08-16T14:10:36.560Z"
   },
   {
    "duration": 87,
    "start_time": "2022-08-16T14:10:59.628Z"
   },
   {
    "duration": 22,
    "start_time": "2022-08-16T14:11:01.241Z"
   },
   {
    "duration": 100,
    "start_time": "2022-08-16T14:11:06.304Z"
   },
   {
    "duration": 18,
    "start_time": "2022-08-16T14:11:08.320Z"
   },
   {
    "duration": 3080,
    "start_time": "2022-08-16T14:12:43.649Z"
   },
   {
    "duration": 16,
    "start_time": "2022-08-16T14:16:02.837Z"
   },
   {
    "duration": 2648,
    "start_time": "2022-08-16T14:16:25.627Z"
   },
   {
    "duration": 44,
    "start_time": "2022-08-16T14:16:31.277Z"
   },
   {
    "duration": 13,
    "start_time": "2022-08-16T14:16:33.745Z"
   },
   {
    "duration": 13,
    "start_time": "2022-08-16T14:17:46.853Z"
   },
   {
    "duration": 4,
    "start_time": "2022-08-16T14:17:49.935Z"
   },
   {
    "duration": 4,
    "start_time": "2022-08-16T14:17:51.230Z"
   },
   {
    "duration": 11,
    "start_time": "2022-08-16T14:17:56.038Z"
   },
   {
    "duration": 41,
    "start_time": "2022-08-16T14:17:59.786Z"
   },
   {
    "duration": 16,
    "start_time": "2022-08-16T14:18:00.032Z"
   },
   {
    "duration": 16,
    "start_time": "2022-08-16T14:18:00.478Z"
   },
   {
    "duration": 2607,
    "start_time": "2022-08-16T14:18:00.733Z"
   },
   {
    "duration": 13,
    "start_time": "2022-08-16T14:18:03.342Z"
   },
   {
    "duration": 4,
    "start_time": "2022-08-16T14:18:03.488Z"
   },
   {
    "duration": 13,
    "start_time": "2022-08-16T14:18:04.230Z"
   },
   {
    "duration": 11,
    "start_time": "2022-08-16T14:18:12.119Z"
   },
   {
    "duration": 35,
    "start_time": "2022-08-16T14:19:00.949Z"
   },
   {
    "duration": 16,
    "start_time": "2022-08-16T14:19:13.471Z"
   },
   {
    "duration": 5,
    "start_time": "2022-08-16T14:21:04.402Z"
   },
   {
    "duration": 11,
    "start_time": "2022-08-16T14:21:11.389Z"
   },
   {
    "duration": 6,
    "start_time": "2022-08-16T14:21:16.924Z"
   },
   {
    "duration": 20,
    "start_time": "2022-08-16T14:21:45.157Z"
   },
   {
    "duration": 15,
    "start_time": "2022-08-16T14:21:51.842Z"
   },
   {
    "duration": 15,
    "start_time": "2022-08-16T14:22:29.332Z"
   },
   {
    "duration": 14,
    "start_time": "2022-08-16T14:22:30.850Z"
   },
   {
    "duration": 9,
    "start_time": "2022-08-16T14:22:35.549Z"
   },
   {
    "duration": 15,
    "start_time": "2022-08-16T14:22:36.458Z"
   },
   {
    "duration": 43,
    "start_time": "2022-08-16T14:22:44.778Z"
   },
   {
    "duration": 13,
    "start_time": "2022-08-16T14:22:44.910Z"
   },
   {
    "duration": 16,
    "start_time": "2022-08-16T14:22:45.227Z"
   },
   {
    "duration": 2712,
    "start_time": "2022-08-16T14:22:45.378Z"
   },
   {
    "duration": 14,
    "start_time": "2022-08-16T14:22:48.092Z"
   },
   {
    "duration": 10,
    "start_time": "2022-08-16T14:22:48.109Z"
   },
   {
    "duration": 19,
    "start_time": "2022-08-16T14:22:48.122Z"
   },
   {
    "duration": 15,
    "start_time": "2022-08-16T14:22:54.873Z"
   },
   {
    "duration": 6,
    "start_time": "2022-08-16T14:23:01.576Z"
   },
   {
    "duration": 17,
    "start_time": "2022-08-16T14:23:18.407Z"
   },
   {
    "duration": 5,
    "start_time": "2022-08-16T14:23:35.034Z"
   },
   {
    "duration": 47,
    "start_time": "2022-08-16T14:24:09.493Z"
   },
   {
    "duration": 18,
    "start_time": "2022-08-16T14:24:10.890Z"
   },
   {
    "duration": 14,
    "start_time": "2022-08-16T14:24:12.889Z"
   },
   {
    "duration": 2678,
    "start_time": "2022-08-16T14:24:16.954Z"
   },
   {
    "duration": 6,
    "start_time": "2022-08-16T14:24:19.634Z"
   },
   {
    "duration": 1847,
    "start_time": "2022-08-16T14:24:44.421Z"
   },
   {
    "duration": 2,
    "start_time": "2022-08-16T14:24:51.335Z"
   },
   {
    "duration": 10,
    "start_time": "2022-08-16T14:24:52.824Z"
   },
   {
    "duration": 8,
    "start_time": "2022-08-16T14:25:04.062Z"
   },
   {
    "duration": 16,
    "start_time": "2022-08-16T14:25:10.234Z"
   },
   {
    "duration": 253,
    "start_time": "2022-08-16T14:25:19.554Z"
   },
   {
    "duration": 264,
    "start_time": "2022-08-16T14:25:30.150Z"
   },
   {
    "duration": 103,
    "start_time": "2022-08-16T14:26:04.935Z"
   },
   {
    "duration": 1395,
    "start_time": "2022-08-16T14:26:58.074Z"
   },
   {
    "duration": 329,
    "start_time": "2022-08-16T14:27:12.287Z"
   },
   {
    "duration": 240,
    "start_time": "2022-08-16T14:27:44.555Z"
   },
   {
    "duration": 203,
    "start_time": "2022-08-16T14:28:00.099Z"
   },
   {
    "duration": 183,
    "start_time": "2022-08-16T14:29:08.735Z"
   },
   {
    "duration": 208,
    "start_time": "2022-08-16T14:29:23.552Z"
   },
   {
    "duration": 209,
    "start_time": "2022-08-16T14:29:28.819Z"
   },
   {
    "duration": 76,
    "start_time": "2022-08-16T14:29:37.339Z"
   },
   {
    "duration": 181,
    "start_time": "2022-08-16T14:29:43.190Z"
   },
   {
    "duration": 55,
    "start_time": "2022-08-17T12:20:25.124Z"
   },
   {
    "duration": 15760,
    "start_time": "2022-08-17T12:20:28.403Z"
   },
   {
    "duration": 4,
    "start_time": "2022-08-17T12:20:45.251Z"
   },
   {
    "duration": 2175,
    "start_time": "2022-08-17T12:20:45.438Z"
   },
   {
    "duration": 126,
    "start_time": "2022-08-17T12:20:47.616Z"
   },
   {
    "duration": 18,
    "start_time": "2022-08-17T12:20:47.744Z"
   },
   {
    "duration": 11,
    "start_time": "2022-08-17T12:20:47.765Z"
   },
   {
    "duration": 2932,
    "start_time": "2022-08-17T12:20:47.778Z"
   },
   {
    "duration": 3,
    "start_time": "2022-08-17T12:20:50.712Z"
   },
   {
    "duration": 141,
    "start_time": "2022-08-17T12:20:50.717Z"
   },
   {
    "duration": 294,
    "start_time": "2022-08-17T12:20:50.860Z"
   },
   {
    "duration": 529,
    "start_time": "2022-08-17T12:20:51.156Z"
   },
   {
    "duration": 216,
    "start_time": "2022-08-17T12:20:51.687Z"
   },
   {
    "duration": 200,
    "start_time": "2022-08-17T12:20:51.906Z"
   },
   {
    "duration": 30,
    "start_time": "2022-08-17T12:23:12.463Z"
   },
   {
    "duration": 134,
    "start_time": "2022-08-17T12:23:29.320Z"
   },
   {
    "duration": 9,
    "start_time": "2022-08-17T12:23:44.855Z"
   },
   {
    "duration": 10,
    "start_time": "2022-08-17T12:23:52.891Z"
   },
   {
    "duration": 14,
    "start_time": "2022-08-17T12:27:36.447Z"
   },
   {
    "duration": 13,
    "start_time": "2022-08-17T12:29:21.948Z"
   },
   {
    "duration": 14,
    "start_time": "2022-08-17T12:29:32.299Z"
   },
   {
    "duration": 13,
    "start_time": "2022-08-17T12:29:59.588Z"
   },
   {
    "duration": 7,
    "start_time": "2022-08-17T12:30:04.175Z"
   },
   {
    "duration": 5,
    "start_time": "2022-08-17T12:30:09.440Z"
   },
   {
    "duration": 621,
    "start_time": "2022-08-17T12:30:11.140Z"
   },
   {
    "duration": 6,
    "start_time": "2022-08-17T12:30:20.636Z"
   },
   {
    "duration": 7,
    "start_time": "2022-08-17T12:30:34.672Z"
   },
   {
    "duration": 24,
    "start_time": "2022-08-17T12:30:39.668Z"
   },
   {
    "duration": 606,
    "start_time": "2022-08-17T12:30:40.432Z"
   },
   {
    "duration": 6,
    "start_time": "2022-08-17T12:30:41.863Z"
   },
   {
    "duration": 834,
    "start_time": "2022-08-17T12:34:45.164Z"
   },
   {
    "duration": 97,
    "start_time": "2022-08-17T12:35:20.618Z"
   },
   {
    "duration": 689,
    "start_time": "2022-08-17T12:35:23.508Z"
   },
   {
    "duration": 644,
    "start_time": "2022-08-17T12:35:40.172Z"
   },
   {
    "duration": 4,
    "start_time": "2022-08-17T12:52:40.469Z"
   },
   {
    "duration": 6,
    "start_time": "2022-08-17T12:52:55.815Z"
   },
   {
    "duration": 9,
    "start_time": "2022-08-17T12:53:00.943Z"
   },
   {
    "duration": 9,
    "start_time": "2022-08-17T12:53:11.064Z"
   },
   {
    "duration": 6,
    "start_time": "2022-08-17T12:53:21.156Z"
   },
   {
    "duration": 8,
    "start_time": "2022-08-17T12:53:25.548Z"
   },
   {
    "duration": 54,
    "start_time": "2022-08-17T12:54:51.616Z"
   },
   {
    "duration": 6,
    "start_time": "2022-08-17T12:54:53.515Z"
   },
   {
    "duration": 17,
    "start_time": "2022-08-17T12:55:13.692Z"
   },
   {
    "duration": 12,
    "start_time": "2022-08-17T12:56:58.476Z"
   },
   {
    "duration": 10,
    "start_time": "2022-08-17T12:57:05.300Z"
   },
   {
    "duration": 9,
    "start_time": "2022-08-17T12:57:13.344Z"
   },
   {
    "duration": 464,
    "start_time": "2022-08-17T12:57:15.360Z"
   },
   {
    "duration": 6,
    "start_time": "2022-08-17T12:57:28.544Z"
   },
   {
    "duration": 7,
    "start_time": "2022-08-17T12:57:58.854Z"
   },
   {
    "duration": 5,
    "start_time": "2022-08-17T12:58:03.914Z"
   },
   {
    "duration": 224,
    "start_time": "2022-08-17T12:58:05.856Z"
   },
   {
    "duration": 232,
    "start_time": "2022-08-17T12:58:12.072Z"
   },
   {
    "duration": 9,
    "start_time": "2022-08-17T12:58:28.672Z"
   },
   {
    "duration": 1170,
    "start_time": "2022-08-17T13:06:07.952Z"
   },
   {
    "duration": 227,
    "start_time": "2022-08-17T13:06:46.366Z"
   },
   {
    "duration": 233,
    "start_time": "2022-08-17T13:06:48.516Z"
   },
   {
    "duration": 230,
    "start_time": "2022-08-17T13:06:50.937Z"
   },
   {
    "duration": 225,
    "start_time": "2022-08-17T13:06:53.213Z"
   },
   {
    "duration": 10,
    "start_time": "2022-08-17T13:30:22.581Z"
   },
   {
    "duration": 4,
    "start_time": "2022-08-17T13:30:33.524Z"
   },
   {
    "duration": 20,
    "start_time": "2022-08-17T13:31:06.667Z"
   },
   {
    "duration": 20,
    "start_time": "2022-08-17T13:31:08.420Z"
   },
   {
    "duration": 9,
    "start_time": "2022-08-17T13:31:49.567Z"
   },
   {
    "duration": 10,
    "start_time": "2022-08-17T13:32:01.919Z"
   },
   {
    "duration": 19,
    "start_time": "2022-08-17T13:32:04.019Z"
   },
   {
    "duration": 20,
    "start_time": "2022-08-17T13:43:00.063Z"
   },
   {
    "duration": 18,
    "start_time": "2022-08-17T13:48:13.752Z"
   },
   {
    "duration": 3,
    "start_time": "2022-08-17T13:52:12.273Z"
   },
   {
    "duration": 4,
    "start_time": "2022-08-17T13:52:36.077Z"
   },
   {
    "duration": 14,
    "start_time": "2022-08-17T13:52:44.200Z"
   },
   {
    "duration": 20,
    "start_time": "2022-08-17T13:52:49.133Z"
   },
   {
    "duration": 6,
    "start_time": "2022-08-17T13:53:04.897Z"
   },
   {
    "duration": 18,
    "start_time": "2022-08-17T13:53:13.161Z"
   },
   {
    "duration": 13,
    "start_time": "2022-08-17T13:53:32.849Z"
   },
   {
    "duration": 28,
    "start_time": "2022-08-17T13:53:37.660Z"
   },
   {
    "duration": 37,
    "start_time": "2022-08-17T13:54:17.376Z"
   },
   {
    "duration": 4,
    "start_time": "2022-08-17T13:55:15.969Z"
   },
   {
    "duration": 8,
    "start_time": "2022-08-17T13:55:49.757Z"
   },
   {
    "duration": 23,
    "start_time": "2022-08-17T13:55:52.073Z"
   },
   {
    "duration": 6,
    "start_time": "2022-08-17T13:58:00.181Z"
   },
   {
    "duration": 32,
    "start_time": "2022-08-17T13:58:02.390Z"
   },
   {
    "duration": 69,
    "start_time": "2022-08-17T13:58:06.233Z"
   },
   {
    "duration": 27,
    "start_time": "2022-08-17T13:58:07.823Z"
   },
   {
    "duration": 8,
    "start_time": "2022-08-17T13:58:21.669Z"
   },
   {
    "duration": 5,
    "start_time": "2022-08-17T13:59:18.837Z"
   },
   {
    "duration": 5,
    "start_time": "2022-08-17T13:59:21.925Z"
   },
   {
    "duration": 6,
    "start_time": "2022-08-17T13:59:35.561Z"
   },
   {
    "duration": 24,
    "start_time": "2022-08-17T13:59:39.709Z"
   },
   {
    "duration": 6,
    "start_time": "2022-08-17T14:00:26.389Z"
   },
   {
    "duration": 23,
    "start_time": "2022-08-17T14:00:54.857Z"
   },
   {
    "duration": 9,
    "start_time": "2022-08-17T14:01:38.485Z"
   },
   {
    "duration": 5,
    "start_time": "2022-08-17T14:01:40.901Z"
   },
   {
    "duration": 6,
    "start_time": "2022-08-17T14:02:07.506Z"
   },
   {
    "duration": 13,
    "start_time": "2022-08-17T14:02:25.688Z"
   },
   {
    "duration": 21,
    "start_time": "2022-08-17T14:02:28.315Z"
   },
   {
    "duration": 7,
    "start_time": "2022-08-17T14:04:41.353Z"
   },
   {
    "duration": 22,
    "start_time": "2022-08-17T14:06:05.702Z"
   },
   {
    "duration": 10,
    "start_time": "2022-08-17T14:06:27.469Z"
   },
   {
    "duration": 69,
    "start_time": "2022-08-17T14:06:45.065Z"
   },
   {
    "duration": 20,
    "start_time": "2022-08-17T14:06:49.289Z"
   },
   {
    "duration": 14,
    "start_time": "2022-08-17T14:06:56.430Z"
   },
   {
    "duration": 272,
    "start_time": "2022-08-17T14:09:09.370Z"
   },
   {
    "duration": 268,
    "start_time": "2022-08-17T14:09:15.718Z"
   },
   {
    "duration": 229291,
    "start_time": "2022-08-17T14:12:54.250Z"
   },
   {
    "duration": 4,
    "start_time": "2022-08-17T14:46:05.360Z"
   },
   {
    "duration": 48,
    "start_time": "2022-08-17T14:46:50.843Z"
   },
   {
    "duration": 5,
    "start_time": "2022-08-17T14:49:58.696Z"
   },
   {
    "duration": 2184460,
    "start_time": "2022-08-17T14:51:28.239Z"
   },
   {
    "duration": 12,
    "start_time": "2022-08-17T15:32:14.620Z"
   },
   {
    "duration": 4,
    "start_time": "2022-08-17T15:32:17.132Z"
   },
   {
    "duration": 4,
    "start_time": "2022-08-17T15:35:23.187Z"
   },
   {
    "duration": 2188008,
    "start_time": "2022-08-17T15:35:32.039Z"
   },
   {
    "duration": 4,
    "start_time": "2022-08-17T16:15:19.614Z"
   },
   {
    "duration": 5,
    "start_time": "2022-08-17T16:15:27.490Z"
   },
   {
    "duration": 6,
    "start_time": "2022-08-17T16:15:30.910Z"
   },
   {
    "duration": 5,
    "start_time": "2022-08-17T16:15:42.626Z"
   },
   {
    "duration": 44,
    "start_time": "2022-08-17T16:15:48.718Z"
   },
   {
    "duration": 134,
    "start_time": "2022-08-17T16:15:58.951Z"
   },
   {
    "duration": 29,
    "start_time": "2022-08-17T16:16:54.154Z"
   },
   {
    "duration": 6,
    "start_time": "2022-08-17T16:17:33.866Z"
   },
   {
    "duration": 2223275,
    "start_time": "2022-08-17T16:18:23.638Z"
   },
   {
    "duration": 5,
    "start_time": "2022-08-17T17:31:47.317Z"
   },
   {
    "duration": 89,
    "start_time": "2022-08-17T17:32:08.725Z"
   },
   {
    "duration": 16478,
    "start_time": "2022-08-18T13:45:01.572Z"
   },
   {
    "duration": 3,
    "start_time": "2022-08-18T13:46:03.372Z"
   },
   {
    "duration": 2416,
    "start_time": "2022-08-18T13:46:03.513Z"
   },
   {
    "duration": 258,
    "start_time": "2022-08-18T13:46:05.931Z"
   },
   {
    "duration": 24,
    "start_time": "2022-08-18T13:46:06.193Z"
   },
   {
    "duration": 11,
    "start_time": "2022-08-18T13:46:06.221Z"
   },
   {
    "duration": 2826,
    "start_time": "2022-08-18T13:46:06.234Z"
   },
   {
    "duration": 4,
    "start_time": "2022-08-18T13:46:09.061Z"
   },
   {
    "duration": 18,
    "start_time": "2022-08-18T13:46:09.067Z"
   },
   {
    "duration": 251,
    "start_time": "2022-08-18T13:46:09.086Z"
   },
   {
    "duration": 314,
    "start_time": "2022-08-18T13:46:09.339Z"
   },
   {
    "duration": 182,
    "start_time": "2022-08-18T13:46:09.656Z"
   },
   {
    "duration": 179,
    "start_time": "2022-08-18T13:46:09.840Z"
   },
   {
    "duration": 10,
    "start_time": "2022-08-18T13:46:10.021Z"
   },
   {
    "duration": 215,
    "start_time": "2022-08-18T13:46:10.032Z"
   },
   {
    "duration": 231,
    "start_time": "2022-08-18T13:46:10.249Z"
   },
   {
    "duration": 222,
    "start_time": "2022-08-18T13:46:10.482Z"
   },
   {
    "duration": 9,
    "start_time": "2022-08-18T13:46:10.705Z"
   },
   {
    "duration": 11,
    "start_time": "2022-08-18T13:47:04.380Z"
   },
   {
    "duration": 10,
    "start_time": "2022-08-18T13:47:12.564Z"
   },
   {
    "duration": 165,
    "start_time": "2022-08-18T13:47:25.060Z"
   },
   {
    "duration": 5,
    "start_time": "2022-08-18T13:47:30.013Z"
   },
   {
    "duration": 12,
    "start_time": "2022-08-18T13:47:31.760Z"
   },
   {
    "duration": 22,
    "start_time": "2022-08-18T13:47:33.176Z"
   },
   {
    "duration": 13,
    "start_time": "2022-08-18T13:47:48.868Z"
   },
   {
    "duration": 4,
    "start_time": "2022-08-18T13:47:50.272Z"
   },
   {
    "duration": 8,
    "start_time": "2022-08-18T13:47:59.129Z"
   },
   {
    "duration": 7,
    "start_time": "2022-08-18T13:48:02.808Z"
   },
   {
    "duration": 184,
    "start_time": "2022-08-18T13:48:09.964Z"
   },
   {
    "duration": 8,
    "start_time": "2022-08-18T13:48:43.187Z"
   },
   {
    "duration": 12,
    "start_time": "2022-08-18T13:48:50.455Z"
   },
   {
    "duration": 165,
    "start_time": "2022-08-18T13:48:52.836Z"
   },
   {
    "duration": 361,
    "start_time": "2022-08-18T13:52:59.387Z"
   },
   {
    "duration": 4,
    "start_time": "2022-08-18T13:53:03.247Z"
   },
   {
    "duration": 13,
    "start_time": "2022-08-18T13:53:03.475Z"
   },
   {
    "duration": 19,
    "start_time": "2022-08-18T13:53:03.703Z"
   },
   {
    "duration": 16,
    "start_time": "2022-08-18T13:53:06.548Z"
   },
   {
    "duration": 4,
    "start_time": "2022-08-18T13:53:06.767Z"
   },
   {
    "duration": 8,
    "start_time": "2022-08-18T13:53:07.243Z"
   },
   {
    "duration": 6,
    "start_time": "2022-08-18T13:53:07.703Z"
   },
   {
    "duration": 10,
    "start_time": "2022-08-18T13:53:09.163Z"
   },
   {
    "duration": 11,
    "start_time": "2022-08-18T13:53:16.623Z"
   },
   {
    "duration": 222,
    "start_time": "2022-08-18T13:53:24.305Z"
   },
   {
    "duration": 4,
    "start_time": "2022-08-18T13:53:28.527Z"
   },
   {
    "duration": 12,
    "start_time": "2022-08-18T13:53:33.747Z"
   },
   {
    "duration": 19,
    "start_time": "2022-08-18T13:53:34.823Z"
   },
   {
    "duration": 12,
    "start_time": "2022-08-18T13:53:37.859Z"
   },
   {
    "duration": 4,
    "start_time": "2022-08-18T13:53:38.208Z"
   },
   {
    "duration": 9,
    "start_time": "2022-08-18T13:53:38.755Z"
   },
   {
    "duration": 6,
    "start_time": "2022-08-18T13:53:39.170Z"
   },
   {
    "duration": 11,
    "start_time": "2022-08-18T13:53:40.755Z"
   },
   {
    "duration": 21,
    "start_time": "2022-08-18T13:53:42.775Z"
   },
   {
    "duration": 211,
    "start_time": "2022-08-18T13:53:55.103Z"
   },
   {
    "duration": 4,
    "start_time": "2022-08-18T13:53:58.555Z"
   },
   {
    "duration": 14,
    "start_time": "2022-08-18T13:53:58.827Z"
   },
   {
    "duration": 22,
    "start_time": "2022-08-18T13:53:59.147Z"
   },
   {
    "duration": 14,
    "start_time": "2022-08-18T13:54:02.163Z"
   },
   {
    "duration": 5,
    "start_time": "2022-08-18T13:54:02.614Z"
   },
   {
    "duration": 8,
    "start_time": "2022-08-18T13:54:02.947Z"
   },
   {
    "duration": 6,
    "start_time": "2022-08-18T13:54:03.322Z"
   },
   {
    "duration": 12,
    "start_time": "2022-08-18T13:54:03.535Z"
   },
   {
    "duration": 17,
    "start_time": "2022-08-18T13:54:05.831Z"
   },
   {
    "duration": 240,
    "start_time": "2022-08-18T13:54:13.314Z"
   },
   {
    "duration": 5,
    "start_time": "2022-08-18T13:54:19.358Z"
   },
   {
    "duration": 21,
    "start_time": "2022-08-18T13:54:19.571Z"
   },
   {
    "duration": 25,
    "start_time": "2022-08-18T13:54:19.822Z"
   },
   {
    "duration": 15,
    "start_time": "2022-08-18T13:54:20.202Z"
   },
   {
    "duration": 4,
    "start_time": "2022-08-18T13:54:20.659Z"
   },
   {
    "duration": 8,
    "start_time": "2022-08-18T13:54:21.006Z"
   },
   {
    "duration": 5,
    "start_time": "2022-08-18T13:54:21.423Z"
   },
   {
    "duration": 11,
    "start_time": "2022-08-18T13:54:21.762Z"
   },
   {
    "duration": 11,
    "start_time": "2022-08-18T13:54:22.543Z"
   },
   {
    "duration": 224,
    "start_time": "2022-08-18T13:54:31.204Z"
   },
   {
    "duration": 4,
    "start_time": "2022-08-18T13:54:35.975Z"
   },
   {
    "duration": 12,
    "start_time": "2022-08-18T13:54:41.079Z"
   },
   {
    "duration": 30,
    "start_time": "2022-08-18T13:54:42.083Z"
   },
   {
    "duration": 20,
    "start_time": "2022-08-18T13:54:42.479Z"
   },
   {
    "duration": 5,
    "start_time": "2022-08-18T13:54:43.027Z"
   },
   {
    "duration": 13,
    "start_time": "2022-08-18T13:54:43.279Z"
   },
   {
    "duration": 5,
    "start_time": "2022-08-18T13:54:43.463Z"
   },
   {
    "duration": 12,
    "start_time": "2022-08-18T13:54:43.779Z"
   },
   {
    "duration": 70,
    "start_time": "2022-08-18T13:54:45.519Z"
   },
   {
    "duration": 341,
    "start_time": "2022-08-18T13:54:56.239Z"
   },
   {
    "duration": 4,
    "start_time": "2022-08-18T13:54:59.279Z"
   },
   {
    "duration": 13,
    "start_time": "2022-08-18T13:54:59.435Z"
   },
   {
    "duration": 32,
    "start_time": "2022-08-18T13:54:59.583Z"
   },
   {
    "duration": 13,
    "start_time": "2022-08-18T13:54:59.739Z"
   },
   {
    "duration": 7,
    "start_time": "2022-08-18T13:55:00.067Z"
   },
   {
    "duration": 8,
    "start_time": "2022-08-18T13:55:00.463Z"
   },
   {
    "duration": 5,
    "start_time": "2022-08-18T13:55:00.703Z"
   },
   {
    "duration": 12,
    "start_time": "2022-08-18T13:55:01.039Z"
   },
   {
    "duration": 86,
    "start_time": "2022-08-18T13:55:01.820Z"
   },
   {
    "duration": 369,
    "start_time": "2022-08-18T13:55:19.806Z"
   },
   {
    "duration": 244,
    "start_time": "2022-08-18T13:55:31.205Z"
   },
   {
    "duration": 12,
    "start_time": "2022-08-18T13:55:35.951Z"
   },
   {
    "duration": 42,
    "start_time": "2022-08-18T13:55:36.567Z"
   },
   {
    "duration": 14,
    "start_time": "2022-08-18T13:55:38.771Z"
   },
   {
    "duration": 4,
    "start_time": "2022-08-18T13:55:38.935Z"
   },
   {
    "duration": 8,
    "start_time": "2022-08-18T13:55:39.243Z"
   },
   {
    "duration": 5,
    "start_time": "2022-08-18T13:55:39.531Z"
   },
   {
    "duration": 11,
    "start_time": "2022-08-18T13:55:39.831Z"
   },
   {
    "duration": 122,
    "start_time": "2022-08-18T13:55:40.783Z"
   },
   {
    "duration": 248,
    "start_time": "2022-08-18T13:55:47.631Z"
   },
   {
    "duration": 17,
    "start_time": "2022-08-18T13:55:53.339Z"
   },
   {
    "duration": 32,
    "start_time": "2022-08-18T13:55:53.735Z"
   },
   {
    "duration": 15,
    "start_time": "2022-08-18T13:55:54.135Z"
   },
   {
    "duration": 5,
    "start_time": "2022-08-18T13:55:54.728Z"
   },
   {
    "duration": 10,
    "start_time": "2022-08-18T13:55:55.475Z"
   },
   {
    "duration": 5,
    "start_time": "2022-08-18T13:55:55.771Z"
   },
   {
    "duration": 10,
    "start_time": "2022-08-18T13:55:56.147Z"
   },
   {
    "duration": 137,
    "start_time": "2022-08-18T13:55:59.351Z"
   },
   {
    "duration": 304,
    "start_time": "2022-08-18T13:56:25.570Z"
   },
   {
    "duration": 13,
    "start_time": "2022-08-18T13:56:30.731Z"
   },
   {
    "duration": 22,
    "start_time": "2022-08-18T13:56:31.503Z"
   },
   {
    "duration": 13,
    "start_time": "2022-08-18T13:56:42.435Z"
   },
   {
    "duration": 5,
    "start_time": "2022-08-18T13:56:43.303Z"
   },
   {
    "duration": 7,
    "start_time": "2022-08-18T13:56:43.627Z"
   },
   {
    "duration": 5,
    "start_time": "2022-08-18T13:56:43.863Z"
   },
   {
    "duration": 12,
    "start_time": "2022-08-18T13:56:44.110Z"
   },
   {
    "duration": 128,
    "start_time": "2022-08-18T13:56:49.379Z"
   },
   {
    "duration": 4,
    "start_time": "2022-08-18T13:57:16.546Z"
   },
   {
    "duration": 385,
    "start_time": "2022-08-18T13:57:20.051Z"
   },
   {
    "duration": 3,
    "start_time": "2022-08-18T13:57:23.703Z"
   },
   {
    "duration": 9,
    "start_time": "2022-08-18T13:57:39.558Z"
   },
   {
    "duration": 15,
    "start_time": "2022-08-18T13:57:41.267Z"
   },
   {
    "duration": 36,
    "start_time": "2022-08-18T13:57:41.767Z"
   },
   {
    "duration": 15,
    "start_time": "2022-08-18T13:58:00.078Z"
   },
   {
    "duration": 16,
    "start_time": "2022-08-18T13:58:03.959Z"
   },
   {
    "duration": 35,
    "start_time": "2022-08-18T13:58:07.763Z"
   },
   {
    "duration": 4,
    "start_time": "2022-08-18T13:58:10.359Z"
   },
   {
    "duration": 8,
    "start_time": "2022-08-18T13:58:10.523Z"
   },
   {
    "duration": 5,
    "start_time": "2022-08-18T13:58:10.710Z"
   },
   {
    "duration": 19,
    "start_time": "2022-08-18T13:58:10.983Z"
   },
   {
    "duration": 97,
    "start_time": "2022-08-18T13:58:13.298Z"
   },
   {
    "duration": 233,
    "start_time": "2022-08-18T13:58:28.263Z"
   },
   {
    "duration": 304,
    "start_time": "2022-08-18T13:58:28.562Z"
   },
   {
    "duration": 173,
    "start_time": "2022-08-18T13:58:28.868Z"
   },
   {
    "duration": 177,
    "start_time": "2022-08-18T13:58:29.042Z"
   },
   {
    "duration": 7,
    "start_time": "2022-08-18T13:58:29.221Z"
   },
   {
    "duration": 203,
    "start_time": "2022-08-18T13:58:29.254Z"
   },
   {
    "duration": 242,
    "start_time": "2022-08-18T13:58:29.459Z"
   },
   {
    "duration": 231,
    "start_time": "2022-08-18T13:58:29.703Z"
   },
   {
    "duration": 8,
    "start_time": "2022-08-18T13:58:29.936Z"
   },
   {
    "duration": 3,
    "start_time": "2022-08-18T13:58:30.808Z"
   },
   {
    "duration": 5,
    "start_time": "2022-08-18T13:58:31.427Z"
   },
   {
    "duration": 12,
    "start_time": "2022-08-18T13:58:32.158Z"
   },
   {
    "duration": 18,
    "start_time": "2022-08-18T13:58:32.755Z"
   },
   {
    "duration": 13,
    "start_time": "2022-08-18T13:58:32.998Z"
   },
   {
    "duration": 4,
    "start_time": "2022-08-18T13:58:33.259Z"
   },
   {
    "duration": 8,
    "start_time": "2022-08-18T13:58:33.423Z"
   },
   {
    "duration": 7,
    "start_time": "2022-08-18T13:58:33.789Z"
   },
   {
    "duration": 12,
    "start_time": "2022-08-18T13:58:34.066Z"
   },
   {
    "duration": 181,
    "start_time": "2022-08-18T13:58:35.207Z"
   },
   {
    "duration": 221,
    "start_time": "2022-08-18T13:58:45.063Z"
   },
   {
    "duration": 286,
    "start_time": "2022-08-18T13:58:45.351Z"
   },
   {
    "duration": 160,
    "start_time": "2022-08-18T13:58:45.654Z"
   },
   {
    "duration": 209,
    "start_time": "2022-08-18T13:58:45.816Z"
   },
   {
    "duration": 8,
    "start_time": "2022-08-18T13:58:46.027Z"
   },
   {
    "duration": 224,
    "start_time": "2022-08-18T13:58:46.131Z"
   },
   {
    "duration": 446,
    "start_time": "2022-08-18T13:58:46.357Z"
   },
   {
    "duration": 214,
    "start_time": "2022-08-18T13:58:46.805Z"
   },
   {
    "duration": 8,
    "start_time": "2022-08-18T13:58:47.021Z"
   },
   {
    "duration": 2,
    "start_time": "2022-08-18T13:58:47.483Z"
   },
   {
    "duration": 4,
    "start_time": "2022-08-18T13:58:48.071Z"
   },
   {
    "duration": 12,
    "start_time": "2022-08-18T13:58:48.251Z"
   },
   {
    "duration": 21,
    "start_time": "2022-08-18T13:58:48.419Z"
   },
   {
    "duration": 17,
    "start_time": "2022-08-18T13:58:48.596Z"
   },
   {
    "duration": 5,
    "start_time": "2022-08-18T13:58:48.979Z"
   },
   {
    "duration": 8,
    "start_time": "2022-08-18T13:58:49.527Z"
   },
   {
    "duration": 6,
    "start_time": "2022-08-18T13:58:49.727Z"
   },
   {
    "duration": 13,
    "start_time": "2022-08-18T13:58:49.879Z"
   },
   {
    "duration": 84,
    "start_time": "2022-08-18T13:58:52.107Z"
   },
   {
    "duration": 228,
    "start_time": "2022-08-18T13:59:00.003Z"
   },
   {
    "duration": 288,
    "start_time": "2022-08-18T13:59:00.292Z"
   },
   {
    "duration": 187,
    "start_time": "2022-08-18T13:59:00.582Z"
   },
   {
    "duration": 233,
    "start_time": "2022-08-18T13:59:00.771Z"
   },
   {
    "duration": 9,
    "start_time": "2022-08-18T13:59:01.007Z"
   },
   {
    "duration": 211,
    "start_time": "2022-08-18T13:59:01.018Z"
   },
   {
    "duration": 217,
    "start_time": "2022-08-18T13:59:01.231Z"
   },
   {
    "duration": 217,
    "start_time": "2022-08-18T13:59:01.450Z"
   },
   {
    "duration": 8,
    "start_time": "2022-08-18T13:59:01.670Z"
   },
   {
    "duration": 3,
    "start_time": "2022-08-18T13:59:02.111Z"
   },
   {
    "duration": 5,
    "start_time": "2022-08-18T13:59:02.386Z"
   },
   {
    "duration": 13,
    "start_time": "2022-08-18T13:59:02.546Z"
   },
   {
    "duration": 20,
    "start_time": "2022-08-18T13:59:02.700Z"
   },
   {
    "duration": 14,
    "start_time": "2022-08-18T13:59:02.858Z"
   },
   {
    "duration": 3,
    "start_time": "2022-08-18T13:59:03.015Z"
   },
   {
    "duration": 8,
    "start_time": "2022-08-18T13:59:03.387Z"
   },
   {
    "duration": 6,
    "start_time": "2022-08-18T13:59:03.542Z"
   },
   {
    "duration": 11,
    "start_time": "2022-08-18T13:59:03.706Z"
   },
   {
    "duration": 38,
    "start_time": "2022-08-18T13:59:05.058Z"
   },
   {
    "duration": 228,
    "start_time": "2022-08-18T13:59:19.563Z"
   },
   {
    "duration": 309,
    "start_time": "2022-08-18T13:59:19.822Z"
   },
   {
    "duration": 176,
    "start_time": "2022-08-18T13:59:20.132Z"
   },
   {
    "duration": 160,
    "start_time": "2022-08-18T13:59:20.310Z"
   },
   {
    "duration": 26,
    "start_time": "2022-08-18T13:59:20.471Z"
   },
   {
    "duration": 361,
    "start_time": "2022-08-18T13:59:20.510Z"
   },
   {
    "duration": 200,
    "start_time": "2022-08-18T13:59:20.872Z"
   },
   {
    "duration": 206,
    "start_time": "2022-08-18T13:59:21.074Z"
   },
   {
    "duration": 22,
    "start_time": "2022-08-18T13:59:21.282Z"
   },
   {
    "duration": 6,
    "start_time": "2022-08-18T13:59:21.306Z"
   },
   {
    "duration": 4,
    "start_time": "2022-08-18T13:59:21.566Z"
   },
   {
    "duration": 12,
    "start_time": "2022-08-18T13:59:22.003Z"
   },
   {
    "duration": 27,
    "start_time": "2022-08-18T13:59:22.575Z"
   },
   {
    "duration": 13,
    "start_time": "2022-08-18T13:59:22.739Z"
   },
   {
    "duration": 6,
    "start_time": "2022-08-18T13:59:22.902Z"
   },
   {
    "duration": 14,
    "start_time": "2022-08-18T13:59:23.287Z"
   },
   {
    "duration": 6,
    "start_time": "2022-08-18T13:59:23.462Z"
   },
   {
    "duration": 11,
    "start_time": "2022-08-18T13:59:23.627Z"
   },
   {
    "duration": 19,
    "start_time": "2022-08-18T13:59:25.159Z"
   },
   {
    "duration": 347,
    "start_time": "2022-08-18T13:59:29.459Z"
   },
   {
    "duration": 20102996,
    "start_time": "2022-08-18T13:59:41.002Z"
   },
   {
    "duration": 3,
    "start_time": "2022-08-18T19:45:44.726Z"
   },
   {
    "duration": 82,
    "start_time": "2022-08-18T19:45:51.313Z"
   },
   {
    "duration": 50,
    "start_time": "2022-08-19T14:56:37.680Z"
   },
   {
    "duration": 16216,
    "start_time": "2022-08-19T14:56:40.056Z"
   },
   {
    "duration": 3,
    "start_time": "2022-08-19T14:57:10.325Z"
   },
   {
    "duration": 3231,
    "start_time": "2022-08-19T14:57:10.475Z"
   },
   {
    "duration": 152,
    "start_time": "2022-08-19T14:57:13.709Z"
   },
   {
    "duration": 27,
    "start_time": "2022-08-19T14:57:13.863Z"
   },
   {
    "duration": 16,
    "start_time": "2022-08-19T14:57:13.893Z"
   },
   {
    "duration": 3255,
    "start_time": "2022-08-19T14:57:13.912Z"
   },
   {
    "duration": 4,
    "start_time": "2022-08-19T14:57:17.169Z"
   },
   {
    "duration": 28,
    "start_time": "2022-08-19T14:57:17.175Z"
   },
   {
    "duration": 309,
    "start_time": "2022-08-19T14:57:17.205Z"
   },
   {
    "duration": 375,
    "start_time": "2022-08-19T14:57:17.516Z"
   },
   {
    "duration": 219,
    "start_time": "2022-08-19T14:57:17.893Z"
   },
   {
    "duration": 215,
    "start_time": "2022-08-19T14:57:18.114Z"
   },
   {
    "duration": 23,
    "start_time": "2022-08-19T14:57:18.331Z"
   },
   {
    "duration": 254,
    "start_time": "2022-08-19T14:57:18.356Z"
   },
   {
    "duration": 247,
    "start_time": "2022-08-19T14:57:18.611Z"
   },
   {
    "duration": 253,
    "start_time": "2022-08-19T14:57:18.860Z"
   },
   {
    "duration": 10,
    "start_time": "2022-08-19T14:57:19.114Z"
   },
   {
    "duration": 11,
    "start_time": "2022-08-19T14:57:19.125Z"
   },
   {
    "duration": 7,
    "start_time": "2022-08-19T14:57:19.138Z"
   },
   {
    "duration": 5,
    "start_time": "2022-08-19T14:59:55.108Z"
   },
   {
    "duration": 19,
    "start_time": "2022-08-19T14:59:56.148Z"
   },
   {
    "duration": 28,
    "start_time": "2022-08-19T14:59:57.722Z"
   },
   {
    "duration": 15,
    "start_time": "2022-08-19T15:00:03.744Z"
   },
   {
    "duration": 4,
    "start_time": "2022-08-19T15:00:05.396Z"
   },
   {
    "duration": 11,
    "start_time": "2022-08-19T15:00:09.779Z"
   },
   {
    "duration": 6,
    "start_time": "2022-08-19T15:00:09.972Z"
   },
   {
    "duration": 16,
    "start_time": "2022-08-19T15:00:10.373Z"
   },
   {
    "duration": 27,
    "start_time": "2022-08-19T15:00:14.085Z"
   },
   {
    "duration": 4,
    "start_time": "2022-08-19T15:00:29.780Z"
   },
   {
    "duration": 15,
    "start_time": "2022-08-19T15:00:30.720Z"
   },
   {
    "duration": 36,
    "start_time": "2022-08-19T15:00:30.947Z"
   },
   {
    "duration": 11,
    "start_time": "2022-08-19T15:00:31.256Z"
   },
   {
    "duration": 5,
    "start_time": "2022-08-19T15:00:31.664Z"
   },
   {
    "duration": 9,
    "start_time": "2022-08-19T15:00:32.610Z"
   },
   {
    "duration": 6,
    "start_time": "2022-08-19T15:00:32.836Z"
   },
   {
    "duration": 15,
    "start_time": "2022-08-19T15:00:33.085Z"
   },
   {
    "duration": 28,
    "start_time": "2022-08-19T15:00:34.528Z"
   },
   {
    "duration": 458,
    "start_time": "2022-08-19T15:00:40.372Z"
   },
   {
    "duration": 354,
    "start_time": "2022-08-19T15:00:41.112Z"
   },
   {
    "duration": 224,
    "start_time": "2022-08-19T15:00:41.469Z"
   },
   {
    "duration": 190,
    "start_time": "2022-08-19T15:00:41.695Z"
   },
   {
    "duration": 8,
    "start_time": "2022-08-19T15:00:41.887Z"
   },
   {
    "duration": 241,
    "start_time": "2022-08-19T15:00:41.897Z"
   },
   {
    "duration": 246,
    "start_time": "2022-08-19T15:00:42.140Z"
   },
   {
    "duration": 246,
    "start_time": "2022-08-19T15:00:42.387Z"
   },
   {
    "duration": 11,
    "start_time": "2022-08-19T15:00:42.634Z"
   },
   {
    "duration": 10,
    "start_time": "2022-08-19T15:00:42.647Z"
   },
   {
    "duration": 7,
    "start_time": "2022-08-19T15:00:42.895Z"
   },
   {
    "duration": 18,
    "start_time": "2022-08-19T15:00:43.108Z"
   },
   {
    "duration": 27,
    "start_time": "2022-08-19T15:00:43.276Z"
   },
   {
    "duration": 14,
    "start_time": "2022-08-19T15:00:43.708Z"
   },
   {
    "duration": 4,
    "start_time": "2022-08-19T15:00:44.136Z"
   },
   {
    "duration": 9,
    "start_time": "2022-08-19T15:00:44.409Z"
   },
   {
    "duration": 6,
    "start_time": "2022-08-19T15:00:44.609Z"
   },
   {
    "duration": 17,
    "start_time": "2022-08-19T15:00:44.963Z"
   },
   {
    "duration": 35,
    "start_time": "2022-08-19T15:00:46.844Z"
   },
   {
    "duration": 139,
    "start_time": "2022-08-19T15:00:57.535Z"
   },
   {
    "duration": 372,
    "start_time": "2022-08-19T15:01:03.948Z"
   },
   {
    "duration": 6,
    "start_time": "2022-08-19T15:01:11.631Z"
   },
   {
    "duration": 272,
    "start_time": "2022-08-19T15:01:16.753Z"
   },
   {
    "duration": 323,
    "start_time": "2022-08-19T15:01:17.068Z"
   },
   {
    "duration": 193,
    "start_time": "2022-08-19T15:01:17.392Z"
   },
   {
    "duration": 328,
    "start_time": "2022-08-19T15:01:17.587Z"
   },
   {
    "duration": 7,
    "start_time": "2022-08-19T15:01:17.917Z"
   },
   {
    "duration": 227,
    "start_time": "2022-08-19T15:01:17.926Z"
   },
   {
    "duration": 227,
    "start_time": "2022-08-19T15:01:18.154Z"
   },
   {
    "duration": 220,
    "start_time": "2022-08-19T15:01:18.383Z"
   },
   {
    "duration": 10,
    "start_time": "2022-08-19T15:01:18.605Z"
   },
   {
    "duration": 3,
    "start_time": "2022-08-19T15:01:18.853Z"
   },
   {
    "duration": 4,
    "start_time": "2022-08-19T15:01:19.252Z"
   },
   {
    "duration": 16,
    "start_time": "2022-08-19T15:01:19.844Z"
   },
   {
    "duration": 29,
    "start_time": "2022-08-19T15:01:20.035Z"
   },
   {
    "duration": 15,
    "start_time": "2022-08-19T15:01:20.207Z"
   },
   {
    "duration": 4,
    "start_time": "2022-08-19T15:01:20.548Z"
   },
   {
    "duration": 9,
    "start_time": "2022-08-19T15:01:20.879Z"
   },
   {
    "duration": 7,
    "start_time": "2022-08-19T15:01:21.239Z"
   },
   {
    "duration": 13,
    "start_time": "2022-08-19T15:01:21.580Z"
   },
   {
    "duration": 24,
    "start_time": "2022-08-19T15:01:24.263Z"
   },
   {
    "duration": 26,
    "start_time": "2022-08-19T15:01:26.047Z"
   },
   {
    "duration": 369,
    "start_time": "2022-08-19T15:01:34.747Z"
   },
   {
    "duration": 5,
    "start_time": "2022-08-19T15:01:59.608Z"
   },
   {
    "duration": 267,
    "start_time": "2022-08-19T15:02:04.756Z"
   },
   {
    "duration": 345,
    "start_time": "2022-08-19T15:02:05.033Z"
   },
   {
    "duration": 196,
    "start_time": "2022-08-19T15:02:05.380Z"
   },
   {
    "duration": 188,
    "start_time": "2022-08-19T15:02:05.579Z"
   },
   {
    "duration": 8,
    "start_time": "2022-08-19T15:02:05.769Z"
   },
   {
    "duration": 350,
    "start_time": "2022-08-19T15:02:05.840Z"
   },
   {
    "duration": 242,
    "start_time": "2022-08-19T15:02:06.192Z"
   },
   {
    "duration": 298,
    "start_time": "2022-08-19T15:02:06.436Z"
   },
   {
    "duration": 10,
    "start_time": "2022-08-19T15:02:06.736Z"
   },
   {
    "duration": 22,
    "start_time": "2022-08-19T15:02:06.748Z"
   },
   {
    "duration": 5,
    "start_time": "2022-08-19T15:02:07.059Z"
   },
   {
    "duration": 16,
    "start_time": "2022-08-19T15:02:07.352Z"
   },
   {
    "duration": 25,
    "start_time": "2022-08-19T15:02:07.659Z"
   },
   {
    "duration": 15,
    "start_time": "2022-08-19T15:02:07.860Z"
   },
   {
    "duration": 4,
    "start_time": "2022-08-19T15:02:08.477Z"
   },
   {
    "duration": 9,
    "start_time": "2022-08-19T15:02:08.653Z"
   },
   {
    "duration": 5,
    "start_time": "2022-08-19T15:02:08.823Z"
   },
   {
    "duration": 12,
    "start_time": "2022-08-19T15:02:09.144Z"
   },
   {
    "duration": 28,
    "start_time": "2022-08-19T15:02:10.111Z"
   },
   {
    "duration": 41,
    "start_time": "2022-08-19T15:02:23.628Z"
   },
   {
    "duration": 396,
    "start_time": "2022-08-19T15:02:26.808Z"
   },
   {
    "duration": 93,
    "start_time": "2022-08-19T15:02:35.776Z"
   },
   {
    "duration": 406,
    "start_time": "2022-08-19T15:02:36.332Z"
   },
   {
    "duration": 254,
    "start_time": "2022-08-19T15:02:47.491Z"
   },
   {
    "duration": 316,
    "start_time": "2022-08-19T15:02:47.784Z"
   },
   {
    "duration": 172,
    "start_time": "2022-08-19T15:02:48.125Z"
   },
   {
    "duration": 189,
    "start_time": "2022-08-19T15:02:48.299Z"
   },
   {
    "duration": 9,
    "start_time": "2022-08-19T15:02:48.491Z"
   },
   {
    "duration": 216,
    "start_time": "2022-08-19T15:02:48.609Z"
   },
   {
    "duration": 235,
    "start_time": "2022-08-19T15:02:48.827Z"
   },
   {
    "duration": 384,
    "start_time": "2022-08-19T15:02:49.064Z"
   },
   {
    "duration": 23,
    "start_time": "2022-08-19T15:02:49.451Z"
   },
   {
    "duration": 4,
    "start_time": "2022-08-19T15:02:49.987Z"
   },
   {
    "duration": 5,
    "start_time": "2022-08-19T15:02:50.363Z"
   },
   {
    "duration": 16,
    "start_time": "2022-08-19T15:02:50.564Z"
   },
   {
    "duration": 28,
    "start_time": "2022-08-19T15:02:50.755Z"
   },
   {
    "duration": 19,
    "start_time": "2022-08-19T15:02:50.919Z"
   },
   {
    "duration": 6,
    "start_time": "2022-08-19T15:02:51.388Z"
   },
   {
    "duration": 9,
    "start_time": "2022-08-19T15:02:51.792Z"
   },
   {
    "duration": 6,
    "start_time": "2022-08-19T15:02:52.028Z"
   },
   {
    "duration": 13,
    "start_time": "2022-08-19T15:02:52.218Z"
   },
   {
    "duration": 27,
    "start_time": "2022-08-19T15:02:52.945Z"
   },
   {
    "duration": 14,
    "start_time": "2022-08-19T15:02:53.492Z"
   },
   {
    "duration": 357,
    "start_time": "2022-08-19T15:02:54.192Z"
   },
   {
    "duration": 246,
    "start_time": "2022-08-19T15:03:15.040Z"
   },
   {
    "duration": 179,
    "start_time": "2022-08-19T15:04:42.208Z"
   },
   {
    "duration": 385,
    "start_time": "2022-08-19T15:04:59.428Z"
   },
   {
    "duration": 8,
    "start_time": "2022-08-19T15:05:03.764Z"
   },
   {
    "duration": 167,
    "start_time": "2022-08-19T15:05:22.564Z"
   },
   {
    "duration": 232,
    "start_time": "2022-08-19T15:06:31.030Z"
   },
   {
    "duration": 156,
    "start_time": "2022-08-19T15:06:38.264Z"
   },
   {
    "duration": 157,
    "start_time": "2022-08-19T15:06:51.321Z"
   },
   {
    "duration": 161,
    "start_time": "2022-08-19T15:08:40.068Z"
   },
   {
    "duration": 160,
    "start_time": "2022-08-19T15:09:42.136Z"
   },
   {
    "duration": 211,
    "start_time": "2022-08-19T15:10:00.580Z"
   },
   {
    "duration": 10,
    "start_time": "2022-08-19T15:12:35.145Z"
   },
   {
    "duration": 163,
    "start_time": "2022-08-19T15:12:44.809Z"
   },
   {
    "duration": 13,
    "start_time": "2022-08-19T15:12:48.382Z"
   },
   {
    "duration": 12,
    "start_time": "2022-08-19T15:12:51.410Z"
   },
   {
    "duration": 7,
    "start_time": "2022-08-19T15:12:55.188Z"
   },
   {
    "duration": 7,
    "start_time": "2022-08-19T15:13:21.606Z"
   },
   {
    "duration": 7,
    "start_time": "2022-08-19T15:13:35.385Z"
   },
   {
    "duration": 12,
    "start_time": "2022-08-19T15:28:15.242Z"
   },
   {
    "duration": 7,
    "start_time": "2022-08-19T15:28:28.236Z"
   },
   {
    "duration": 13,
    "start_time": "2022-08-19T15:28:33.326Z"
   },
   {
    "duration": 14,
    "start_time": "2022-08-19T15:29:22.887Z"
   },
   {
    "duration": 5,
    "start_time": "2022-08-19T15:29:29.127Z"
   },
   {
    "duration": 14,
    "start_time": "2022-08-19T15:29:41.946Z"
   },
   {
    "duration": 5,
    "start_time": "2022-08-19T15:29:52.521Z"
   },
   {
    "duration": 7,
    "start_time": "2022-08-19T15:30:33.083Z"
   },
   {
    "duration": 2,
    "start_time": "2022-08-19T15:30:51.278Z"
   },
   {
    "duration": 8,
    "start_time": "2022-08-19T15:31:01.667Z"
   },
   {
    "duration": 7,
    "start_time": "2022-08-19T15:31:06.221Z"
   },
   {
    "duration": 14,
    "start_time": "2022-08-19T15:31:15.819Z"
   },
   {
    "duration": 27,
    "start_time": "2022-08-19T15:31:25.051Z"
   },
   {
    "duration": 3,
    "start_time": "2022-08-19T15:31:28.956Z"
   },
   {
    "duration": 22,
    "start_time": "2022-08-19T15:31:29.163Z"
   },
   {
    "duration": 14,
    "start_time": "2022-08-19T15:31:32.993Z"
   },
   {
    "duration": 25,
    "start_time": "2022-08-19T15:31:49.478Z"
   },
   {
    "duration": 15,
    "start_time": "2022-08-19T15:31:52.147Z"
   },
   {
    "duration": 2,
    "start_time": "2022-08-19T15:31:59.688Z"
   },
   {
    "duration": 14,
    "start_time": "2022-08-19T15:32:01.629Z"
   },
   {
    "duration": 14,
    "start_time": "2022-08-19T15:32:04.948Z"
   },
   {
    "duration": 10,
    "start_time": "2022-08-19T15:32:07.625Z"
   },
   {
    "duration": 10,
    "start_time": "2022-08-19T15:34:02.669Z"
   },
   {
    "duration": 6,
    "start_time": "2022-08-19T15:34:07.826Z"
   },
   {
    "duration": 631,
    "start_time": "2022-08-19T15:34:25.926Z"
   },
   {
    "duration": 425,
    "start_time": "2022-08-19T15:34:26.560Z"
   },
   {
    "duration": 216,
    "start_time": "2022-08-19T15:34:26.989Z"
   },
   {
    "duration": 199,
    "start_time": "2022-08-19T15:34:27.207Z"
   },
   {
    "duration": 8,
    "start_time": "2022-08-19T15:34:27.408Z"
   },
   {
    "duration": 264,
    "start_time": "2022-08-19T15:34:27.418Z"
   },
   {
    "duration": 198,
    "start_time": "2022-08-19T15:34:30.485Z"
   },
   {
    "duration": 242,
    "start_time": "2022-08-19T15:34:31.829Z"
   },
   {
    "duration": 3,
    "start_time": "2022-08-19T15:34:32.127Z"
   },
   {
    "duration": 5,
    "start_time": "2022-08-19T15:34:32.256Z"
   },
   {
    "duration": 26,
    "start_time": "2022-08-19T15:34:33.631Z"
   },
   {
    "duration": 30,
    "start_time": "2022-08-19T15:34:35.849Z"
   },
   {
    "duration": 199,
    "start_time": "2022-08-19T15:35:15.627Z"
   },
   {
    "duration": 76,
    "start_time": "2022-08-19T15:42:12.430Z"
   },
   {
    "duration": 5,
    "start_time": "2022-08-19T15:42:19.475Z"
   },
   {
    "duration": 9832,
    "start_time": "2022-08-19T15:42:44.582Z"
   },
   {
    "duration": 257,
    "start_time": "2022-08-19T15:43:12.854Z"
   },
   {
    "duration": 335,
    "start_time": "2022-08-19T15:43:13.138Z"
   },
   {
    "duration": 220,
    "start_time": "2022-08-19T15:43:13.476Z"
   },
   {
    "duration": 192,
    "start_time": "2022-08-19T15:43:13.698Z"
   },
   {
    "duration": 9,
    "start_time": "2022-08-19T15:43:13.912Z"
   },
   {
    "duration": 228,
    "start_time": "2022-08-19T15:43:14.067Z"
   },
   {
    "duration": 203,
    "start_time": "2022-08-19T15:43:14.584Z"
   },
   {
    "duration": 190,
    "start_time": "2022-08-19T15:43:15.043Z"
   },
   {
    "duration": 236,
    "start_time": "2022-08-19T15:43:15.339Z"
   },
   {
    "duration": 3,
    "start_time": "2022-08-19T15:43:16.123Z"
   },
   {
    "duration": 6,
    "start_time": "2022-08-19T15:43:16.519Z"
   },
   {
    "duration": 27,
    "start_time": "2022-08-19T15:43:16.870Z"
   },
   {
    "duration": 35,
    "start_time": "2022-08-19T15:43:17.612Z"
   },
   {
    "duration": 3,
    "start_time": "2022-08-19T15:43:18.009Z"
   },
   {
    "duration": 1579,
    "start_time": "2022-08-19T15:43:22.619Z"
   },
   {
    "duration": 26,
    "start_time": "2022-08-19T15:43:30.346Z"
   },
   {
    "duration": 1713,
    "start_time": "2022-08-19T15:43:39.087Z"
   },
   {
    "duration": 43,
    "start_time": "2022-08-19T15:43:53.039Z"
   },
   {
    "duration": 26,
    "start_time": "2022-08-19T15:43:54.787Z"
   },
   {
    "duration": 18,
    "start_time": "2022-08-19T15:44:09.355Z"
   },
   {
    "duration": 5,
    "start_time": "2022-08-19T15:44:10.963Z"
   },
   {
    "duration": 10,
    "start_time": "2022-08-19T15:44:13.739Z"
   },
   {
    "duration": 8,
    "start_time": "2022-08-19T15:44:17.450Z"
   },
   {
    "duration": 4,
    "start_time": "2022-08-19T16:20:13.145Z"
   },
   {
    "duration": 8,
    "start_time": "2022-08-19T16:20:16.830Z"
   },
   {
    "duration": 44,
    "start_time": "2022-08-19T16:21:11.061Z"
   },
   {
    "duration": 31,
    "start_time": "2022-08-19T16:21:15.194Z"
   },
   {
    "duration": 8,
    "start_time": "2022-08-19T16:21:29.235Z"
   },
   {
    "duration": 1542,
    "start_time": "2022-08-19T16:21:52.428Z"
   },
   {
    "duration": 18,
    "start_time": "2022-08-19T16:21:56.640Z"
   },
   {
    "duration": 7,
    "start_time": "2022-08-19T16:22:19.341Z"
   },
   {
    "duration": 16,
    "start_time": "2022-08-19T17:06:13.879Z"
   },
   {
    "duration": 13,
    "start_time": "2022-08-19T17:06:24.840Z"
   },
   {
    "duration": 35,
    "start_time": "2022-08-19T17:06:27.725Z"
   },
   {
    "duration": 14,
    "start_time": "2022-08-19T17:06:46.204Z"
   },
   {
    "duration": 31,
    "start_time": "2022-08-19T17:06:52.032Z"
   },
   {
    "duration": 207,
    "start_time": "2022-08-19T17:06:55.268Z"
   },
   {
    "duration": 322,
    "start_time": "2022-08-19T17:07:01.892Z"
   },
   {
    "duration": 8,
    "start_time": "2022-08-19T17:14:11.610Z"
   },
   {
    "duration": 7,
    "start_time": "2022-08-19T17:14:12.257Z"
   },
   {
    "duration": 29,
    "start_time": "2022-08-19T17:14:12.724Z"
   },
   {
    "duration": 11,
    "start_time": "2022-08-19T17:14:13.080Z"
   },
   {
    "duration": 30,
    "start_time": "2022-08-19T17:14:14.296Z"
   },
   {
    "duration": 45,
    "start_time": "2022-08-19T17:14:17.624Z"
   },
   {
    "duration": 326,
    "start_time": "2022-08-19T17:14:18.861Z"
   },
   {
    "duration": 12338,
    "start_time": "2022-08-20T07:12:40.318Z"
   },
   {
    "duration": 3,
    "start_time": "2022-08-20T07:12:53.822Z"
   },
   {
    "duration": 2038,
    "start_time": "2022-08-20T07:12:54.163Z"
   },
   {
    "duration": 193,
    "start_time": "2022-08-20T07:12:56.202Z"
   },
   {
    "duration": 16,
    "start_time": "2022-08-20T07:12:56.397Z"
   },
   {
    "duration": 8,
    "start_time": "2022-08-20T07:12:56.415Z"
   },
   {
    "duration": 2311,
    "start_time": "2022-08-20T07:12:56.424Z"
   },
   {
    "duration": 3,
    "start_time": "2022-08-20T07:12:58.736Z"
   },
   {
    "duration": 12,
    "start_time": "2022-08-20T07:12:58.740Z"
   },
   {
    "duration": 209,
    "start_time": "2022-08-20T07:12:58.754Z"
   },
   {
    "duration": 274,
    "start_time": "2022-08-20T07:12:58.965Z"
   },
   {
    "duration": 150,
    "start_time": "2022-08-20T07:12:59.240Z"
   },
   {
    "duration": 157,
    "start_time": "2022-08-20T07:12:59.392Z"
   },
   {
    "duration": 12,
    "start_time": "2022-08-20T07:12:59.551Z"
   },
   {
    "duration": 172,
    "start_time": "2022-08-20T07:12:59.565Z"
   },
   {
    "duration": 161,
    "start_time": "2022-08-20T07:12:59.738Z"
   },
   {
    "duration": 165,
    "start_time": "2022-08-20T07:12:59.900Z"
   },
   {
    "duration": 185,
    "start_time": "2022-08-20T07:13:00.066Z"
   },
   {
    "duration": 2,
    "start_time": "2022-08-20T07:13:00.253Z"
   },
   {
    "duration": 11,
    "start_time": "2022-08-20T07:13:00.257Z"
   },
   {
    "duration": 37,
    "start_time": "2022-08-20T07:13:00.269Z"
   },
   {
    "duration": 3,
    "start_time": "2022-08-20T07:13:00.308Z"
   },
   {
    "duration": 38,
    "start_time": "2022-08-20T07:13:00.454Z"
   },
   {
    "duration": 22,
    "start_time": "2022-08-20T07:13:00.658Z"
   },
   {
    "duration": 13,
    "start_time": "2022-08-20T07:13:00.918Z"
   },
   {
    "duration": 3,
    "start_time": "2022-08-20T07:13:01.207Z"
   },
   {
    "duration": 8,
    "start_time": "2022-08-20T07:13:01.658Z"
   },
   {
    "duration": 5,
    "start_time": "2022-08-20T07:13:01.910Z"
   },
   {
    "duration": 23,
    "start_time": "2022-08-20T07:13:02.122Z"
   },
   {
    "duration": 10,
    "start_time": "2022-08-20T07:13:02.602Z"
   },
   {
    "duration": 24,
    "start_time": "2022-08-20T07:13:04.334Z"
   },
   {
    "duration": 32,
    "start_time": "2022-08-20T07:13:10.666Z"
   },
   {
    "duration": 306,
    "start_time": "2022-08-20T07:13:13.570Z"
   },
   {
    "duration": 1287,
    "start_time": "2022-08-20T07:13:27.414Z"
   },
   {
    "duration": 1865,
    "start_time": "2022-08-20T07:13:35.242Z"
   },
   {
    "duration": 2077,
    "start_time": "2022-08-20T07:13:53.222Z"
   },
   {
    "duration": 2523,
    "start_time": "2022-08-20T07:13:58.578Z"
   },
   {
    "duration": 4273,
    "start_time": "2022-08-20T07:14:05.934Z"
   },
   {
    "duration": 4441,
    "start_time": "2022-08-20T07:14:13.966Z"
   },
   {
    "duration": 4914,
    "start_time": "2022-08-20T07:14:21.602Z"
   },
   {
    "duration": 194,
    "start_time": "2022-08-20T07:14:54.459Z"
   },
   {
    "duration": 2450,
    "start_time": "2022-08-20T07:15:10.022Z"
   },
   {
    "duration": 1786,
    "start_time": "2022-08-20T07:15:30.538Z"
   },
   {
    "duration": 5,
    "start_time": "2022-08-20T07:16:11.610Z"
   },
   {
    "duration": 26534,
    "start_time": "2022-08-20T07:17:13.122Z"
   },
   {
    "duration": 15,
    "start_time": "2022-08-20T07:18:44.435Z"
   },
   {
    "duration": 4,
    "start_time": "2022-08-20T07:19:08.075Z"
   },
   {
    "duration": 4,
    "start_time": "2022-08-20T07:19:13.794Z"
   },
   {
    "duration": 39189,
    "start_time": "2022-08-20T07:19:22.339Z"
   },
   {
    "duration": 4,
    "start_time": "2022-08-20T07:20:01.530Z"
   },
   {
    "duration": 4,
    "start_time": "2022-08-20T07:20:09.806Z"
   },
   {
    "duration": 11,
    "start_time": "2022-08-20T07:23:32.219Z"
   },
   {
    "duration": 25,
    "start_time": "2022-08-20T07:23:44.487Z"
   },
   {
    "duration": 11,
    "start_time": "2022-08-20T07:23:57.378Z"
   },
   {
    "duration": 4353,
    "start_time": "2022-08-20T07:24:10.574Z"
   },
   {
    "duration": 8,
    "start_time": "2022-08-20T07:24:41.860Z"
   },
   {
    "duration": 22385,
    "start_time": "2022-08-20T07:25:44.879Z"
   },
   {
    "duration": 6319,
    "start_time": "2022-08-20T07:26:10.486Z"
   },
   {
    "duration": 4162,
    "start_time": "2022-08-20T07:26:22.246Z"
   },
   {
    "duration": 5913,
    "start_time": "2022-08-20T07:26:30.387Z"
   },
   {
    "duration": 629,
    "start_time": "2022-08-20T07:26:46.271Z"
   },
   {
    "duration": 5945,
    "start_time": "2022-08-20T07:26:49.159Z"
   },
   {
    "duration": 7022,
    "start_time": "2022-08-20T07:27:00.483Z"
   },
   {
    "duration": 4338,
    "start_time": "2022-08-20T07:27:12.967Z"
   },
   {
    "duration": 6805,
    "start_time": "2022-08-20T07:27:24.396Z"
   },
   {
    "duration": 6612,
    "start_time": "2022-08-20T07:27:35.490Z"
   },
   {
    "duration": 5208,
    "start_time": "2022-08-20T07:27:43.791Z"
   },
   {
    "duration": 2888,
    "start_time": "2022-08-20T07:28:04.427Z"
   },
   {
    "duration": 3852,
    "start_time": "2022-08-20T07:28:10.455Z"
   },
   {
    "duration": 5962,
    "start_time": "2022-08-20T07:28:19.038Z"
   },
   {
    "duration": 3864116,
    "start_time": "2022-08-20T07:28:58.991Z"
   },
   {
    "duration": 5,
    "start_time": "2022-08-20T09:09:37.837Z"
   },
   {
    "duration": 205,
    "start_time": "2022-08-20T09:09:42.410Z"
   },
   {
    "duration": 812064,
    "start_time": "2022-08-20T09:09:54.838Z"
   },
   {
    "duration": 10,
    "start_time": "2022-08-20T10:56:58.014Z"
   },
   {
    "duration": 112,
    "start_time": "2022-08-20T10:57:06.769Z"
   },
   {
    "duration": 204,
    "start_time": "2022-08-20T10:57:24.562Z"
   },
   {
    "duration": 196,
    "start_time": "2022-08-20T10:57:45.813Z"
   },
   {
    "duration": 9,
    "start_time": "2022-08-20T10:58:54.249Z"
   },
   {
    "duration": 5,
    "start_time": "2022-08-20T10:58:55.354Z"
   },
   {
    "duration": 25,
    "start_time": "2022-08-20T10:58:56.866Z"
   },
   {
    "duration": 14,
    "start_time": "2022-08-20T10:58:57.234Z"
   },
   {
    "duration": 41,
    "start_time": "2022-08-20T10:59:00.354Z"
   },
   {
    "duration": 169,
    "start_time": "2022-08-20T10:59:53.130Z"
   },
   {
    "duration": 339,
    "start_time": "2022-08-20T11:00:36.062Z"
   },
   {
    "duration": 209,
    "start_time": "2022-08-20T12:43:39.410Z"
   },
   {
    "duration": 290,
    "start_time": "2022-08-20T12:43:39.691Z"
   },
   {
    "duration": 168,
    "start_time": "2022-08-20T12:43:39.985Z"
   },
   {
    "duration": 166,
    "start_time": "2022-08-20T12:43:40.155Z"
   },
   {
    "duration": 7,
    "start_time": "2022-08-20T12:43:40.663Z"
   },
   {
    "duration": 198,
    "start_time": "2022-08-20T12:43:40.939Z"
   },
   {
    "duration": 158,
    "start_time": "2022-08-20T12:43:41.467Z"
   },
   {
    "duration": 155,
    "start_time": "2022-08-20T12:43:42.187Z"
   },
   {
    "duration": 185,
    "start_time": "2022-08-20T12:43:42.411Z"
   },
   {
    "duration": 3,
    "start_time": "2022-08-20T12:43:43.327Z"
   },
   {
    "duration": 4,
    "start_time": "2022-08-20T12:43:43.555Z"
   },
   {
    "duration": 14,
    "start_time": "2022-08-20T12:43:49.667Z"
   },
   {
    "duration": 5,
    "start_time": "2022-08-20T12:43:50.095Z"
   },
   {
    "duration": 37,
    "start_time": "2022-08-20T12:43:50.609Z"
   },
   {
    "duration": 35,
    "start_time": "2022-08-20T12:43:50.992Z"
   },
   {
    "duration": 14,
    "start_time": "2022-08-20T12:43:53.351Z"
   },
   {
    "duration": 4,
    "start_time": "2022-08-20T12:43:53.727Z"
   },
   {
    "duration": 13,
    "start_time": "2022-08-20T12:43:53.891Z"
   },
   {
    "duration": 6,
    "start_time": "2022-08-20T12:43:54.031Z"
   },
   {
    "duration": 23,
    "start_time": "2022-08-20T12:43:54.171Z"
   },
   {
    "duration": 12,
    "start_time": "2022-08-20T12:43:54.475Z"
   },
   {
    "duration": 25,
    "start_time": "2022-08-20T12:43:55.319Z"
   },
   {
    "duration": 30,
    "start_time": "2022-08-20T12:43:55.779Z"
   },
   {
    "duration": 226,
    "start_time": "2022-08-20T12:44:04.784Z"
   },
   {
    "duration": 15,
    "start_time": "2022-08-20T12:44:12.449Z"
   },
   {
    "duration": 3,
    "start_time": "2022-08-20T12:44:13.291Z"
   },
   {
    "duration": 43,
    "start_time": "2022-08-20T12:44:13.527Z"
   },
   {
    "duration": 25,
    "start_time": "2022-08-20T12:44:14.913Z"
   },
   {
    "duration": 14,
    "start_time": "2022-08-20T12:44:16.811Z"
   },
   {
    "duration": 4,
    "start_time": "2022-08-20T12:44:17.019Z"
   },
   {
    "duration": 8,
    "start_time": "2022-08-20T12:44:17.263Z"
   },
   {
    "duration": 5,
    "start_time": "2022-08-20T12:44:18.215Z"
   },
   {
    "duration": 25,
    "start_time": "2022-08-20T12:44:18.439Z"
   },
   {
    "duration": 10,
    "start_time": "2022-08-20T12:44:18.675Z"
   },
   {
    "duration": 29,
    "start_time": "2022-08-20T12:44:19.799Z"
   },
   {
    "duration": 95,
    "start_time": "2022-08-20T12:44:22.207Z"
   },
   {
    "duration": 228,
    "start_time": "2022-08-20T12:44:30.147Z"
   },
   {
    "duration": 15,
    "start_time": "2022-08-20T12:44:38.183Z"
   },
   {
    "duration": 4,
    "start_time": "2022-08-20T12:44:38.551Z"
   },
   {
    "duration": 38,
    "start_time": "2022-08-20T12:44:38.807Z"
   },
   {
    "duration": 20,
    "start_time": "2022-08-20T12:44:39.043Z"
   },
   {
    "duration": 13,
    "start_time": "2022-08-20T12:44:39.371Z"
   },
   {
    "duration": 4,
    "start_time": "2022-08-20T12:44:39.934Z"
   },
   {
    "duration": 9,
    "start_time": "2022-08-20T12:44:40.127Z"
   },
   {
    "duration": 6,
    "start_time": "2022-08-20T12:44:40.275Z"
   },
   {
    "duration": 27,
    "start_time": "2022-08-20T12:44:40.659Z"
   },
   {
    "duration": 10,
    "start_time": "2022-08-20T12:44:41.091Z"
   },
   {
    "duration": 26,
    "start_time": "2022-08-20T12:44:41.927Z"
   },
   {
    "duration": 190,
    "start_time": "2022-08-20T12:44:43.719Z"
   },
   {
    "duration": 338,
    "start_time": "2022-08-20T12:44:46.567Z"
   },
   {
    "duration": 358,
    "start_time": "2022-08-20T12:44:50.187Z"
   },
   {
    "duration": 369,
    "start_time": "2022-08-20T12:44:54.979Z"
   },
   {
    "duration": 177,
    "start_time": "2022-08-20T12:44:58.127Z"
   },
   {
    "duration": 136,
    "start_time": "2022-08-20T12:44:59.463Z"
   },
   {
    "duration": 62307,
    "start_time": "2022-08-20T12:45:14.528Z"
   },
   {
    "duration": 10,
    "start_time": "2022-08-20T12:46:37.843Z"
   },
   {
    "duration": 4,
    "start_time": "2022-08-20T12:46:40.175Z"
   },
   {
    "duration": 3,
    "start_time": "2022-08-20T12:46:42.275Z"
   },
   {
    "duration": 46,
    "start_time": "2022-08-20T12:46:47.211Z"
   },
   {
    "duration": 4,
    "start_time": "2022-08-20T12:46:49.160Z"
   },
   {
    "duration": 11,
    "start_time": "2022-08-20T12:47:33.527Z"
   },
   {
    "duration": 5,
    "start_time": "2022-08-20T12:47:37.619Z"
   },
   {
    "duration": 105,
    "start_time": "2022-08-20T12:47:48.803Z"
   },
   {
    "duration": 232,
    "start_time": "2022-08-20T12:48:09.579Z"
   },
   {
    "duration": 151,
    "start_time": "2022-08-20T12:48:23.371Z"
   },
   {
    "duration": 222,
    "start_time": "2022-08-20T12:48:33.424Z"
   },
   {
    "duration": 269,
    "start_time": "2022-08-20T12:48:47.987Z"
   },
   {
    "duration": 472,
    "start_time": "2022-08-20T12:50:45.796Z"
   },
   {
    "duration": 4,
    "start_time": "2022-08-20T12:50:50.044Z"
   },
   {
    "duration": 12,
    "start_time": "2022-08-20T12:50:50.496Z"
   },
   {
    "duration": 4,
    "start_time": "2022-08-20T12:50:51.907Z"
   },
   {
    "duration": 53,
    "start_time": "2022-08-20T12:50:53.184Z"
   },
   {
    "duration": 24,
    "start_time": "2022-08-20T12:50:58.516Z"
   },
   {
    "duration": 730,
    "start_time": "2022-08-20T12:51:09.944Z"
   },
   {
    "duration": 10,
    "start_time": "2022-08-20T12:51:20.711Z"
   },
   {
    "duration": 5,
    "start_time": "2022-08-20T12:51:21.812Z"
   },
   {
    "duration": 9,
    "start_time": "2022-08-20T12:51:23.340Z"
   },
   {
    "duration": 5,
    "start_time": "2022-08-20T12:51:24.220Z"
   },
   {
    "duration": 19,
    "start_time": "2022-08-20T12:51:25.420Z"
   },
   {
    "duration": 10,
    "start_time": "2022-08-20T12:51:27.156Z"
   },
   {
    "duration": 21,
    "start_time": "2022-08-20T12:51:29.784Z"
   },
   {
    "duration": 12,
    "start_time": "2022-08-20T12:51:36.011Z"
   },
   {
    "duration": 225,
    "start_time": "2022-08-20T12:51:43.292Z"
   },
   {
    "duration": 5,
    "start_time": "2022-08-20T12:52:41.344Z"
   },
   {
    "duration": 3,
    "start_time": "2022-08-20T12:53:52.052Z"
   },
   {
    "duration": 199,
    "start_time": "2022-08-20T12:53:57.340Z"
   },
   {
    "duration": 4,
    "start_time": "2022-08-20T12:54:12.996Z"
   },
   {
    "duration": 14,
    "start_time": "2022-08-20T12:54:13.343Z"
   },
   {
    "duration": 3,
    "start_time": "2022-08-20T12:54:13.808Z"
   },
   {
    "duration": 37,
    "start_time": "2022-08-20T12:54:15.740Z"
   },
   {
    "duration": 6,
    "start_time": "2022-08-20T12:54:16.492Z"
   },
   {
    "duration": 9,
    "start_time": "2022-08-20T12:54:47.195Z"
   },
   {
    "duration": 21,
    "start_time": "2022-08-20T12:54:50.016Z"
   },
   {
    "duration": 8,
    "start_time": "2022-08-20T12:54:58.835Z"
   },
   {
    "duration": 7,
    "start_time": "2022-08-20T12:55:12.769Z"
   },
   {
    "duration": 8,
    "start_time": "2022-08-20T12:55:29.852Z"
   },
   {
    "duration": 4,
    "start_time": "2022-08-20T12:55:36.980Z"
   },
   {
    "duration": 7,
    "start_time": "2022-08-20T12:55:39.996Z"
   },
   {
    "duration": 5,
    "start_time": "2022-08-20T12:55:40.528Z"
   },
   {
    "duration": 19,
    "start_time": "2022-08-20T12:55:40.892Z"
   },
   {
    "duration": 10,
    "start_time": "2022-08-20T12:55:41.436Z"
   },
   {
    "duration": 21,
    "start_time": "2022-08-20T12:55:42.680Z"
   },
   {
    "duration": 11,
    "start_time": "2022-08-20T12:55:45.528Z"
   },
   {
    "duration": 190,
    "start_time": "2022-08-20T12:55:47.608Z"
   },
   {
    "duration": 366,
    "start_time": "2022-08-20T12:56:01.272Z"
   },
   {
    "duration": 8,
    "start_time": "2022-08-20T12:56:48.924Z"
   },
   {
    "duration": 10,
    "start_time": "2022-08-20T12:57:03.840Z"
   },
   {
    "duration": 9,
    "start_time": "2022-08-20T12:57:11.312Z"
   },
   {
    "duration": 200,
    "start_time": "2022-08-20T12:58:03.020Z"
   },
   {
    "duration": 4,
    "start_time": "2022-08-20T12:58:06.520Z"
   },
   {
    "duration": 14,
    "start_time": "2022-08-20T12:58:06.736Z"
   },
   {
    "duration": 3,
    "start_time": "2022-08-20T12:58:07.441Z"
   },
   {
    "duration": 37,
    "start_time": "2022-08-20T12:58:09.162Z"
   },
   {
    "duration": 6,
    "start_time": "2022-08-20T12:58:09.300Z"
   },
   {
    "duration": 9,
    "start_time": "2022-08-20T12:58:09.932Z"
   },
   {
    "duration": 4,
    "start_time": "2022-08-20T12:58:10.420Z"
   },
   {
    "duration": 8,
    "start_time": "2022-08-20T12:58:10.992Z"
   },
   {
    "duration": 6,
    "start_time": "2022-08-20T12:58:11.916Z"
   },
   {
    "duration": 28,
    "start_time": "2022-08-20T12:58:12.512Z"
   },
   {
    "duration": 11,
    "start_time": "2022-08-20T12:58:12.896Z"
   },
   {
    "duration": 21,
    "start_time": "2022-08-20T12:58:15.800Z"
   },
   {
    "duration": 10,
    "start_time": "2022-08-20T12:58:26.257Z"
   },
   {
    "duration": 10,
    "start_time": "2022-08-20T12:58:29.608Z"
   },
   {
    "duration": 198,
    "start_time": "2022-08-20T12:58:31.232Z"
   },
   {
    "duration": 31,
    "start_time": "2022-08-20T12:59:24.880Z"
   },
   {
    "duration": 171,
    "start_time": "2022-08-20T12:59:35.333Z"
   },
   {
    "duration": 796,
    "start_time": "2022-08-20T12:59:42.784Z"
   },
   {
    "duration": 167,
    "start_time": "2022-08-20T12:59:45.421Z"
   },
   {
    "duration": 385,
    "start_time": "2022-08-20T13:00:19.608Z"
   },
   {
    "duration": 26702,
    "start_time": "2022-08-20T13:00:42.797Z"
   },
   {
    "duration": 1044,
    "start_time": "2022-08-20T13:02:13.961Z"
   },
   {
    "duration": 735,
    "start_time": "2022-08-20T13:02:20.162Z"
   },
   {
    "duration": 2649,
    "start_time": "2022-08-20T13:02:24.450Z"
   },
   {
    "duration": 15763,
    "start_time": "2022-08-20T13:02:32.545Z"
   },
   {
    "duration": 3694,
    "start_time": "2022-08-20T13:02:51.509Z"
   },
   {
    "duration": 4383,
    "start_time": "2022-08-20T13:03:04.418Z"
   },
   {
    "duration": 4564,
    "start_time": "2022-08-20T13:03:12.042Z"
   },
   {
    "duration": 5257,
    "start_time": "2022-08-20T13:03:19.254Z"
   },
   {
    "duration": 4299,
    "start_time": "2022-08-20T13:03:29.106Z"
   },
   {
    "duration": 13291,
    "start_time": "2022-08-20T13:03:37.814Z"
   },
   {
    "duration": 1061883,
    "start_time": "2022-08-20T13:04:09.823Z"
   },
   {
    "duration": 3,
    "start_time": "2022-08-20T13:25:21.993Z"
   },
   {
    "duration": 97,
    "start_time": "2022-08-20T13:25:23.102Z"
   },
   {
    "duration": 172,
    "start_time": "2022-08-20T13:25:33.509Z"
   },
   {
    "duration": 4132,
    "start_time": "2022-08-20T13:25:53.277Z"
   },
   {
    "duration": 192,
    "start_time": "2022-08-20T13:26:06.709Z"
   },
   {
    "duration": 177,
    "start_time": "2022-08-20T13:26:09.196Z"
   },
   {
    "duration": 170,
    "start_time": "2022-08-20T13:26:12.389Z"
   },
   {
    "duration": 180,
    "start_time": "2022-08-20T13:26:14.893Z"
   },
   {
    "duration": 46386,
    "start_time": "2022-08-20T14:16:31.848Z"
   },
   {
    "duration": 4485,
    "start_time": "2022-08-20T15:26:55.671Z"
   },
   {
    "duration": 6,
    "start_time": "2022-08-20T15:27:04.066Z"
   },
   {
    "duration": 179,
    "start_time": "2022-08-20T17:53:07.337Z"
   },
   {
    "duration": 13985,
    "start_time": "2022-08-21T10:24:50.761Z"
   },
   {
    "duration": 2,
    "start_time": "2022-08-21T10:25:49.826Z"
   },
   {
    "duration": 1969,
    "start_time": "2022-08-21T10:25:49.970Z"
   },
   {
    "duration": 118,
    "start_time": "2022-08-21T10:25:51.940Z"
   },
   {
    "duration": 16,
    "start_time": "2022-08-21T10:25:52.060Z"
   },
   {
    "duration": 21,
    "start_time": "2022-08-21T10:25:52.078Z"
   },
   {
    "duration": 2464,
    "start_time": "2022-08-21T10:25:52.100Z"
   },
   {
    "duration": 3,
    "start_time": "2022-08-21T10:25:54.566Z"
   },
   {
    "duration": 32,
    "start_time": "2022-08-21T10:25:54.570Z"
   },
   {
    "duration": 219,
    "start_time": "2022-08-21T10:25:54.604Z"
   },
   {
    "duration": 280,
    "start_time": "2022-08-21T10:25:54.824Z"
   },
   {
    "duration": 154,
    "start_time": "2022-08-21T10:25:55.106Z"
   },
   {
    "duration": 151,
    "start_time": "2022-08-21T10:25:55.262Z"
   },
   {
    "duration": 7,
    "start_time": "2022-08-21T10:25:55.414Z"
   },
   {
    "duration": 208,
    "start_time": "2022-08-21T10:25:55.422Z"
   },
   {
    "duration": 161,
    "start_time": "2022-08-21T10:25:55.632Z"
   },
   {
    "duration": 159,
    "start_time": "2022-08-21T10:25:55.794Z"
   },
   {
    "duration": 193,
    "start_time": "2022-08-21T10:25:55.955Z"
   },
   {
    "duration": 2,
    "start_time": "2022-08-21T10:25:56.150Z"
   },
   {
    "duration": 25,
    "start_time": "2022-08-21T10:25:56.153Z"
   },
   {
    "duration": 37,
    "start_time": "2022-08-21T10:25:56.179Z"
   },
   {
    "duration": 12,
    "start_time": "2022-08-21T10:25:56.217Z"
   },
   {
    "duration": 47,
    "start_time": "2022-08-21T10:25:56.231Z"
   },
   {
    "duration": 5,
    "start_time": "2022-08-21T10:25:56.279Z"
   },
   {
    "duration": 23,
    "start_time": "2022-08-21T10:25:56.285Z"
   },
   {
    "duration": 16,
    "start_time": "2022-08-21T10:25:56.309Z"
   },
   {
    "duration": 18,
    "start_time": "2022-08-21T10:25:56.327Z"
   },
   {
    "duration": 12,
    "start_time": "2022-08-21T10:25:56.357Z"
   },
   {
    "duration": 21,
    "start_time": "2022-08-21T10:25:56.533Z"
   },
   {
    "duration": 9,
    "start_time": "2022-08-21T10:25:56.726Z"
   },
   {
    "duration": 22,
    "start_time": "2022-08-21T10:25:57.370Z"
   },
   {
    "duration": 11,
    "start_time": "2022-08-21T10:25:57.702Z"
   },
   {
    "duration": 316,
    "start_time": "2022-08-21T10:25:57.963Z"
   },
   {
    "duration": 375,
    "start_time": "2022-08-21T10:25:58.281Z"
   },
   {
    "duration": 170,
    "start_time": "2022-08-21T10:26:08.325Z"
   },
   {
    "duration": 4,
    "start_time": "2022-08-21T10:26:10.242Z"
   },
   {
    "duration": 10,
    "start_time": "2022-08-21T10:26:31.950Z"
   },
   {
    "duration": 11,
    "start_time": "2022-08-21T10:26:41.890Z"
   },
   {
    "duration": 10,
    "start_time": "2022-08-21T10:26:43.854Z"
   },
   {
    "duration": 4,
    "start_time": "2022-08-21T10:27:16.110Z"
   },
   {
    "duration": 519,
    "start_time": "2022-08-21T10:28:04.850Z"
   },
   {
    "duration": 3,
    "start_time": "2022-08-21T10:28:07.490Z"
   },
   {
    "duration": 3,
    "start_time": "2022-08-21T10:28:09.690Z"
   },
   {
    "duration": 4,
    "start_time": "2022-08-21T12:29:48.814Z"
   },
   {
    "duration": 5,
    "start_time": "2022-08-21T12:29:54.758Z"
   },
   {
    "duration": 18,
    "start_time": "2022-08-21T12:39:02.730Z"
   },
   {
    "duration": 143820,
    "start_time": "2022-08-21T12:39:10.610Z"
   },
   {
    "duration": 3,
    "start_time": "2022-08-21T12:42:39.878Z"
   },
   {
    "duration": 11,
    "start_time": "2022-08-21T12:42:43.183Z"
   },
   {
    "duration": 19,
    "start_time": "2022-08-21T12:43:10.246Z"
   },
   {
    "duration": 916,
    "start_time": "2022-08-21T12:43:39.431Z"
   },
   {
    "duration": 78,
    "start_time": "2022-08-21T12:43:44.371Z"
   },
   {
    "duration": 12,
    "start_time": "2022-08-21T12:43:46.559Z"
   },
   {
    "duration": 12,
    "start_time": "2022-08-21T12:43:54.276Z"
   },
   {
    "duration": 4,
    "start_time": "2022-08-21T12:44:24.311Z"
   },
   {
    "duration": 13,
    "start_time": "2022-08-21T12:44:26.103Z"
   },
   {
    "duration": 12,
    "start_time": "2022-08-21T12:44:51.267Z"
   },
   {
    "duration": 31,
    "start_time": "2022-08-21T12:45:29.031Z"
   },
   {
    "duration": 14,
    "start_time": "2022-08-21T12:45:41.191Z"
   },
   {
    "duration": 13,
    "start_time": "2022-08-21T12:45:48.191Z"
   },
   {
    "duration": 12,
    "start_time": "2022-08-21T12:45:54.892Z"
   },
   {
    "duration": 24,
    "start_time": "2022-08-21T12:46:08.099Z"
   },
   {
    "duration": 13,
    "start_time": "2022-08-21T12:46:29.403Z"
   },
   {
    "duration": 11,
    "start_time": "2022-08-21T12:46:40.339Z"
   },
   {
    "duration": 14,
    "start_time": "2022-08-21T12:46:47.131Z"
   },
   {
    "duration": 5,
    "start_time": "2022-08-21T12:46:58.511Z"
   },
   {
    "duration": 25,
    "start_time": "2022-08-21T12:47:09.291Z"
   },
   {
    "duration": 13,
    "start_time": "2022-08-21T12:47:34.799Z"
   },
   {
    "duration": 8,
    "start_time": "2022-08-21T12:47:37.063Z"
   },
   {
    "duration": 12,
    "start_time": "2022-08-21T12:47:41.327Z"
   },
   {
    "duration": 23,
    "start_time": "2022-08-21T12:47:57.735Z"
   },
   {
    "duration": 28,
    "start_time": "2022-08-21T12:48:01.431Z"
   },
   {
    "duration": 15,
    "start_time": "2022-08-21T12:48:37.423Z"
   },
   {
    "duration": 7,
    "start_time": "2022-08-21T12:48:40.119Z"
   },
   {
    "duration": 11,
    "start_time": "2022-08-21T12:48:56.887Z"
   },
   {
    "duration": 7,
    "start_time": "2022-08-21T12:48:57.255Z"
   },
   {
    "duration": 253,
    "start_time": "2022-08-21T12:49:03.163Z"
   },
   {
    "duration": 251,
    "start_time": "2022-08-21T12:50:06.427Z"
   },
   {
    "duration": 6,
    "start_time": "2022-08-21T12:50:25.855Z"
   },
   {
    "duration": 3,
    "start_time": "2022-08-21T12:58:33.246Z"
   },
   {
    "duration": 224,
    "start_time": "2022-08-21T13:00:58.481Z"
   },
   {
    "duration": 39,
    "start_time": "2022-08-21T13:01:19.397Z"
   },
   {
    "duration": 442,
    "start_time": "2022-08-21T13:01:41.557Z"
   },
   {
    "duration": 235,
    "start_time": "2022-08-21T13:01:47.951Z"
   },
   {
    "duration": 284,
    "start_time": "2022-08-21T13:01:49.313Z"
   },
   {
    "duration": 2,
    "start_time": "2022-08-21T13:01:54.217Z"
   },
   {
    "duration": 31,
    "start_time": "2022-08-21T13:01:54.833Z"
   },
   {
    "duration": 35,
    "start_time": "2022-08-21T13:02:07.063Z"
   },
   {
    "duration": 41,
    "start_time": "2022-08-21T13:02:16.413Z"
   },
   {
    "duration": 140,
    "start_time": "2022-08-21T13:19:20.987Z"
   },
   {
    "duration": 126,
    "start_time": "2022-08-21T13:19:30.113Z"
   },
   {
    "duration": 6,
    "start_time": "2022-08-21T16:49:19.814Z"
   },
   {
    "duration": 154,
    "start_time": "2022-08-21T16:52:08.438Z"
   },
   {
    "duration": 799,
    "start_time": "2022-08-21T16:55:12.310Z"
   },
   {
    "duration": 5,
    "start_time": "2022-08-21T16:55:17.177Z"
   },
   {
    "duration": 17,
    "start_time": "2022-08-21T16:55:17.590Z"
   },
   {
    "duration": 4,
    "start_time": "2022-08-21T16:55:17.981Z"
   },
   {
    "duration": 39,
    "start_time": "2022-08-21T16:55:18.590Z"
   },
   {
    "duration": 5,
    "start_time": "2022-08-21T16:55:19.070Z"
   },
   {
    "duration": 8,
    "start_time": "2022-08-21T16:55:19.618Z"
   },
   {
    "duration": 4,
    "start_time": "2022-08-21T16:55:20.186Z"
   },
   {
    "duration": 7,
    "start_time": "2022-08-21T16:55:20.542Z"
   },
   {
    "duration": 6,
    "start_time": "2022-08-21T16:55:20.921Z"
   },
   {
    "duration": 20,
    "start_time": "2022-08-21T16:55:21.250Z"
   },
   {
    "duration": 9,
    "start_time": "2022-08-21T16:55:21.698Z"
   },
   {
    "duration": 122,
    "start_time": "2022-08-21T17:04:11.722Z"
   },
   {
    "duration": 6,
    "start_time": "2022-08-21T17:07:04.955Z"
   },
   {
    "duration": 5783,
    "start_time": "2022-08-21T17:07:32.462Z"
   },
   {
    "duration": 3,
    "start_time": "2022-08-21T17:09:08.923Z"
   },
   {
    "duration": 2,
    "start_time": "2022-08-21T17:09:35.183Z"
   },
   {
    "duration": 6,
    "start_time": "2022-08-21T17:09:35.415Z"
   },
   {
    "duration": 18,
    "start_time": "2022-08-21T17:09:53.391Z"
   },
   {
    "duration": 2077,
    "start_time": "2022-08-21T17:10:26.119Z"
   },
   {
    "duration": 2,
    "start_time": "2022-08-21T17:10:31.151Z"
   },
   {
    "duration": 25,
    "start_time": "2022-08-21T17:10:34.639Z"
   },
   {
    "duration": 6,
    "start_time": "2022-08-21T17:12:00.803Z"
   },
   {
    "duration": 13,
    "start_time": "2022-08-21T17:12:24.167Z"
   },
   {
    "duration": 7,
    "start_time": "2022-08-21T17:13:18.819Z"
   },
   {
    "duration": 13,
    "start_time": "2022-08-21T17:13:40.991Z"
   },
   {
    "duration": 12,
    "start_time": "2022-08-21T17:13:52.916Z"
   },
   {
    "duration": 53,
    "start_time": "2022-08-21T17:13:54.751Z"
   },
   {
    "duration": 12,
    "start_time": "2022-08-21T17:16:20.095Z"
   },
   {
    "duration": 73,
    "start_time": "2022-08-21T17:16:22.640Z"
   },
   {
    "duration": 6,
    "start_time": "2022-08-21T17:16:24.343Z"
   },
   {
    "duration": 4,
    "start_time": "2022-08-21T17:16:44.593Z"
   },
   {
    "duration": 5,
    "start_time": "2022-08-21T17:16:47.339Z"
   },
   {
    "duration": 215,
    "start_time": "2022-08-21T17:18:10.506Z"
   },
   {
    "duration": 205,
    "start_time": "2022-08-21T17:18:12.906Z"
   },
   {
    "duration": 204,
    "start_time": "2022-08-21T17:18:20.884Z"
   },
   {
    "duration": 195,
    "start_time": "2022-08-21T17:18:35.968Z"
   },
   {
    "duration": 210,
    "start_time": "2022-08-21T17:18:38.168Z"
   },
   {
    "duration": 30,
    "start_time": "2022-08-21T17:18:55.264Z"
   },
   {
    "duration": 5,
    "start_time": "2022-08-21T17:19:14.784Z"
   },
   {
    "duration": 4,
    "start_time": "2022-08-21T17:19:20.552Z"
   },
   {
    "duration": 4,
    "start_time": "2022-08-21T17:19:25.619Z"
   },
   {
    "duration": 200,
    "start_time": "2022-08-21T17:19:36.510Z"
   },
   {
    "duration": 96,
    "start_time": "2022-08-21T17:19:58.806Z"
   },
   {
    "duration": 199,
    "start_time": "2022-08-21T17:19:59.763Z"
   },
   {
    "duration": 50,
    "start_time": "2022-08-21T17:20:36.907Z"
   },
   {
    "duration": 210,
    "start_time": "2022-08-21T17:20:59.268Z"
   },
   {
    "duration": 208,
    "start_time": "2022-08-21T17:21:27.792Z"
   },
   {
    "duration": 756,
    "start_time": "2022-08-21T17:21:41.972Z"
   },
   {
    "duration": 19,
    "start_time": "2022-08-21T17:21:47.340Z"
   },
   {
    "duration": 2,
    "start_time": "2022-08-21T17:21:51.648Z"
   },
   {
    "duration": 8,
    "start_time": "2022-08-21T17:21:54.260Z"
   },
   {
    "duration": 12,
    "start_time": "2022-08-21T17:21:56.337Z"
   },
   {
    "duration": 972,
    "start_time": "2022-08-21T17:22:00.712Z"
   },
   {
    "duration": 13,
    "start_time": "2022-08-21T17:22:07.680Z"
   },
   {
    "duration": 5,
    "start_time": "2022-08-21T17:27:20.140Z"
   },
   {
    "duration": 5,
    "start_time": "2022-08-21T17:28:19.440Z"
   },
   {
    "duration": 6,
    "start_time": "2022-08-21T17:28:26.133Z"
   },
   {
    "duration": 13,
    "start_time": "2022-08-21T17:28:36.269Z"
   },
   {
    "duration": 49,
    "start_time": "2022-08-21T17:28:38.761Z"
   },
   {
    "duration": 305,
    "start_time": "2022-08-21T17:29:10.185Z"
   },
   {
    "duration": 280,
    "start_time": "2022-08-21T17:29:17.353Z"
   },
   {
    "duration": 296,
    "start_time": "2022-08-21T17:29:59.913Z"
   },
   {
    "duration": 11,
    "start_time": "2022-08-21T17:30:03.129Z"
   },
   {
    "duration": 7,
    "start_time": "2022-08-21T17:30:11.901Z"
   },
   {
    "duration": 8,
    "start_time": "2022-08-21T17:30:21.333Z"
   },
   {
    "duration": 11,
    "start_time": "2022-08-21T17:30:30.580Z"
   },
   {
    "duration": 6,
    "start_time": "2022-08-21T17:35:22.027Z"
   },
   {
    "duration": 4,
    "start_time": "2022-08-21T17:35:35.397Z"
   },
   {
    "duration": 5,
    "start_time": "2022-08-21T17:35:51.001Z"
   },
   {
    "duration": 6,
    "start_time": "2022-08-21T17:36:05.626Z"
   },
   {
    "duration": 6,
    "start_time": "2022-08-21T17:36:13.741Z"
   },
   {
    "duration": 5,
    "start_time": "2022-08-21T17:36:21.570Z"
   },
   {
    "duration": 6,
    "start_time": "2022-08-21T17:36:47.497Z"
   },
   {
    "duration": 61,
    "start_time": "2022-08-21T17:36:59.114Z"
   },
   {
    "duration": 6,
    "start_time": "2022-08-21T17:37:02.577Z"
   },
   {
    "duration": 2986,
    "start_time": "2022-08-21T17:39:13.926Z"
   },
   {
    "duration": 407,
    "start_time": "2022-08-21T17:39:56.110Z"
   },
   {
    "duration": 2967,
    "start_time": "2022-08-21T17:40:05.014Z"
   },
   {
    "duration": 6,
    "start_time": "2022-08-21T17:42:11.278Z"
   },
   {
    "duration": 5,
    "start_time": "2022-08-21T17:42:26.210Z"
   },
   {
    "duration": 5,
    "start_time": "2022-08-21T17:42:33.018Z"
   },
   {
    "duration": 4429,
    "start_time": "2022-08-21T17:42:56.782Z"
   },
   {
    "duration": 8,
    "start_time": "2022-08-21T17:57:50.424Z"
   },
   {
    "duration": 3,
    "start_time": "2022-08-21T17:59:10.484Z"
   },
   {
    "duration": 48,
    "start_time": "2022-08-21T17:59:18.020Z"
   },
   {
    "duration": 326,
    "start_time": "2022-08-21T17:59:28.463Z"
   },
   {
    "duration": 429,
    "start_time": "2022-08-21T18:00:32.088Z"
   },
   {
    "duration": 352,
    "start_time": "2022-08-21T18:00:32.519Z"
   },
   {
    "duration": 411,
    "start_time": "2022-08-21T18:00:37.176Z"
   },
   {
    "duration": 306,
    "start_time": "2022-08-21T18:00:38.396Z"
   },
   {
    "duration": 494,
    "start_time": "2022-08-21T18:08:20.700Z"
   },
   {
    "duration": 13,
    "start_time": "2022-08-21T18:15:54.008Z"
   },
   {
    "duration": 1078,
    "start_time": "2022-08-21T18:27:05.903Z"
   },
   {
    "duration": 120122,
    "start_time": "2022-08-21T18:27:34.063Z"
   },
   {
    "duration": 577157,
    "start_time": "2022-08-21T18:29:36.539Z"
   },
   {
    "duration": 459286,
    "start_time": "2022-08-21T18:39:19.743Z"
   },
   {
    "duration": 89820,
    "start_time": "2022-08-21T18:50:50.144Z"
   },
   {
    "duration": 206426,
    "start_time": "2022-08-21T18:52:24.137Z"
   },
   {
    "duration": 2945,
    "start_time": "2022-08-21T18:56:05.161Z"
   },
   {
    "duration": 144,
    "start_time": "2022-08-21T18:56:10.342Z"
   },
   {
    "duration": 31,
    "start_time": "2022-08-21T18:56:10.510Z"
   },
   {
    "duration": 13,
    "start_time": "2022-08-21T18:56:10.828Z"
   },
   {
    "duration": 2752,
    "start_time": "2022-08-21T18:56:10.989Z"
   },
   {
    "duration": 3,
    "start_time": "2022-08-21T18:56:13.742Z"
   },
   {
    "duration": 27,
    "start_time": "2022-08-21T18:56:13.746Z"
   },
   {
    "duration": 562,
    "start_time": "2022-08-21T18:56:13.775Z"
   },
   {
    "duration": 14,
    "start_time": "2022-08-21T18:56:14.338Z"
   },
   {
    "duration": 16,
    "start_time": "2022-08-21T18:56:14.353Z"
   },
   {
    "duration": 213,
    "start_time": "2022-08-21T18:56:14.371Z"
   },
   {
    "duration": 170,
    "start_time": "2022-08-21T18:56:14.586Z"
   },
   {
    "duration": 168,
    "start_time": "2022-08-21T18:56:14.757Z"
   },
   {
    "duration": 204,
    "start_time": "2022-08-21T18:56:14.929Z"
   },
   {
    "duration": 4,
    "start_time": "2022-08-21T18:56:15.135Z"
   },
   {
    "duration": 18,
    "start_time": "2022-08-21T18:56:15.140Z"
   },
   {
    "duration": 3,
    "start_time": "2022-08-21T18:56:15.159Z"
   },
   {
    "duration": 65,
    "start_time": "2022-08-21T18:56:15.164Z"
   },
   {
    "duration": 6,
    "start_time": "2022-08-21T18:56:15.230Z"
   },
   {
    "duration": 8,
    "start_time": "2022-08-21T18:56:15.237Z"
   },
   {
    "duration": 3,
    "start_time": "2022-08-21T18:56:15.246Z"
   },
   {
    "duration": 7,
    "start_time": "2022-08-21T18:56:15.251Z"
   },
   {
    "duration": 5,
    "start_time": "2022-08-21T18:56:15.259Z"
   },
   {
    "duration": 38,
    "start_time": "2022-08-21T18:56:15.315Z"
   },
   {
    "duration": 14,
    "start_time": "2022-08-21T18:56:15.538Z"
   },
   {
    "duration": 33,
    "start_time": "2022-08-21T18:56:16.254Z"
   },
   {
    "duration": 14,
    "start_time": "2022-08-21T18:56:16.434Z"
   },
   {
    "duration": 224,
    "start_time": "2022-08-21T18:56:16.824Z"
   },
   {
    "duration": 441,
    "start_time": "2022-08-21T18:56:17.230Z"
   },
   {
    "duration": 3,
    "start_time": "2022-08-21T18:56:17.774Z"
   },
   {
    "duration": 17,
    "start_time": "2022-08-21T18:56:17.950Z"
   },
   {
    "duration": 254,
    "start_time": "2022-08-21T18:56:18.137Z"
   },
   {
    "duration": 201,
    "start_time": "2022-08-21T18:56:18.526Z"
   },
   {
    "duration": 262,
    "start_time": "2022-08-21T18:56:19.426Z"
   },
   {
    "duration": 13,
    "start_time": "2022-08-21T18:56:20.146Z"
   },
   {
    "duration": 16,
    "start_time": "2022-08-21T18:56:20.542Z"
   },
   {
    "duration": 15,
    "start_time": "2022-08-21T18:56:33.431Z"
   },
   {
    "duration": 12,
    "start_time": "2022-08-21T18:56:41.173Z"
   },
   {
    "duration": 18,
    "start_time": "2022-08-21T18:57:21.942Z"
   },
   {
    "duration": 20,
    "start_time": "2022-08-21T18:57:27.961Z"
   },
   {
    "duration": 6,
    "start_time": "2022-08-21T18:57:51.162Z"
   },
   {
    "duration": 13,
    "start_time": "2022-08-21T18:57:56.778Z"
   },
   {
    "duration": 234,
    "start_time": "2022-08-21T18:57:59.249Z"
   },
   {
    "duration": 12,
    "start_time": "2022-08-21T18:58:07.413Z"
   },
   {
    "duration": 14,
    "start_time": "2022-08-21T18:58:10.515Z"
   },
   {
    "duration": 14,
    "start_time": "2022-08-21T18:58:13.398Z"
   },
   {
    "duration": 5,
    "start_time": "2022-08-21T18:58:38.633Z"
   },
   {
    "duration": 301,
    "start_time": "2022-08-21T18:58:39.554Z"
   },
   {
    "duration": 13,
    "start_time": "2022-08-21T18:58:41.314Z"
   },
   {
    "duration": 10,
    "start_time": "2022-08-21T18:58:42.029Z"
   },
   {
    "duration": 4570,
    "start_time": "2022-08-21T18:58:45.982Z"
   },
   {
    "duration": 4625,
    "start_time": "2022-08-21T19:00:02.278Z"
   },
   {
    "duration": 5360,
    "start_time": "2022-08-21T19:00:39.473Z"
   },
   {
    "duration": 4585,
    "start_time": "2022-08-21T19:01:20.346Z"
   },
   {
    "duration": 2,
    "start_time": "2022-08-21T19:01:38.946Z"
   },
   {
    "duration": 418,
    "start_time": "2022-08-21T19:01:39.638Z"
   },
   {
    "duration": 473,
    "start_time": "2022-08-21T19:01:42.294Z"
   },
   {
    "duration": 323,
    "start_time": "2022-08-21T19:01:44.587Z"
   },
   {
    "duration": 309,
    "start_time": "2022-08-21T19:01:46.798Z"
   },
   {
    "duration": 350,
    "start_time": "2022-08-21T19:01:48.110Z"
   },
   {
    "duration": 311,
    "start_time": "2022-08-21T19:01:49.638Z"
   },
   {
    "duration": 308,
    "start_time": "2022-08-21T19:01:50.926Z"
   },
   {
    "duration": 313,
    "start_time": "2022-08-21T19:01:52.162Z"
   },
   {
    "duration": 264575,
    "start_time": "2022-08-21T19:02:03.974Z"
   },
   {
    "duration": 1958,
    "start_time": "2022-08-21T19:06:48.557Z"
   },
   {
    "duration": 49,
    "start_time": "2022-08-21T19:06:50.517Z"
   },
   {
    "duration": 16,
    "start_time": "2022-08-21T19:06:50.568Z"
   },
   {
    "duration": 10,
    "start_time": "2022-08-21T19:06:50.586Z"
   },
   {
    "duration": 2477,
    "start_time": "2022-08-21T19:06:50.597Z"
   },
   {
    "duration": 2,
    "start_time": "2022-08-21T19:06:53.076Z"
   },
   {
    "duration": 14,
    "start_time": "2022-08-21T19:06:53.079Z"
   },
   {
    "duration": 538,
    "start_time": "2022-08-21T19:06:53.110Z"
   },
   {
    "duration": 7,
    "start_time": "2022-08-21T19:06:53.650Z"
   },
   {
    "duration": 8,
    "start_time": "2022-08-21T19:06:53.660Z"
   },
   {
    "duration": 208,
    "start_time": "2022-08-21T19:06:53.669Z"
   },
   {
    "duration": 175,
    "start_time": "2022-08-21T19:06:53.879Z"
   },
   {
    "duration": 179,
    "start_time": "2022-08-21T19:06:54.056Z"
   },
   {
    "duration": 191,
    "start_time": "2022-08-21T19:06:54.236Z"
   },
   {
    "duration": 4,
    "start_time": "2022-08-21T19:06:54.429Z"
   },
   {
    "duration": 17,
    "start_time": "2022-08-21T19:06:54.434Z"
   },
   {
    "duration": 3,
    "start_time": "2022-08-21T19:06:54.452Z"
   },
   {
    "duration": 63,
    "start_time": "2022-08-21T19:06:54.457Z"
   },
   {
    "duration": 7,
    "start_time": "2022-08-21T19:06:54.523Z"
   },
   {
    "duration": 13,
    "start_time": "2022-08-21T19:06:54.531Z"
   },
   {
    "duration": 4,
    "start_time": "2022-08-21T19:06:54.545Z"
   },
   {
    "duration": 8,
    "start_time": "2022-08-21T19:06:54.550Z"
   },
   {
    "duration": 5,
    "start_time": "2022-08-21T19:06:54.559Z"
   },
   {
    "duration": 22,
    "start_time": "2022-08-21T19:06:54.565Z"
   },
   {
    "duration": 33,
    "start_time": "2022-08-21T19:06:54.589Z"
   },
   {
    "duration": 31,
    "start_time": "2022-08-21T19:06:54.626Z"
   },
   {
    "duration": 57,
    "start_time": "2022-08-21T19:06:54.659Z"
   },
   {
    "duration": 315,
    "start_time": "2022-08-21T19:06:54.721Z"
   },
   {
    "duration": 480,
    "start_time": "2022-08-21T19:06:55.038Z"
   },
   {
    "duration": 5,
    "start_time": "2022-08-21T19:06:55.523Z"
   },
   {
    "duration": 13,
    "start_time": "2022-08-21T19:06:55.530Z"
   },
   {
    "duration": 237,
    "start_time": "2022-08-21T19:06:55.544Z"
   },
   {
    "duration": 404,
    "start_time": "2022-08-21T19:06:55.783Z"
   },
   {
    "duration": 142,
    "start_time": "2022-08-21T19:06:56.837Z"
   },
   {
    "duration": 47,
    "start_time": "2022-08-21T19:06:59.427Z"
   },
   {
    "duration": 209,
    "start_time": "2022-08-21T19:07:05.305Z"
   },
   {
    "duration": 5,
    "start_time": "2022-08-21T19:07:11.149Z"
   },
   {
    "duration": 308,
    "start_time": "2022-08-21T19:07:11.442Z"
   },
   {
    "duration": 14,
    "start_time": "2022-08-21T19:07:18.189Z"
   },
   {
    "duration": 12,
    "start_time": "2022-08-21T19:07:18.370Z"
   },
   {
    "duration": 4925,
    "start_time": "2022-08-21T19:08:20.277Z"
   },
   {
    "duration": 2,
    "start_time": "2022-08-21T19:10:03.046Z"
   },
   {
    "duration": 424,
    "start_time": "2022-08-21T19:10:05.353Z"
   },
   {
    "duration": 417,
    "start_time": "2022-08-21T19:10:07.073Z"
   },
   {
    "duration": 423,
    "start_time": "2022-08-21T19:10:09.361Z"
   },
   {
    "duration": 421,
    "start_time": "2022-08-21T19:10:10.746Z"
   },
   {
    "duration": 455,
    "start_time": "2022-08-21T19:10:12.071Z"
   },
   {
    "duration": 437,
    "start_time": "2022-08-21T19:10:13.475Z"
   },
   {
    "duration": 4,
    "start_time": "2022-08-21T19:10:37.145Z"
   },
   {
    "duration": 432,
    "start_time": "2022-08-21T19:10:37.905Z"
   },
   {
    "duration": 317,
    "start_time": "2022-08-21T19:10:38.929Z"
   },
   {
    "duration": 2,
    "start_time": "2022-08-21T19:10:45.886Z"
   },
   {
    "duration": 329,
    "start_time": "2022-08-21T19:10:47.609Z"
   },
   {
    "duration": 310,
    "start_time": "2022-08-21T19:10:49.919Z"
   },
   {
    "duration": 310,
    "start_time": "2022-08-21T19:10:51.058Z"
   },
   {
    "duration": 339,
    "start_time": "2022-08-21T19:10:52.324Z"
   },
   {
    "duration": 329,
    "start_time": "2022-08-21T19:10:53.598Z"
   },
   {
    "duration": 437,
    "start_time": "2022-08-21T19:10:56.650Z"
   },
   {
    "duration": 436,
    "start_time": "2022-08-21T19:10:58.324Z"
   },
   {
    "duration": 439,
    "start_time": "2022-08-21T19:10:59.770Z"
   },
   {
    "duration": 29498,
    "start_time": "2022-08-21T19:11:32.626Z"
   },
   {
    "duration": 79866,
    "start_time": "2022-08-21T19:13:44.854Z"
   },
   {
    "duration": 115560,
    "start_time": "2022-08-21T19:15:20.565Z"
   },
   {
    "duration": 235370,
    "start_time": "2022-08-21T19:19:16.442Z"
   },
   {
    "duration": 3,
    "start_time": "2022-08-21T19:38:18.202Z"
   },
   {
    "duration": 36,
    "start_time": "2022-08-21T19:38:23.584Z"
   },
   {
    "duration": 207634,
    "start_time": "2022-08-21T19:38:45.980Z"
   },
   {
    "duration": 4,
    "start_time": "2022-08-21T19:51:17.073Z"
   },
   {
    "duration": 13,
    "start_time": "2022-08-21T19:51:23.203Z"
   },
   {
    "duration": 20,
    "start_time": "2022-08-21T19:51:35.103Z"
   },
   {
    "duration": 167,
    "start_time": "2022-08-21T19:52:37.021Z"
   },
   {
    "duration": 26716,
    "start_time": "2022-08-21T19:53:55.814Z"
   },
   {
    "duration": 6,
    "start_time": "2022-08-21T19:54:22.533Z"
   },
   {
    "duration": 3717,
    "start_time": "2022-08-21T19:54:25.018Z"
   },
   {
    "duration": 6,
    "start_time": "2022-08-21T19:54:31.550Z"
   },
   {
    "duration": 714,
    "start_time": "2022-08-21T19:54:44.382Z"
   },
   {
    "duration": 615,
    "start_time": "2022-08-21T19:54:50.190Z"
   },
   {
    "duration": 2189,
    "start_time": "2022-08-21T19:54:57.554Z"
   },
   {
    "duration": 7,
    "start_time": "2022-08-21T19:55:13.730Z"
   },
   {
    "duration": 19040,
    "start_time": "2022-08-22T09:11:31.618Z"
   },
   {
    "duration": 2,
    "start_time": "2022-08-22T09:12:05.275Z"
   },
   {
    "duration": 3245,
    "start_time": "2022-08-22T09:12:05.442Z"
   },
   {
    "duration": 207,
    "start_time": "2022-08-22T09:12:08.689Z"
   },
   {
    "duration": 19,
    "start_time": "2022-08-22T09:12:08.897Z"
   },
   {
    "duration": 11,
    "start_time": "2022-08-22T09:12:08.917Z"
   },
   {
    "duration": 2571,
    "start_time": "2022-08-22T09:12:08.930Z"
   },
   {
    "duration": 3,
    "start_time": "2022-08-22T09:12:11.503Z"
   },
   {
    "duration": 16,
    "start_time": "2022-08-22T09:12:11.508Z"
   },
   {
    "duration": 606,
    "start_time": "2022-08-22T09:12:11.526Z"
   },
   {
    "duration": 8,
    "start_time": "2022-08-22T09:12:12.134Z"
   },
   {
    "duration": 15,
    "start_time": "2022-08-22T09:12:12.145Z"
   },
   {
    "duration": 201,
    "start_time": "2022-08-22T09:12:12.162Z"
   },
   {
    "duration": 154,
    "start_time": "2022-08-22T09:12:12.364Z"
   },
   {
    "duration": 163,
    "start_time": "2022-08-22T09:12:12.519Z"
   },
   {
    "duration": 231,
    "start_time": "2022-08-22T09:12:12.685Z"
   },
   {
    "duration": 5,
    "start_time": "2022-08-22T09:12:12.918Z"
   },
   {
    "duration": 21,
    "start_time": "2022-08-22T09:12:12.924Z"
   },
   {
    "duration": 3,
    "start_time": "2022-08-22T09:12:12.947Z"
   },
   {
    "duration": 47,
    "start_time": "2022-08-22T09:12:12.951Z"
   },
   {
    "duration": 6,
    "start_time": "2022-08-22T09:12:12.999Z"
   },
   {
    "duration": 14,
    "start_time": "2022-08-22T09:12:13.006Z"
   },
   {
    "duration": 8,
    "start_time": "2022-08-22T09:12:13.022Z"
   },
   {
    "duration": 9,
    "start_time": "2022-08-22T09:12:13.031Z"
   },
   {
    "duration": 5,
    "start_time": "2022-08-22T09:12:13.041Z"
   },
   {
    "duration": 41,
    "start_time": "2022-08-22T09:12:13.047Z"
   },
   {
    "duration": 11,
    "start_time": "2022-08-22T09:12:13.090Z"
   },
   {
    "duration": 36,
    "start_time": "2022-08-22T09:12:13.103Z"
   },
   {
    "duration": 46,
    "start_time": "2022-08-22T09:12:13.140Z"
   },
   {
    "duration": 302,
    "start_time": "2022-08-22T09:12:13.189Z"
   },
   {
    "duration": 375,
    "start_time": "2022-08-22T09:12:13.493Z"
   },
   {
    "duration": 3,
    "start_time": "2022-08-22T09:12:13.870Z"
   },
   {
    "duration": 21,
    "start_time": "2022-08-22T09:12:13.874Z"
   },
   {
    "duration": 217,
    "start_time": "2022-08-22T09:12:14.136Z"
   },
   {
    "duration": 453,
    "start_time": "2022-08-22T09:12:15.207Z"
   },
   {
    "duration": 137,
    "start_time": "2022-08-22T09:12:18.062Z"
   },
   {
    "duration": 163,
    "start_time": "2022-08-22T09:12:22.142Z"
   },
   {
    "duration": 13,
    "start_time": "2022-08-22T09:12:30.745Z"
   },
   {
    "duration": 12,
    "start_time": "2022-08-22T09:12:35.866Z"
   },
   {
    "duration": 15,
    "start_time": "2022-08-22T09:12:38.147Z"
   },
   {
    "duration": 15,
    "start_time": "2022-08-22T09:12:41.310Z"
   },
   {
    "duration": 5,
    "start_time": "2022-08-22T09:12:45.374Z"
   },
   {
    "duration": 279,
    "start_time": "2022-08-22T09:12:46.122Z"
   },
   {
    "duration": 16,
    "start_time": "2022-08-22T09:12:46.683Z"
   },
   {
    "duration": 10,
    "start_time": "2022-08-22T09:12:47.914Z"
   },
   {
    "duration": 6,
    "start_time": "2022-08-22T09:13:38.700Z"
   },
   {
    "duration": 2944,
    "start_time": "2022-08-22T09:13:47.762Z"
   },
   {
    "duration": 3776,
    "start_time": "2022-08-22T09:14:29.381Z"
   },
   {
    "duration": 5647,
    "start_time": "2022-08-22T09:18:27.767Z"
   },
   {
    "duration": 716,
    "start_time": "2022-08-22T09:18:35.712Z"
   },
   {
    "duration": 5963,
    "start_time": "2022-08-22T09:20:15.235Z"
   },
   {
    "duration": 3,
    "start_time": "2022-08-22T09:23:46.071Z"
   },
   {
    "duration": 372,
    "start_time": "2022-08-22T09:23:49.231Z"
   },
   {
    "duration": 282,
    "start_time": "2022-08-22T09:23:51.323Z"
   },
   {
    "duration": 279,
    "start_time": "2022-08-22T09:24:01.324Z"
   },
   {
    "duration": 311,
    "start_time": "2022-08-22T09:24:03.732Z"
   },
   {
    "duration": 395,
    "start_time": "2022-08-22T09:24:07.508Z"
   },
   {
    "duration": 364,
    "start_time": "2022-08-22T09:24:09.508Z"
   },
   {
    "duration": 3923,
    "start_time": "2022-08-22T09:25:28.688Z"
   },
   {
    "duration": 3047,
    "start_time": "2022-08-22T09:26:00.172Z"
   },
   {
    "duration": 3903,
    "start_time": "2022-08-22T09:27:11.464Z"
   },
   {
    "duration": 2804,
    "start_time": "2022-08-22T09:27:15.369Z"
   },
   {
    "duration": 44844,
    "start_time": "2022-08-22T09:27:58.472Z"
   },
   {
    "duration": 709,
    "start_time": "2022-08-22T09:28:49.492Z"
   },
   {
    "duration": 206954,
    "start_time": "2022-08-22T09:28:53.648Z"
   },
   {
    "duration": 4,
    "start_time": "2022-08-22T09:48:10.465Z"
   },
   {
    "duration": 13,
    "start_time": "2022-08-22T09:48:12.917Z"
   },
   {
    "duration": 14,
    "start_time": "2022-08-22T09:48:19.110Z"
   },
   {
    "duration": 14,
    "start_time": "2022-08-22T09:48:20.257Z"
   },
   {
    "duration": 3551,
    "start_time": "2022-08-22T09:48:30.542Z"
   },
   {
    "duration": 26307,
    "start_time": "2022-08-22T10:00:43.231Z"
   },
   {
    "duration": 1010,
    "start_time": "2022-08-22T10:08:11.952Z"
   },
   {
    "duration": 8,
    "start_time": "2022-08-22T10:08:18.539Z"
   },
   {
    "duration": 2216,
    "start_time": "2022-08-22T10:08:23.755Z"
   },
   {
    "duration": 7,
    "start_time": "2022-08-22T10:14:20.236Z"
   },
   {
    "duration": 13,
    "start_time": "2022-08-22T10:16:47.984Z"
   },
   {
    "duration": 14,
    "start_time": "2022-08-22T10:17:06.960Z"
   },
   {
    "duration": 5470,
    "start_time": "2022-08-22T10:17:17.200Z"
   },
   {
    "duration": 3,
    "start_time": "2022-08-22T10:17:23.720Z"
   },
   {
    "duration": 250,
    "start_time": "2022-08-22T10:17:25.187Z"
   },
   {
    "duration": 49,
    "start_time": "2022-08-22T10:17:29.940Z"
   },
   {
    "duration": 27,
    "start_time": "2022-08-22T10:17:39.803Z"
   },
   {
    "duration": 11816,
    "start_time": "2022-08-22T10:17:56.898Z"
   },
   {
    "duration": 18543,
    "start_time": "2022-08-22T10:18:23.276Z"
   },
   {
    "duration": 1721075,
    "start_time": "2022-08-22T10:18:44.013Z"
   },
   {
    "duration": 5,
    "start_time": "2022-08-22T10:50:15.140Z"
   },
   {
    "duration": 2949,
    "start_time": "2022-08-22T10:50:41.941Z"
   },
   {
    "duration": 3070,
    "start_time": "2022-08-22T10:50:51.329Z"
   },
   {
    "duration": 221,
    "start_time": "2022-08-22T10:52:05.053Z"
   },
   {
    "duration": 207,
    "start_time": "2022-08-22T10:52:09.861Z"
   },
   {
    "duration": 204,
    "start_time": "2022-08-22T10:52:13.765Z"
   },
   {
    "duration": 216,
    "start_time": "2022-08-22T10:53:19.593Z"
   },
   {
    "duration": 235,
    "start_time": "2022-08-22T10:53:36.061Z"
   },
   {
    "duration": 242,
    "start_time": "2022-08-22T10:53:38.686Z"
   },
   {
    "duration": 279,
    "start_time": "2022-08-22T10:53:44.310Z"
   },
   {
    "duration": 23,
    "start_time": "2022-08-22T10:54:30.283Z"
   },
   {
    "duration": 3332,
    "start_time": "2022-08-22T10:54:37.713Z"
   },
   {
    "duration": 2,
    "start_time": "2022-08-22T10:54:42.966Z"
   },
   {
    "duration": 465,
    "start_time": "2022-08-22T10:57:32.394Z"
   },
   {
    "duration": 50,
    "start_time": "2022-08-22T10:57:35.474Z"
   },
   {
    "duration": 243,
    "start_time": "2022-08-22T10:57:37.714Z"
   },
   {
    "duration": 233,
    "start_time": "2022-08-22T10:57:45.190Z"
   },
   {
    "duration": 273,
    "start_time": "2022-08-22T10:57:48.894Z"
   },
   {
    "duration": 240,
    "start_time": "2022-08-22T10:57:52.206Z"
   },
   {
    "duration": 238,
    "start_time": "2022-08-22T10:57:57.730Z"
   },
   {
    "duration": 290,
    "start_time": "2022-08-22T10:58:02.806Z"
   },
   {
    "duration": 256,
    "start_time": "2022-08-22T10:58:07.931Z"
   },
   {
    "duration": 263,
    "start_time": "2022-08-22T10:58:12.842Z"
   },
   {
    "duration": 288,
    "start_time": "2022-08-22T10:58:15.838Z"
   },
   {
    "duration": 258,
    "start_time": "2022-08-22T10:58:20.130Z"
   },
   {
    "duration": 297,
    "start_time": "2022-08-22T11:01:01.863Z"
   },
   {
    "duration": 4,
    "start_time": "2022-08-22T11:01:05.726Z"
   },
   {
    "duration": 4089,
    "start_time": "2022-08-22T11:01:42.746Z"
   },
   {
    "duration": 3029,
    "start_time": "2022-08-22T11:02:15.331Z"
   },
   {
    "duration": 6021,
    "start_time": "2022-08-22T11:02:56.035Z"
   },
   {
    "duration": 207795,
    "start_time": "2022-08-22T11:03:08.791Z"
   },
   {
    "duration": 18,
    "start_time": "2022-08-22T11:07:25.744Z"
   },
   {
    "duration": 22,
    "start_time": "2022-08-22T11:07:30.352Z"
   },
   {
    "duration": 108,
    "start_time": "2022-08-22T11:07:43.107Z"
   },
   {
    "duration": 363759,
    "start_time": "2022-08-22T11:09:25.640Z"
   },
   {
    "duration": 33688,
    "start_time": "2022-08-22T11:16:19.013Z"
   },
   {
    "duration": 3800,
    "start_time": "2022-08-22T11:17:06.589Z"
   },
   {
    "duration": 152768,
    "start_time": "2022-08-22T11:17:32.138Z"
   },
   {
    "duration": 26,
    "start_time": "2022-08-22T12:05:42.010Z"
   },
   {
    "duration": 17,
    "start_time": "2022-08-22T12:05:44.895Z"
   },
   {
    "duration": 722222,
    "start_time": "2022-08-22T12:05:55.579Z"
   },
   {
    "duration": 4,
    "start_time": "2022-08-22T12:51:52.296Z"
   },
   {
    "duration": 3,
    "start_time": "2022-08-22T12:52:40.431Z"
   },
   {
    "duration": 4,
    "start_time": "2022-08-22T12:52:44.376Z"
   },
   {
    "duration": 3,
    "start_time": "2022-08-22T12:55:22.316Z"
   },
   {
    "duration": 34356,
    "start_time": "2022-08-22T12:55:46.540Z"
   },
   {
    "duration": 11030,
    "start_time": "2022-08-22T12:56:45.280Z"
   },
   {
    "duration": 853,
    "start_time": "2022-08-22T13:56:24.063Z"
   },
   {
    "duration": 51,
    "start_time": "2022-08-22T13:56:35.314Z"
   },
   {
    "duration": 15,
    "start_time": "2022-08-22T13:56:51.841Z"
   },
   {
    "duration": 3,
    "start_time": "2022-08-22T14:05:08.708Z"
   },
   {
    "duration": 4,
    "start_time": "2022-08-22T14:05:37.496Z"
   },
   {
    "duration": 21,
    "start_time": "2022-08-22T14:05:54.927Z"
   },
   {
    "duration": 307433,
    "start_time": "2022-08-22T14:05:58.280Z"
   },
   {
    "duration": 4,
    "start_time": "2022-08-22T14:12:55.236Z"
   },
   {
    "duration": 156,
    "start_time": "2022-08-22T14:12:58.795Z"
   },
   {
    "duration": 148,
    "start_time": "2022-08-22T14:13:02.096Z"
   },
   {
    "duration": 152,
    "start_time": "2022-08-22T14:13:06.553Z"
   },
   {
    "duration": 5,
    "start_time": "2022-08-22T14:13:11.819Z"
   },
   {
    "duration": 141,
    "start_time": "2022-08-22T14:13:12.239Z"
   },
   {
    "duration": 31,
    "start_time": "2022-08-22T14:13:25.681Z"
   },
   {
    "duration": 3030770,
    "start_time": "2022-08-22T14:13:50.024Z"
   },
   {
    "duration": 5,
    "start_time": "2022-08-22T15:08:25.028Z"
   },
   {
    "duration": 14,
    "start_time": "2022-08-22T15:08:27.653Z"
   },
   {
    "duration": 1037761,
    "start_time": "2022-08-22T15:09:35.125Z"
   },
   {
    "duration": 3,
    "start_time": "2022-08-22T16:08:52.439Z"
   },
   {
    "duration": 1526700,
    "start_time": "2022-08-22T16:09:48.098Z"
   },
   {
    "duration": 49,
    "start_time": "2022-08-22T17:14:37.578Z"
   },
   {
    "duration": 897974,
    "start_time": "2022-08-22T17:14:41.230Z"
   },
   {
    "duration": 5,
    "start_time": "2022-08-22T17:37:56.596Z"
   },
   {
    "duration": 14065756,
    "start_time": "2022-08-22T17:38:12.552Z"
   },
   {
    "duration": 5,
    "start_time": "2022-08-22T21:38:03.248Z"
   },
   {
    "duration": 153997,
    "start_time": "2022-08-22T21:38:20.809Z"
   },
   {
    "duration": 27621,
    "start_time": "2022-08-23T13:38:05.915Z"
   },
   {
    "duration": 2,
    "start_time": "2022-08-23T13:40:28.412Z"
   },
   {
    "duration": 3002,
    "start_time": "2022-08-23T13:41:23.483Z"
   },
   {
    "duration": 122,
    "start_time": "2022-08-23T13:41:31.924Z"
   },
   {
    "duration": 16,
    "start_time": "2022-08-23T13:41:32.091Z"
   },
   {
    "duration": 10,
    "start_time": "2022-08-23T13:41:32.395Z"
   },
   {
    "duration": 2396,
    "start_time": "2022-08-23T13:41:32.543Z"
   },
   {
    "duration": 2,
    "start_time": "2022-08-23T13:41:34.941Z"
   },
   {
    "duration": 14,
    "start_time": "2022-08-23T13:41:34.945Z"
   },
   {
    "duration": 11,
    "start_time": "2022-08-23T13:41:34.961Z"
   },
   {
    "duration": 7,
    "start_time": "2022-08-23T13:41:34.973Z"
   },
   {
    "duration": 270,
    "start_time": "2022-08-23T13:41:34.981Z"
   },
   {
    "duration": 189,
    "start_time": "2022-08-23T13:41:41.176Z"
   },
   {
    "duration": 188,
    "start_time": "2022-08-23T13:41:42.291Z"
   },
   {
    "duration": 264,
    "start_time": "2022-08-23T13:41:42.579Z"
   },
   {
    "duration": 4,
    "start_time": "2022-08-23T13:41:44.508Z"
   },
   {
    "duration": 16,
    "start_time": "2022-08-23T13:41:44.937Z"
   },
   {
    "duration": 3,
    "start_time": "2022-08-23T13:41:45.332Z"
   },
   {
    "duration": 38,
    "start_time": "2022-08-23T13:41:45.705Z"
   },
   {
    "duration": 6,
    "start_time": "2022-08-23T13:41:46.059Z"
   },
   {
    "duration": 8,
    "start_time": "2022-08-23T13:41:46.399Z"
   },
   {
    "duration": 4,
    "start_time": "2022-08-23T13:41:48.422Z"
   },
   {
    "duration": 12,
    "start_time": "2022-08-23T13:41:48.428Z"
   },
   {
    "duration": 6,
    "start_time": "2022-08-23T13:41:48.441Z"
   },
   {
    "duration": 23,
    "start_time": "2022-08-23T13:41:48.448Z"
   },
   {
    "duration": 10,
    "start_time": "2022-08-23T13:41:48.473Z"
   },
   {
    "duration": 23,
    "start_time": "2022-08-23T13:41:49.303Z"
   },
   {
    "duration": 14,
    "start_time": "2022-08-23T13:41:49.864Z"
   },
   {
    "duration": 212,
    "start_time": "2022-08-23T13:41:51.146Z"
   },
   {
    "duration": 367,
    "start_time": "2022-08-23T13:41:53.725Z"
   },
   {
    "duration": 11,
    "start_time": "2022-08-23T13:41:57.035Z"
   },
   {
    "duration": 238,
    "start_time": "2022-08-23T13:41:57.343Z"
   },
   {
    "duration": 256,
    "start_time": "2022-08-23T13:43:02.195Z"
   },
   {
    "duration": 620,
    "start_time": "2022-08-23T13:43:10.995Z"
   },
   {
    "duration": 29,
    "start_time": "2022-08-23T13:43:17.647Z"
   },
   {
    "duration": 1287747,
    "start_time": "2022-08-23T13:43:26.863Z"
   },
   {
    "duration": 5,
    "start_time": "2022-08-23T14:04:58.794Z"
   },
   {
    "duration": 3253,
    "start_time": "2022-08-23T14:07:05.058Z"
   },
   {
    "duration": 4,
    "start_time": "2022-08-23T14:08:08.318Z"
   },
   {
    "duration": 5,
    "start_time": "2022-08-23T14:08:41.166Z"
   },
   {
    "duration": 16,
    "start_time": "2022-08-23T14:08:41.882Z"
   },
   {
    "duration": 2968,
    "start_time": "2022-08-23T14:09:13.450Z"
   },
   {
    "duration": 9,
    "start_time": "2022-08-23T14:09:27.934Z"
   },
   {
    "duration": 3295,
    "start_time": "2022-08-23T14:12:19.315Z"
   },
   {
    "duration": 24,
    "start_time": "2022-08-23T14:13:24.170Z"
   },
   {
    "duration": 5,
    "start_time": "2022-08-23T14:14:02.506Z"
   },
   {
    "duration": 1142,
    "start_time": "2022-08-23T14:14:16.114Z"
   },
   {
    "duration": 5,
    "start_time": "2022-08-23T14:14:21.982Z"
   },
   {
    "duration": 4,
    "start_time": "2022-08-23T14:14:34.627Z"
   },
   {
    "duration": 10048,
    "start_time": "2022-08-23T14:14:47.167Z"
   },
   {
    "duration": 3,
    "start_time": "2022-08-23T14:16:46.971Z"
   },
   {
    "duration": 14,
    "start_time": "2022-08-23T14:17:26.372Z"
   },
   {
    "duration": 3,
    "start_time": "2022-08-23T14:17:29.171Z"
   },
   {
    "duration": 39129,
    "start_time": "2022-08-23T14:17:29.591Z"
   },
   {
    "duration": 35273,
    "start_time": "2022-08-23T14:18:16.643Z"
   },
   {
    "duration": 0,
    "start_time": "2022-08-23T14:21:02.161Z"
   },
   {
    "duration": 45940,
    "start_time": "2022-08-23T14:21:05.506Z"
   },
   {
    "duration": 5,
    "start_time": "2022-08-23T14:21:58.514Z"
   },
   {
    "duration": 3822,
    "start_time": "2022-08-23T14:22:23.706Z"
   },
   {
    "duration": 14,
    "start_time": "2022-08-23T14:22:31.711Z"
   },
   {
    "duration": 5,
    "start_time": "2022-08-23T14:22:35.739Z"
   },
   {
    "duration": 14,
    "start_time": "2022-08-23T14:25:13.960Z"
   },
   {
    "duration": 4,
    "start_time": "2022-08-23T14:25:48.275Z"
   },
   {
    "duration": 319,
    "start_time": "2022-08-23T14:25:57.858Z"
   },
   {
    "duration": 4,
    "start_time": "2022-08-23T14:27:07.431Z"
   },
   {
    "duration": 289,
    "start_time": "2022-08-23T14:27:23.031Z"
   },
   {
    "duration": 234,
    "start_time": "2022-08-23T14:29:42.543Z"
   },
   {
    "duration": 16604,
    "start_time": "2022-08-23T14:30:57.055Z"
   },
   {
    "duration": 14,
    "start_time": "2022-08-23T14:32:21.627Z"
   },
   {
    "duration": 15,
    "start_time": "2022-08-23T14:32:30.663Z"
   },
   {
    "duration": 14,
    "start_time": "2022-08-23T14:32:34.143Z"
   },
   {
    "duration": 14,
    "start_time": "2022-08-23T14:32:40.359Z"
   },
   {
    "duration": 14,
    "start_time": "2022-08-23T14:32:49.487Z"
   },
   {
    "duration": 2844,
    "start_time": "2022-08-23T14:43:43.581Z"
   },
   {
    "duration": 48,
    "start_time": "2022-08-23T14:43:50.862Z"
   },
   {
    "duration": 16,
    "start_time": "2022-08-23T14:43:51.018Z"
   },
   {
    "duration": 11,
    "start_time": "2022-08-23T14:43:51.338Z"
   },
   {
    "duration": 2410,
    "start_time": "2022-08-23T14:43:51.510Z"
   },
   {
    "duration": 3,
    "start_time": "2022-08-23T14:43:53.921Z"
   },
   {
    "duration": 13,
    "start_time": "2022-08-23T14:43:53.926Z"
   },
   {
    "duration": 12,
    "start_time": "2022-08-23T14:43:53.941Z"
   },
   {
    "duration": 10,
    "start_time": "2022-08-23T14:43:53.954Z"
   },
   {
    "duration": 291,
    "start_time": "2022-08-23T14:43:53.965Z"
   },
   {
    "duration": 195,
    "start_time": "2022-08-23T14:43:54.258Z"
   },
   {
    "duration": 184,
    "start_time": "2022-08-23T14:43:54.456Z"
   },
   {
    "duration": 259,
    "start_time": "2022-08-23T14:43:54.642Z"
   },
   {
    "duration": 5,
    "start_time": "2022-08-23T14:43:55.370Z"
   },
   {
    "duration": 13,
    "start_time": "2022-08-23T14:43:55.555Z"
   },
   {
    "duration": 3,
    "start_time": "2022-08-23T14:43:55.719Z"
   },
   {
    "duration": 40,
    "start_time": "2022-08-23T14:43:55.894Z"
   },
   {
    "duration": 6,
    "start_time": "2022-08-23T14:43:56.074Z"
   },
   {
    "duration": 8,
    "start_time": "2022-08-23T14:43:56.239Z"
   },
   {
    "duration": 4,
    "start_time": "2022-08-23T14:43:56.410Z"
   },
   {
    "duration": 7,
    "start_time": "2022-08-23T14:43:56.575Z"
   },
   {
    "duration": 5,
    "start_time": "2022-08-23T14:43:56.938Z"
   },
   {
    "duration": 22,
    "start_time": "2022-08-23T14:43:57.117Z"
   },
   {
    "duration": 10,
    "start_time": "2022-08-23T14:43:57.427Z"
   },
   {
    "duration": 4271,
    "start_time": "2022-08-23T14:44:15.662Z"
   },
   {
    "duration": 1360,
    "start_time": "2022-08-23T14:47:21.691Z"
   },
   {
    "duration": 19,
    "start_time": "2022-08-23T14:47:28.978Z"
   },
   {
    "duration": 16,
    "start_time": "2022-08-23T14:47:38.358Z"
   },
   {
    "duration": 20,
    "start_time": "2022-08-23T14:47:41.534Z"
   },
   {
    "duration": 18,
    "start_time": "2022-08-23T14:47:47.326Z"
   },
   {
    "duration": 14,
    "start_time": "2022-08-23T14:49:58.423Z"
   },
   {
    "duration": 13,
    "start_time": "2022-08-23T14:50:12.687Z"
   },
   {
    "duration": 381,
    "start_time": "2022-08-23T14:50:24.195Z"
   },
   {
    "duration": 54,
    "start_time": "2022-08-23T14:51:03.003Z"
   },
   {
    "duration": 14,
    "start_time": "2022-08-23T14:51:10.662Z"
   },
   {
    "duration": 60,
    "start_time": "2022-08-23T14:52:00.126Z"
   },
   {
    "duration": 507,
    "start_time": "2022-08-23T14:56:36.139Z"
   },
   {
    "duration": 13,
    "start_time": "2022-08-23T15:07:32.563Z"
   },
   {
    "duration": 3,
    "start_time": "2022-08-23T15:07:36.920Z"
   },
   {
    "duration": 4,
    "start_time": "2022-08-23T15:07:38.707Z"
   },
   {
    "duration": 332,
    "start_time": "2022-08-23T15:07:50.799Z"
   },
   {
    "duration": 2954,
    "start_time": "2022-08-23T15:08:30.266Z"
   },
   {
    "duration": 19,
    "start_time": "2022-08-23T15:08:42.395Z"
   },
   {
    "duration": 18,
    "start_time": "2022-08-23T15:08:48.819Z"
   },
   {
    "duration": 222,
    "start_time": "2022-08-23T15:09:06.571Z"
   },
   {
    "duration": 32,
    "start_time": "2022-08-23T15:10:14.475Z"
   },
   {
    "duration": 3692,
    "start_time": "2022-08-23T15:10:18.021Z"
   },
   {
    "duration": 16,
    "start_time": "2022-08-23T15:12:13.383Z"
   },
   {
    "duration": 476,
    "start_time": "2022-08-23T15:12:19.095Z"
   },
   {
    "duration": 1595,
    "start_time": "2022-08-23T15:12:24.235Z"
   },
   {
    "duration": 2439,
    "start_time": "2022-08-23T15:12:34.091Z"
   }
  ],
  "kernelspec": {
   "display_name": "Python 3 (ipykernel)",
   "language": "python",
   "name": "python3"
  },
  "language_info": {
   "codemirror_mode": {
    "name": "ipython",
    "version": 3
   },
   "file_extension": ".py",
   "mimetype": "text/x-python",
   "name": "python",
   "nbconvert_exporter": "python",
   "pygments_lexer": "ipython3",
   "version": "3.9.12"
  },
  "toc": {
   "base_numbering": 1,
   "nav_menu": {},
   "number_sections": true,
   "sideBar": true,
   "skip_h1_title": true,
   "title_cell": "Содержание",
   "title_sidebar": "Contents",
   "toc_cell": true,
   "toc_position": {
    "height": "calc(100% - 180px)",
    "left": "10px",
    "top": "150px",
    "width": "366.188px"
   },
   "toc_section_display": true,
   "toc_window_display": false
  }
 },
 "nbformat": 4,
 "nbformat_minor": 2
}
