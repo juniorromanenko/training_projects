{
 "cells": [
  {
   "cell_type": "code",
   "execution_count": 1,
   "metadata": {
    "id": "nlZBlglMDWKe"
   },
   "outputs": [],
   "source": [
    "import pandas as pd\n",
    "import matplotlib.pyplot as plt\n",
    "import seaborn as sns\n",
    "from sqlalchemy import create_engine "
   ]
  },
  {
   "cell_type": "markdown",
   "metadata": {
    "id": "XnOE3n28DWKg"
   },
   "source": [
    "### Конфигурация для подключения к базе данных `data-analyst-advanced-sql`"
   ]
  },
  {
   "cell_type": "code",
   "execution_count": 1,
   "metadata": {
    "id": "6p-yGp7qDWKg"
   },
   "outputs": [],
   "source": [
    "db_config = {\n",
    "# Удалил в целях безопасности\n",
    "}\n",
    "\n",
    "connection_string = 'postgresql://{}:{}@{}:{}/{}'.format(\n",
    "    db_config['user'],\n",
    "    db_config['pwd'],\n",
    "    db_config['host'],\n",
    "    db_config['port'],\n",
    "    db_config['db'],\n",
    ")"
   ]
  },
  {
   "cell_type": "markdown",
   "metadata": {
    "id": "2Rg8ZpS0DWKh"
   },
   "source": [
    "Создание подключения"
   ]
  },
  {
   "cell_type": "code",
   "execution_count": 3,
   "metadata": {
    "id": "DamCUTR6DWKi"
   },
   "outputs": [],
   "source": [
    "engine = create_engine(connection_string) "
   ]
  },
  {
   "cell_type": "markdown",
   "metadata": {
    "id": "gnBMXkDBDWKm"
   },
   "source": [
    "# Задание 1"
   ]
  },
  {
   "cell_type": "markdown",
   "metadata": {
    "id": "vHsfOrrNDWKn"
   },
   "source": [
    "Выведите общую сумму просмотров постов за каждый месяц 2008 года. Если данных за какой-либо месяц в базе нет, такой месяц можно пропустить. Результат отсортируйте по убыванию общего количества просмотров."
   ]
  },
  {
   "cell_type": "markdown",
   "metadata": {
    "id": "N5rTgGNmDWKn"
   },
   "source": [
    "| month_date  | total_views |\n",
    "| ------------- | ------------- |\n",
    "| 2008-09-01  | 452928568  |\n",
    "| 2008-10-01  | 365400138  |\n",
    "| ...         | ... |"
   ]
  },
  {
   "cell_type": "code",
   "execution_count": 6,
   "metadata": {
    "id": "eWvykcXTDWKo"
   },
   "outputs": [],
   "source": [
    "# напишите запрос\n",
    "query = '''\n",
    "SELECT DATE_TRUNC('MONTH', creation_date)::date month_date,\n",
    "       SUM(views_count) total_views\n",
    "FROM stackoverflow.posts\n",
    "WHERE DATE_TRUNC('YEAR', creation_date) = '2008-01-01'\n",
    "GROUP BY DATE_TRUNC('MONTH', creation_date)\n",
    "ORDER BY total_views DESC\n",
    "'''\n",
    "\n",
    "# выполните запрос\n",
    "sample_df_one = pd.read_sql_query(query, con=engine) "
   ]
  },
  {
   "cell_type": "code",
   "execution_count": 7,
   "metadata": {},
   "outputs": [
    {
     "data": {
      "text/html": [
       "<div>\n",
       "<style scoped>\n",
       "    .dataframe tbody tr th:only-of-type {\n",
       "        vertical-align: middle;\n",
       "    }\n",
       "\n",
       "    .dataframe tbody tr th {\n",
       "        vertical-align: top;\n",
       "    }\n",
       "\n",
       "    .dataframe thead th {\n",
       "        text-align: right;\n",
       "    }\n",
       "</style>\n",
       "<table border=\"1\" class=\"dataframe\">\n",
       "  <thead>\n",
       "    <tr style=\"text-align: right;\">\n",
       "      <th></th>\n",
       "      <th>month_date</th>\n",
       "      <th>total_views</th>\n",
       "    </tr>\n",
       "  </thead>\n",
       "  <tbody>\n",
       "    <tr>\n",
       "      <th>0</th>\n",
       "      <td>2008-09-01</td>\n",
       "      <td>452928568</td>\n",
       "    </tr>\n",
       "    <tr>\n",
       "      <th>1</th>\n",
       "      <td>2008-10-01</td>\n",
       "      <td>365400138</td>\n",
       "    </tr>\n",
       "    <tr>\n",
       "      <th>2</th>\n",
       "      <td>2008-11-01</td>\n",
       "      <td>221759651</td>\n",
       "    </tr>\n",
       "    <tr>\n",
       "      <th>3</th>\n",
       "      <td>2008-12-01</td>\n",
       "      <td>197792841</td>\n",
       "    </tr>\n",
       "    <tr>\n",
       "      <th>4</th>\n",
       "      <td>2008-08-01</td>\n",
       "      <td>131367083</td>\n",
       "    </tr>\n",
       "    <tr>\n",
       "      <th>5</th>\n",
       "      <td>2008-07-01</td>\n",
       "      <td>669895</td>\n",
       "    </tr>\n",
       "  </tbody>\n",
       "</table>\n",
       "</div>"
      ],
      "text/plain": [
       "   month_date  total_views\n",
       "0  2008-09-01    452928568\n",
       "1  2008-10-01    365400138\n",
       "2  2008-11-01    221759651\n",
       "3  2008-12-01    197792841\n",
       "4  2008-08-01    131367083\n",
       "5  2008-07-01       669895"
      ]
     },
     "execution_count": 7,
     "metadata": {},
     "output_type": "execute_result"
    }
   ],
   "source": [
    "sample_df_one"
   ]
  },
  {
   "cell_type": "markdown",
   "metadata": {
    "id": "luxSj17oDWKq"
   },
   "source": [
    "**Вывод** \n",
    "\n",
    "Самый просматриваемый месяц - сентябрь, после него октябрь, потом ноябрь, затем август, июль. Возможно, это связано с тем, что stackoverflow начал свою работу в 2008 году и каждый месяц становился популярнее, и из-за этого так растут просмотры. \n"
   ]
  },
  {
   "cell_type": "markdown",
   "metadata": {
    "id": "FziIXkn5DWKr"
   },
   "source": [
    "# Задание 2"
   ]
  },
  {
   "cell_type": "markdown",
   "metadata": {
    "id": "fTGESZvYDWKr"
   },
   "source": [
    "Выведите имена самых активных пользователей, которые в первый месяц после регистрации (включая день регистрации) дали больше 100 ответов. Вопросы, которые задавали пользователи, не учитывайте. Для каждого имени пользователя выведите количество уникальных значений `user_id`. Отсортируйте результат по полю с именами в лексикографическом порядке."
   ]
  },
  {
   "cell_type": "markdown",
   "metadata": {
    "id": "W5-tv6Y3DWKs"
   },
   "source": [
    "| display_name | count |\n",
    "| ------------ | ----- |\n",
    "| 1800 INFORMATION | 1 |\n",
    "| Adam Bellaire | 1 |\n",
    "| Adam Davis | 1 |\n",
    "| ... | ... |"
   ]
  },
  {
   "cell_type": "code",
   "execution_count": 8,
   "metadata": {
    "id": "fIO-y-YjDWKt"
   },
   "outputs": [],
   "source": [
    "# напишите запрос\n",
    "\n",
    "query = '''\n",
    "SELECT display_name,\n",
    "       COUNT(DISTINCT user_id)\n",
    "FROM\n",
    "    (SELECT p.creation_date post_date,\n",
    "            u.creation_date user_date,\n",
    "            display_name,\n",
    "            DATE_TRUNC('DAY', u.creation_date) + INTERVAL '1 month' new_date,\n",
    "            p.user_id\n",
    "    FROM stackoverflow.users u\n",
    "    RIGHT JOIN stackoverflow.posts p ON u.id = p.user_id\n",
    "    WHERE post_type_id = 2) full_df\n",
    "WHERE post_date BETWEEN user_date AND new_date\n",
    "GROUP BY display_name\n",
    "HAVING COUNT(*) > 100 \n",
    "'''\n",
    "\n",
    "# выполните запрос\n",
    "sample_df_two = pd.read_sql_query(query, con=engine) "
   ]
  },
  {
   "cell_type": "code",
   "execution_count": 9,
   "metadata": {},
   "outputs": [
    {
     "data": {
      "text/html": [
       "<div>\n",
       "<style scoped>\n",
       "    .dataframe tbody tr th:only-of-type {\n",
       "        vertical-align: middle;\n",
       "    }\n",
       "\n",
       "    .dataframe tbody tr th {\n",
       "        vertical-align: top;\n",
       "    }\n",
       "\n",
       "    .dataframe thead th {\n",
       "        text-align: right;\n",
       "    }\n",
       "</style>\n",
       "<table border=\"1\" class=\"dataframe\">\n",
       "  <thead>\n",
       "    <tr style=\"text-align: right;\">\n",
       "      <th></th>\n",
       "      <th>display_name</th>\n",
       "      <th>count</th>\n",
       "    </tr>\n",
       "  </thead>\n",
       "  <tbody>\n",
       "    <tr>\n",
       "      <th>0</th>\n",
       "      <td>1800 INFORMATION</td>\n",
       "      <td>1</td>\n",
       "    </tr>\n",
       "    <tr>\n",
       "      <th>1</th>\n",
       "      <td>Adam Bellaire</td>\n",
       "      <td>1</td>\n",
       "    </tr>\n",
       "    <tr>\n",
       "      <th>2</th>\n",
       "      <td>Adam Davis</td>\n",
       "      <td>1</td>\n",
       "    </tr>\n",
       "    <tr>\n",
       "      <th>3</th>\n",
       "      <td>Adam Liss</td>\n",
       "      <td>1</td>\n",
       "    </tr>\n",
       "    <tr>\n",
       "      <th>4</th>\n",
       "      <td>Alan</td>\n",
       "      <td>8</td>\n",
       "    </tr>\n",
       "    <tr>\n",
       "      <th>...</th>\n",
       "      <td>...</td>\n",
       "      <td>...</td>\n",
       "    </tr>\n",
       "    <tr>\n",
       "      <th>71</th>\n",
       "      <td>leppie</td>\n",
       "      <td>1</td>\n",
       "    </tr>\n",
       "    <tr>\n",
       "      <th>72</th>\n",
       "      <td>lomaxx</td>\n",
       "      <td>1</td>\n",
       "    </tr>\n",
       "    <tr>\n",
       "      <th>73</th>\n",
       "      <td>mattlant</td>\n",
       "      <td>1</td>\n",
       "    </tr>\n",
       "    <tr>\n",
       "      <th>74</th>\n",
       "      <td>paxdiablo</td>\n",
       "      <td>1</td>\n",
       "    </tr>\n",
       "    <tr>\n",
       "      <th>75</th>\n",
       "      <td>tzot</td>\n",
       "      <td>1</td>\n",
       "    </tr>\n",
       "  </tbody>\n",
       "</table>\n",
       "<p>76 rows × 2 columns</p>\n",
       "</div>"
      ],
      "text/plain": [
       "        display_name  count\n",
       "0   1800 INFORMATION      1\n",
       "1      Adam Bellaire      1\n",
       "2         Adam Davis      1\n",
       "3          Adam Liss      1\n",
       "4               Alan      8\n",
       "..               ...    ...\n",
       "71            leppie      1\n",
       "72            lomaxx      1\n",
       "73          mattlant      1\n",
       "74         paxdiablo      1\n",
       "75              tzot      1\n",
       "\n",
       "[76 rows x 2 columns]"
      ]
     },
     "execution_count": 9,
     "metadata": {},
     "output_type": "execute_result"
    }
   ],
   "source": [
    "sample_df_two"
   ]
  },
  {
   "cell_type": "markdown",
   "metadata": {
    "id": "CEIGGQ6ODWKy"
   },
   "source": [
    "**Вывод**\n",
    "\n",
    "\n",
    "Есть повторяющиеся имена пользователей, т.е. под одним ником много людей."
   ]
  },
  {
   "cell_type": "markdown",
   "metadata": {
    "id": "JhM2xXj5DWKu"
   },
   "source": [
    "# Задание 3"
   ]
  },
  {
   "cell_type": "markdown",
   "metadata": {
    "id": "IS6xPqyyDWKu"
   },
   "source": [
    "Выведите количество постов за 2008 год по месяцам. Отберите посты от пользователей, которые зарегистрировались в сентябре 2008 года и сделали хотя бы один пост в декабре того же года. Отсортируйте таблицу по значению месяца по убыванию."
   ]
  },
  {
   "cell_type": "markdown",
   "metadata": {
    "id": "WmjhjV2xDWKv"
   },
   "source": [
    "| month | count |\n",
    "| ------|------ |\n",
    "| 2008-12-01 | 17641 |\n",
    "| 2008-11-01 | 18294 |\n",
    "| ... | ... |"
   ]
  },
  {
   "cell_type": "code",
   "execution_count": 10,
   "metadata": {
    "id": "kVu0FB8WDWKv"
   },
   "outputs": [],
   "source": [
    "# напишите запрос\n",
    "\n",
    "query = '''\n",
    "SELECT DATE_TRUNC('MONTH', p.creation_date)::date month_name,\n",
    "       COUNT(*) count\n",
    "FROM stackoverflow.users u\n",
    "RIGHT JOIN stackoverflow.posts p ON u.id = p.user_id\n",
    "WHERE u.id IN (SELECT u.id\n",
    "              FROM stackoverflow.users u\n",
    "              RIGHT JOIN stackoverflow.posts p ON u.id = p.user_id\n",
    "              WHERE DATE_TRUNC('MONTH', p.creation_date)::date = '2008-12-01')\n",
    "  AND DATE_TRUNC('MONTH', u.creation_date)::date = '2008-09-01'\n",
    "GROUP BY DATE_TRUNC('MONTH', p.creation_date)\n",
    "ORDER BY month_name DESC\n",
    "'''\n",
    "\n",
    "\n",
    "# выполните запрос\n",
    "sample_df_three = pd.read_sql_query(query, con=engine) "
   ]
  },
  {
   "cell_type": "code",
   "execution_count": 11,
   "metadata": {},
   "outputs": [
    {
     "data": {
      "text/html": [
       "<div>\n",
       "<style scoped>\n",
       "    .dataframe tbody tr th:only-of-type {\n",
       "        vertical-align: middle;\n",
       "    }\n",
       "\n",
       "    .dataframe tbody tr th {\n",
       "        vertical-align: top;\n",
       "    }\n",
       "\n",
       "    .dataframe thead th {\n",
       "        text-align: right;\n",
       "    }\n",
       "</style>\n",
       "<table border=\"1\" class=\"dataframe\">\n",
       "  <thead>\n",
       "    <tr style=\"text-align: right;\">\n",
       "      <th></th>\n",
       "      <th>month_name</th>\n",
       "      <th>count</th>\n",
       "    </tr>\n",
       "  </thead>\n",
       "  <tbody>\n",
       "    <tr>\n",
       "      <th>0</th>\n",
       "      <td>2008-12-01</td>\n",
       "      <td>17641</td>\n",
       "    </tr>\n",
       "    <tr>\n",
       "      <th>1</th>\n",
       "      <td>2008-11-01</td>\n",
       "      <td>18294</td>\n",
       "    </tr>\n",
       "    <tr>\n",
       "      <th>2</th>\n",
       "      <td>2008-10-01</td>\n",
       "      <td>27171</td>\n",
       "    </tr>\n",
       "    <tr>\n",
       "      <th>3</th>\n",
       "      <td>2008-09-01</td>\n",
       "      <td>24870</td>\n",
       "    </tr>\n",
       "    <tr>\n",
       "      <th>4</th>\n",
       "      <td>2008-08-01</td>\n",
       "      <td>32</td>\n",
       "    </tr>\n",
       "  </tbody>\n",
       "</table>\n",
       "</div>"
      ],
      "text/plain": [
       "   month_name  count\n",
       "0  2008-12-01  17641\n",
       "1  2008-11-01  18294\n",
       "2  2008-10-01  27171\n",
       "3  2008-09-01  24870\n",
       "4  2008-08-01     32"
      ]
     },
     "execution_count": 11,
     "metadata": {},
     "output_type": "execute_result"
    }
   ],
   "source": [
    "sample_df_three"
   ]
  },
  {
   "cell_type": "markdown",
   "metadata": {
    "id": "MMVIz4yMlKpN"
   },
   "source": [
    "**Вывод**\n",
    "\n",
    "Видно, что есть аномалия: у пользователей, которые зарегистрировались в сентябре, имеют посты в августе."
   ]
  },
  {
   "cell_type": "markdown",
   "metadata": {
    "id": "5Pcizm0DDWKz"
   },
   "source": [
    "# Задание 4"
   ]
  },
  {
   "cell_type": "markdown",
   "metadata": {
    "id": "KUZPF6vHDWKz"
   },
   "source": [
    "Используя данные о постах, выведите несколько полей:\n",
    "\n",
    "- идентификатор пользователя, который написал пост;\n",
    "- дата создания поста;\n",
    "- количество просмотров у текущего поста;\n",
    "- сумму просмотров постов автора с накоплением.\n",
    "\n",
    "Данные в таблице должны быть отсортированы по возрастанию идентификаторов пользователей, а данные об одном и том же пользователе — по возрастанию даты создания поста."
   ]
  },
  {
   "cell_type": "markdown",
   "metadata": {
    "id": "ZpsTUVDYDWK0"
   },
   "source": [
    "| user_id | creation_date | views_count | cumulative_count |\n",
    "| ------ | -------------- | ----------- | ---------------- |\n",
    "| 1 | 2008-07-31 23:41:00  | 480476   | 480476  |\n",
    "| 1 | 2008-07-31 23:55:38  | 136033 | 616509  | \n",
    "| 1 | 2008-07-31 23:56:41  | 0 |  616509  |\n",
    "| ... | ... | ... | ... |\n",
    "| 2 | 2008-07-31 23:56:41 | 79087  | 79087 |\n",
    "| 2 | 2008-08-01 05:09:56 | 65443 | 144530 |\n",
    "| ... | ...  | ...  | ...  |"
   ]
  },
  {
   "cell_type": "code",
   "execution_count": 12,
   "metadata": {
    "id": "hDoJhMzfDWK0"
   },
   "outputs": [],
   "source": [
    "# напишите запрос\n",
    "query = '''\n",
    "SELECT user_id,\n",
    "       creation_date,\n",
    "       views_count,\n",
    "       SUM(views_count) OVER(PARTITION BY user_id ORDER BY user_id, creation_date) cumulative_count\n",
    "FROM stackoverflow.posts\n",
    "'''\n",
    "\n",
    "# выполните запрос\n",
    "sample_df_four = pd.read_sql_query(query, con=engine) "
   ]
  },
  {
   "cell_type": "code",
   "execution_count": 13,
   "metadata": {
    "scrolled": true
   },
   "outputs": [
    {
     "data": {
      "text/html": [
       "<div>\n",
       "<style scoped>\n",
       "    .dataframe tbody tr th:only-of-type {\n",
       "        vertical-align: middle;\n",
       "    }\n",
       "\n",
       "    .dataframe tbody tr th {\n",
       "        vertical-align: top;\n",
       "    }\n",
       "\n",
       "    .dataframe thead th {\n",
       "        text-align: right;\n",
       "    }\n",
       "</style>\n",
       "<table border=\"1\" class=\"dataframe\">\n",
       "  <thead>\n",
       "    <tr style=\"text-align: right;\">\n",
       "      <th></th>\n",
       "      <th>user_id</th>\n",
       "      <th>creation_date</th>\n",
       "      <th>views_count</th>\n",
       "      <th>cumulative_count</th>\n",
       "    </tr>\n",
       "  </thead>\n",
       "  <tbody>\n",
       "    <tr>\n",
       "      <th>0</th>\n",
       "      <td>1</td>\n",
       "      <td>2008-07-31 23:41:00</td>\n",
       "      <td>480476</td>\n",
       "      <td>480476</td>\n",
       "    </tr>\n",
       "    <tr>\n",
       "      <th>1</th>\n",
       "      <td>1</td>\n",
       "      <td>2008-07-31 23:55:38</td>\n",
       "      <td>136033</td>\n",
       "      <td>616509</td>\n",
       "    </tr>\n",
       "    <tr>\n",
       "      <th>2</th>\n",
       "      <td>1</td>\n",
       "      <td>2008-07-31 23:56:41</td>\n",
       "      <td>0</td>\n",
       "      <td>616509</td>\n",
       "    </tr>\n",
       "    <tr>\n",
       "      <th>3</th>\n",
       "      <td>1</td>\n",
       "      <td>2008-08-04 02:45:08</td>\n",
       "      <td>0</td>\n",
       "      <td>616509</td>\n",
       "    </tr>\n",
       "    <tr>\n",
       "      <th>4</th>\n",
       "      <td>1</td>\n",
       "      <td>2008-08-04 04:31:03</td>\n",
       "      <td>0</td>\n",
       "      <td>616509</td>\n",
       "    </tr>\n",
       "    <tr>\n",
       "      <th>...</th>\n",
       "      <td>...</td>\n",
       "      <td>...</td>\n",
       "      <td>...</td>\n",
       "      <td>...</td>\n",
       "    </tr>\n",
       "    <tr>\n",
       "      <th>243791</th>\n",
       "      <td>5696608</td>\n",
       "      <td>2008-12-23 16:00:37</td>\n",
       "      <td>0</td>\n",
       "      <td>2804</td>\n",
       "    </tr>\n",
       "    <tr>\n",
       "      <th>243792</th>\n",
       "      <td>5696608</td>\n",
       "      <td>2008-12-23 17:35:09</td>\n",
       "      <td>0</td>\n",
       "      <td>2804</td>\n",
       "    </tr>\n",
       "    <tr>\n",
       "      <th>243793</th>\n",
       "      <td>5696608</td>\n",
       "      <td>2008-12-24 01:02:48</td>\n",
       "      <td>0</td>\n",
       "      <td>2804</td>\n",
       "    </tr>\n",
       "    <tr>\n",
       "      <th>243794</th>\n",
       "      <td>5696608</td>\n",
       "      <td>2008-12-30 14:34:45</td>\n",
       "      <td>0</td>\n",
       "      <td>2804</td>\n",
       "    </tr>\n",
       "    <tr>\n",
       "      <th>243795</th>\n",
       "      <td>5696608</td>\n",
       "      <td>2008-12-30 16:32:12</td>\n",
       "      <td>0</td>\n",
       "      <td>2804</td>\n",
       "    </tr>\n",
       "  </tbody>\n",
       "</table>\n",
       "<p>243796 rows × 4 columns</p>\n",
       "</div>"
      ],
      "text/plain": [
       "        user_id       creation_date  views_count  cumulative_count\n",
       "0             1 2008-07-31 23:41:00       480476            480476\n",
       "1             1 2008-07-31 23:55:38       136033            616509\n",
       "2             1 2008-07-31 23:56:41            0            616509\n",
       "3             1 2008-08-04 02:45:08            0            616509\n",
       "4             1 2008-08-04 04:31:03            0            616509\n",
       "...         ...                 ...          ...               ...\n",
       "243791  5696608 2008-12-23 16:00:37            0              2804\n",
       "243792  5696608 2008-12-23 17:35:09            0              2804\n",
       "243793  5696608 2008-12-24 01:02:48            0              2804\n",
       "243794  5696608 2008-12-30 14:34:45            0              2804\n",
       "243795  5696608 2008-12-30 16:32:12            0              2804\n",
       "\n",
       "[243796 rows x 4 columns]"
      ]
     },
     "execution_count": 13,
     "metadata": {},
     "output_type": "execute_result"
    }
   ],
   "source": [
    "sample_df_four"
   ]
  },
  {
   "cell_type": "markdown",
   "metadata": {
    "id": "N0kHRHvIDWK2"
   },
   "source": [
    "# Задание 5"
   ]
  },
  {
   "cell_type": "markdown",
   "metadata": {
    "id": "gBgvmPtODWK2"
   },
   "source": [
    "Найдите среднее количество постов пользователей в день за август 2008 года. Отберите данные о пользователях, которые опубликовали больше 120 постов за август. Дни без публикаций не учитывайте. \n",
    "\n",
    "Отсортируйте результат по возрастанию среднего количества постов. Значения можно не округлять."
   ]
  },
  {
   "cell_type": "markdown",
   "metadata": {
    "id": "nfzR08BODWK3"
   },
   "source": [
    "| user_id | avg_daily |\n",
    "| ------- | --------- |\n",
    "| 116     | 4.777778  |\n",
    "| 234     | 5.208333  |\n",
    "| ...     | ... |"
   ]
  },
  {
   "cell_type": "code",
   "execution_count": 14,
   "metadata": {
    "id": "YFyPNz5GDWK3"
   },
   "outputs": [],
   "source": [
    "# напишите запрос\n",
    "\n",
    "query = '''\n",
    "SELECT DISTINCT user_id,\n",
    "       AVG(count_post) OVER(PARTITION BY user_id) avg_daily\n",
    "FROM\n",
    "    (SELECT user_id,\n",
    "            DATE_TRUNC('DAY', creation_date)::date day_number,\n",
    "            COUNT(*) count_post\n",
    "    FROM stackoverflow.posts\n",
    "    WHERE user_id IN (SELECT user_id\n",
    "                      FROM stackoverflow.posts\n",
    "                      WHERE DATE_TRUNC('MONTH', creation_date)::date = '2008-08-01'\n",
    "                      GROUP BY user_id\n",
    "                      HAVING COUNT(id) > 120)\n",
    "      AND DATE_TRUNC('MONTH', creation_date)::date = '2008-08-01'\n",
    "    GROUP BY user_id, DATE_TRUNC('DAY', creation_date)::date) data_count\n",
    "ORDER BY avg_daily\n",
    "'''\n",
    "\n",
    "# выполните запрос\n",
    "sample_df_five = pd.read_sql_query(query, con=engine) "
   ]
  },
  {
   "cell_type": "code",
   "execution_count": 15,
   "metadata": {},
   "outputs": [
    {
     "data": {
      "text/html": [
       "<div>\n",
       "<style scoped>\n",
       "    .dataframe tbody tr th:only-of-type {\n",
       "        vertical-align: middle;\n",
       "    }\n",
       "\n",
       "    .dataframe tbody tr th {\n",
       "        vertical-align: top;\n",
       "    }\n",
       "\n",
       "    .dataframe thead th {\n",
       "        text-align: right;\n",
       "    }\n",
       "</style>\n",
       "<table border=\"1\" class=\"dataframe\">\n",
       "  <thead>\n",
       "    <tr style=\"text-align: right;\">\n",
       "      <th></th>\n",
       "      <th>user_id</th>\n",
       "      <th>avg_daily</th>\n",
       "    </tr>\n",
       "  </thead>\n",
       "  <tbody>\n",
       "    <tr>\n",
       "      <th>0</th>\n",
       "      <td>116</td>\n",
       "      <td>4.777778</td>\n",
       "    </tr>\n",
       "    <tr>\n",
       "      <th>1</th>\n",
       "      <td>234</td>\n",
       "      <td>5.208333</td>\n",
       "    </tr>\n",
       "    <tr>\n",
       "      <th>2</th>\n",
       "      <td>91</td>\n",
       "      <td>5.681818</td>\n",
       "    </tr>\n",
       "    <tr>\n",
       "      <th>3</th>\n",
       "      <td>905</td>\n",
       "      <td>7.000000</td>\n",
       "    </tr>\n",
       "    <tr>\n",
       "      <th>4</th>\n",
       "      <td>383</td>\n",
       "      <td>7.277778</td>\n",
       "    </tr>\n",
       "  </tbody>\n",
       "</table>\n",
       "</div>"
      ],
      "text/plain": [
       "   user_id  avg_daily\n",
       "0      116   4.777778\n",
       "1      234   5.208333\n",
       "2       91   5.681818\n",
       "3      905   7.000000\n",
       "4      383   7.277778"
      ]
     },
     "execution_count": 15,
     "metadata": {},
     "output_type": "execute_result"
    }
   ],
   "source": [
    "sample_df_five"
   ]
  },
  {
   "cell_type": "markdown",
   "metadata": {
    "id": "EQ0dcFH4DWK5"
   },
   "source": [
    "# Задание 6"
   ]
  },
  {
   "cell_type": "markdown",
   "metadata": {
    "id": "c7flfg_hDWK5"
   },
   "source": [
    "Сколько в среднем дней в период с 1 по 7 декабря 2008 года пользователи взаимодействовали с платформой? Для каждого пользователя отберите дни, в которые он или она опубликовали хотя бы один пост. Нужно получить одно целое число — не забудьте округлить результат. "
   ]
  },
  {
   "cell_type": "markdown",
   "metadata": {
    "id": "RC1Ibzm9DWK6"
   },
   "source": [
    "| result |\n",
    "| -----  |\n",
    "| <целое число> |"
   ]
  },
  {
   "cell_type": "code",
   "execution_count": 16,
   "metadata": {},
   "outputs": [],
   "source": [
    "# напишите запрос\n",
    "query = '''\n",
    "WITH distinct_date AS \n",
    "    (SELECT user_id,\n",
    "            COUNT(DISTINCT DATE_TRUNC('DAY', creation_date)::date) count_days\n",
    "     FROM stackoverflow.posts\n",
    "     WHERE DATE_TRUNC('DAY', creation_date)::date BETWEEN '2008-12-01' AND '2008-12-07'\n",
    "     GROUP BY user_id)\n",
    "      \n",
    "SELECT ROUND(AVG(count_days))\n",
    "FROM distinct_date\n",
    "'''\n",
    "\n",
    "# выполните запрос\n",
    "sample_df_six = pd.read_sql_query(query, con=engine) "
   ]
  },
  {
   "cell_type": "code",
   "execution_count": 17,
   "metadata": {},
   "outputs": [
    {
     "data": {
      "text/html": [
       "<div>\n",
       "<style scoped>\n",
       "    .dataframe tbody tr th:only-of-type {\n",
       "        vertical-align: middle;\n",
       "    }\n",
       "\n",
       "    .dataframe tbody tr th {\n",
       "        vertical-align: top;\n",
       "    }\n",
       "\n",
       "    .dataframe thead th {\n",
       "        text-align: right;\n",
       "    }\n",
       "</style>\n",
       "<table border=\"1\" class=\"dataframe\">\n",
       "  <thead>\n",
       "    <tr style=\"text-align: right;\">\n",
       "      <th></th>\n",
       "      <th>round</th>\n",
       "    </tr>\n",
       "  </thead>\n",
       "  <tbody>\n",
       "    <tr>\n",
       "      <th>0</th>\n",
       "      <td>2.0</td>\n",
       "    </tr>\n",
       "  </tbody>\n",
       "</table>\n",
       "</div>"
      ],
      "text/plain": [
       "   round\n",
       "0    2.0"
      ]
     },
     "execution_count": 17,
     "metadata": {},
     "output_type": "execute_result"
    }
   ],
   "source": [
    "sample_df_six"
   ]
  },
  {
   "cell_type": "markdown",
   "metadata": {
    "id": "LfUuYz-1DWK8"
   },
   "source": [
    "**Вывод**\n",
    "\n",
    "В среднем пользователь делал 2 поста в день за период с 1 по 7 декабря 2008 года."
   ]
  },
  {
   "cell_type": "markdown",
   "metadata": {
    "id": "wfOmqmfLDWK8"
   },
   "source": [
    "# Задание 7"
   ]
  },
  {
   "cell_type": "markdown",
   "metadata": {
    "id": "X4ARQimADWK9"
   },
   "source": [
    "Выведите историю активности каждого пользователя в таком виде: идентификатор пользователя, дата публикации поста. Отсортируйте вывод по возрастанию идентификаторов пользователей, а для каждого пользователя — по возрастанию даты публикации.\n",
    "\n",
    "Добавьте в таблицу новое поле: для каждого поста в нём будет указано название месяца предпоследней публикации пользователя относительно текущей. Если такой публикации нет, укажите `NULL`.  Python автоматически поменяет `NULL` на `None`, но дополнительно преобразовывать значения `None` вам не нужно.\n",
    "\n",
    "Посмотрите внимательно на образец таблицы: для первых двух постов предпоследней публикации нет, но, начиная с третьего поста, в новое поле входит нужный месяц. Для следующего пользователя в первые две записи поля `second_last_month` тоже войдёт `NULL`."
   ]
  },
  {
   "cell_type": "markdown",
   "metadata": {
    "id": "IGPjRP01DWK9"
   },
   "source": [
    "| user_id | creation_date | second_last_month |\n",
    "| ------- | ------------- | ----------------- |\n",
    "| 1       | 2008-07-31 23:41:00 | None |\n",
    "| 1       | 2008-07-31 23:55:38 | None |\n",
    "| 1       | 2008-07-31 23:56:41 | July |\n",
    "| 1       | 2008-08-04 02:45:08 | July |\n",
    "| 1       | 2008-08-04 04:31:03 | July |\n",
    "| 1       | 2008-08-04 08:04:42 | August |\n",
    "| ... | ... | ... |"
   ]
  },
  {
   "cell_type": "code",
   "execution_count": 19,
   "metadata": {
    "id": "HzI1vhaMDWK-"
   },
   "outputs": [],
   "source": [
    "# напишите запрос\n",
    "\n",
    "query = '''\n",
    "WITH date_df AS (SELECT user_id,\n",
    "                        creation_date,\n",
    "                        EXTRACT(MONTH FROM LAG(creation_date, 2, NULL) OVER (PARTITION BY user_id ORDER BY creation_date)) AS new_date\n",
    "                 FROM stackoverflow.posts)\n",
    "            \n",
    "SELECT user_id,\n",
    "       creation_date,\n",
    "       CASE\n",
    "            WHEN new_date = 1 THEN 'January'\n",
    "            WHEN new_date = 2 THEN 'February'\n",
    "            WHEN new_date = 3 THEN 'March'\n",
    "            WHEN new_date = 4 THEN 'April'\n",
    "            WHEN new_date = 5 THEN 'May'\n",
    "            WHEN new_date = 6 THEN 'June'\n",
    "            WHEN new_date = 7 THEN 'July'\n",
    "            WHEN new_date = 8 THEN 'August'\n",
    "            WHEN new_date = 9 THEN 'September'\n",
    "            WHEN new_date = 10 THEN 'October'\n",
    "            WHEN new_date = 11 THEN 'November'\n",
    "            WHEN new_date = 12 THEN 'December'\n",
    "       END as second_last_month\n",
    "FROM date_df\n",
    "'''\n",
    "\n",
    "# выполните запрос\n",
    "sample_df_seven = pd.read_sql_query(query, con=engine) "
   ]
  },
  {
   "cell_type": "code",
   "execution_count": 20,
   "metadata": {},
   "outputs": [
    {
     "data": {
      "text/html": [
       "<div>\n",
       "<style scoped>\n",
       "    .dataframe tbody tr th:only-of-type {\n",
       "        vertical-align: middle;\n",
       "    }\n",
       "\n",
       "    .dataframe tbody tr th {\n",
       "        vertical-align: top;\n",
       "    }\n",
       "\n",
       "    .dataframe thead th {\n",
       "        text-align: right;\n",
       "    }\n",
       "</style>\n",
       "<table border=\"1\" class=\"dataframe\">\n",
       "  <thead>\n",
       "    <tr style=\"text-align: right;\">\n",
       "      <th></th>\n",
       "      <th>user_id</th>\n",
       "      <th>creation_date</th>\n",
       "      <th>second_last_month</th>\n",
       "    </tr>\n",
       "  </thead>\n",
       "  <tbody>\n",
       "    <tr>\n",
       "      <th>0</th>\n",
       "      <td>1</td>\n",
       "      <td>2008-07-31 23:41:00</td>\n",
       "      <td>None</td>\n",
       "    </tr>\n",
       "    <tr>\n",
       "      <th>1</th>\n",
       "      <td>1</td>\n",
       "      <td>2008-07-31 23:55:38</td>\n",
       "      <td>None</td>\n",
       "    </tr>\n",
       "    <tr>\n",
       "      <th>2</th>\n",
       "      <td>1</td>\n",
       "      <td>2008-07-31 23:56:41</td>\n",
       "      <td>July</td>\n",
       "    </tr>\n",
       "    <tr>\n",
       "      <th>3</th>\n",
       "      <td>1</td>\n",
       "      <td>2008-08-04 02:45:08</td>\n",
       "      <td>July</td>\n",
       "    </tr>\n",
       "    <tr>\n",
       "      <th>4</th>\n",
       "      <td>1</td>\n",
       "      <td>2008-08-04 04:31:03</td>\n",
       "      <td>July</td>\n",
       "    </tr>\n",
       "    <tr>\n",
       "      <th>...</th>\n",
       "      <td>...</td>\n",
       "      <td>...</td>\n",
       "      <td>...</td>\n",
       "    </tr>\n",
       "    <tr>\n",
       "      <th>243791</th>\n",
       "      <td>5696608</td>\n",
       "      <td>2008-12-23 16:00:37</td>\n",
       "      <td>December</td>\n",
       "    </tr>\n",
       "    <tr>\n",
       "      <th>243792</th>\n",
       "      <td>5696608</td>\n",
       "      <td>2008-12-23 17:35:09</td>\n",
       "      <td>December</td>\n",
       "    </tr>\n",
       "    <tr>\n",
       "      <th>243793</th>\n",
       "      <td>5696608</td>\n",
       "      <td>2008-12-24 01:02:48</td>\n",
       "      <td>December</td>\n",
       "    </tr>\n",
       "    <tr>\n",
       "      <th>243794</th>\n",
       "      <td>5696608</td>\n",
       "      <td>2008-12-30 14:34:45</td>\n",
       "      <td>December</td>\n",
       "    </tr>\n",
       "    <tr>\n",
       "      <th>243795</th>\n",
       "      <td>5696608</td>\n",
       "      <td>2008-12-30 16:32:12</td>\n",
       "      <td>December</td>\n",
       "    </tr>\n",
       "  </tbody>\n",
       "</table>\n",
       "<p>243796 rows × 3 columns</p>\n",
       "</div>"
      ],
      "text/plain": [
       "        user_id       creation_date second_last_month\n",
       "0             1 2008-07-31 23:41:00              None\n",
       "1             1 2008-07-31 23:55:38              None\n",
       "2             1 2008-07-31 23:56:41              July\n",
       "3             1 2008-08-04 02:45:08              July\n",
       "4             1 2008-08-04 04:31:03              July\n",
       "...         ...                 ...               ...\n",
       "243791  5696608 2008-12-23 16:00:37          December\n",
       "243792  5696608 2008-12-23 17:35:09          December\n",
       "243793  5696608 2008-12-24 01:02:48          December\n",
       "243794  5696608 2008-12-30 14:34:45          December\n",
       "243795  5696608 2008-12-30 16:32:12          December\n",
       "\n",
       "[243796 rows x 3 columns]"
      ]
     },
     "execution_count": 20,
     "metadata": {},
     "output_type": "execute_result"
    }
   ],
   "source": [
    "sample_df_seven"
   ]
  },
  {
   "cell_type": "markdown",
   "metadata": {
    "id": "tf9qq2yzDWK_"
   },
   "source": [
    "# Задание 8"
   ]
  },
  {
   "cell_type": "markdown",
   "metadata": {
    "id": "gfwLVXBYDWLA"
   },
   "source": [
    "Рассчитайте аналог Retention Rate по месяцам для пользователей StackOverflow. Объедините пользователей в когорты по месяцу их первого поста. Возвращение определяйте по наличию поста в текущем месяце. "
   ]
  },
  {
   "cell_type": "markdown",
   "metadata": {
    "id": "kN2ic39WlKpl"
   },
   "source": [
    "| cohort_dt | session_date | users_cnt | cohort_users_cnt | retention_rate |\n",
    "| --- | --- | --- | --- | --- |\n",
    "| 2008-07-01 00:00:00 | 2008-07-01 00:00:00 | 3 | 3 | 100 |\n",
    "| 2008-07-01 00:00:00 | 2008-08-01 00:00:00 | 2 | 3 | 66,67 |\n",
    "| 2008-07-01 00:00:00 | 2008-09-01 00:00:00 | 1 | 3 | 33,33 |\n",
    "| 2008-07-01 00:00:00 | 2008-10-01 00:00:00 | 2 | 3 | 66,67 |\n",
    "| 2008-07-01 00:00:00 | 2008-11-01 00:00:00 | 1 | 3 | 33,33 |\n",
    "| 2008-07-01 00:00:00 | 2008-12-01 00:00:00 | 2 | 3 | 66,67 |\n",
    "| 2008-08-01 00:00:00 | 2008-08-01 00:00:00 | 2151 | 2151 | 100 |\n",
    "| ... | ... | ... | ... | ... |"
   ]
  },
  {
   "cell_type": "code",
   "execution_count": 23,
   "metadata": {
    "id": "LUgFmwmTDWLB"
   },
   "outputs": [],
   "source": [
    "# напишите запрос\n",
    "\n",
    "query = '''\n",
    "WITH session AS (SELECT DISTINCT\n",
    "                        DATE_TRUNC('MONTH', creation_date) session_date,\n",
    "                        user_id\n",
    "                 FROM stackoverflow.posts\n",
    "                 GROUP BY user_id,\n",
    "                          DATE_TRUNC('MONTH', creation_date)),\n",
    "     profile_new AS (SELECT DISTINCT\n",
    "                            user_id,\n",
    "                            cohort_dt,\n",
    "                            COUNT(user_id) OVER(PARTITION BY cohort_dt) cohort_users_cnt\n",
    "                     FROM\n",
    "                          (SELECT DISTINCT\n",
    "                                  user_id,\n",
    "                                  MIN(DATE_TRUNC('MONTH', creation_date)) OVER(PARTITION BY user_id) cohort_dt\n",
    "                           FROM stackoverflow.posts) profile)    \n",
    "                                 \n",
    "SELECT DISTINCT\n",
    "       cohort_dt::date,\n",
    "       session_date::date,\n",
    "       COUNT(p.user_id) AS users_cnt,\n",
    "       cohort_users_cnt,\n",
    "       ROUND(COUNT(p.user_id) * 100.0 / cohort_users_cnt, 2) AS retention_rate\n",
    "FROM session s\n",
    "RIGHT JOIN profile_new p ON s.user_id = p.user_id\n",
    "GROUP BY 1,\n",
    "         2,\n",
    "         4\n",
    "ORDER BY cohort_dt, session_date\n",
    "'''\n",
    "\n",
    "# выполните запрос\n",
    "\n",
    "sample_df_eight = pd.read_sql_query(query, con=engine) "
   ]
  },
  {
   "cell_type": "code",
   "execution_count": 24,
   "metadata": {},
   "outputs": [
    {
     "data": {
      "text/html": [
       "<div>\n",
       "<style scoped>\n",
       "    .dataframe tbody tr th:only-of-type {\n",
       "        vertical-align: middle;\n",
       "    }\n",
       "\n",
       "    .dataframe tbody tr th {\n",
       "        vertical-align: top;\n",
       "    }\n",
       "\n",
       "    .dataframe thead th {\n",
       "        text-align: right;\n",
       "    }\n",
       "</style>\n",
       "<table border=\"1\" class=\"dataframe\">\n",
       "  <thead>\n",
       "    <tr style=\"text-align: right;\">\n",
       "      <th></th>\n",
       "      <th>cohort_dt</th>\n",
       "      <th>session_date</th>\n",
       "      <th>users_cnt</th>\n",
       "      <th>cohort_users_cnt</th>\n",
       "      <th>retention_rate</th>\n",
       "    </tr>\n",
       "  </thead>\n",
       "  <tbody>\n",
       "    <tr>\n",
       "      <th>0</th>\n",
       "      <td>2008-07-01</td>\n",
       "      <td>2008-07-01</td>\n",
       "      <td>3</td>\n",
       "      <td>3</td>\n",
       "      <td>100.00</td>\n",
       "    </tr>\n",
       "    <tr>\n",
       "      <th>1</th>\n",
       "      <td>2008-07-01</td>\n",
       "      <td>2008-08-01</td>\n",
       "      <td>2</td>\n",
       "      <td>3</td>\n",
       "      <td>66.67</td>\n",
       "    </tr>\n",
       "    <tr>\n",
       "      <th>2</th>\n",
       "      <td>2008-07-01</td>\n",
       "      <td>2008-09-01</td>\n",
       "      <td>1</td>\n",
       "      <td>3</td>\n",
       "      <td>33.33</td>\n",
       "    </tr>\n",
       "    <tr>\n",
       "      <th>3</th>\n",
       "      <td>2008-07-01</td>\n",
       "      <td>2008-10-01</td>\n",
       "      <td>2</td>\n",
       "      <td>3</td>\n",
       "      <td>66.67</td>\n",
       "    </tr>\n",
       "    <tr>\n",
       "      <th>4</th>\n",
       "      <td>2008-07-01</td>\n",
       "      <td>2008-11-01</td>\n",
       "      <td>1</td>\n",
       "      <td>3</td>\n",
       "      <td>33.33</td>\n",
       "    </tr>\n",
       "    <tr>\n",
       "      <th>5</th>\n",
       "      <td>2008-07-01</td>\n",
       "      <td>2008-12-01</td>\n",
       "      <td>2</td>\n",
       "      <td>3</td>\n",
       "      <td>66.67</td>\n",
       "    </tr>\n",
       "    <tr>\n",
       "      <th>6</th>\n",
       "      <td>2008-08-01</td>\n",
       "      <td>2008-08-01</td>\n",
       "      <td>2151</td>\n",
       "      <td>2151</td>\n",
       "      <td>100.00</td>\n",
       "    </tr>\n",
       "    <tr>\n",
       "      <th>7</th>\n",
       "      <td>2008-08-01</td>\n",
       "      <td>2008-09-01</td>\n",
       "      <td>1571</td>\n",
       "      <td>2151</td>\n",
       "      <td>73.04</td>\n",
       "    </tr>\n",
       "    <tr>\n",
       "      <th>8</th>\n",
       "      <td>2008-08-01</td>\n",
       "      <td>2008-10-01</td>\n",
       "      <td>1275</td>\n",
       "      <td>2151</td>\n",
       "      <td>59.27</td>\n",
       "    </tr>\n",
       "    <tr>\n",
       "      <th>9</th>\n",
       "      <td>2008-08-01</td>\n",
       "      <td>2008-11-01</td>\n",
       "      <td>1050</td>\n",
       "      <td>2151</td>\n",
       "      <td>48.81</td>\n",
       "    </tr>\n",
       "    <tr>\n",
       "      <th>10</th>\n",
       "      <td>2008-08-01</td>\n",
       "      <td>2008-12-01</td>\n",
       "      <td>894</td>\n",
       "      <td>2151</td>\n",
       "      <td>41.56</td>\n",
       "    </tr>\n",
       "    <tr>\n",
       "      <th>11</th>\n",
       "      <td>2008-09-01</td>\n",
       "      <td>2008-09-01</td>\n",
       "      <td>7678</td>\n",
       "      <td>7678</td>\n",
       "      <td>100.00</td>\n",
       "    </tr>\n",
       "    <tr>\n",
       "      <th>12</th>\n",
       "      <td>2008-09-01</td>\n",
       "      <td>2008-10-01</td>\n",
       "      <td>4132</td>\n",
       "      <td>7678</td>\n",
       "      <td>53.82</td>\n",
       "    </tr>\n",
       "    <tr>\n",
       "      <th>13</th>\n",
       "      <td>2008-09-01</td>\n",
       "      <td>2008-11-01</td>\n",
       "      <td>2966</td>\n",
       "      <td>7678</td>\n",
       "      <td>38.63</td>\n",
       "    </tr>\n",
       "    <tr>\n",
       "      <th>14</th>\n",
       "      <td>2008-09-01</td>\n",
       "      <td>2008-12-01</td>\n",
       "      <td>2500</td>\n",
       "      <td>7678</td>\n",
       "      <td>32.56</td>\n",
       "    </tr>\n",
       "    <tr>\n",
       "      <th>15</th>\n",
       "      <td>2008-10-01</td>\n",
       "      <td>2008-10-01</td>\n",
       "      <td>3629</td>\n",
       "      <td>3629</td>\n",
       "      <td>100.00</td>\n",
       "    </tr>\n",
       "    <tr>\n",
       "      <th>16</th>\n",
       "      <td>2008-10-01</td>\n",
       "      <td>2008-11-01</td>\n",
       "      <td>1640</td>\n",
       "      <td>3629</td>\n",
       "      <td>45.19</td>\n",
       "    </tr>\n",
       "    <tr>\n",
       "      <th>17</th>\n",
       "      <td>2008-10-01</td>\n",
       "      <td>2008-12-01</td>\n",
       "      <td>1221</td>\n",
       "      <td>3629</td>\n",
       "      <td>33.65</td>\n",
       "    </tr>\n",
       "    <tr>\n",
       "      <th>18</th>\n",
       "      <td>2008-11-01</td>\n",
       "      <td>2008-11-01</td>\n",
       "      <td>2852</td>\n",
       "      <td>2852</td>\n",
       "      <td>100.00</td>\n",
       "    </tr>\n",
       "    <tr>\n",
       "      <th>19</th>\n",
       "      <td>2008-11-01</td>\n",
       "      <td>2008-12-01</td>\n",
       "      <td>1151</td>\n",
       "      <td>2852</td>\n",
       "      <td>40.36</td>\n",
       "    </tr>\n",
       "    <tr>\n",
       "      <th>20</th>\n",
       "      <td>2008-12-01</td>\n",
       "      <td>2008-12-01</td>\n",
       "      <td>2536</td>\n",
       "      <td>2536</td>\n",
       "      <td>100.00</td>\n",
       "    </tr>\n",
       "  </tbody>\n",
       "</table>\n",
       "</div>"
      ],
      "text/plain": [
       "     cohort_dt session_date  users_cnt  cohort_users_cnt  retention_rate\n",
       "0   2008-07-01   2008-07-01          3                 3          100.00\n",
       "1   2008-07-01   2008-08-01          2                 3           66.67\n",
       "2   2008-07-01   2008-09-01          1                 3           33.33\n",
       "3   2008-07-01   2008-10-01          2                 3           66.67\n",
       "4   2008-07-01   2008-11-01          1                 3           33.33\n",
       "5   2008-07-01   2008-12-01          2                 3           66.67\n",
       "6   2008-08-01   2008-08-01       2151              2151          100.00\n",
       "7   2008-08-01   2008-09-01       1571              2151           73.04\n",
       "8   2008-08-01   2008-10-01       1275              2151           59.27\n",
       "9   2008-08-01   2008-11-01       1050              2151           48.81\n",
       "10  2008-08-01   2008-12-01        894              2151           41.56\n",
       "11  2008-09-01   2008-09-01       7678              7678          100.00\n",
       "12  2008-09-01   2008-10-01       4132              7678           53.82\n",
       "13  2008-09-01   2008-11-01       2966              7678           38.63\n",
       "14  2008-09-01   2008-12-01       2500              7678           32.56\n",
       "15  2008-10-01   2008-10-01       3629              3629          100.00\n",
       "16  2008-10-01   2008-11-01       1640              3629           45.19\n",
       "17  2008-10-01   2008-12-01       1221              3629           33.65\n",
       "18  2008-11-01   2008-11-01       2852              2852          100.00\n",
       "19  2008-11-01   2008-12-01       1151              2852           40.36\n",
       "20  2008-12-01   2008-12-01       2536              2536          100.00"
      ]
     },
     "execution_count": 24,
     "metadata": {},
     "output_type": "execute_result"
    }
   ],
   "source": [
    "sample_df_eight"
   ]
  },
  {
   "cell_type": "code",
   "execution_count": 25,
   "metadata": {
    "id": "qAEJc8H1DWLC"
   },
   "outputs": [
    {
     "data": {
      "image/png": "[encoded data removed]",
      "text/plain": [
       "<Figure size 1152x1152 with 2 Axes>"
      ]
     },
     "metadata": {
      "needs_background": "light"
     },
     "output_type": "display_data"
    }
   ],
   "source": [
    "# построил тепловую карту Retention Rate\n",
    "\n",
    "retention = sample_df_eight.pivot('cohort_dt', 'session_date', 'retention_rate')\n",
    "retention.index = [str(x) for x in retention.index]\n",
    "retention.columns = [str(x) for x in retention.columns]\n",
    "\n",
    "# строим хитмэп\n",
    "plt.figure(figsize=(16, 16)) \n",
    "sns.heatmap(retention, \n",
    "            annot=True, \n",
    "            fmt='') \n",
    "plt.title('Тепловая карта') \n",
    "plt.show() "
   ]
  },
  {
   "cell_type": "markdown",
   "metadata": {},
   "source": [
    "**Вывод**\n",
    "\n",
    "В когорте, которая 11 января - самый маленький Retention Rate на след. месяц, а 8 января - самый большой(у них очень большой отток). У всех когорт, кроме той, которые сделали 1 пост в июле с каждым месяцем отток понижался, а у когорты июля он то понижался, то повышался(т.е. пользователи возвращались :), чтобы снова попробовать).\n",
    "\n",
    "Какие могут быть причины большого оттока? Возможно, не понравился сайт, все таки 2008 год, пользователи пришли, попробовали и им просто не понравилось(на данный момент, предполагаю, что у них отток меньше, чем тогда)"
   ]
  },
  {
   "cell_type": "markdown",
   "metadata": {
    "id": "1k7oPWt5DWLK"
   },
   "source": [
    "# Задание 9\n"
   ]
  },
  {
   "cell_type": "markdown",
   "metadata": {
    "id": "ALsYVSyRDWLM"
   },
   "source": [
    "На сколько процентов менялось количество постов ежемесячно с 1 сентября по 31 декабря 2008 года? Отобразите таблицу со следующими полями:\n",
    "\n",
    "- номер месяца;\n",
    "- количество постов за месяц;\n",
    "- процент, который показывает, насколько изменилось количество постов в текущем месяце по сравнению с предыдущим.\n",
    "\n",
    "Если постов стало меньше, значение процента должно быть отрицательным, если больше — положительным. Округлите значение процента до двух знаков после запятой.\n",
    "\n",
    "Напомним, что при делении одного целого числа на другое в PostgreSQL в результате получится целое число, округлённое до ближайшего целого вниз. Чтобы этого избежать, переведите делимое в тип `numeric`."
   ]
  },
  {
   "cell_type": "markdown",
   "metadata": {
    "id": "u4E2zF8DDWLM"
   },
   "source": [
    "| creation_month | posts_count | percentage |\n",
    "| -------------- | ----------- | ---------- |\n",
    "| 9 | 70731 | Nan |\n",
    "| 10 | 63102 | -10.33 |\n",
    "| ... | ... | ... |"
   ]
  },
  {
   "cell_type": "code",
   "execution_count": 26,
   "metadata": {
    "id": "Mb5pShStDWLN"
   },
   "outputs": [],
   "source": [
    "# напишите запрос\n",
    "query = '''\n",
    "WITH count_p AS (SELECT DISTINCT\n",
    "                        EXTRACT(MONTH FROM creation_date)::int creation_month,\n",
    "                        COUNT(*) OVER(PARTITION BY EXTRACT(MONTH FROM creation_date)) posts_count\n",
    "                 FROM stackoverflow.posts\n",
    "                 WHERE DATE_TRUNC('DAY', creation_date) BETWEEN '2008-09-01' AND '2008-12-31')\n",
    "                 \n",
    "SELECT creation_month,\n",
    "       posts_count, \n",
    "       ROUND(((posts_count - LAG(posts_count) OVER(ORDER BY creation_month))::numeric / LAG(posts_count) OVER(ORDER BY creation_month)) * 100, 2) percentage\n",
    "FROM count_p\n",
    "\n",
    "'''\n",
    "\n",
    "# выполните запрос\n",
    "sample_df_nine = pd.read_sql_query(query, con=engine) "
   ]
  },
  {
   "cell_type": "code",
   "execution_count": 27,
   "metadata": {},
   "outputs": [
    {
     "data": {
      "text/html": [
       "<div>\n",
       "<style scoped>\n",
       "    .dataframe tbody tr th:only-of-type {\n",
       "        vertical-align: middle;\n",
       "    }\n",
       "\n",
       "    .dataframe tbody tr th {\n",
       "        vertical-align: top;\n",
       "    }\n",
       "\n",
       "    .dataframe thead th {\n",
       "        text-align: right;\n",
       "    }\n",
       "</style>\n",
       "<table border=\"1\" class=\"dataframe\">\n",
       "  <thead>\n",
       "    <tr style=\"text-align: right;\">\n",
       "      <th></th>\n",
       "      <th>creation_month</th>\n",
       "      <th>posts_count</th>\n",
       "      <th>percentage</th>\n",
       "    </tr>\n",
       "  </thead>\n",
       "  <tbody>\n",
       "    <tr>\n",
       "      <th>0</th>\n",
       "      <td>9</td>\n",
       "      <td>70371</td>\n",
       "      <td>NaN</td>\n",
       "    </tr>\n",
       "    <tr>\n",
       "      <th>1</th>\n",
       "      <td>10</td>\n",
       "      <td>63102</td>\n",
       "      <td>-10.33</td>\n",
       "    </tr>\n",
       "    <tr>\n",
       "      <th>2</th>\n",
       "      <td>11</td>\n",
       "      <td>46975</td>\n",
       "      <td>-25.56</td>\n",
       "    </tr>\n",
       "    <tr>\n",
       "      <th>3</th>\n",
       "      <td>12</td>\n",
       "      <td>44592</td>\n",
       "      <td>-5.07</td>\n",
       "    </tr>\n",
       "  </tbody>\n",
       "</table>\n",
       "</div>"
      ],
      "text/plain": [
       "   creation_month  posts_count  percentage\n",
       "0               9        70371         NaN\n",
       "1              10        63102      -10.33\n",
       "2              11        46975      -25.56\n",
       "3              12        44592       -5.07"
      ]
     },
     "execution_count": 27,
     "metadata": {},
     "output_type": "execute_result"
    }
   ],
   "source": [
    "sample_df_nine"
   ]
  },
  {
   "cell_type": "code",
   "execution_count": 28,
   "metadata": {},
   "outputs": [
    {
     "data": {
      "text/plain": [
       "<Figure size 864x720 with 0 Axes>"
      ]
     },
     "metadata": {},
     "output_type": "display_data"
    },
    {
     "data": {
      "image/png": "[encoded data removed]",
      "text/plain": [
       "<Figure size 864x720 with 1 Axes>"
      ]
     },
     "metadata": {},
     "output_type": "display_data"
    }
   ],
   "source": [
    "# постройте круговую диаграмму с количеством постов по месяцам\n",
    "plt.figure(figsize=(12, 10));\n",
    "sample_df_nine.plot.pie(y='posts_count', autopct=\"%.1f%%\", labels=sample_df_nine['creation_month'], figsize=(12,10));\n",
    "plt.title('Количество постов в процентах по месяцам');"
   ]
  },
  {
   "cell_type": "markdown",
   "metadata": {
    "id": "uw7qMtafDWLP"
   },
   "source": [
    "# Задание 10"
   ]
  },
  {
   "cell_type": "markdown",
   "metadata": {
    "id": "oRBpWKx3DWLQ"
   },
   "source": [
    "Выгрузите данные активности пользователя, который опубликовал больше всего постов за всё время. Выведите данные за октябрь 2008 года в таком виде:\n",
    "\n",
    "- номер недели;\n",
    "- дата и время последнего поста, опубликованного на этой неделе."
   ]
  },
  {
   "cell_type": "markdown",
   "metadata": {
    "id": "XjAWSn_3DWLQ"
   },
   "source": [
    "| week_creation | creation_date |\n",
    "| ------------- | ------------- |\n",
    "| 40 | 2008-10-05 09:00:58 |\n",
    "| 41 | 2008-10-12 21:22:23 |\n",
    "| ... | ... |"
   ]
  },
  {
   "cell_type": "code",
   "execution_count": 29,
   "metadata": {
    "id": "r5F5fSkwDWLQ"
   },
   "outputs": [],
   "source": [
    "# напишите запрос\n",
    "\n",
    "query = '''\n",
    "SELECT DISTINCT\n",
    "       EXTRACT(WEEK FROM creation_date)::int week_creation,\n",
    "       MAX(creation_date) OVER(PARTITION BY EXTRACT(WEEK FROM creation_date)) creation_date\n",
    "FROM stackoverflow.posts\n",
    "WHERE user_id IN (SELECT user_id\n",
    "                  FROM\n",
    "                      (SELECT DISTINCT\n",
    "                              user_id,\n",
    "                              COUNT(*) OVER(PARTITION BY user_id) count_posts\n",
    "                       FROM stackoverflow.posts\n",
    "                       ORDER BY count_posts DESC) user_df\n",
    "                  ORDER BY count_posts DESC\n",
    "                  LIMIT 1)\n",
    "  AND DATE_TRUNC('MONTH', creation_date) = '2008-10-01'\n",
    "            \n",
    "'''\n",
    "\n",
    "# выполните запрос\n",
    "sample_df_ten = pd.read_sql_query(query, con=engine) "
   ]
  },
  {
   "cell_type": "code",
   "execution_count": 30,
   "metadata": {},
   "outputs": [
    {
     "data": {
      "text/html": [
       "<div>\n",
       "<style scoped>\n",
       "    .dataframe tbody tr th:only-of-type {\n",
       "        vertical-align: middle;\n",
       "    }\n",
       "\n",
       "    .dataframe tbody tr th {\n",
       "        vertical-align: top;\n",
       "    }\n",
       "\n",
       "    .dataframe thead th {\n",
       "        text-align: right;\n",
       "    }\n",
       "</style>\n",
       "<table border=\"1\" class=\"dataframe\">\n",
       "  <thead>\n",
       "    <tr style=\"text-align: right;\">\n",
       "      <th></th>\n",
       "      <th>week_creation</th>\n",
       "      <th>creation_date</th>\n",
       "    </tr>\n",
       "  </thead>\n",
       "  <tbody>\n",
       "    <tr>\n",
       "      <th>0</th>\n",
       "      <td>40</td>\n",
       "      <td>2008-10-05 09:00:58</td>\n",
       "    </tr>\n",
       "    <tr>\n",
       "      <th>1</th>\n",
       "      <td>41</td>\n",
       "      <td>2008-10-12 21:22:23</td>\n",
       "    </tr>\n",
       "    <tr>\n",
       "      <th>2</th>\n",
       "      <td>42</td>\n",
       "      <td>2008-10-19 06:49:30</td>\n",
       "    </tr>\n",
       "    <tr>\n",
       "      <th>3</th>\n",
       "      <td>43</td>\n",
       "      <td>2008-10-26 21:44:36</td>\n",
       "    </tr>\n",
       "    <tr>\n",
       "      <th>4</th>\n",
       "      <td>44</td>\n",
       "      <td>2008-10-31 22:16:01</td>\n",
       "    </tr>\n",
       "  </tbody>\n",
       "</table>\n",
       "</div>"
      ],
      "text/plain": [
       "   week_creation       creation_date\n",
       "0             40 2008-10-05 09:00:58\n",
       "1             41 2008-10-12 21:22:23\n",
       "2             42 2008-10-19 06:49:30\n",
       "3             43 2008-10-26 21:44:36\n",
       "4             44 2008-10-31 22:16:01"
      ]
     },
     "execution_count": 30,
     "metadata": {},
     "output_type": "execute_result"
    }
   ],
   "source": [
    "sample_df_ten"
   ]
  }
 ],
 "metadata": {
  "ExecuteTimeLog": [
   {
    "duration": 1342,
    "start_time": "2022-06-24T15:06:44.911Z"
   },
   {
    "duration": 6,
    "start_time": "2022-06-24T15:06:47.074Z"
   },
   {
    "duration": 6498,
    "start_time": "2022-06-24T15:06:49.163Z"
   },
   {
    "duration": 268,
    "start_time": "2022-06-24T15:06:55.664Z"
   },
   {
    "duration": 15,
    "start_time": "2022-06-24T15:06:58.186Z"
   },
   {
    "duration": 1683,
    "start_time": "2022-06-24T15:08:06.112Z"
   },
   {
    "duration": 19,
    "start_time": "2022-06-24T15:08:08.109Z"
   },
   {
    "duration": 147,
    "start_time": "2022-06-24T15:09:32.795Z"
   },
   {
    "duration": 9,
    "start_time": "2022-06-24T15:09:34.110Z"
   },
   {
    "duration": 180,
    "start_time": "2022-06-24T15:09:57.144Z"
   },
   {
    "duration": 102,
    "start_time": "2022-06-24T15:10:21.131Z"
   },
   {
    "duration": 12,
    "start_time": "2022-06-24T15:10:23.028Z"
   },
   {
    "duration": 101,
    "start_time": "2022-06-24T15:10:58.719Z"
   },
   {
    "duration": 8,
    "start_time": "2022-06-24T15:10:59.923Z"
   },
   {
    "duration": 190,
    "start_time": "2022-06-24T15:14:44.172Z"
   },
   {
    "duration": 16,
    "start_time": "2022-06-24T15:14:47.226Z"
   },
   {
    "duration": 109,
    "start_time": "2022-06-24T15:18:19.345Z"
   },
   {
    "duration": 2587,
    "start_time": "2022-06-24T15:18:22.486Z"
   },
   {
    "duration": 31,
    "start_time": "2022-06-24T15:18:26.086Z"
   },
   {
    "duration": 2035,
    "start_time": "2022-06-24T15:18:39.157Z"
   },
   {
    "duration": 24,
    "start_time": "2022-06-24T15:18:42.291Z"
   },
   {
    "duration": 202,
    "start_time": "2022-06-24T15:20:17.015Z"
   },
   {
    "duration": 199,
    "start_time": "2022-06-24T15:20:26.234Z"
   },
   {
    "duration": 8,
    "start_time": "2022-06-24T15:20:29.937Z"
   },
   {
    "duration": 153,
    "start_time": "2022-06-24T15:20:40.057Z"
   },
   {
    "duration": 124,
    "start_time": "2022-06-24T15:20:55.162Z"
   },
   {
    "duration": 251,
    "start_time": "2022-06-24T15:21:03.362Z"
   },
   {
    "duration": 11,
    "start_time": "2022-06-24T15:21:05.561Z"
   },
   {
    "duration": 319,
    "start_time": "2022-06-24T15:21:21.386Z"
   },
   {
    "duration": 10,
    "start_time": "2022-06-24T15:21:22.388Z"
   },
   {
    "duration": 130,
    "start_time": "2022-06-24T15:30:31.099Z"
   },
   {
    "duration": 132,
    "start_time": "2022-06-24T15:30:51.530Z"
   },
   {
    "duration": 113,
    "start_time": "2022-06-24T15:31:54.212Z"
   },
   {
    "duration": 122,
    "start_time": "2022-06-24T15:32:01.960Z"
   },
   {
    "duration": 121,
    "start_time": "2022-06-24T15:32:07.193Z"
   },
   {
    "duration": 106,
    "start_time": "2022-06-24T15:32:16.960Z"
   },
   {
    "duration": 2431,
    "start_time": "2022-06-24T15:32:19.702Z"
   },
   {
    "duration": 39,
    "start_time": "2022-06-24T15:32:22.864Z"
   },
   {
    "duration": 2396,
    "start_time": "2022-06-24T15:32:33.859Z"
   },
   {
    "duration": 26,
    "start_time": "2022-06-24T15:32:36.258Z"
   },
   {
    "duration": 151,
    "start_time": "2022-06-24T15:33:30.685Z"
   },
   {
    "duration": 2451,
    "start_time": "2022-06-24T15:54:05.933Z"
   },
   {
    "duration": 29,
    "start_time": "2022-06-24T15:54:08.387Z"
   },
   {
    "duration": 113,
    "start_time": "2022-06-24T15:56:59.214Z"
   },
   {
    "duration": 122,
    "start_time": "2022-06-24T15:57:13.466Z"
   },
   {
    "duration": 2487,
    "start_time": "2022-06-24T15:57:20.953Z"
   },
   {
    "duration": 151,
    "start_time": "2022-06-24T15:58:00.789Z"
   },
   {
    "duration": 111,
    "start_time": "2022-06-24T15:58:16.295Z"
   },
   {
    "duration": 123,
    "start_time": "2022-06-24T15:58:18.854Z"
   },
   {
    "duration": 117,
    "start_time": "2022-06-24T15:58:22.758Z"
   },
   {
    "duration": 112,
    "start_time": "2022-06-24T16:08:42.146Z"
   },
   {
    "duration": 1010,
    "start_time": "2022-06-24T16:08:49.317Z"
   },
   {
    "duration": 25,
    "start_time": "2022-06-24T16:08:52.684Z"
   },
   {
    "duration": 613,
    "start_time": "2022-06-24T16:09:14.631Z"
   },
   {
    "duration": 18,
    "start_time": "2022-06-24T16:09:18.744Z"
   },
   {
    "duration": 1005,
    "start_time": "2022-06-24T16:09:33.864Z"
   },
   {
    "duration": 17,
    "start_time": "2022-06-24T16:09:34.872Z"
   },
   {
    "duration": 155,
    "start_time": "2022-06-24T16:10:57.646Z"
   },
   {
    "duration": 12,
    "start_time": "2022-06-24T16:10:58.922Z"
   },
   {
    "duration": 188,
    "start_time": "2022-06-24T16:11:18.594Z"
   },
   {
    "duration": 15,
    "start_time": "2022-06-24T16:11:19.717Z"
   },
   {
    "duration": 106,
    "start_time": "2022-06-24T16:11:47.651Z"
   },
   {
    "duration": 157,
    "start_time": "2022-06-24T16:12:29.412Z"
   },
   {
    "duration": 142,
    "start_time": "2022-06-24T16:12:34.712Z"
   },
   {
    "duration": 157,
    "start_time": "2022-06-24T16:12:38.640Z"
   },
   {
    "duration": 14,
    "start_time": "2022-06-24T16:12:39.640Z"
   },
   {
    "duration": 3,
    "start_time": "2022-06-24T16:15:29.909Z"
   },
   {
    "duration": 2788,
    "start_time": "2022-06-24T16:15:45.526Z"
   },
   {
    "duration": 32,
    "start_time": "2022-06-24T16:15:48.316Z"
   },
   {
    "duration": 532,
    "start_time": "2022-06-24T16:16:42.149Z"
   },
   {
    "duration": 27,
    "start_time": "2022-06-24T16:16:46.317Z"
   },
   {
    "duration": 257,
    "start_time": "2022-06-24T16:16:58.521Z"
   },
   {
    "duration": 243,
    "start_time": "2022-06-24T16:17:44.857Z"
   },
   {
    "duration": 29,
    "start_time": "2022-06-24T16:17:47.193Z"
   },
   {
    "duration": 128,
    "start_time": "2022-06-24T16:18:32.812Z"
   },
   {
    "duration": 16,
    "start_time": "2022-06-24T16:18:33.894Z"
   },
   {
    "duration": 102,
    "start_time": "2022-06-24T16:19:16.208Z"
   },
   {
    "duration": 132,
    "start_time": "2022-06-24T16:19:25.219Z"
   },
   {
    "duration": 134,
    "start_time": "2022-06-24T16:19:51.510Z"
   },
   {
    "duration": 102,
    "start_time": "2022-06-24T16:20:22.199Z"
   },
   {
    "duration": 111,
    "start_time": "2022-06-24T16:20:27.147Z"
   },
   {
    "duration": 128,
    "start_time": "2022-06-24T16:20:30.415Z"
   },
   {
    "duration": 22,
    "start_time": "2022-06-24T16:20:31.538Z"
   },
   {
    "duration": 127,
    "start_time": "2022-06-24T16:20:57.098Z"
   },
   {
    "duration": 80,
    "start_time": "2022-06-24T16:21:06.723Z"
   },
   {
    "duration": 6,
    "start_time": "2022-06-24T16:21:07.771Z"
   },
   {
    "duration": 79,
    "start_time": "2022-06-24T16:21:23.358Z"
   },
   {
    "duration": 7,
    "start_time": "2022-06-24T16:21:24.014Z"
   },
   {
    "duration": 96,
    "start_time": "2022-06-24T16:22:47.050Z"
   },
   {
    "duration": 101,
    "start_time": "2022-06-24T16:23:03.966Z"
   },
   {
    "duration": 250,
    "start_time": "2022-06-24T16:23:17.818Z"
   },
   {
    "duration": 7,
    "start_time": "2022-06-24T16:23:19.202Z"
   },
   {
    "duration": 567,
    "start_time": "2022-06-24T16:23:27.894Z"
   },
   {
    "duration": 35,
    "start_time": "2022-06-24T16:23:28.969Z"
   },
   {
    "duration": 571,
    "start_time": "2022-06-24T16:23:56.855Z"
   },
   {
    "duration": 180,
    "start_time": "2022-06-24T16:24:51.870Z"
   },
   {
    "duration": 17,
    "start_time": "2022-06-24T16:24:52.737Z"
   },
   {
    "duration": 124,
    "start_time": "2022-06-24T16:27:09.249Z"
   },
   {
    "duration": 137,
    "start_time": "2022-06-24T16:27:14.700Z"
   },
   {
    "duration": 212,
    "start_time": "2022-06-24T16:27:40.680Z"
   },
   {
    "duration": 16,
    "start_time": "2022-06-24T16:27:42.205Z"
   },
   {
    "duration": 222,
    "start_time": "2022-06-24T16:28:22.588Z"
   },
   {
    "duration": 7,
    "start_time": "2022-06-24T16:28:23.677Z"
   },
   {
    "duration": 547,
    "start_time": "2022-06-24T16:28:34.173Z"
   },
   {
    "duration": 29,
    "start_time": "2022-06-24T16:28:35.789Z"
   },
   {
    "duration": 107,
    "start_time": "2022-06-24T16:29:46.809Z"
   },
   {
    "duration": 2055,
    "start_time": "2022-06-24T16:29:54.033Z"
   },
   {
    "duration": 24,
    "start_time": "2022-06-24T16:29:56.090Z"
   },
   {
    "duration": 177,
    "start_time": "2022-06-24T16:31:03.177Z"
   },
   {
    "duration": 153,
    "start_time": "2022-06-24T16:31:29.113Z"
   },
   {
    "duration": 7,
    "start_time": "2022-06-24T16:31:30.212Z"
   },
   {
    "duration": 108,
    "start_time": "2022-06-24T16:31:45.812Z"
   },
   {
    "duration": 157,
    "start_time": "2022-06-24T16:31:51.261Z"
   },
   {
    "duration": 7,
    "start_time": "2022-06-24T16:31:51.804Z"
   },
   {
    "duration": 156,
    "start_time": "2022-06-24T16:32:01.178Z"
   },
   {
    "duration": 7,
    "start_time": "2022-06-24T16:32:01.738Z"
   },
   {
    "duration": 153,
    "start_time": "2022-06-24T16:32:05.509Z"
   },
   {
    "duration": 7,
    "start_time": "2022-06-24T16:32:06.184Z"
   },
   {
    "duration": 104,
    "start_time": "2022-06-24T16:32:45.536Z"
   },
   {
    "duration": 7,
    "start_time": "2022-06-24T16:32:46.248Z"
   },
   {
    "duration": 126,
    "start_time": "2022-06-24T16:32:56.528Z"
   },
   {
    "duration": 6,
    "start_time": "2022-06-24T16:32:57.208Z"
   },
   {
    "duration": 110,
    "start_time": "2022-06-24T16:33:32.924Z"
   },
   {
    "duration": 7,
    "start_time": "2022-06-24T16:33:33.565Z"
   },
   {
    "duration": 3,
    "start_time": "2022-06-24T16:52:20.625Z"
   },
   {
    "duration": 1369,
    "start_time": "2022-06-24T16:52:32.593Z"
   },
   {
    "duration": 19,
    "start_time": "2022-06-24T16:52:36.125Z"
   },
   {
    "duration": 1021,
    "start_time": "2022-06-24T16:53:48.877Z"
   },
   {
    "duration": 10,
    "start_time": "2022-06-24T16:53:50.329Z"
   },
   {
    "duration": 102,
    "start_time": "2022-06-24T16:54:23.137Z"
   },
   {
    "duration": 1119,
    "start_time": "2022-06-24T16:54:30.133Z"
   },
   {
    "duration": 13,
    "start_time": "2022-06-24T16:54:31.255Z"
   },
   {
    "duration": 1326,
    "start_time": "2022-06-24T16:55:01.229Z"
   },
   {
    "duration": 14,
    "start_time": "2022-06-24T16:55:02.961Z"
   },
   {
    "duration": 1049,
    "start_time": "2022-06-24T16:55:08.877Z"
   },
   {
    "duration": 12,
    "start_time": "2022-06-24T16:55:11.213Z"
   },
   {
    "duration": 1211,
    "start_time": "2022-06-24T16:55:16.989Z"
   },
   {
    "duration": 12,
    "start_time": "2022-06-24T16:55:18.585Z"
   },
   {
    "duration": 1062,
    "start_time": "2022-06-24T16:55:38.069Z"
   },
   {
    "duration": 11,
    "start_time": "2022-06-24T16:55:39.629Z"
   },
   {
    "duration": 1123,
    "start_time": "2022-06-24T16:55:45.221Z"
   },
   {
    "duration": 12,
    "start_time": "2022-06-24T16:55:46.737Z"
   },
   {
    "duration": 921,
    "start_time": "2022-06-25T12:53:53.194Z"
   },
   {
    "duration": 4,
    "start_time": "2022-06-25T12:53:55.854Z"
   },
   {
    "duration": 5969,
    "start_time": "2022-06-25T12:53:56.454Z"
   },
   {
    "duration": 229,
    "start_time": "2022-06-25T12:54:02.425Z"
   },
   {
    "duration": 18,
    "start_time": "2022-06-25T12:54:02.656Z"
   },
   {
    "duration": 12,
    "start_time": "2022-06-25T12:54:43.741Z"
   },
   {
    "duration": 10,
    "start_time": "2022-06-25T12:55:02.511Z"
   },
   {
    "duration": 13,
    "start_time": "2022-06-25T12:55:53.041Z"
   },
   {
    "duration": 939,
    "start_time": "2022-06-26T09:52:44.678Z"
   },
   {
    "duration": 4,
    "start_time": "2022-06-26T09:52:46.923Z"
   },
   {
    "duration": 10045,
    "start_time": "2022-06-26T09:52:49.657Z"
   },
   {
    "duration": 61,
    "start_time": "2022-06-26T09:52:59.704Z"
   },
   {
    "duration": 15,
    "start_time": "2022-06-26T09:52:59.767Z"
   },
   {
    "duration": 72,
    "start_time": "2022-06-26T09:52:59.784Z"
   },
   {
    "duration": 7,
    "start_time": "2022-06-26T09:52:59.858Z"
   },
   {
    "duration": 114,
    "start_time": "2022-06-26T09:52:59.866Z"
   },
   {
    "duration": 10,
    "start_time": "2022-06-26T09:52:59.981Z"
   },
   {
    "duration": 108,
    "start_time": "2022-06-26T09:53:01.754Z"
   },
   {
    "duration": 10,
    "start_time": "2022-06-26T09:53:03.858Z"
   },
   {
    "duration": 77,
    "start_time": "2022-06-26T09:53:07.130Z"
   },
   {
    "duration": 8,
    "start_time": "2022-06-26T09:53:07.274Z"
   },
   {
    "duration": 1231,
    "start_time": "2022-06-26T09:53:09.994Z"
   },
   {
    "duration": 17,
    "start_time": "2022-06-26T09:53:11.227Z"
   },
   {
    "duration": 1524,
    "start_time": "2022-06-26T09:54:53.478Z"
   },
   {
    "duration": 19,
    "start_time": "2022-06-26T09:54:58.750Z"
   },
   {
    "duration": 112,
    "start_time": "2022-06-26T09:56:42.847Z"
   },
   {
    "duration": 24,
    "start_time": "2022-06-26T09:56:43.823Z"
   },
   {
    "duration": 199,
    "start_time": "2022-06-26T09:57:54.531Z"
   },
   {
    "duration": 106,
    "start_time": "2022-06-26T09:58:04.083Z"
   },
   {
    "duration": 111,
    "start_time": "2022-06-26T09:58:33.466Z"
   },
   {
    "duration": 112,
    "start_time": "2022-06-26T09:58:44.334Z"
   },
   {
    "duration": 99,
    "start_time": "2022-06-26T09:59:02.262Z"
   },
   {
    "duration": 116,
    "start_time": "2022-06-26T09:59:07.747Z"
   },
   {
    "duration": 113,
    "start_time": "2022-06-26T09:59:15.170Z"
   },
   {
    "duration": 20,
    "start_time": "2022-06-26T09:59:16.583Z"
   },
   {
    "duration": 34,
    "start_time": "2022-06-26T09:59:43.755Z"
   },
   {
    "duration": 9,
    "start_time": "2022-06-26T09:59:44.427Z"
   },
   {
    "duration": 32,
    "start_time": "2022-06-26T09:59:58.866Z"
   },
   {
    "duration": 8,
    "start_time": "2022-06-26T09:59:59.578Z"
   },
   {
    "duration": 33,
    "start_time": "2022-06-26T10:00:12.483Z"
   },
   {
    "duration": 8,
    "start_time": "2022-06-26T10:00:13.508Z"
   },
   {
    "duration": 66,
    "start_time": "2022-06-26T10:02:36.563Z"
   },
   {
    "duration": 19,
    "start_time": "2022-06-26T10:02:37.163Z"
   },
   {
    "duration": 227,
    "start_time": "2022-06-26T10:36:13.974Z"
   },
   {
    "duration": 152,
    "start_time": "2022-06-26T10:36:22.790Z"
   },
   {
    "duration": 126,
    "start_time": "2022-06-26T10:47:29.580Z"
   },
   {
    "duration": 77,
    "start_time": "2022-06-26T10:47:37.299Z"
   },
   {
    "duration": 18,
    "start_time": "2022-06-26T10:47:37.699Z"
   },
   {
    "duration": 119,
    "start_time": "2022-06-26T10:48:17.628Z"
   },
   {
    "duration": 135,
    "start_time": "2022-06-26T10:48:30.076Z"
   },
   {
    "duration": 58,
    "start_time": "2022-06-26T10:48:40.792Z"
   },
   {
    "duration": 7,
    "start_time": "2022-06-26T10:48:41.352Z"
   },
   {
    "duration": 65,
    "start_time": "2022-06-26T10:50:04.036Z"
   },
   {
    "duration": 9,
    "start_time": "2022-06-26T10:50:04.496Z"
   },
   {
    "duration": 133,
    "start_time": "2022-06-26T10:51:47.476Z"
   },
   {
    "duration": 33,
    "start_time": "2022-06-26T10:52:51.352Z"
   },
   {
    "duration": 6,
    "start_time": "2022-06-26T10:52:52.020Z"
   },
   {
    "duration": 33,
    "start_time": "2022-06-26T10:52:57.660Z"
   },
   {
    "duration": 6,
    "start_time": "2022-06-26T10:52:58.204Z"
   },
   {
    "duration": 33,
    "start_time": "2022-06-26T10:53:06.628Z"
   },
   {
    "duration": 7,
    "start_time": "2022-06-26T10:53:07.576Z"
   },
   {
    "duration": 36,
    "start_time": "2022-06-26T10:53:19.700Z"
   },
   {
    "duration": 7,
    "start_time": "2022-06-26T10:53:20.057Z"
   },
   {
    "duration": 32,
    "start_time": "2022-06-26T10:53:53.557Z"
   },
   {
    "duration": 6,
    "start_time": "2022-06-26T10:53:55.638Z"
   },
   {
    "duration": 109,
    "start_time": "2022-06-26T10:54:20.389Z"
   },
   {
    "duration": 34,
    "start_time": "2022-06-26T10:54:25.056Z"
   },
   {
    "duration": 8,
    "start_time": "2022-06-26T10:54:25.793Z"
   },
   {
    "duration": 34,
    "start_time": "2022-06-26T10:54:30.997Z"
   },
   {
    "duration": 119,
    "start_time": "2022-06-26T10:55:16.017Z"
   },
   {
    "duration": 64,
    "start_time": "2022-06-26T10:55:36.609Z"
   },
   {
    "duration": 8,
    "start_time": "2022-06-26T10:55:37.145Z"
   },
   {
    "duration": 64,
    "start_time": "2022-06-26T10:56:28.382Z"
   },
   {
    "duration": 10,
    "start_time": "2022-06-26T10:56:29.609Z"
   },
   {
    "duration": 123,
    "start_time": "2022-06-26T10:57:19.081Z"
   },
   {
    "duration": 115,
    "start_time": "2022-06-26T10:57:21.949Z"
   },
   {
    "duration": 106,
    "start_time": "2022-06-26T10:57:30.837Z"
   },
   {
    "duration": 65,
    "start_time": "2022-06-26T10:57:44.677Z"
   },
   {
    "duration": 10,
    "start_time": "2022-06-26T10:57:45.421Z"
   },
   {
    "duration": 112,
    "start_time": "2022-06-26T10:58:16.181Z"
   },
   {
    "duration": 125,
    "start_time": "2022-06-26T10:59:24.429Z"
   },
   {
    "duration": 36,
    "start_time": "2022-06-26T11:00:26.838Z"
   },
   {
    "duration": 6,
    "start_time": "2022-06-26T11:00:27.841Z"
   },
   {
    "duration": 34,
    "start_time": "2022-06-26T11:00:51.437Z"
   },
   {
    "duration": 7,
    "start_time": "2022-06-26T11:00:52.637Z"
   },
   {
    "duration": 843,
    "start_time": "2022-06-26T13:32:47.663Z"
   },
   {
    "duration": 6,
    "start_time": "2022-06-26T13:32:48.507Z"
   },
   {
    "duration": 12317,
    "start_time": "2022-06-26T13:32:48.514Z"
   },
   {
    "duration": 102,
    "start_time": "2022-06-26T13:33:00.835Z"
   },
   {
    "duration": 13,
    "start_time": "2022-06-26T13:33:00.938Z"
   },
   {
    "duration": 309,
    "start_time": "2022-06-26T13:33:00.952Z"
   },
   {
    "duration": 8,
    "start_time": "2022-06-26T13:33:01.263Z"
   },
   {
    "duration": 158,
    "start_time": "2022-06-26T13:33:01.273Z"
   },
   {
    "duration": 11,
    "start_time": "2022-06-26T13:33:01.433Z"
   },
   {
    "duration": 106,
    "start_time": "2022-06-26T13:33:01.446Z"
   },
   {
    "duration": 7,
    "start_time": "2022-06-26T13:33:01.554Z"
   },
   {
    "duration": 1139,
    "start_time": "2022-06-26T13:33:01.562Z"
   },
   {
    "duration": 19,
    "start_time": "2022-06-26T13:33:02.707Z"
   },
   {
    "duration": 45,
    "start_time": "2022-06-26T13:33:02.727Z"
   },
   {
    "duration": 5,
    "start_time": "2022-06-26T13:33:02.774Z"
   },
   {
    "duration": 67,
    "start_time": "2022-06-26T13:34:05.051Z"
   },
   {
    "duration": 16,
    "start_time": "2022-06-26T13:34:05.559Z"
   },
   {
    "duration": 176,
    "start_time": "2022-06-26T13:34:28.087Z"
   },
   {
    "duration": 67,
    "start_time": "2022-06-26T13:34:39.083Z"
   },
   {
    "duration": 18,
    "start_time": "2022-06-26T13:34:39.779Z"
   },
   {
    "duration": 288,
    "start_time": "2022-06-26T13:35:35.165Z"
   },
   {
    "duration": 260,
    "start_time": "2022-06-26T13:35:37.864Z"
   },
   {
    "duration": 290,
    "start_time": "2022-06-26T13:35:48.232Z"
   },
   {
    "duration": 234,
    "start_time": "2022-06-26T13:36:05.091Z"
   },
   {
    "duration": 209,
    "start_time": "2022-06-26T13:36:08.300Z"
   },
   {
    "duration": 63,
    "start_time": "2022-06-26T13:36:41.927Z"
   },
   {
    "duration": 9,
    "start_time": "2022-06-26T13:36:42.755Z"
   },
   {
    "duration": 33,
    "start_time": "2022-06-26T13:37:03.060Z"
   },
   {
    "duration": 9,
    "start_time": "2022-06-26T13:37:03.424Z"
   },
   {
    "duration": 65,
    "start_time": "2022-06-26T13:37:25.979Z"
   },
   {
    "duration": 8,
    "start_time": "2022-06-26T13:37:26.679Z"
   },
   {
    "duration": 67,
    "start_time": "2022-06-26T13:37:58.044Z"
   },
   {
    "duration": 11,
    "start_time": "2022-06-26T13:37:58.772Z"
   },
   {
    "duration": 82,
    "start_time": "2022-06-26T13:38:16.392Z"
   },
   {
    "duration": 9,
    "start_time": "2022-06-26T13:38:16.817Z"
   },
   {
    "duration": 61,
    "start_time": "2022-06-26T13:39:25.819Z"
   },
   {
    "duration": 9,
    "start_time": "2022-06-26T13:39:27.016Z"
   },
   {
    "duration": 601,
    "start_time": "2022-06-26T13:39:34.544Z"
   },
   {
    "duration": 8,
    "start_time": "2022-06-26T13:39:35.147Z"
   },
   {
    "duration": 225,
    "start_time": "2022-06-26T13:40:04.053Z"
   },
   {
    "duration": 8,
    "start_time": "2022-06-26T13:40:04.564Z"
   },
   {
    "duration": 62,
    "start_time": "2022-06-26T13:40:12.748Z"
   },
   {
    "duration": 7,
    "start_time": "2022-06-26T13:40:13.648Z"
   },
   {
    "duration": 58,
    "start_time": "2022-06-26T13:40:16.575Z"
   },
   {
    "duration": 9,
    "start_time": "2022-06-26T13:40:16.844Z"
   },
   {
    "duration": 70,
    "start_time": "2022-06-26T13:40:32.144Z"
   },
   {
    "duration": 6,
    "start_time": "2022-06-26T13:40:32.736Z"
   },
   {
    "duration": 2,
    "start_time": "2022-06-26T13:42:54.513Z"
   },
   {
    "duration": 92,
    "start_time": "2022-06-26T13:43:24.788Z"
   },
   {
    "duration": 15,
    "start_time": "2022-06-26T13:43:27.714Z"
   },
   {
    "duration": 104,
    "start_time": "2022-06-26T13:45:54.533Z"
   },
   {
    "duration": 127,
    "start_time": "2022-06-26T13:46:03.914Z"
   },
   {
    "duration": 73,
    "start_time": "2022-06-26T13:46:10.065Z"
   },
   {
    "duration": 14,
    "start_time": "2022-06-26T13:46:10.801Z"
   },
   {
    "duration": 47,
    "start_time": "2022-06-26T13:46:15.336Z"
   },
   {
    "duration": 7,
    "start_time": "2022-06-26T13:46:15.856Z"
   },
   {
    "duration": 40,
    "start_time": "2022-06-26T13:46:23.512Z"
   },
   {
    "duration": 97,
    "start_time": "2022-06-26T13:46:25.848Z"
   },
   {
    "duration": 12,
    "start_time": "2022-06-26T13:46:26.305Z"
   },
   {
    "duration": 76,
    "start_time": "2022-06-26T13:48:05.317Z"
   },
   {
    "duration": 17,
    "start_time": "2022-06-26T13:48:05.949Z"
   },
   {
    "duration": 553,
    "start_time": "2022-06-26T13:48:20.769Z"
   },
   {
    "duration": 15,
    "start_time": "2022-06-26T13:48:21.324Z"
   },
   {
    "duration": 143,
    "start_time": "2022-06-26T13:49:06.536Z"
   },
   {
    "duration": 21,
    "start_time": "2022-06-26T13:49:07.306Z"
   },
   {
    "duration": 1058,
    "start_time": "2022-06-26T13:49:26.461Z"
   },
   {
    "duration": 21,
    "start_time": "2022-06-26T13:49:27.521Z"
   },
   {
    "duration": 97,
    "start_time": "2022-06-26T13:53:22.253Z"
   },
   {
    "duration": 916,
    "start_time": "2022-06-26T13:53:30.465Z"
   },
   {
    "duration": 6,
    "start_time": "2022-06-26T13:53:31.383Z"
   },
   {
    "duration": 142,
    "start_time": "2022-06-26T13:53:39.817Z"
   },
   {
    "duration": 8,
    "start_time": "2022-06-26T13:53:40.497Z"
   },
   {
    "duration": 105,
    "start_time": "2022-06-26T13:54:15.449Z"
   },
   {
    "duration": 9,
    "start_time": "2022-06-26T13:54:15.849Z"
   },
   {
    "duration": 1994,
    "start_time": "2022-06-26T13:54:24.893Z"
   },
   {
    "duration": 9,
    "start_time": "2022-06-26T13:54:26.888Z"
   },
   {
    "duration": 119,
    "start_time": "2022-06-26T13:55:00.802Z"
   },
   {
    "duration": 9,
    "start_time": "2022-06-26T13:55:01.153Z"
   },
   {
    "duration": 110,
    "start_time": "2022-06-26T13:55:25.469Z"
   },
   {
    "duration": 15,
    "start_time": "2022-06-26T13:55:30.261Z"
   },
   {
    "duration": 668,
    "start_time": "2022-06-26T13:55:38.577Z"
   },
   {
    "duration": 10,
    "start_time": "2022-06-26T13:55:39.247Z"
   },
   {
    "duration": 41,
    "start_time": "2022-06-26T13:56:14.137Z"
   },
   {
    "duration": 11,
    "start_time": "2022-06-26T13:56:14.828Z"
   },
   {
    "duration": 56,
    "start_time": "2022-06-26T13:57:24.969Z"
   },
   {
    "duration": 7,
    "start_time": "2022-06-26T13:57:25.450Z"
   },
   {
    "duration": 41,
    "start_time": "2022-06-26T13:58:54.733Z"
   },
   {
    "duration": 8,
    "start_time": "2022-06-26T13:58:55.265Z"
   },
   {
    "duration": 41,
    "start_time": "2022-06-26T13:59:10.228Z"
   },
   {
    "duration": 7,
    "start_time": "2022-06-26T13:59:10.731Z"
   },
   {
    "duration": 110,
    "start_time": "2022-06-26T13:59:34.458Z"
   },
   {
    "duration": 14,
    "start_time": "2022-06-26T13:59:34.831Z"
   },
   {
    "duration": 210,
    "start_time": "2022-06-26T14:00:19.265Z"
   },
   {
    "duration": 58,
    "start_time": "2022-06-26T14:00:43.253Z"
   },
   {
    "duration": 9,
    "start_time": "2022-06-26T14:00:43.841Z"
   },
   {
    "duration": 105,
    "start_time": "2022-06-26T14:03:12.430Z"
   },
   {
    "duration": 125,
    "start_time": "2022-06-26T14:03:31.182Z"
   },
   {
    "duration": 107,
    "start_time": "2022-06-26T14:03:47.893Z"
   },
   {
    "duration": 9,
    "start_time": "2022-06-26T14:03:48.622Z"
   },
   {
    "duration": 42,
    "start_time": "2022-06-26T14:03:55.239Z"
   },
   {
    "duration": 10,
    "start_time": "2022-06-26T14:03:55.725Z"
   },
   {
    "duration": 45,
    "start_time": "2022-06-26T14:04:11.753Z"
   },
   {
    "duration": 9,
    "start_time": "2022-06-26T14:04:12.027Z"
   },
   {
    "duration": 44,
    "start_time": "2022-06-26T14:04:15.326Z"
   },
   {
    "duration": 7,
    "start_time": "2022-06-26T14:04:15.758Z"
   },
   {
    "duration": 89,
    "start_time": "2022-06-26T14:05:13.150Z"
   },
   {
    "duration": 23,
    "start_time": "2022-06-26T14:05:13.481Z"
   },
   {
    "duration": 95,
    "start_time": "2022-06-26T14:06:59.873Z"
   },
   {
    "duration": 25,
    "start_time": "2022-06-26T14:07:00.894Z"
   },
   {
    "duration": 149,
    "start_time": "2022-06-26T14:07:16.389Z"
   },
   {
    "duration": 17,
    "start_time": "2022-06-26T14:07:16.933Z"
   },
   {
    "duration": 138,
    "start_time": "2022-06-26T14:07:35.332Z"
   },
   {
    "duration": 15,
    "start_time": "2022-06-26T14:07:35.878Z"
   },
   {
    "duration": 86,
    "start_time": "2022-06-26T14:07:49.289Z"
   },
   {
    "duration": 19,
    "start_time": "2022-06-26T14:07:49.725Z"
   },
   {
    "duration": 174,
    "start_time": "2022-06-26T14:08:06.565Z"
   },
   {
    "duration": 20,
    "start_time": "2022-06-26T14:08:07.027Z"
   },
   {
    "duration": 106,
    "start_time": "2022-06-26T14:09:15.269Z"
   },
   {
    "duration": 16,
    "start_time": "2022-06-26T14:09:15.573Z"
   },
   {
    "duration": 110,
    "start_time": "2022-06-26T14:09:44.449Z"
   },
   {
    "duration": 28,
    "start_time": "2022-06-26T14:09:44.937Z"
   },
   {
    "duration": 191,
    "start_time": "2022-06-26T14:10:37.161Z"
   },
   {
    "duration": 23,
    "start_time": "2022-06-26T14:10:37.537Z"
   },
   {
    "duration": 109,
    "start_time": "2022-06-26T14:10:48.858Z"
   },
   {
    "duration": 17,
    "start_time": "2022-06-26T14:10:49.258Z"
   },
   {
    "duration": 100,
    "start_time": "2022-06-26T14:13:55.016Z"
   },
   {
    "duration": 19,
    "start_time": "2022-06-26T14:13:55.654Z"
   },
   {
    "duration": 153,
    "start_time": "2022-06-26T14:14:01.510Z"
   },
   {
    "duration": 15,
    "start_time": "2022-06-26T14:14:01.842Z"
   },
   {
    "duration": 96,
    "start_time": "2022-06-26T14:14:28.883Z"
   },
   {
    "duration": 17,
    "start_time": "2022-06-26T14:14:29.281Z"
   },
   {
    "duration": 113,
    "start_time": "2022-06-26T14:16:02.960Z"
   },
   {
    "duration": 28,
    "start_time": "2022-06-26T14:16:03.286Z"
   },
   {
    "duration": 39,
    "start_time": "2022-06-26T14:16:51.046Z"
   },
   {
    "duration": 7,
    "start_time": "2022-06-26T14:16:51.630Z"
   },
   {
    "duration": 42,
    "start_time": "2022-06-26T14:17:03.878Z"
   },
   {
    "duration": 8,
    "start_time": "2022-06-26T14:17:04.318Z"
   },
   {
    "duration": 37,
    "start_time": "2022-06-26T14:18:00.614Z"
   },
   {
    "duration": 5,
    "start_time": "2022-06-26T14:18:01.858Z"
   },
   {
    "duration": 36,
    "start_time": "2022-06-26T14:18:12.239Z"
   },
   {
    "duration": 6,
    "start_time": "2022-06-26T14:18:12.575Z"
   },
   {
    "duration": 35,
    "start_time": "2022-06-26T14:18:15.834Z"
   },
   {
    "duration": 6,
    "start_time": "2022-06-26T14:18:16.082Z"
   },
   {
    "duration": 2,
    "start_time": "2022-06-26T14:41:48.861Z"
   },
   {
    "duration": 1355,
    "start_time": "2022-06-26T14:41:58.717Z"
   },
   {
    "duration": 18,
    "start_time": "2022-06-26T14:42:00.181Z"
   },
   {
    "duration": 130,
    "start_time": "2022-06-26T14:48:18.778Z"
   },
   {
    "duration": 111,
    "start_time": "2022-06-26T14:48:26.370Z"
   },
   {
    "duration": 935,
    "start_time": "2022-06-26T14:48:33.721Z"
   },
   {
    "duration": 8,
    "start_time": "2022-06-26T14:48:34.658Z"
   },
   {
    "duration": 132,
    "start_time": "2022-06-26T14:48:40.982Z"
   },
   {
    "duration": 7,
    "start_time": "2022-06-26T14:48:41.116Z"
   },
   {
    "duration": 119,
    "start_time": "2022-06-26T14:48:51.721Z"
   },
   {
    "duration": 18,
    "start_time": "2022-06-26T14:48:51.894Z"
   },
   {
    "duration": 122,
    "start_time": "2022-06-26T14:49:50.514Z"
   },
   {
    "duration": 12,
    "start_time": "2022-06-26T14:49:51.007Z"
   },
   {
    "duration": 913,
    "start_time": "2022-06-26T14:50:00.858Z"
   },
   {
    "duration": 10,
    "start_time": "2022-06-26T14:50:01.773Z"
   },
   {
    "duration": 99,
    "start_time": "2022-06-26T14:56:55.492Z"
   },
   {
    "duration": 1134,
    "start_time": "2022-06-26T14:57:03.118Z"
   },
   {
    "duration": 9,
    "start_time": "2022-06-26T14:57:04.254Z"
   },
   {
    "duration": 118,
    "start_time": "2022-06-26T14:57:31.191Z"
   },
   {
    "duration": 1027,
    "start_time": "2022-06-26T14:57:36.804Z"
   },
   {
    "duration": 10,
    "start_time": "2022-06-26T14:57:37.833Z"
   },
   {
    "duration": 972,
    "start_time": "2022-06-26T15:02:05.896Z"
   },
   {
    "duration": 10,
    "start_time": "2022-06-26T15:02:06.869Z"
   },
   {
    "duration": 994,
    "start_time": "2022-06-26T15:02:12.863Z"
   },
   {
    "duration": 9,
    "start_time": "2022-06-26T15:02:13.859Z"
   },
   {
    "duration": 118,
    "start_time": "2022-06-26T15:02:27.106Z"
   },
   {
    "duration": 9,
    "start_time": "2022-06-26T15:02:27.300Z"
   },
   {
    "duration": 1008,
    "start_time": "2022-06-26T15:02:29.947Z"
   },
   {
    "duration": 9,
    "start_time": "2022-06-26T15:02:30.957Z"
   },
   {
    "duration": 1804,
    "start_time": "2022-06-26T15:32:36.837Z"
   },
   {
    "duration": 17,
    "start_time": "2022-06-26T15:32:38.643Z"
   },
   {
    "duration": 858,
    "start_time": "2022-06-26T15:33:10.729Z"
   },
   {
    "duration": 13,
    "start_time": "2022-06-26T15:33:11.589Z"
   },
   {
    "duration": 127,
    "start_time": "2022-06-26T15:34:15.614Z"
   },
   {
    "duration": 105,
    "start_time": "2022-06-26T15:34:21.249Z"
   },
   {
    "duration": 1059,
    "start_time": "2022-06-26T15:34:26.850Z"
   },
   {
    "duration": 10,
    "start_time": "2022-06-26T15:34:28.635Z"
   },
   {
    "duration": 1030,
    "start_time": "2022-06-26T15:35:06.198Z"
   },
   {
    "duration": 13,
    "start_time": "2022-06-26T15:35:07.231Z"
   },
   {
    "duration": 1213,
    "start_time": "2022-06-26T15:35:45.053Z"
   },
   {
    "duration": 9,
    "start_time": "2022-06-26T15:35:46.268Z"
   },
   {
    "duration": 120,
    "start_time": "2022-06-26T15:37:07.302Z"
   },
   {
    "duration": 13,
    "start_time": "2022-06-26T15:37:07.527Z"
   },
   {
    "duration": 1020,
    "start_time": "2022-06-26T15:37:15.626Z"
   },
   {
    "duration": 12,
    "start_time": "2022-06-26T15:37:16.648Z"
   },
   {
    "duration": 318,
    "start_time": "2022-06-26T15:37:53.527Z"
   },
   {
    "duration": 13,
    "start_time": "2022-06-26T15:37:54.926Z"
   },
   {
    "duration": 100,
    "start_time": "2022-06-26T15:38:27.012Z"
   },
   {
    "duration": 574,
    "start_time": "2022-06-26T15:38:37.897Z"
   },
   {
    "duration": 14,
    "start_time": "2022-06-26T15:38:39.302Z"
   },
   {
    "duration": 102,
    "start_time": "2022-06-26T15:38:53.945Z"
   },
   {
    "duration": 14,
    "start_time": "2022-06-26T15:38:54.146Z"
   },
   {
    "duration": 614,
    "start_time": "2022-06-26T15:38:57.213Z"
   },
   {
    "duration": 14,
    "start_time": "2022-06-26T15:38:58.422Z"
   },
   {
    "duration": 281,
    "start_time": "2022-06-26T15:39:31.902Z"
   },
   {
    "duration": 12,
    "start_time": "2022-06-26T15:39:32.309Z"
   },
   {
    "duration": 232,
    "start_time": "2022-06-26T15:40:02.325Z"
   },
   {
    "duration": 369,
    "start_time": "2022-06-26T15:40:12.101Z"
   },
   {
    "duration": 12,
    "start_time": "2022-06-26T15:40:12.718Z"
   },
   {
    "duration": 118,
    "start_time": "2022-06-26T15:41:20.922Z"
   },
   {
    "duration": 90,
    "start_time": "2022-06-26T15:41:44.740Z"
   },
   {
    "duration": 1048,
    "start_time": "2022-06-26T15:41:58.112Z"
   },
   {
    "duration": 9,
    "start_time": "2022-06-26T15:41:59.638Z"
   },
   {
    "duration": 125,
    "start_time": "2022-06-26T15:42:14.670Z"
   },
   {
    "duration": 122,
    "start_time": "2022-06-26T15:42:18.714Z"
   },
   {
    "duration": 1239,
    "start_time": "2022-06-26T15:43:44.517Z"
   },
   {
    "duration": 13,
    "start_time": "2022-06-26T15:43:46.710Z"
   },
   {
    "duration": 387,
    "start_time": "2022-06-26T15:44:03.158Z"
   },
   {
    "duration": 14,
    "start_time": "2022-06-26T15:44:03.714Z"
   },
   {
    "duration": 894,
    "start_time": "2022-06-26T15:44:32.510Z"
   },
   {
    "duration": 9,
    "start_time": "2022-06-26T15:44:33.405Z"
   },
   {
    "duration": 268,
    "start_time": "2022-06-26T15:44:41.431Z"
   },
   {
    "duration": 11,
    "start_time": "2022-06-26T15:44:41.707Z"
   },
   {
    "duration": 291,
    "start_time": "2022-06-26T15:45:28.398Z"
   },
   {
    "duration": 12,
    "start_time": "2022-06-26T15:45:29.023Z"
   },
   {
    "duration": 241,
    "start_time": "2022-06-26T15:45:37.258Z"
   },
   {
    "duration": 8,
    "start_time": "2022-06-26T15:45:37.647Z"
   },
   {
    "duration": 1492,
    "start_time": "2022-06-26T15:47:10.097Z"
   },
   {
    "duration": 16,
    "start_time": "2022-06-26T15:47:11.591Z"
   },
   {
    "duration": 880,
    "start_time": "2022-06-26T15:49:31.114Z"
   },
   {
    "duration": 13,
    "start_time": "2022-06-26T15:49:31.996Z"
   },
   {
    "duration": 197,
    "start_time": "2022-06-26T15:49:43.986Z"
   },
   {
    "duration": 6,
    "start_time": "2022-06-26T15:49:44.259Z"
   },
   {
    "duration": 832,
    "start_time": "2022-06-26T15:49:50.017Z"
   },
   {
    "duration": 10,
    "start_time": "2022-06-26T15:49:50.851Z"
   },
   {
    "duration": 1066,
    "start_time": "2022-06-26T15:50:46.648Z"
   },
   {
    "duration": 12,
    "start_time": "2022-06-26T15:50:47.716Z"
   },
   {
    "duration": 127,
    "start_time": "2022-06-26T15:51:32.543Z"
   },
   {
    "duration": 13,
    "start_time": "2022-06-26T15:51:32.914Z"
   },
   {
    "duration": 133,
    "start_time": "2022-06-26T15:51:52.002Z"
   },
   {
    "duration": 7,
    "start_time": "2022-06-26T15:51:52.612Z"
   },
   {
    "duration": 105,
    "start_time": "2022-06-26T15:54:15.906Z"
   },
   {
    "duration": 1101,
    "start_time": "2022-06-26T15:54:18.916Z"
   },
   {
    "duration": 14,
    "start_time": "2022-06-26T15:54:20.020Z"
   },
   {
    "duration": 319,
    "start_time": "2022-06-26T15:54:41.262Z"
   },
   {
    "duration": 15,
    "start_time": "2022-06-26T15:54:41.585Z"
   },
   {
    "duration": 592,
    "start_time": "2022-06-26T15:57:06.002Z"
   },
   {
    "duration": 14,
    "start_time": "2022-06-26T15:57:07.007Z"
   },
   {
    "duration": 612,
    "start_time": "2022-06-26T15:57:37.503Z"
   },
   {
    "duration": 16,
    "start_time": "2022-06-26T15:57:38.168Z"
   },
   {
    "duration": 434,
    "start_time": "2022-06-26T15:58:24.054Z"
   },
   {
    "duration": 7,
    "start_time": "2022-06-26T15:58:24.616Z"
   },
   {
    "duration": 433,
    "start_time": "2022-06-26T15:58:43.748Z"
   },
   {
    "duration": 7,
    "start_time": "2022-06-26T15:58:44.448Z"
   },
   {
    "duration": 455,
    "start_time": "2022-06-26T15:59:00.915Z"
   },
   {
    "duration": 8,
    "start_time": "2022-06-26T15:59:01.399Z"
   },
   {
    "duration": 122,
    "start_time": "2022-06-26T15:59:47.228Z"
   },
   {
    "duration": 456,
    "start_time": "2022-06-26T16:00:03.798Z"
   },
   {
    "duration": 8,
    "start_time": "2022-06-26T16:00:04.598Z"
   },
   {
    "duration": 136,
    "start_time": "2022-06-26T16:00:43.108Z"
   },
   {
    "duration": 457,
    "start_time": "2022-06-26T16:00:47.364Z"
   },
   {
    "duration": 8,
    "start_time": "2022-06-26T16:00:47.878Z"
   },
   {
    "duration": 109,
    "start_time": "2022-06-26T16:01:29.228Z"
   },
   {
    "duration": 165,
    "start_time": "2022-06-26T16:02:20.799Z"
   },
   {
    "duration": 106,
    "start_time": "2022-06-26T16:02:31.112Z"
   },
   {
    "duration": 11,
    "start_time": "2022-06-26T16:02:31.464Z"
   },
   {
    "duration": 124,
    "start_time": "2022-06-26T16:03:38.233Z"
   },
   {
    "duration": 9,
    "start_time": "2022-06-26T16:03:38.605Z"
   },
   {
    "duration": 427,
    "start_time": "2022-06-26T16:03:43.336Z"
   },
   {
    "duration": 14,
    "start_time": "2022-06-26T16:03:43.766Z"
   },
   {
    "duration": 312,
    "start_time": "2022-06-26T16:04:20.833Z"
   },
   {
    "duration": 11,
    "start_time": "2022-06-26T16:04:22.061Z"
   },
   {
    "duration": 323,
    "start_time": "2022-06-26T16:06:21.461Z"
   },
   {
    "duration": 9,
    "start_time": "2022-06-26T16:06:22.105Z"
   },
   {
    "duration": 305,
    "start_time": "2022-06-26T16:06:44.106Z"
   },
   {
    "duration": 8,
    "start_time": "2022-06-26T16:06:44.453Z"
   },
   {
    "duration": 150,
    "start_time": "2022-06-26T16:06:57.153Z"
   },
   {
    "duration": 9,
    "start_time": "2022-06-26T16:06:57.397Z"
   },
   {
    "duration": 142,
    "start_time": "2022-06-26T16:10:09.997Z"
   },
   {
    "duration": 7,
    "start_time": "2022-06-26T16:10:10.299Z"
   },
   {
    "duration": 440,
    "start_time": "2022-06-26T16:11:16.703Z"
   },
   {
    "duration": 10,
    "start_time": "2022-06-26T16:11:17.898Z"
   },
   {
    "duration": 99,
    "start_time": "2022-06-26T16:11:40.703Z"
   },
   {
    "duration": 427,
    "start_time": "2022-06-26T16:11:47.957Z"
   },
   {
    "duration": 8,
    "start_time": "2022-06-26T16:11:48.386Z"
   },
   {
    "duration": 625,
    "start_time": "2022-06-26T16:17:32.957Z"
   },
   {
    "duration": 13,
    "start_time": "2022-06-26T16:17:33.584Z"
   },
   {
    "duration": 449,
    "start_time": "2022-06-26T16:18:24.558Z"
   },
   {
    "duration": 13,
    "start_time": "2022-06-26T16:18:25.396Z"
   },
   {
    "duration": 432,
    "start_time": "2022-06-26T16:18:42.202Z"
   },
   {
    "duration": 11,
    "start_time": "2022-06-26T16:18:42.637Z"
   },
   {
    "duration": 136,
    "start_time": "2022-06-26T16:18:59.502Z"
   },
   {
    "duration": 7,
    "start_time": "2022-06-26T16:18:59.703Z"
   },
   {
    "duration": 315,
    "start_time": "2022-06-26T16:19:19.758Z"
   },
   {
    "duration": 12,
    "start_time": "2022-06-26T16:19:20.075Z"
   },
   {
    "duration": 302,
    "start_time": "2022-06-26T16:21:39.402Z"
   },
   {
    "duration": 10,
    "start_time": "2022-06-26T16:21:39.838Z"
   },
   {
    "duration": 434,
    "start_time": "2022-06-26T16:23:18.250Z"
   },
   {
    "duration": 8,
    "start_time": "2022-06-26T16:23:19.722Z"
   },
   {
    "duration": 439,
    "start_time": "2022-06-26T16:23:43.035Z"
   },
   {
    "duration": 10,
    "start_time": "2022-06-26T16:23:43.654Z"
   },
   {
    "duration": 451,
    "start_time": "2022-06-26T16:24:00.891Z"
   },
   {
    "duration": 11,
    "start_time": "2022-06-26T16:24:01.344Z"
   },
   {
    "duration": 8,
    "start_time": "2022-06-26T16:36:24.331Z"
   },
   {
    "duration": 18,
    "start_time": "2022-06-26T16:36:45.898Z"
   },
   {
    "duration": 11,
    "start_time": "2022-06-26T16:38:13.711Z"
   },
   {
    "duration": 11,
    "start_time": "2022-06-26T16:38:15.697Z"
   },
   {
    "duration": 570,
    "start_time": "2022-06-26T16:38:30.247Z"
   },
   {
    "duration": 3,
    "start_time": "2022-06-26T16:39:05.601Z"
   },
   {
    "duration": 15,
    "start_time": "2022-06-26T16:39:18.851Z"
   },
   {
    "duration": 432,
    "start_time": "2022-06-26T16:39:51.290Z"
   },
   {
    "duration": 10,
    "start_time": "2022-06-26T16:39:51.746Z"
   },
   {
    "duration": 15,
    "start_time": "2022-06-26T16:39:54.148Z"
   },
   {
    "duration": 461,
    "start_time": "2022-06-26T16:40:53.636Z"
   },
   {
    "duration": 1402,
    "start_time": "2022-06-27T17:12:35.771Z"
   },
   {
    "duration": 3,
    "start_time": "2022-06-27T17:12:37.175Z"
   },
   {
    "duration": 8571,
    "start_time": "2022-06-27T17:12:37.179Z"
   },
   {
    "duration": 60,
    "start_time": "2022-06-27T17:12:45.752Z"
   },
   {
    "duration": 12,
    "start_time": "2022-06-27T17:12:45.813Z"
   },
   {
    "duration": 68,
    "start_time": "2022-06-27T17:12:45.826Z"
   },
   {
    "duration": 6,
    "start_time": "2022-06-27T17:12:45.896Z"
   },
   {
    "duration": 106,
    "start_time": "2022-06-27T17:12:45.904Z"
   },
   {
    "duration": 9,
    "start_time": "2022-06-27T17:12:46.012Z"
   },
   {
    "duration": 85,
    "start_time": "2022-06-27T17:12:46.023Z"
   },
   {
    "duration": 6,
    "start_time": "2022-06-27T17:12:46.109Z"
   },
   {
    "duration": 1125,
    "start_time": "2022-06-27T17:12:46.117Z"
   },
   {
    "duration": 23,
    "start_time": "2022-06-27T17:12:47.244Z"
   },
   {
    "duration": 59,
    "start_time": "2022-06-27T17:12:47.269Z"
   },
   {
    "duration": 6,
    "start_time": "2022-06-27T17:12:47.329Z"
   },
   {
    "duration": 36,
    "start_time": "2022-06-27T17:12:47.337Z"
   },
   {
    "duration": 6,
    "start_time": "2022-06-27T17:12:47.375Z"
   },
   {
    "duration": 1158,
    "start_time": "2022-06-27T17:12:47.382Z"
   },
   {
    "duration": 17,
    "start_time": "2022-06-27T17:12:48.542Z"
   },
   {
    "duration": 455,
    "start_time": "2022-06-27T17:12:48.560Z"
   },
   {
    "duration": 10,
    "start_time": "2022-06-27T17:12:49.017Z"
   },
   {
    "duration": 483,
    "start_time": "2022-06-27T17:12:49.028Z"
   },
   {
    "duration": 2,
    "start_time": "2022-06-27T17:12:49.513Z"
   },
   {
    "duration": 7,
    "start_time": "2022-06-27T17:12:49.516Z"
   },
   {
    "duration": 4,
    "start_time": "2022-06-27T17:12:49.524Z"
   },
   {
    "duration": 4,
    "start_time": "2022-06-27T17:12:49.530Z"
   },
   {
    "duration": 413,
    "start_time": "2022-06-27T18:49:51.322Z"
   },
   {
    "duration": 1494,
    "start_time": "2022-06-27T18:51:06.039Z"
   },
   {
    "duration": 17,
    "start_time": "2022-06-27T18:51:08.059Z"
   },
   {
    "duration": 827,
    "start_time": "2022-06-27T18:52:49.708Z"
   },
   {
    "duration": 12,
    "start_time": "2022-06-27T18:52:51.019Z"
   },
   {
    "duration": 183,
    "start_time": "2022-06-27T18:53:26.073Z"
   },
   {
    "duration": 7,
    "start_time": "2022-06-27T18:53:26.775Z"
   },
   {
    "duration": 183,
    "start_time": "2022-06-27T18:53:33.068Z"
   },
   {
    "duration": 9,
    "start_time": "2022-06-27T18:53:33.635Z"
   },
   {
    "duration": 190,
    "start_time": "2022-06-27T18:53:43.852Z"
   },
   {
    "duration": 6,
    "start_time": "2022-06-27T18:53:44.584Z"
   },
   {
    "duration": 181,
    "start_time": "2022-06-27T18:53:54.604Z"
   },
   {
    "duration": 6,
    "start_time": "2022-06-27T18:53:54.840Z"
   },
   {
    "duration": 192,
    "start_time": "2022-06-27T18:56:41.748Z"
   },
   {
    "duration": 15,
    "start_time": "2022-06-27T18:56:43.349Z"
   },
   {
    "duration": 181,
    "start_time": "2022-06-27T18:56:52.480Z"
   },
   {
    "duration": 9,
    "start_time": "2022-06-27T18:56:52.728Z"
   },
   {
    "duration": 182,
    "start_time": "2022-06-27T18:57:34.412Z"
   },
   {
    "duration": 11,
    "start_time": "2022-06-27T18:57:35.269Z"
   },
   {
    "duration": 207,
    "start_time": "2022-06-27T18:57:48.869Z"
   },
   {
    "duration": 8,
    "start_time": "2022-06-27T18:57:49.399Z"
   },
   {
    "duration": 184,
    "start_time": "2022-06-27T18:57:58.362Z"
   },
   {
    "duration": 8,
    "start_time": "2022-06-27T18:57:59.423Z"
   },
   {
    "duration": 193,
    "start_time": "2022-06-27T18:58:07.568Z"
   },
   {
    "duration": 12,
    "start_time": "2022-06-27T18:58:08.085Z"
   },
   {
    "duration": 183,
    "start_time": "2022-06-27T18:58:12.945Z"
   },
   {
    "duration": 8,
    "start_time": "2022-06-27T18:58:13.316Z"
   },
   {
    "duration": 186,
    "start_time": "2022-06-27T19:00:36.109Z"
   },
   {
    "duration": 14,
    "start_time": "2022-06-27T19:00:36.969Z"
   },
   {
    "duration": 188,
    "start_time": "2022-06-27T19:00:56.661Z"
   },
   {
    "duration": 13,
    "start_time": "2022-06-27T19:00:57.350Z"
   },
   {
    "duration": 101,
    "start_time": "2022-06-27T19:01:36.508Z"
   },
   {
    "duration": 8,
    "start_time": "2022-06-27T19:01:37.013Z"
   },
   {
    "duration": 182,
    "start_time": "2022-06-27T19:01:41.433Z"
   },
   {
    "duration": 10,
    "start_time": "2022-06-27T19:01:41.661Z"
   },
   {
    "duration": 182,
    "start_time": "2022-06-27T19:02:47.784Z"
   },
   {
    "duration": 16,
    "start_time": "2022-06-27T19:02:48.188Z"
   },
   {
    "duration": 180,
    "start_time": "2022-06-27T19:02:56.993Z"
   },
   {
    "duration": 11,
    "start_time": "2022-06-27T19:02:57.481Z"
   },
   {
    "duration": 185,
    "start_time": "2022-06-27T19:03:00.117Z"
   },
   {
    "duration": 16,
    "start_time": "2022-06-27T19:03:00.958Z"
   },
   {
    "duration": 197,
    "start_time": "2022-06-27T19:03:06.352Z"
   },
   {
    "duration": 12,
    "start_time": "2022-06-27T19:03:06.551Z"
   },
   {
    "duration": 191,
    "start_time": "2022-06-27T19:03:25.933Z"
   },
   {
    "duration": 8,
    "start_time": "2022-06-27T19:03:26.180Z"
   },
   {
    "duration": 199,
    "start_time": "2022-06-27T19:03:28.151Z"
   },
   {
    "duration": 10,
    "start_time": "2022-06-27T19:03:28.420Z"
   },
   {
    "duration": 193,
    "start_time": "2022-06-27T19:03:55.173Z"
   },
   {
    "duration": 10,
    "start_time": "2022-06-27T19:03:55.713Z"
   },
   {
    "duration": 193,
    "start_time": "2022-06-27T19:04:00.733Z"
   },
   {
    "duration": 13,
    "start_time": "2022-06-27T19:04:01.360Z"
   },
   {
    "duration": 183,
    "start_time": "2022-06-27T19:04:31.768Z"
   },
   {
    "duration": 11,
    "start_time": "2022-06-27T19:04:32.128Z"
   },
   {
    "duration": 129,
    "start_time": "2022-06-27T19:04:41.130Z"
   },
   {
    "duration": 9,
    "start_time": "2022-06-27T19:04:41.400Z"
   },
   {
    "duration": 182,
    "start_time": "2022-06-27T19:04:47.846Z"
   },
   {
    "duration": 8,
    "start_time": "2022-06-27T19:04:48.133Z"
   },
   {
    "duration": 181,
    "start_time": "2022-06-27T19:04:58.804Z"
   },
   {
    "duration": 10,
    "start_time": "2022-06-27T19:04:59.221Z"
   },
   {
    "duration": 897,
    "start_time": "2022-06-27T19:05:13.964Z"
   },
   {
    "duration": 8,
    "start_time": "2022-06-27T19:05:14.863Z"
   },
   {
    "duration": 182,
    "start_time": "2022-06-27T19:06:37.472Z"
   },
   {
    "duration": 9,
    "start_time": "2022-06-27T19:06:38.221Z"
   },
   {
    "duration": 182,
    "start_time": "2022-06-27T19:06:54.258Z"
   },
   {
    "duration": 8,
    "start_time": "2022-06-27T19:06:54.605Z"
   },
   {
    "duration": 5,
    "start_time": "2022-06-27T19:07:50.755Z"
   },
   {
    "duration": 1507,
    "start_time": "2022-06-27T19:08:03.485Z"
   },
   {
    "duration": 19,
    "start_time": "2022-06-27T19:08:06.128Z"
   },
   {
    "duration": 2753,
    "start_time": "2022-06-27T19:08:40.450Z"
   },
   {
    "duration": 23,
    "start_time": "2022-06-27T19:08:43.207Z"
   },
   {
    "duration": 2019,
    "start_time": "2022-06-27T19:08:49.584Z"
   },
   {
    "duration": 21,
    "start_time": "2022-06-27T19:08:53.204Z"
   },
   {
    "duration": 98,
    "start_time": "2022-06-27T19:09:17.045Z"
   },
   {
    "duration": 19,
    "start_time": "2022-06-27T19:09:17.557Z"
   },
   {
    "duration": 728,
    "start_time": "2022-06-27T19:09:21.890Z"
   },
   {
    "duration": 8,
    "start_time": "2022-06-27T19:09:22.619Z"
   },
   {
    "duration": 205,
    "start_time": "2022-06-27T19:09:29.066Z"
   },
   {
    "duration": 8,
    "start_time": "2022-06-27T19:09:29.365Z"
   },
   {
    "duration": 101,
    "start_time": "2022-06-27T19:10:04.606Z"
   },
   {
    "duration": 7,
    "start_time": "2022-06-27T19:10:05.033Z"
   },
   {
    "duration": 146,
    "start_time": "2022-06-27T19:10:18.285Z"
   },
   {
    "duration": 8,
    "start_time": "2022-06-27T19:10:18.523Z"
   },
   {
    "duration": 118,
    "start_time": "2022-06-27T19:10:29.801Z"
   },
   {
    "duration": 102,
    "start_time": "2022-06-27T19:10:34.589Z"
   },
   {
    "duration": 9,
    "start_time": "2022-06-27T19:10:35.000Z"
   },
   {
    "duration": 133,
    "start_time": "2022-06-27T19:10:42.577Z"
   },
   {
    "duration": 209,
    "start_time": "2022-06-27T19:11:06.401Z"
   },
   {
    "duration": 8,
    "start_time": "2022-06-27T19:11:06.713Z"
   },
   {
    "duration": 117,
    "start_time": "2022-06-27T19:12:14.961Z"
   },
   {
    "duration": 119,
    "start_time": "2022-06-27T19:12:45.550Z"
   },
   {
    "duration": 8,
    "start_time": "2022-06-27T19:12:46.168Z"
   },
   {
    "duration": 293,
    "start_time": "2022-06-27T19:13:07.049Z"
   },
   {
    "duration": 7,
    "start_time": "2022-06-27T19:13:07.973Z"
   },
   {
    "duration": 97,
    "start_time": "2022-06-27T19:13:24.369Z"
   },
   {
    "duration": 105,
    "start_time": "2022-06-27T19:13:29.110Z"
   },
   {
    "duration": 96,
    "start_time": "2022-06-27T19:13:54.309Z"
   },
   {
    "duration": 107,
    "start_time": "2022-06-27T19:14:08.767Z"
   },
   {
    "duration": 194,
    "start_time": "2022-06-27T19:14:12.937Z"
   },
   {
    "duration": 8,
    "start_time": "2022-06-27T19:14:14.045Z"
   },
   {
    "duration": 177,
    "start_time": "2022-06-27T19:14:34.893Z"
   },
   {
    "duration": 7,
    "start_time": "2022-06-27T19:14:35.140Z"
   },
   {
    "duration": 94,
    "start_time": "2022-06-27T19:15:26.049Z"
   },
   {
    "duration": 95,
    "start_time": "2022-06-27T19:15:35.789Z"
   },
   {
    "duration": 5,
    "start_time": "2022-06-27T19:15:36.105Z"
   },
   {
    "duration": 180,
    "start_time": "2022-06-27T19:17:47.821Z"
   },
   {
    "duration": 6,
    "start_time": "2022-06-27T19:17:48.666Z"
   },
   {
    "duration": 180,
    "start_time": "2022-06-27T19:17:54.385Z"
   },
   {
    "duration": 6,
    "start_time": "2022-06-27T19:17:54.805Z"
   },
   {
    "duration": 442,
    "start_time": "2022-06-27T19:18:43.348Z"
   },
   {
    "duration": 17,
    "start_time": "2022-06-27T19:18:44.074Z"
   },
   {
    "duration": 205,
    "start_time": "2022-06-27T19:19:26.929Z"
   },
   {
    "duration": 19,
    "start_time": "2022-06-27T19:19:27.547Z"
   },
   {
    "duration": 219,
    "start_time": "2022-06-27T19:20:46.486Z"
   },
   {
    "duration": 10,
    "start_time": "2022-06-27T19:20:47.418Z"
   },
   {
    "duration": 223,
    "start_time": "2022-06-27T19:21:19.614Z"
   },
   {
    "duration": 12,
    "start_time": "2022-06-27T19:21:19.839Z"
   },
   {
    "duration": 221,
    "start_time": "2022-06-27T19:21:40.718Z"
   },
   {
    "duration": 14,
    "start_time": "2022-06-27T19:21:41.714Z"
   },
   {
    "duration": 204,
    "start_time": "2022-06-27T19:21:48.266Z"
   },
   {
    "duration": 14,
    "start_time": "2022-06-27T19:21:48.522Z"
   },
   {
    "duration": 201,
    "start_time": "2022-06-27T19:21:59.362Z"
   },
   {
    "duration": 8,
    "start_time": "2022-06-27T19:21:59.766Z"
   },
   {
    "duration": 128,
    "start_time": "2022-06-27T19:22:28.722Z"
   },
   {
    "duration": 7,
    "start_time": "2022-06-27T19:22:29.251Z"
   },
   {
    "duration": 207,
    "start_time": "2022-06-27T19:22:32.453Z"
   },
   {
    "duration": 7,
    "start_time": "2022-06-27T19:22:33.174Z"
   },
   {
    "duration": 212,
    "start_time": "2022-06-27T19:22:52.995Z"
   },
   {
    "duration": 7,
    "start_time": "2022-06-27T19:22:53.509Z"
   },
   {
    "duration": 192,
    "start_time": "2022-06-27T19:23:04.353Z"
   },
   {
    "duration": 9,
    "start_time": "2022-06-27T19:23:04.874Z"
   },
   {
    "duration": 1380,
    "start_time": "2022-06-28T16:45:49.186Z"
   },
   {
    "duration": 4,
    "start_time": "2022-06-28T16:45:50.568Z"
   },
   {
    "duration": 6329,
    "start_time": "2022-06-28T16:45:50.574Z"
   },
   {
    "duration": 205,
    "start_time": "2022-06-28T16:45:56.905Z"
   },
   {
    "duration": 21,
    "start_time": "2022-06-28T16:45:57.112Z"
   },
   {
    "duration": 97,
    "start_time": "2022-06-28T16:45:57.135Z"
   },
   {
    "duration": 9,
    "start_time": "2022-06-28T16:45:57.235Z"
   },
   {
    "duration": 145,
    "start_time": "2022-06-28T16:45:57.246Z"
   },
   {
    "duration": 10,
    "start_time": "2022-06-28T16:45:57.393Z"
   },
   {
    "duration": 112,
    "start_time": "2022-06-28T16:45:57.406Z"
   },
   {
    "duration": 8,
    "start_time": "2022-06-28T16:45:57.520Z"
   },
   {
    "duration": 1249,
    "start_time": "2022-06-28T16:45:57.531Z"
   },
   {
    "duration": 12,
    "start_time": "2022-06-28T16:45:58.782Z"
   },
   {
    "duration": 92,
    "start_time": "2022-06-28T16:45:58.796Z"
   },
   {
    "duration": 8,
    "start_time": "2022-06-28T16:45:58.890Z"
   },
   {
    "duration": 76,
    "start_time": "2022-06-28T16:45:58.899Z"
   },
   {
    "duration": 6,
    "start_time": "2022-06-28T16:45:58.977Z"
   },
   {
    "duration": 1209,
    "start_time": "2022-06-28T16:45:58.984Z"
   },
   {
    "duration": 11,
    "start_time": "2022-06-28T16:46:00.195Z"
   },
   {
    "duration": 489,
    "start_time": "2022-06-28T16:46:00.208Z"
   },
   {
    "duration": 10,
    "start_time": "2022-06-28T16:46:00.699Z"
   },
   {
    "duration": 517,
    "start_time": "2022-06-28T16:46:00.711Z"
   },
   {
    "duration": 3,
    "start_time": "2022-06-28T16:46:01.230Z"
   },
   {
    "duration": 293,
    "start_time": "2022-06-28T16:46:01.235Z"
   },
   {
    "duration": 7,
    "start_time": "2022-06-28T16:46:01.530Z"
   },
   {
    "duration": 41,
    "start_time": "2022-06-28T16:46:01.539Z"
   },
   {
    "duration": 249,
    "start_time": "2022-06-28T16:46:01.582Z"
   },
   {
    "duration": 7,
    "start_time": "2022-06-28T16:46:01.834Z"
   },
   {
    "duration": 6,
    "start_time": "2022-06-28T16:48:33.008Z"
   },
   {
    "duration": 100,
    "start_time": "2022-06-28T16:48:48.977Z"
   },
   {
    "duration": 17,
    "start_time": "2022-06-28T16:48:52.849Z"
   },
   {
    "duration": 127,
    "start_time": "2022-06-28T16:49:05.869Z"
   },
   {
    "duration": 128,
    "start_time": "2022-06-28T16:49:16.945Z"
   },
   {
    "duration": 5,
    "start_time": "2022-06-28T16:50:37.708Z"
   },
   {
    "duration": 133,
    "start_time": "2022-06-28T16:52:14.797Z"
   },
   {
    "duration": 9,
    "start_time": "2022-06-28T16:53:20.973Z"
   },
   {
    "duration": 30,
    "start_time": "2022-06-28T16:53:29.035Z"
   },
   {
    "duration": 154,
    "start_time": "2022-06-28T16:54:06.921Z"
   },
   {
    "duration": 159,
    "start_time": "2022-06-28T16:54:29.468Z"
   },
   {
    "duration": 134,
    "start_time": "2022-06-28T16:54:54.945Z"
   },
   {
    "duration": 119,
    "start_time": "2022-06-28T16:55:08.597Z"
   },
   {
    "duration": 5,
    "start_time": "2022-06-28T16:58:27.264Z"
   },
   {
    "duration": 150,
    "start_time": "2022-06-28T16:59:06.965Z"
   },
   {
    "duration": 1406,
    "start_time": "2022-06-28T17:00:05.502Z"
   },
   {
    "duration": 207,
    "start_time": "2022-06-28T17:00:09.702Z"
   },
   {
    "duration": 164,
    "start_time": "2022-06-28T17:00:37.874Z"
   },
   {
    "duration": 149,
    "start_time": "2022-06-28T17:00:47.274Z"
   },
   {
    "duration": 184,
    "start_time": "2022-06-28T17:01:07.538Z"
   },
   {
    "duration": 173,
    "start_time": "2022-06-28T17:01:18.370Z"
   },
   {
    "duration": 150,
    "start_time": "2022-06-28T17:01:46.246Z"
   },
   {
    "duration": 218,
    "start_time": "2022-06-28T17:01:58.098Z"
   },
   {
    "duration": 183,
    "start_time": "2022-06-28T17:02:01.530Z"
   },
   {
    "duration": 186,
    "start_time": "2022-06-28T17:02:17.443Z"
   },
   {
    "duration": 200,
    "start_time": "2022-06-28T17:02:20.801Z"
   },
   {
    "duration": 196,
    "start_time": "2022-06-28T17:02:23.438Z"
   },
   {
    "duration": 430,
    "start_time": "2022-06-28T17:03:11.694Z"
   },
   {
    "duration": 1132,
    "start_time": "2022-06-28T18:46:34.030Z"
   },
   {
    "duration": 3,
    "start_time": "2022-06-28T18:46:35.163Z"
   },
   {
    "duration": 8648,
    "start_time": "2022-06-28T18:46:35.167Z"
   },
   {
    "duration": 179,
    "start_time": "2022-06-28T18:46:43.817Z"
   },
   {
    "duration": 12,
    "start_time": "2022-06-28T18:46:43.998Z"
   },
   {
    "duration": 96,
    "start_time": "2022-06-28T18:46:44.011Z"
   },
   {
    "duration": 5,
    "start_time": "2022-06-28T18:46:44.109Z"
   },
   {
    "duration": 134,
    "start_time": "2022-06-28T18:46:44.116Z"
   },
   {
    "duration": 8,
    "start_time": "2022-06-28T18:46:44.251Z"
   },
   {
    "duration": 107,
    "start_time": "2022-06-28T18:46:44.260Z"
   },
   {
    "duration": 7,
    "start_time": "2022-06-28T18:46:44.368Z"
   },
   {
    "duration": 1089,
    "start_time": "2022-06-28T18:46:44.376Z"
   },
   {
    "duration": 10,
    "start_time": "2022-06-28T18:46:45.466Z"
   },
   {
    "duration": 91,
    "start_time": "2022-06-28T18:46:45.477Z"
   },
   {
    "duration": 7,
    "start_time": "2022-06-28T18:46:45.570Z"
   },
   {
    "duration": 75,
    "start_time": "2022-06-28T18:46:45.578Z"
   },
   {
    "duration": 6,
    "start_time": "2022-06-28T18:46:45.654Z"
   },
   {
    "duration": 1068,
    "start_time": "2022-06-28T18:46:45.661Z"
   },
   {
    "duration": 10,
    "start_time": "2022-06-28T18:46:46.730Z"
   },
   {
    "duration": 474,
    "start_time": "2022-06-28T18:46:46.751Z"
   },
   {
    "duration": 15,
    "start_time": "2022-06-28T18:46:47.226Z"
   },
   {
    "duration": 388,
    "start_time": "2022-06-28T18:46:47.242Z"
   },
   {
    "duration": 212,
    "start_time": "2022-06-28T18:46:47.632Z"
   },
   {
    "duration": 7,
    "start_time": "2022-06-28T18:46:47.846Z"
   },
   {
    "duration": 166,
    "start_time": "2022-06-28T18:46:47.854Z"
   },
   {
    "duration": 228,
    "start_time": "2022-06-28T18:46:48.022Z"
   },
   {
    "duration": 6,
    "start_time": "2022-06-28T18:46:48.252Z"
   },
   {
    "duration": 132,
    "start_time": "2022-06-28T18:47:35.334Z"
   },
   {
    "duration": 8,
    "start_time": "2022-06-28T18:47:38.174Z"
   },
   {
    "duration": 144,
    "start_time": "2022-06-28T18:48:06.297Z"
   },
   {
    "duration": 8,
    "start_time": "2022-06-28T18:48:08.249Z"
   },
   {
    "duration": 133,
    "start_time": "2022-06-28T18:48:21.025Z"
   },
   {
    "duration": 8,
    "start_time": "2022-06-28T18:48:23.721Z"
   },
   {
    "duration": 1364,
    "start_time": "2022-06-30T13:17:51.243Z"
   },
   {
    "duration": 4,
    "start_time": "2022-06-30T13:17:52.610Z"
   },
   {
    "duration": 9361,
    "start_time": "2022-06-30T13:17:52.616Z"
   },
   {
    "duration": 74,
    "start_time": "2022-06-30T13:18:01.979Z"
   },
   {
    "duration": 15,
    "start_time": "2022-06-30T13:18:02.054Z"
   },
   {
    "duration": 83,
    "start_time": "2022-06-30T13:18:02.071Z"
   },
   {
    "duration": 7,
    "start_time": "2022-06-30T13:18:02.156Z"
   },
   {
    "duration": 121,
    "start_time": "2022-06-30T13:18:02.165Z"
   },
   {
    "duration": 11,
    "start_time": "2022-06-30T13:18:02.288Z"
   },
   {
    "duration": 84,
    "start_time": "2022-06-30T13:18:02.302Z"
   },
   {
    "duration": 7,
    "start_time": "2022-06-30T13:18:02.388Z"
   },
   {
    "duration": 1254,
    "start_time": "2022-06-30T13:18:02.397Z"
   },
   {
    "duration": 14,
    "start_time": "2022-06-30T13:18:03.657Z"
   },
   {
    "duration": 80,
    "start_time": "2022-06-30T13:18:03.673Z"
   },
   {
    "duration": 10,
    "start_time": "2022-06-30T13:18:03.755Z"
   },
   {
    "duration": 43,
    "start_time": "2022-06-30T13:18:03.768Z"
   },
   {
    "duration": 9,
    "start_time": "2022-06-30T13:18:03.814Z"
   },
   {
    "duration": 1299,
    "start_time": "2022-06-30T13:18:03.825Z"
   },
   {
    "duration": 22,
    "start_time": "2022-06-30T13:18:05.125Z"
   },
   {
    "duration": 467,
    "start_time": "2022-06-30T13:18:05.150Z"
   },
   {
    "duration": 14,
    "start_time": "2022-06-30T13:18:05.619Z"
   },
   {
    "duration": 572,
    "start_time": "2022-06-30T13:18:05.634Z"
   },
   {
    "duration": 204,
    "start_time": "2022-06-30T13:18:06.208Z"
   },
   {
    "duration": 7,
    "start_time": "2022-06-30T13:18:06.414Z"
   },
   {
    "duration": 188,
    "start_time": "2022-06-30T13:18:06.423Z"
   },
   {
    "duration": 240,
    "start_time": "2022-06-30T13:18:06.613Z"
   },
   {
    "duration": 8,
    "start_time": "2022-06-30T13:18:06.855Z"
   },
   {
    "duration": 133,
    "start_time": "2022-06-30T13:19:50.391Z"
   },
   {
    "duration": 10,
    "start_time": "2022-06-30T13:19:51.676Z"
   },
   {
    "duration": 1139,
    "start_time": "2022-06-30T15:06:25.420Z"
   },
   {
    "duration": 13,
    "start_time": "2022-06-30T15:06:28.146Z"
   },
   {
    "duration": 1751,
    "start_time": "2022-06-30T15:06:40.305Z"
   },
   {
    "duration": 121,
    "start_time": "2022-06-30T15:07:03.247Z"
   },
   {
    "duration": 10,
    "start_time": "2022-06-30T15:07:05.147Z"
   },
   {
    "duration": 26,
    "start_time": "2022-06-30T15:07:19.919Z"
   },
   {
    "duration": 7,
    "start_time": "2022-06-30T15:07:21.879Z"
   },
   {
    "duration": 1039,
    "start_time": "2022-06-30T15:07:31.180Z"
   },
   {
    "duration": 13,
    "start_time": "2022-06-30T15:07:33.531Z"
   },
   {
    "duration": 454,
    "start_time": "2022-06-30T15:10:56.451Z"
   },
   {
    "duration": 11,
    "start_time": "2022-06-30T15:10:56.908Z"
   },
   {
    "duration": 192,
    "start_time": "2022-06-30T15:11:11.806Z"
   },
   {
    "duration": 6,
    "start_time": "2022-06-30T15:11:12.431Z"
   },
   {
    "duration": 193,
    "start_time": "2022-06-30T15:11:54.031Z"
   },
   {
    "duration": 7,
    "start_time": "2022-06-30T15:11:54.859Z"
   },
   {
    "duration": 203,
    "start_time": "2022-06-30T15:13:02.371Z"
   },
   {
    "duration": 6,
    "start_time": "2022-06-30T15:13:02.798Z"
   },
   {
    "duration": 317,
    "start_time": "2022-06-30T15:15:09.706Z"
   },
   {
    "duration": 235,
    "start_time": "2022-06-30T15:16:02.916Z"
   },
   {
    "duration": 1064,
    "start_time": "2022-06-30T15:16:56.202Z"
   },
   {
    "duration": 11,
    "start_time": "2022-06-30T15:16:58.727Z"
   },
   {
    "duration": 1135,
    "start_time": "2022-06-30T15:17:21.456Z"
   },
   {
    "duration": 12,
    "start_time": "2022-06-30T15:17:23.182Z"
   },
   {
    "duration": 1262,
    "start_time": "2022-06-30T15:18:03.712Z"
   },
   {
    "duration": 11,
    "start_time": "2022-06-30T15:18:04.976Z"
   },
   {
    "duration": 1193,
    "start_time": "2022-06-30T15:18:21.101Z"
   },
   {
    "duration": 10,
    "start_time": "2022-06-30T15:18:22.296Z"
   },
   {
    "duration": 1150,
    "start_time": "2022-06-30T15:18:58.781Z"
   },
   {
    "duration": 10,
    "start_time": "2022-06-30T15:19:00.587Z"
   },
   {
    "duration": 1055,
    "start_time": "2022-06-30T15:19:40.264Z"
   },
   {
    "duration": 10,
    "start_time": "2022-06-30T15:19:41.904Z"
   },
   {
    "duration": 85,
    "start_time": "2022-06-30T15:22:17.535Z"
   },
   {
    "duration": 69,
    "start_time": "2022-06-30T15:22:33.608Z"
   },
   {
    "duration": 3,
    "start_time": "2022-06-30T15:23:35.585Z"
   },
   {
    "duration": 207,
    "start_time": "2022-06-30T15:25:40.312Z"
   },
   {
    "duration": 6,
    "start_time": "2022-06-30T15:25:42.520Z"
   },
   {
    "duration": 70,
    "start_time": "2022-07-01T15:13:02.915Z"
   },
   {
    "duration": 1858,
    "start_time": "2022-07-01T15:13:08.627Z"
   },
   {
    "duration": 4,
    "start_time": "2022-07-01T15:13:10.487Z"
   },
   {
    "duration": 10193,
    "start_time": "2022-07-01T15:13:10.493Z"
   },
   {
    "duration": 248,
    "start_time": "2022-07-01T15:13:20.688Z"
   },
   {
    "duration": 15,
    "start_time": "2022-07-01T15:13:20.938Z"
   },
   {
    "duration": 110,
    "start_time": "2022-07-01T15:13:20.955Z"
   },
   {
    "duration": 7,
    "start_time": "2022-07-01T15:13:21.066Z"
   },
   {
    "duration": 153,
    "start_time": "2022-07-01T15:13:21.075Z"
   },
   {
    "duration": 9,
    "start_time": "2022-07-01T15:13:21.229Z"
   },
   {
    "duration": 138,
    "start_time": "2022-07-01T15:13:21.240Z"
   },
   {
    "duration": 6,
    "start_time": "2022-07-01T15:13:21.379Z"
   },
   {
    "duration": 1154,
    "start_time": "2022-07-01T15:13:21.387Z"
   },
   {
    "duration": 24,
    "start_time": "2022-07-01T15:13:22.543Z"
   },
   {
    "duration": 110,
    "start_time": "2022-07-01T15:13:22.569Z"
   },
   {
    "duration": 9,
    "start_time": "2022-07-01T15:13:22.681Z"
   },
   {
    "duration": 83,
    "start_time": "2022-07-01T15:13:22.691Z"
   },
   {
    "duration": 6,
    "start_time": "2022-07-01T15:13:22.776Z"
   },
   {
    "duration": 15,
    "start_time": "2022-07-01T15:13:22.783Z"
   },
   {
    "duration": 1267,
    "start_time": "2022-07-01T15:13:22.800Z"
   },
   {
    "duration": 11,
    "start_time": "2022-07-01T15:13:24.068Z"
   },
   {
    "duration": 1238,
    "start_time": "2022-07-01T15:13:24.080Z"
   },
   {
    "duration": 11,
    "start_time": "2022-07-01T15:13:25.320Z"
   },
   {
    "duration": 516,
    "start_time": "2022-07-01T15:13:25.333Z"
   },
   {
    "duration": 17,
    "start_time": "2022-07-01T15:13:25.851Z"
   },
   {
    "duration": 408,
    "start_time": "2022-07-01T15:13:25.870Z"
   },
   {
    "duration": 239,
    "start_time": "2022-07-01T15:13:26.280Z"
   },
   {
    "duration": 7,
    "start_time": "2022-07-01T15:13:26.521Z"
   },
   {
    "duration": 203,
    "start_time": "2022-07-01T15:13:26.531Z"
   },
   {
    "duration": 250,
    "start_time": "2022-07-01T15:13:26.736Z"
   },
   {
    "duration": 8,
    "start_time": "2022-07-01T15:13:26.987Z"
   },
   {
    "duration": 1244,
    "start_time": "2022-07-01T15:13:47.441Z"
   },
   {
    "duration": 12,
    "start_time": "2022-07-01T15:13:49.771Z"
   },
   {
    "duration": 47,
    "start_time": "2022-07-01T15:42:19.893Z"
   },
   {
    "duration": 10,
    "start_time": "2022-07-25T16:22:32.584Z"
   },
   {
    "duration": 46,
    "start_time": "2022-07-25T16:25:43.642Z"
   }
  ],
  "colab": {
   "name": "AdvansedSQLProjectTemplate.ipynb",
   "provenance": []
  },
  "kernelspec": {
   "display_name": "Python 3 (ipykernel)",
   "language": "python",
   "name": "python3"
  },
  "language_info": {
   "codemirror_mode": {
    "name": "ipython",
    "version": 3
   },
   "file_extension": ".py",
   "mimetype": "text/x-python",
   "name": "python",
   "nbconvert_exporter": "python",
   "pygments_lexer": "ipython3",
   "version": "3.9.7"
  },
  "toc": {
   "base_numbering": 1,
   "nav_menu": {},
   "number_sections": false,
   "sideBar": true,
   "skip_h1_title": false,
   "title_cell": "Table of Contents",
   "title_sidebar": "Contents",
   "toc_cell": false,
   "toc_position": {},
   "toc_section_display": true,
   "toc_window_display": true
  }
 },
 "nbformat": 4,
 "nbformat_minor": 1
}
