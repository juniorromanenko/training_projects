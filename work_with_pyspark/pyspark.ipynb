{
 "cells": [
  {
   "cell_type": "code",
   "execution_count": 1,
   "id": "d470d183",
   "metadata": {},
   "outputs": [],
   "source": [
    "# импортирую библиотеки\n",
    "import pandas as pd \n",
    "import numpy as np\n",
    "\n",
    "\n",
    "import pyspark\n",
    "from pyspark.sql import Row, SparkSession\n",
    "from pyspark.sql.window import Window \n",
    "from pyspark.sql.types import *\n",
    "import pyspark.sql.functions as F, round\n",
    "from pyspark.ml.feature import OneHotEncoder, VectorAssembler, StringIndexer, StandardScaler\n",
    "from pyspark.ml.regression import LinearRegression\n",
    "from pyspark.mllib.evaluation import RegressionMetrics"
   ]
  },
  {
   "cell_type": "markdown",
   "id": "53871372",
   "metadata": {
    "id": "53871372"
   },
   "source": [
    "# Подготовка данных"
   ]
  },
  {
   "cell_type": "code",
   "execution_count": 2,
   "id": "df92e3ec",
   "metadata": {
    "id": "df92e3ec"
   },
   "outputs": [],
   "source": [
    "# инициализирую Spark-Session\n",
    "spark = SparkSession.builder.master(\"local\").appName(\"Prediction the cost of housing\").getOrCreate()"
   ]
  },
  {
   "cell_type": "code",
   "execution_count": 3,
   "id": "8bbecbc8",
   "metadata": {},
   "outputs": [
    {
     "name": "stderr",
     "output_type": "stream",
     "text": [
      "                                                                                \r"
     ]
    }
   ],
   "source": [
    "# считываю файл \n",
    "df = spark.read.load('/datasets/housing.csv', format='csv', sep=',', inferSchema=True, header='true')"
   ]
  },
  {
   "cell_type": "code",
   "execution_count": 4,
   "id": "6b1ced38",
   "metadata": {},
   "outputs": [
    {
     "name": "stdout",
     "output_type": "stream",
     "text": [
      "               column    type\n",
      "0           longitude  double\n",
      "1            latitude  double\n",
      "2  housing_median_age  double\n",
      "3         total_rooms  double\n",
      "4      total_bedrooms  double\n",
      "5          population  double\n",
      "6          households  double\n",
      "7       median_income  double\n",
      "8  median_house_value  double\n",
      "9     ocean_proximity  string\n",
      "+---------+--------+------------------+-----------+--------------+----------+----------+-------------+------------------+---------------+\n",
      "|longitude|latitude|housing_median_age|total_rooms|total_bedrooms|population|households|median_income|median_house_value|ocean_proximity|\n",
      "+---------+--------+------------------+-----------+--------------+----------+----------+-------------+------------------+---------------+\n",
      "|  -122.23|   37.88|              41.0|      880.0|         129.0|     322.0|     126.0|       8.3252|          452600.0|       NEAR BAY|\n",
      "|  -122.22|   37.86|              21.0|     7099.0|        1106.0|    2401.0|    1138.0|       8.3014|          358500.0|       NEAR BAY|\n",
      "|  -122.24|   37.85|              52.0|     1467.0|         190.0|     496.0|     177.0|       7.2574|          352100.0|       NEAR BAY|\n",
      "|  -122.25|   37.85|              52.0|     1274.0|         235.0|     558.0|     219.0|       5.6431|          341300.0|       NEAR BAY|\n",
      "|  -122.25|   37.85|              52.0|     1627.0|         280.0|     565.0|     259.0|       3.8462|          342200.0|       NEAR BAY|\n",
      "|  -122.25|   37.85|              52.0|      919.0|         213.0|     413.0|     193.0|       4.0368|          269700.0|       NEAR BAY|\n",
      "|  -122.25|   37.84|              52.0|     2535.0|         489.0|    1094.0|     514.0|       3.6591|          299200.0|       NEAR BAY|\n",
      "|  -122.25|   37.84|              52.0|     3104.0|         687.0|    1157.0|     647.0|         3.12|          241400.0|       NEAR BAY|\n",
      "|  -122.26|   37.84|              42.0|     2555.0|         665.0|    1206.0|     595.0|       2.0804|          226700.0|       NEAR BAY|\n",
      "|  -122.25|   37.84|              52.0|     3549.0|         707.0|    1551.0|     714.0|       3.6912|          261100.0|       NEAR BAY|\n",
      "|  -122.26|   37.85|              52.0|     2202.0|         434.0|     910.0|     402.0|       3.2031|          281500.0|       NEAR BAY|\n",
      "|  -122.26|   37.85|              52.0|     3503.0|         752.0|    1504.0|     734.0|       3.2705|          241800.0|       NEAR BAY|\n",
      "|  -122.26|   37.85|              52.0|     2491.0|         474.0|    1098.0|     468.0|        3.075|          213500.0|       NEAR BAY|\n",
      "|  -122.26|   37.84|              52.0|      696.0|         191.0|     345.0|     174.0|       2.6736|          191300.0|       NEAR BAY|\n",
      "|  -122.26|   37.85|              52.0|     2643.0|         626.0|    1212.0|     620.0|       1.9167|          159200.0|       NEAR BAY|\n",
      "|  -122.26|   37.85|              50.0|     1120.0|         283.0|     697.0|     264.0|        2.125|          140000.0|       NEAR BAY|\n",
      "|  -122.27|   37.85|              52.0|     1966.0|         347.0|     793.0|     331.0|        2.775|          152500.0|       NEAR BAY|\n",
      "|  -122.27|   37.85|              52.0|     1228.0|         293.0|     648.0|     303.0|       2.1202|          155500.0|       NEAR BAY|\n",
      "|  -122.26|   37.84|              50.0|     2239.0|         455.0|     990.0|     419.0|       1.9911|          158700.0|       NEAR BAY|\n",
      "|  -122.27|   37.84|              52.0|     1503.0|         298.0|     690.0|     275.0|       2.6033|          162900.0|       NEAR BAY|\n",
      "+---------+--------+------------------+-----------+--------------+----------+----------+-------------+------------------+---------------+\n",
      "only showing top 20 rows\n",
      "\n"
     ]
    }
   ],
   "source": [
    "# просматриваю тип данных\n",
    "print(pd.DataFrame(df.dtypes, columns=['column', 'type']).head(10))\n",
    "df.show()"
   ]
  },
  {
   "cell_type": "code",
   "execution_count": 5,
   "id": "21313a75",
   "metadata": {},
   "outputs": [
    {
     "name": "stdout",
     "output_type": "stream",
     "text": [
      "root\n",
      " |-- longitude: double (nullable = true)\n",
      " |-- latitude: double (nullable = true)\n",
      " |-- housing_median_age: double (nullable = true)\n",
      " |-- total_rooms: double (nullable = true)\n",
      " |-- total_bedrooms: double (nullable = true)\n",
      " |-- population: double (nullable = true)\n",
      " |-- households: double (nullable = true)\n",
      " |-- median_income: double (nullable = true)\n",
      " |-- median_house_value: double (nullable = true)\n",
      " |-- ocean_proximity: string (nullable = true)\n",
      "\n"
     ]
    }
   ],
   "source": [
    "df.printSchema()"
   ]
  },
  {
   "cell_type": "code",
   "execution_count": 6,
   "id": "51ad5c3d",
   "metadata": {},
   "outputs": [
    {
     "name": "stderr",
     "output_type": "stream",
     "text": [
      "                                                                                \r"
     ]
    },
    {
     "data": {
      "text/html": [
       "<div>\n",
       "<style scoped>\n",
       "    .dataframe tbody tr th:only-of-type {\n",
       "        vertical-align: middle;\n",
       "    }\n",
       "\n",
       "    .dataframe tbody tr th {\n",
       "        vertical-align: top;\n",
       "    }\n",
       "\n",
       "    .dataframe thead th {\n",
       "        text-align: right;\n",
       "    }\n",
       "</style>\n",
       "<table border=\"1\" class=\"dataframe\">\n",
       "  <thead>\n",
       "    <tr style=\"text-align: right;\">\n",
       "      <th></th>\n",
       "      <th>summary</th>\n",
       "      <th>longitude</th>\n",
       "      <th>latitude</th>\n",
       "      <th>housing_median_age</th>\n",
       "      <th>total_rooms</th>\n",
       "      <th>total_bedrooms</th>\n",
       "      <th>population</th>\n",
       "      <th>households</th>\n",
       "      <th>median_income</th>\n",
       "      <th>median_house_value</th>\n",
       "      <th>ocean_proximity</th>\n",
       "    </tr>\n",
       "  </thead>\n",
       "  <tbody>\n",
       "    <tr>\n",
       "      <th>0</th>\n",
       "      <td>count</td>\n",
       "      <td>20640</td>\n",
       "      <td>20640</td>\n",
       "      <td>20640</td>\n",
       "      <td>20640</td>\n",
       "      <td>20433</td>\n",
       "      <td>20640</td>\n",
       "      <td>20640</td>\n",
       "      <td>20640</td>\n",
       "      <td>20640</td>\n",
       "      <td>20640</td>\n",
       "    </tr>\n",
       "    <tr>\n",
       "      <th>1</th>\n",
       "      <td>mean</td>\n",
       "      <td>-119.56970445736148</td>\n",
       "      <td>35.6318614341087</td>\n",
       "      <td>28.639486434108527</td>\n",
       "      <td>2635.7630813953488</td>\n",
       "      <td>537.8705525375618</td>\n",
       "      <td>1425.4767441860465</td>\n",
       "      <td>499.5396802325581</td>\n",
       "      <td>3.8706710029070246</td>\n",
       "      <td>206855.81690891474</td>\n",
       "      <td>None</td>\n",
       "    </tr>\n",
       "    <tr>\n",
       "      <th>2</th>\n",
       "      <td>stddev</td>\n",
       "      <td>2.003531723502584</td>\n",
       "      <td>2.135952397457101</td>\n",
       "      <td>12.58555761211163</td>\n",
       "      <td>2181.6152515827944</td>\n",
       "      <td>421.38507007403115</td>\n",
       "      <td>1132.46212176534</td>\n",
       "      <td>382.3297528316098</td>\n",
       "      <td>1.899821717945263</td>\n",
       "      <td>115395.61587441359</td>\n",
       "      <td>None</td>\n",
       "    </tr>\n",
       "    <tr>\n",
       "      <th>3</th>\n",
       "      <td>min</td>\n",
       "      <td>-124.35</td>\n",
       "      <td>32.54</td>\n",
       "      <td>1.0</td>\n",
       "      <td>2.0</td>\n",
       "      <td>1.0</td>\n",
       "      <td>3.0</td>\n",
       "      <td>1.0</td>\n",
       "      <td>0.4999</td>\n",
       "      <td>14999.0</td>\n",
       "      <td>&lt;1H OCEAN</td>\n",
       "    </tr>\n",
       "    <tr>\n",
       "      <th>4</th>\n",
       "      <td>max</td>\n",
       "      <td>-114.31</td>\n",
       "      <td>41.95</td>\n",
       "      <td>52.0</td>\n",
       "      <td>39320.0</td>\n",
       "      <td>6445.0</td>\n",
       "      <td>35682.0</td>\n",
       "      <td>6082.0</td>\n",
       "      <td>15.0001</td>\n",
       "      <td>500001.0</td>\n",
       "      <td>NEAR OCEAN</td>\n",
       "    </tr>\n",
       "  </tbody>\n",
       "</table>\n",
       "</div>"
      ],
      "text/plain": [
       "  summary            longitude           latitude  housing_median_age  \\\n",
       "0   count                20640              20640               20640   \n",
       "1    mean  -119.56970445736148   35.6318614341087  28.639486434108527   \n",
       "2  stddev    2.003531723502584  2.135952397457101   12.58555761211163   \n",
       "3     min              -124.35              32.54                 1.0   \n",
       "4     max              -114.31              41.95                52.0   \n",
       "\n",
       "          total_rooms      total_bedrooms          population  \\\n",
       "0               20640               20433               20640   \n",
       "1  2635.7630813953488   537.8705525375618  1425.4767441860465   \n",
       "2  2181.6152515827944  421.38507007403115    1132.46212176534   \n",
       "3                 2.0                 1.0                 3.0   \n",
       "4             39320.0              6445.0             35682.0   \n",
       "\n",
       "          households       median_income  median_house_value ocean_proximity  \n",
       "0              20640               20640               20640           20640  \n",
       "1  499.5396802325581  3.8706710029070246  206855.81690891474            None  \n",
       "2  382.3297528316098   1.899821717945263  115395.61587441359            None  \n",
       "3                1.0              0.4999             14999.0       <1H OCEAN  \n",
       "4             6082.0             15.0001            500001.0      NEAR OCEAN  "
      ]
     },
     "execution_count": 6,
     "metadata": {},
     "output_type": "execute_result"
    }
   ],
   "source": [
    "# просматриваю информацию \n",
    "df.describe().toPandas()"
   ]
  },
  {
   "cell_type": "markdown",
   "id": "c0cdf584",
   "metadata": {},
   "source": [
    "Уже можно сказать, что есть пропуски в столбце total_defrooms, но нужно проверить с  помощью spark"
   ]
  },
  {
   "cell_type": "code",
   "execution_count": 7,
   "id": "e752c610",
   "metadata": {},
   "outputs": [
    {
     "name": "stdout",
     "output_type": "stream",
     "text": [
      "longitude 0\n",
      "latitude 0\n",
      "housing_median_age 0\n",
      "total_rooms 0\n",
      "total_bedrooms 207\n",
      "population 0\n",
      "households 0\n",
      "median_income 0\n",
      "median_house_value 0\n",
      "ocean_proximity 0\n"
     ]
    }
   ],
   "source": [
    "# проверяю пропуски\n",
    "columns = df.columns\n",
    "\n",
    "for column in columns:\n",
    "    nan_col = F.col(column).isNull()\n",
    "    print(column, df.filter(nan_col).count())"
   ]
  },
  {
   "cell_type": "code",
   "execution_count": 8,
   "id": "5edb61ea",
   "metadata": {},
   "outputs": [
    {
     "data": {
      "text/html": [
       "<div>\n",
       "<style scoped>\n",
       "    .dataframe tbody tr th:only-of-type {\n",
       "        vertical-align: middle;\n",
       "    }\n",
       "\n",
       "    .dataframe tbody tr th {\n",
       "        vertical-align: top;\n",
       "    }\n",
       "\n",
       "    .dataframe thead th {\n",
       "        text-align: right;\n",
       "    }\n",
       "</style>\n",
       "<table border=\"1\" class=\"dataframe\">\n",
       "  <thead>\n",
       "    <tr style=\"text-align: right;\">\n",
       "      <th></th>\n",
       "      <th>longitude</th>\n",
       "      <th>latitude</th>\n",
       "      <th>housing_median_age</th>\n",
       "      <th>total_rooms</th>\n",
       "      <th>total_bedrooms</th>\n",
       "      <th>population</th>\n",
       "      <th>households</th>\n",
       "      <th>median_income</th>\n",
       "      <th>median_house_value</th>\n",
       "      <th>ocean_proximity</th>\n",
       "    </tr>\n",
       "  </thead>\n",
       "  <tbody>\n",
       "    <tr>\n",
       "      <th>0</th>\n",
       "      <td>-122.16</td>\n",
       "      <td>37.77</td>\n",
       "      <td>47.0</td>\n",
       "      <td>1256.0</td>\n",
       "      <td>NaN</td>\n",
       "      <td>570.0</td>\n",
       "      <td>218.0</td>\n",
       "      <td>4.3750</td>\n",
       "      <td>161900.0</td>\n",
       "      <td>NEAR BAY</td>\n",
       "    </tr>\n",
       "    <tr>\n",
       "      <th>1</th>\n",
       "      <td>-122.17</td>\n",
       "      <td>37.75</td>\n",
       "      <td>38.0</td>\n",
       "      <td>992.0</td>\n",
       "      <td>NaN</td>\n",
       "      <td>732.0</td>\n",
       "      <td>259.0</td>\n",
       "      <td>1.6196</td>\n",
       "      <td>85100.0</td>\n",
       "      <td>NEAR BAY</td>\n",
       "    </tr>\n",
       "    <tr>\n",
       "      <th>2</th>\n",
       "      <td>-122.28</td>\n",
       "      <td>37.78</td>\n",
       "      <td>29.0</td>\n",
       "      <td>5154.0</td>\n",
       "      <td>NaN</td>\n",
       "      <td>3741.0</td>\n",
       "      <td>1273.0</td>\n",
       "      <td>2.5762</td>\n",
       "      <td>173400.0</td>\n",
       "      <td>NEAR BAY</td>\n",
       "    </tr>\n",
       "    <tr>\n",
       "      <th>3</th>\n",
       "      <td>-122.24</td>\n",
       "      <td>37.75</td>\n",
       "      <td>45.0</td>\n",
       "      <td>891.0</td>\n",
       "      <td>NaN</td>\n",
       "      <td>384.0</td>\n",
       "      <td>146.0</td>\n",
       "      <td>4.9489</td>\n",
       "      <td>247100.0</td>\n",
       "      <td>NEAR BAY</td>\n",
       "    </tr>\n",
       "    <tr>\n",
       "      <th>4</th>\n",
       "      <td>-122.10</td>\n",
       "      <td>37.69</td>\n",
       "      <td>41.0</td>\n",
       "      <td>746.0</td>\n",
       "      <td>NaN</td>\n",
       "      <td>387.0</td>\n",
       "      <td>161.0</td>\n",
       "      <td>3.9063</td>\n",
       "      <td>178400.0</td>\n",
       "      <td>NEAR BAY</td>\n",
       "    </tr>\n",
       "    <tr>\n",
       "      <th>...</th>\n",
       "      <td>...</td>\n",
       "      <td>...</td>\n",
       "      <td>...</td>\n",
       "      <td>...</td>\n",
       "      <td>...</td>\n",
       "      <td>...</td>\n",
       "      <td>...</td>\n",
       "      <td>...</td>\n",
       "      <td>...</td>\n",
       "      <td>...</td>\n",
       "    </tr>\n",
       "    <tr>\n",
       "      <th>202</th>\n",
       "      <td>-119.19</td>\n",
       "      <td>34.20</td>\n",
       "      <td>18.0</td>\n",
       "      <td>3620.0</td>\n",
       "      <td>NaN</td>\n",
       "      <td>3171.0</td>\n",
       "      <td>779.0</td>\n",
       "      <td>3.3409</td>\n",
       "      <td>220500.0</td>\n",
       "      <td>NEAR OCEAN</td>\n",
       "    </tr>\n",
       "    <tr>\n",
       "      <th>203</th>\n",
       "      <td>-119.18</td>\n",
       "      <td>34.19</td>\n",
       "      <td>19.0</td>\n",
       "      <td>2393.0</td>\n",
       "      <td>NaN</td>\n",
       "      <td>1938.0</td>\n",
       "      <td>762.0</td>\n",
       "      <td>1.6953</td>\n",
       "      <td>167400.0</td>\n",
       "      <td>NEAR OCEAN</td>\n",
       "    </tr>\n",
       "    <tr>\n",
       "      <th>204</th>\n",
       "      <td>-118.88</td>\n",
       "      <td>34.17</td>\n",
       "      <td>15.0</td>\n",
       "      <td>4260.0</td>\n",
       "      <td>NaN</td>\n",
       "      <td>1701.0</td>\n",
       "      <td>669.0</td>\n",
       "      <td>5.1033</td>\n",
       "      <td>410700.0</td>\n",
       "      <td>&lt;1H OCEAN</td>\n",
       "    </tr>\n",
       "    <tr>\n",
       "      <th>205</th>\n",
       "      <td>-118.75</td>\n",
       "      <td>34.29</td>\n",
       "      <td>17.0</td>\n",
       "      <td>5512.0</td>\n",
       "      <td>NaN</td>\n",
       "      <td>2734.0</td>\n",
       "      <td>814.0</td>\n",
       "      <td>6.6073</td>\n",
       "      <td>258100.0</td>\n",
       "      <td>&lt;1H OCEAN</td>\n",
       "    </tr>\n",
       "    <tr>\n",
       "      <th>206</th>\n",
       "      <td>-118.72</td>\n",
       "      <td>34.28</td>\n",
       "      <td>17.0</td>\n",
       "      <td>3051.0</td>\n",
       "      <td>NaN</td>\n",
       "      <td>1705.0</td>\n",
       "      <td>495.0</td>\n",
       "      <td>5.7376</td>\n",
       "      <td>218600.0</td>\n",
       "      <td>&lt;1H OCEAN</td>\n",
       "    </tr>\n",
       "  </tbody>\n",
       "</table>\n",
       "<p>207 rows × 10 columns</p>\n",
       "</div>"
      ],
      "text/plain": [
       "     longitude  latitude  housing_median_age  total_rooms  total_bedrooms  \\\n",
       "0      -122.16     37.77                47.0       1256.0             NaN   \n",
       "1      -122.17     37.75                38.0        992.0             NaN   \n",
       "2      -122.28     37.78                29.0       5154.0             NaN   \n",
       "3      -122.24     37.75                45.0        891.0             NaN   \n",
       "4      -122.10     37.69                41.0        746.0             NaN   \n",
       "..         ...       ...                 ...          ...             ...   \n",
       "202    -119.19     34.20                18.0       3620.0             NaN   \n",
       "203    -119.18     34.19                19.0       2393.0             NaN   \n",
       "204    -118.88     34.17                15.0       4260.0             NaN   \n",
       "205    -118.75     34.29                17.0       5512.0             NaN   \n",
       "206    -118.72     34.28                17.0       3051.0             NaN   \n",
       "\n",
       "     population  households  median_income  median_house_value ocean_proximity  \n",
       "0         570.0       218.0         4.3750            161900.0        NEAR BAY  \n",
       "1         732.0       259.0         1.6196             85100.0        NEAR BAY  \n",
       "2        3741.0      1273.0         2.5762            173400.0        NEAR BAY  \n",
       "3         384.0       146.0         4.9489            247100.0        NEAR BAY  \n",
       "4         387.0       161.0         3.9063            178400.0        NEAR BAY  \n",
       "..          ...         ...            ...                 ...             ...  \n",
       "202      3171.0       779.0         3.3409            220500.0      NEAR OCEAN  \n",
       "203      1938.0       762.0         1.6953            167400.0      NEAR OCEAN  \n",
       "204      1701.0       669.0         5.1033            410700.0       <1H OCEAN  \n",
       "205      2734.0       814.0         6.6073            258100.0       <1H OCEAN  \n",
       "206      1705.0       495.0         5.7376            218600.0       <1H OCEAN  \n",
       "\n",
       "[207 rows x 10 columns]"
      ]
     },
     "execution_count": 8,
     "metadata": {},
     "output_type": "execute_result"
    }
   ],
   "source": [
    "# просматриваю пропуски\n",
    "df.filter(df.total_bedrooms.isNull()).toPandas()"
   ]
  },
  {
   "cell_type": "code",
   "execution_count": 9,
   "id": "298cfe4a",
   "metadata": {},
   "outputs": [
    {
     "name": "stderr",
     "output_type": "stream",
     "text": [
      "                                                                                \r"
     ]
    }
   ],
   "source": [
    "# с помощью оконной функции и na.fill заменяю пропуски\n",
    "window = Window().partitionBy(['total_rooms'])\n",
    "\n",
    "df = df.withColumn(\"total_bedrooms_mean_by_rooms\",F.avg(F.col('total_bedrooms')).over(window))\n",
    "\n",
    "df = df.withColumn(\"total_bedrooms_filled\",\n",
    "                   F.when(F.col('total_bedrooms').isNull(),F.col('total_bedrooms_mean_by_rooms'))\n",
    "                   .otherwise(F.col('total_bedrooms')))\n",
    "\n",
    "df = df.withColumn(\"total_bedrooms_filled\", round(\"total_bedrooms_filled\"))\n",
    "\n",
    "mean = df.select(round(F.avg('total_bedrooms_filled'))).collect()[0][0]\n",
    "\n",
    "df = df.na.fill({'total_bedrooms_filled': mean})"
   ]
  },
  {
   "cell_type": "code",
   "execution_count": 10,
   "id": "83a2794e",
   "metadata": {},
   "outputs": [
    {
     "name": "stderr",
     "output_type": "stream",
     "text": [
      "                                                                                \r"
     ]
    },
    {
     "data": {
      "text/html": [
       "<div>\n",
       "<style scoped>\n",
       "    .dataframe tbody tr th:only-of-type {\n",
       "        vertical-align: middle;\n",
       "    }\n",
       "\n",
       "    .dataframe tbody tr th {\n",
       "        vertical-align: top;\n",
       "    }\n",
       "\n",
       "    .dataframe thead th {\n",
       "        text-align: right;\n",
       "    }\n",
       "</style>\n",
       "<table border=\"1\" class=\"dataframe\">\n",
       "  <thead>\n",
       "    <tr style=\"text-align: right;\">\n",
       "      <th></th>\n",
       "      <th>longitude</th>\n",
       "      <th>latitude</th>\n",
       "      <th>housing_median_age</th>\n",
       "      <th>total_rooms</th>\n",
       "      <th>total_bedrooms</th>\n",
       "      <th>population</th>\n",
       "      <th>households</th>\n",
       "      <th>median_income</th>\n",
       "      <th>median_house_value</th>\n",
       "      <th>ocean_proximity</th>\n",
       "      <th>total_bedrooms_mean_by_rooms</th>\n",
       "      <th>total_bedrooms_filled</th>\n",
       "    </tr>\n",
       "  </thead>\n",
       "  <tbody>\n",
       "    <tr>\n",
       "      <th>0</th>\n",
       "      <td>-120.98</td>\n",
       "      <td>37.66</td>\n",
       "      <td>10.0</td>\n",
       "      <td>934.0</td>\n",
       "      <td>NaN</td>\n",
       "      <td>401.0</td>\n",
       "      <td>255.0</td>\n",
       "      <td>0.9336</td>\n",
       "      <td>127100.0</td>\n",
       "      <td>INLAND</td>\n",
       "      <td>222.750000</td>\n",
       "      <td>223.0</td>\n",
       "    </tr>\n",
       "    <tr>\n",
       "      <th>1</th>\n",
       "      <td>-120.32</td>\n",
       "      <td>37.29</td>\n",
       "      <td>38.0</td>\n",
       "      <td>576.0</td>\n",
       "      <td>NaN</td>\n",
       "      <td>478.0</td>\n",
       "      <td>112.0</td>\n",
       "      <td>2.3382</td>\n",
       "      <td>59600.0</td>\n",
       "      <td>INLAND</td>\n",
       "      <td>131.500000</td>\n",
       "      <td>132.0</td>\n",
       "    </tr>\n",
       "    <tr>\n",
       "      <th>2</th>\n",
       "      <td>-122.42</td>\n",
       "      <td>40.44</td>\n",
       "      <td>16.0</td>\n",
       "      <td>994.0</td>\n",
       "      <td>NaN</td>\n",
       "      <td>495.0</td>\n",
       "      <td>181.0</td>\n",
       "      <td>2.1875</td>\n",
       "      <td>76400.0</td>\n",
       "      <td>INLAND</td>\n",
       "      <td>269.750000</td>\n",
       "      <td>270.0</td>\n",
       "    </tr>\n",
       "    <tr>\n",
       "      <th>3</th>\n",
       "      <td>-122.14</td>\n",
       "      <td>37.67</td>\n",
       "      <td>37.0</td>\n",
       "      <td>3342.0</td>\n",
       "      <td>NaN</td>\n",
       "      <td>1635.0</td>\n",
       "      <td>557.0</td>\n",
       "      <td>4.7933</td>\n",
       "      <td>186900.0</td>\n",
       "      <td>NEAR BAY</td>\n",
       "      <td>666.000000</td>\n",
       "      <td>666.0</td>\n",
       "    </tr>\n",
       "    <tr>\n",
       "      <th>4</th>\n",
       "      <td>-118.38</td>\n",
       "      <td>34.05</td>\n",
       "      <td>49.0</td>\n",
       "      <td>702.0</td>\n",
       "      <td>NaN</td>\n",
       "      <td>458.0</td>\n",
       "      <td>187.0</td>\n",
       "      <td>4.8958</td>\n",
       "      <td>333600.0</td>\n",
       "      <td>&lt;1H OCEAN</td>\n",
       "      <td>185.500000</td>\n",
       "      <td>186.0</td>\n",
       "    </tr>\n",
       "    <tr>\n",
       "      <th>...</th>\n",
       "      <td>...</td>\n",
       "      <td>...</td>\n",
       "      <td>...</td>\n",
       "      <td>...</td>\n",
       "      <td>...</td>\n",
       "      <td>...</td>\n",
       "      <td>...</td>\n",
       "      <td>...</td>\n",
       "      <td>...</td>\n",
       "      <td>...</td>\n",
       "      <td>...</td>\n",
       "      <td>...</td>\n",
       "    </tr>\n",
       "    <tr>\n",
       "      <th>202</th>\n",
       "      <td>-119.45</td>\n",
       "      <td>36.61</td>\n",
       "      <td>24.0</td>\n",
       "      <td>1302.0</td>\n",
       "      <td>NaN</td>\n",
       "      <td>693.0</td>\n",
       "      <td>243.0</td>\n",
       "      <td>3.7917</td>\n",
       "      <td>90500.0</td>\n",
       "      <td>INLAND</td>\n",
       "      <td>281.833333</td>\n",
       "      <td>282.0</td>\n",
       "    </tr>\n",
       "    <tr>\n",
       "      <th>203</th>\n",
       "      <td>-119.69</td>\n",
       "      <td>36.83</td>\n",
       "      <td>32.0</td>\n",
       "      <td>1098.0</td>\n",
       "      <td>NaN</td>\n",
       "      <td>726.0</td>\n",
       "      <td>224.0</td>\n",
       "      <td>1.4913</td>\n",
       "      <td>54600.0</td>\n",
       "      <td>INLAND</td>\n",
       "      <td>275.000000</td>\n",
       "      <td>275.0</td>\n",
       "    </tr>\n",
       "    <tr>\n",
       "      <th>204</th>\n",
       "      <td>-122.44</td>\n",
       "      <td>37.80</td>\n",
       "      <td>52.0</td>\n",
       "      <td>3830.0</td>\n",
       "      <td>NaN</td>\n",
       "      <td>1310.0</td>\n",
       "      <td>963.0</td>\n",
       "      <td>3.4801</td>\n",
       "      <td>500001.0</td>\n",
       "      <td>NEAR BAY</td>\n",
       "      <td>791.000000</td>\n",
       "      <td>791.0</td>\n",
       "    </tr>\n",
       "    <tr>\n",
       "      <th>205</th>\n",
       "      <td>-117.14</td>\n",
       "      <td>32.71</td>\n",
       "      <td>52.0</td>\n",
       "      <td>500.0</td>\n",
       "      <td>NaN</td>\n",
       "      <td>480.0</td>\n",
       "      <td>108.0</td>\n",
       "      <td>1.8696</td>\n",
       "      <td>91100.0</td>\n",
       "      <td>NEAR OCEAN</td>\n",
       "      <td>127.333333</td>\n",
       "      <td>127.0</td>\n",
       "    </tr>\n",
       "    <tr>\n",
       "      <th>206</th>\n",
       "      <td>-119.19</td>\n",
       "      <td>34.20</td>\n",
       "      <td>18.0</td>\n",
       "      <td>3620.0</td>\n",
       "      <td>NaN</td>\n",
       "      <td>3171.0</td>\n",
       "      <td>779.0</td>\n",
       "      <td>3.3409</td>\n",
       "      <td>220500.0</td>\n",
       "      <td>NEAR OCEAN</td>\n",
       "      <td>607.000000</td>\n",
       "      <td>607.0</td>\n",
       "    </tr>\n",
       "  </tbody>\n",
       "</table>\n",
       "<p>207 rows × 12 columns</p>\n",
       "</div>"
      ],
      "text/plain": [
       "     longitude  latitude  housing_median_age  total_rooms  total_bedrooms  \\\n",
       "0      -120.98     37.66                10.0        934.0             NaN   \n",
       "1      -120.32     37.29                38.0        576.0             NaN   \n",
       "2      -122.42     40.44                16.0        994.0             NaN   \n",
       "3      -122.14     37.67                37.0       3342.0             NaN   \n",
       "4      -118.38     34.05                49.0        702.0             NaN   \n",
       "..         ...       ...                 ...          ...             ...   \n",
       "202    -119.45     36.61                24.0       1302.0             NaN   \n",
       "203    -119.69     36.83                32.0       1098.0             NaN   \n",
       "204    -122.44     37.80                52.0       3830.0             NaN   \n",
       "205    -117.14     32.71                52.0        500.0             NaN   \n",
       "206    -119.19     34.20                18.0       3620.0             NaN   \n",
       "\n",
       "     population  households  median_income  median_house_value  \\\n",
       "0         401.0       255.0         0.9336            127100.0   \n",
       "1         478.0       112.0         2.3382             59600.0   \n",
       "2         495.0       181.0         2.1875             76400.0   \n",
       "3        1635.0       557.0         4.7933            186900.0   \n",
       "4         458.0       187.0         4.8958            333600.0   \n",
       "..          ...         ...            ...                 ...   \n",
       "202       693.0       243.0         3.7917             90500.0   \n",
       "203       726.0       224.0         1.4913             54600.0   \n",
       "204      1310.0       963.0         3.4801            500001.0   \n",
       "205       480.0       108.0         1.8696             91100.0   \n",
       "206      3171.0       779.0         3.3409            220500.0   \n",
       "\n",
       "    ocean_proximity  total_bedrooms_mean_by_rooms  total_bedrooms_filled  \n",
       "0            INLAND                    222.750000                  223.0  \n",
       "1            INLAND                    131.500000                  132.0  \n",
       "2            INLAND                    269.750000                  270.0  \n",
       "3          NEAR BAY                    666.000000                  666.0  \n",
       "4         <1H OCEAN                    185.500000                  186.0  \n",
       "..              ...                           ...                    ...  \n",
       "202          INLAND                    281.833333                  282.0  \n",
       "203          INLAND                    275.000000                  275.0  \n",
       "204        NEAR BAY                    791.000000                  791.0  \n",
       "205      NEAR OCEAN                    127.333333                  127.0  \n",
       "206      NEAR OCEAN                    607.000000                  607.0  \n",
       "\n",
       "[207 rows x 12 columns]"
      ]
     },
     "execution_count": 10,
     "metadata": {},
     "output_type": "execute_result"
    }
   ],
   "source": [
    "# просматриваю как заменились пропуски\n",
    "df.filter(df.total_bedrooms.isNull()).toPandas()"
   ]
  },
  {
   "cell_type": "code",
   "execution_count": 11,
   "id": "9e3d1233",
   "metadata": {},
   "outputs": [],
   "source": [
    "# создаю новые столбцы\n",
    "df = df.withColumn('rooms_per_household', (F.col('total_rooms') / F.col('households')).cast(DoubleType()))\n",
    "df = df.withColumn('population_in_household', (F.col('population') / F.col('households')).cast(DoubleType()))\n",
    "df = df.withColumn('bedroom_index', (F.col('total_bedrooms_filled') / F.col('total_rooms')).cast(DoubleType()))"
   ]
  },
  {
   "cell_type": "markdown",
   "id": "311d8e73",
   "metadata": {},
   "source": [
    "- Отношение количества комнат `total_rooms` к количеству домовладений `households`. Назвал колонку `rooms_per_household`.\n",
    "- Отношение количества жителей `population` к количеству домовладений `households`. Назвал колонку `population_in_household`.\n",
    "- Отношение количества спален `total_bedrooms` к общему количеству комнат `total_rooms`. Назвал колонку `bedroom_index`."
   ]
  },
  {
   "cell_type": "code",
   "execution_count": 12,
   "id": "1f8b0dd8",
   "metadata": {},
   "outputs": [
    {
     "name": "stderr",
     "output_type": "stream",
     "text": [
      "                                                                                \r"
     ]
    }
   ],
   "source": [
    "# перевожу категориальную фичу из строки в числа\n",
    "indexer = StringIndexer(inputCols=['ocean_proximity'], \n",
    "                        outputCols=['ocean_proximity_idx']) \n",
    "df = indexer.fit(df).transform(df)"
   ]
  },
  {
   "cell_type": "code",
   "execution_count": 13,
   "id": "1d7cc593",
   "metadata": {},
   "outputs": [],
   "source": [
    "# произвожу OHE\n",
    "encoder = OneHotEncoder(inputCols=['ocean_proximity_idx'],\n",
    "                        outputCols=['ocean_proximity_ohe'])\n",
    "df = encoder.fit(df).transform(df)"
   ]
  },
  {
   "cell_type": "code",
   "execution_count": 14,
   "id": "a34cdb52",
   "metadata": {},
   "outputs": [
    {
     "name": "stderr",
     "output_type": "stream",
     "text": [
      "                                                                                \r"
     ]
    },
    {
     "data": {
      "text/html": [
       "<div>\n",
       "<style scoped>\n",
       "    .dataframe tbody tr th:only-of-type {\n",
       "        vertical-align: middle;\n",
       "    }\n",
       "\n",
       "    .dataframe tbody tr th {\n",
       "        vertical-align: top;\n",
       "    }\n",
       "\n",
       "    .dataframe thead th {\n",
       "        text-align: right;\n",
       "    }\n",
       "</style>\n",
       "<table border=\"1\" class=\"dataframe\">\n",
       "  <thead>\n",
       "    <tr style=\"text-align: right;\">\n",
       "      <th></th>\n",
       "      <th>longitude</th>\n",
       "      <th>latitude</th>\n",
       "      <th>housing_median_age</th>\n",
       "      <th>total_rooms</th>\n",
       "      <th>total_bedrooms</th>\n",
       "      <th>population</th>\n",
       "      <th>households</th>\n",
       "      <th>median_income</th>\n",
       "      <th>median_house_value</th>\n",
       "      <th>ocean_proximity</th>\n",
       "      <th>total_bedrooms_mean_by_rooms</th>\n",
       "      <th>total_bedrooms_filled</th>\n",
       "      <th>rooms_per_household</th>\n",
       "      <th>population_in_household</th>\n",
       "      <th>bedroom_index</th>\n",
       "      <th>ocean_proximity_idx</th>\n",
       "      <th>ocean_proximity_ohe</th>\n",
       "    </tr>\n",
       "  </thead>\n",
       "  <tbody>\n",
       "    <tr>\n",
       "      <th>0</th>\n",
       "      <td>-118.17</td>\n",
       "      <td>34.10</td>\n",
       "      <td>37.0</td>\n",
       "      <td>299.0</td>\n",
       "      <td>89.0</td>\n",
       "      <td>318.0</td>\n",
       "      <td>92.0</td>\n",
       "      <td>1.3125</td>\n",
       "      <td>145800.0</td>\n",
       "      <td>&lt;1H OCEAN</td>\n",
       "      <td>82.333333</td>\n",
       "      <td>89.0</td>\n",
       "      <td>3.250000</td>\n",
       "      <td>3.456522</td>\n",
       "      <td>0.297659</td>\n",
       "      <td>0.0</td>\n",
       "      <td>(1.0, 0.0, 0.0, 0.0)</td>\n",
       "    </tr>\n",
       "    <tr>\n",
       "      <th>1</th>\n",
       "      <td>-118.26</td>\n",
       "      <td>34.03</td>\n",
       "      <td>49.0</td>\n",
       "      <td>299.0</td>\n",
       "      <td>90.0</td>\n",
       "      <td>287.0</td>\n",
       "      <td>68.0</td>\n",
       "      <td>1.2096</td>\n",
       "      <td>100000.0</td>\n",
       "      <td>&lt;1H OCEAN</td>\n",
       "      <td>82.333333</td>\n",
       "      <td>90.0</td>\n",
       "      <td>4.397059</td>\n",
       "      <td>4.220588</td>\n",
       "      <td>0.301003</td>\n",
       "      <td>0.0</td>\n",
       "      <td>(1.0, 0.0, 0.0, 0.0)</td>\n",
       "    </tr>\n",
       "    <tr>\n",
       "      <th>2</th>\n",
       "      <td>-117.94</td>\n",
       "      <td>33.78</td>\n",
       "      <td>40.0</td>\n",
       "      <td>299.0</td>\n",
       "      <td>68.0</td>\n",
       "      <td>163.0</td>\n",
       "      <td>70.0</td>\n",
       "      <td>3.0125</td>\n",
       "      <td>166100.0</td>\n",
       "      <td>&lt;1H OCEAN</td>\n",
       "      <td>82.333333</td>\n",
       "      <td>68.0</td>\n",
       "      <td>4.271429</td>\n",
       "      <td>2.328571</td>\n",
       "      <td>0.227425</td>\n",
       "      <td>0.0</td>\n",
       "      <td>(1.0, 0.0, 0.0, 0.0)</td>\n",
       "    </tr>\n",
       "    <tr>\n",
       "      <th>3</th>\n",
       "      <td>-118.44</td>\n",
       "      <td>33.99</td>\n",
       "      <td>44.0</td>\n",
       "      <td>305.0</td>\n",
       "      <td>72.0</td>\n",
       "      <td>156.0</td>\n",
       "      <td>70.0</td>\n",
       "      <td>5.9641</td>\n",
       "      <td>275000.0</td>\n",
       "      <td>&lt;1H OCEAN</td>\n",
       "      <td>72.000000</td>\n",
       "      <td>72.0</td>\n",
       "      <td>4.357143</td>\n",
       "      <td>2.228571</td>\n",
       "      <td>0.236066</td>\n",
       "      <td>0.0</td>\n",
       "      <td>(1.0, 0.0, 0.0, 0.0)</td>\n",
       "    </tr>\n",
       "    <tr>\n",
       "      <th>4</th>\n",
       "      <td>-118.98</td>\n",
       "      <td>35.35</td>\n",
       "      <td>21.0</td>\n",
       "      <td>496.0</td>\n",
       "      <td>131.0</td>\n",
       "      <td>511.0</td>\n",
       "      <td>124.0</td>\n",
       "      <td>1.7614</td>\n",
       "      <td>33200.0</td>\n",
       "      <td>INLAND</td>\n",
       "      <td>131.000000</td>\n",
       "      <td>131.0</td>\n",
       "      <td>4.000000</td>\n",
       "      <td>4.120968</td>\n",
       "      <td>0.264113</td>\n",
       "      <td>1.0</td>\n",
       "      <td>(0.0, 1.0, 0.0, 0.0)</td>\n",
       "    </tr>\n",
       "    <tr>\n",
       "      <th>...</th>\n",
       "      <td>...</td>\n",
       "      <td>...</td>\n",
       "      <td>...</td>\n",
       "      <td>...</td>\n",
       "      <td>...</td>\n",
       "      <td>...</td>\n",
       "      <td>...</td>\n",
       "      <td>...</td>\n",
       "      <td>...</td>\n",
       "      <td>...</td>\n",
       "      <td>...</td>\n",
       "      <td>...</td>\n",
       "      <td>...</td>\n",
       "      <td>...</td>\n",
       "      <td>...</td>\n",
       "      <td>...</td>\n",
       "      <td>...</td>\n",
       "    </tr>\n",
       "    <tr>\n",
       "      <th>20635</th>\n",
       "      <td>-117.15</td>\n",
       "      <td>34.83</td>\n",
       "      <td>30.0</td>\n",
       "      <td>5370.0</td>\n",
       "      <td>1062.0</td>\n",
       "      <td>2778.0</td>\n",
       "      <td>944.0</td>\n",
       "      <td>3.0990</td>\n",
       "      <td>66800.0</td>\n",
       "      <td>INLAND</td>\n",
       "      <td>1062.000000</td>\n",
       "      <td>1062.0</td>\n",
       "      <td>5.688559</td>\n",
       "      <td>2.942797</td>\n",
       "      <td>0.197765</td>\n",
       "      <td>1.0</td>\n",
       "      <td>(0.0, 1.0, 0.0, 0.0)</td>\n",
       "    </tr>\n",
       "    <tr>\n",
       "      <th>20636</th>\n",
       "      <td>-122.44</td>\n",
       "      <td>37.75</td>\n",
       "      <td>21.0</td>\n",
       "      <td>5457.0</td>\n",
       "      <td>1247.0</td>\n",
       "      <td>2304.0</td>\n",
       "      <td>1180.0</td>\n",
       "      <td>4.5469</td>\n",
       "      <td>409700.0</td>\n",
       "      <td>NEAR BAY</td>\n",
       "      <td>1247.000000</td>\n",
       "      <td>1247.0</td>\n",
       "      <td>4.624576</td>\n",
       "      <td>1.952542</td>\n",
       "      <td>0.228514</td>\n",
       "      <td>3.0</td>\n",
       "      <td>(0.0, 0.0, 0.0, 1.0)</td>\n",
       "    </tr>\n",
       "    <tr>\n",
       "      <th>20637</th>\n",
       "      <td>-121.64</td>\n",
       "      <td>37.14</td>\n",
       "      <td>14.0</td>\n",
       "      <td>5487.0</td>\n",
       "      <td>1024.0</td>\n",
       "      <td>2823.0</td>\n",
       "      <td>979.0</td>\n",
       "      <td>4.1750</td>\n",
       "      <td>229800.0</td>\n",
       "      <td>&lt;1H OCEAN</td>\n",
       "      <td>1024.000000</td>\n",
       "      <td>1024.0</td>\n",
       "      <td>5.604699</td>\n",
       "      <td>2.883555</td>\n",
       "      <td>0.186623</td>\n",
       "      <td>0.0</td>\n",
       "      <td>(1.0, 0.0, 0.0, 0.0)</td>\n",
       "    </tr>\n",
       "    <tr>\n",
       "      <th>20638</th>\n",
       "      <td>-118.00</td>\n",
       "      <td>33.97</td>\n",
       "      <td>30.0</td>\n",
       "      <td>6540.0</td>\n",
       "      <td>991.0</td>\n",
       "      <td>3124.0</td>\n",
       "      <td>953.0</td>\n",
       "      <td>6.0663</td>\n",
       "      <td>372600.0</td>\n",
       "      <td>&lt;1H OCEAN</td>\n",
       "      <td>999.500000</td>\n",
       "      <td>991.0</td>\n",
       "      <td>6.862539</td>\n",
       "      <td>3.278069</td>\n",
       "      <td>0.151529</td>\n",
       "      <td>0.0</td>\n",
       "      <td>(1.0, 0.0, 0.0, 0.0)</td>\n",
       "    </tr>\n",
       "    <tr>\n",
       "      <th>20639</th>\n",
       "      <td>-121.36</td>\n",
       "      <td>38.64</td>\n",
       "      <td>24.0</td>\n",
       "      <td>6540.0</td>\n",
       "      <td>1008.0</td>\n",
       "      <td>2667.0</td>\n",
       "      <td>1031.0</td>\n",
       "      <td>5.5632</td>\n",
       "      <td>175200.0</td>\n",
       "      <td>INLAND</td>\n",
       "      <td>999.500000</td>\n",
       "      <td>1008.0</td>\n",
       "      <td>6.343356</td>\n",
       "      <td>2.586809</td>\n",
       "      <td>0.154128</td>\n",
       "      <td>1.0</td>\n",
       "      <td>(0.0, 1.0, 0.0, 0.0)</td>\n",
       "    </tr>\n",
       "  </tbody>\n",
       "</table>\n",
       "<p>20640 rows × 17 columns</p>\n",
       "</div>"
      ],
      "text/plain": [
       "       longitude  latitude  housing_median_age  total_rooms  total_bedrooms  \\\n",
       "0        -118.17     34.10                37.0        299.0            89.0   \n",
       "1        -118.26     34.03                49.0        299.0            90.0   \n",
       "2        -117.94     33.78                40.0        299.0            68.0   \n",
       "3        -118.44     33.99                44.0        305.0            72.0   \n",
       "4        -118.98     35.35                21.0        496.0           131.0   \n",
       "...          ...       ...                 ...          ...             ...   \n",
       "20635    -117.15     34.83                30.0       5370.0          1062.0   \n",
       "20636    -122.44     37.75                21.0       5457.0          1247.0   \n",
       "20637    -121.64     37.14                14.0       5487.0          1024.0   \n",
       "20638    -118.00     33.97                30.0       6540.0           991.0   \n",
       "20639    -121.36     38.64                24.0       6540.0          1008.0   \n",
       "\n",
       "       population  households  median_income  median_house_value  \\\n",
       "0           318.0        92.0         1.3125            145800.0   \n",
       "1           287.0        68.0         1.2096            100000.0   \n",
       "2           163.0        70.0         3.0125            166100.0   \n",
       "3           156.0        70.0         5.9641            275000.0   \n",
       "4           511.0       124.0         1.7614             33200.0   \n",
       "...           ...         ...            ...                 ...   \n",
       "20635      2778.0       944.0         3.0990             66800.0   \n",
       "20636      2304.0      1180.0         4.5469            409700.0   \n",
       "20637      2823.0       979.0         4.1750            229800.0   \n",
       "20638      3124.0       953.0         6.0663            372600.0   \n",
       "20639      2667.0      1031.0         5.5632            175200.0   \n",
       "\n",
       "      ocean_proximity  total_bedrooms_mean_by_rooms  total_bedrooms_filled  \\\n",
       "0           <1H OCEAN                     82.333333                   89.0   \n",
       "1           <1H OCEAN                     82.333333                   90.0   \n",
       "2           <1H OCEAN                     82.333333                   68.0   \n",
       "3           <1H OCEAN                     72.000000                   72.0   \n",
       "4              INLAND                    131.000000                  131.0   \n",
       "...               ...                           ...                    ...   \n",
       "20635          INLAND                   1062.000000                 1062.0   \n",
       "20636        NEAR BAY                   1247.000000                 1247.0   \n",
       "20637       <1H OCEAN                   1024.000000                 1024.0   \n",
       "20638       <1H OCEAN                    999.500000                  991.0   \n",
       "20639          INLAND                    999.500000                 1008.0   \n",
       "\n",
       "       rooms_per_household  population_in_household  bedroom_index  \\\n",
       "0                 3.250000                 3.456522       0.297659   \n",
       "1                 4.397059                 4.220588       0.301003   \n",
       "2                 4.271429                 2.328571       0.227425   \n",
       "3                 4.357143                 2.228571       0.236066   \n",
       "4                 4.000000                 4.120968       0.264113   \n",
       "...                    ...                      ...            ...   \n",
       "20635             5.688559                 2.942797       0.197765   \n",
       "20636             4.624576                 1.952542       0.228514   \n",
       "20637             5.604699                 2.883555       0.186623   \n",
       "20638             6.862539                 3.278069       0.151529   \n",
       "20639             6.343356                 2.586809       0.154128   \n",
       "\n",
       "       ocean_proximity_idx   ocean_proximity_ohe  \n",
       "0                      0.0  (1.0, 0.0, 0.0, 0.0)  \n",
       "1                      0.0  (1.0, 0.0, 0.0, 0.0)  \n",
       "2                      0.0  (1.0, 0.0, 0.0, 0.0)  \n",
       "3                      0.0  (1.0, 0.0, 0.0, 0.0)  \n",
       "4                      1.0  (0.0, 1.0, 0.0, 0.0)  \n",
       "...                    ...                   ...  \n",
       "20635                  1.0  (0.0, 1.0, 0.0, 0.0)  \n",
       "20636                  3.0  (0.0, 0.0, 0.0, 1.0)  \n",
       "20637                  0.0  (1.0, 0.0, 0.0, 0.0)  \n",
       "20638                  0.0  (1.0, 0.0, 0.0, 0.0)  \n",
       "20639                  1.0  (0.0, 1.0, 0.0, 0.0)  \n",
       "\n",
       "[20640 rows x 17 columns]"
      ]
     },
     "execution_count": 14,
     "metadata": {},
     "output_type": "execute_result"
    }
   ],
   "source": [
    "df.toPandas()"
   ]
  },
  {
   "cell_type": "markdown",
   "id": "2f53714d",
   "metadata": {},
   "source": [
    "### Подготовка фичей для первой модели(все признаки)"
   ]
  },
  {
   "cell_type": "code",
   "execution_count": 15,
   "id": "ee0d0f65",
   "metadata": {},
   "outputs": [
    {
     "name": "stderr",
     "output_type": "stream",
     "text": [
      "                                                                                \r"
     ]
    }
   ],
   "source": [
    "# переменная с числовыми признаками\n",
    "numeric_cols = ['longitude', 'latitude', 'housing_median_age', 'total_rooms',\n",
    "                'population', 'households', 'median_income',\n",
    "                'total_bedrooms_filled', 'rooms_per_household', 'population_in_household', \n",
    "                'bedroom_index']\n",
    "\n",
    "# переменная с категориальным признаком\n",
    "categorical_assembler =  VectorAssembler(inputCols=['ocean_proximity_ohe'],\n",
    "                                        outputCol=\"categorical_features\")\n",
    "df_one = categorical_assembler.transform(df) \n",
    "\n",
    "numerical_assembler = VectorAssembler(inputCols=numeric_cols,\n",
    "                                      outputCol=\"numerical_features\")\n",
    "df_one = numerical_assembler.transform(df_one)\n",
    "\n",
    "standardScaler = StandardScaler(inputCol='numerical_features',\n",
    "                                outputCol=\"numerical_features_scaled\")\n",
    "df_one = standardScaler.fit(df_one).transform(df_one) "
   ]
  },
  {
   "cell_type": "markdown",
   "id": "9580007c",
   "metadata": {},
   "source": [
    "### Подготовка фичей для второй модели(без категориального признака)"
   ]
  },
  {
   "cell_type": "code",
   "execution_count": 16,
   "id": "a074d018",
   "metadata": {},
   "outputs": [
    {
     "name": "stderr",
     "output_type": "stream",
     "text": [
      "                                                                                \r"
     ]
    }
   ],
   "source": [
    "# переменная с числовыми признаками\n",
    "numeric_cols = ['longitude', 'latitude', 'housing_median_age', 'total_rooms',\n",
    "                'population', 'households', 'median_income',\n",
    "                'total_bedrooms_filled', 'rooms_per_household', 'population_in_household', \n",
    "                'bedroom_index']\n",
    "\n",
    "numerical_assembler = VectorAssembler(inputCols=numeric_cols,\n",
    "                                      outputCol=\"numerical_features\")\n",
    "\n",
    "df_two = numerical_assembler.transform(df) \n",
    "\n",
    "standardScaler = StandardScaler(inputCol='numerical_features',\n",
    "                                outputCol=\"numerical_features_scaled\")\n",
    "df_two = standardScaler.fit(df_two).transform(df_two) \n"
   ]
  },
  {
   "cell_type": "markdown",
   "id": "784b6c65",
   "metadata": {},
   "source": [
    "<div style=\"border-radius: 15px; box-shadow: 4px 4px 4px; border: 3px solid indigo; padding: 15px\"> \n",
    "<h2 align=\"center\"> Вывод <a class=\"tocSkip\"> </h2>\n",
    "В данной главе были просмотрены данные, найдены пропуски и заполнены по группам. Также преобразована категориальная колонка ocean_proximity."
   ]
  },
  {
   "cell_type": "markdown",
   "id": "9f0a82f3",
   "metadata": {
    "id": "9f0a82f3"
   },
   "source": [
    "# Обучение моделей"
   ]
  },
  {
   "cell_type": "markdown",
   "id": "0e1c7719",
   "metadata": {},
   "source": [
    "### Первая модель(все признаки)"
   ]
  },
  {
   "cell_type": "code",
   "execution_count": 17,
   "id": "043f708c",
   "metadata": {},
   "outputs": [],
   "source": [
    "# создаю выборку для обучения модели\n",
    "features_one = ['numerical_features_scaled', 'categorical_features']\n",
    "\n",
    "target = 'median_house_value'\n",
    "\n",
    "\n",
    "final_assembler_one = VectorAssembler(inputCols=features_one, \n",
    "                                      outputCol=\"features\") \n",
    "\n",
    "df_one = final_assembler_one.transform(df_one)"
   ]
  },
  {
   "cell_type": "code",
   "execution_count": 18,
   "id": "f0934185",
   "metadata": {},
   "outputs": [
    {
     "name": "stdout",
     "output_type": "stream",
     "text": [
      "+-------------------------+--------------------+\n",
      "|numerical_features_scaled|categorical_features|\n",
      "+-------------------------+--------------------+\n",
      "|     [-58.980847976499...|       (4,[0],[1.0])|\n",
      "|     [-59.025768652795...|       (4,[0],[1.0])|\n",
      "|     [-58.866050692632...|       (4,[0],[1.0])|\n",
      "+-------------------------+--------------------+\n",
      "only showing top 3 rows\n",
      "\n"
     ]
    }
   ],
   "source": [
    "df_one.select(features_one).show(3) "
   ]
  },
  {
   "cell_type": "code",
   "execution_count": 19,
   "id": "bddb08c4",
   "metadata": {
    "id": "bddb08c4"
   },
   "outputs": [],
   "source": [
    "# задаю random_seed и делю выборку на 80 и 20\n",
    "RANDOM_SEED = 777\n",
    "\n",
    "train_data_one, test_data_one = df_one.randomSplit([.8,.2], seed=RANDOM_SEED)"
   ]
  },
  {
   "cell_type": "code",
   "execution_count": 20,
   "id": "f2304327",
   "metadata": {},
   "outputs": [
    {
     "name": "stderr",
     "output_type": "stream",
     "text": [
      "[Stage 47:===================================================>  (191 + 1) / 200]\r"
     ]
    },
    {
     "name": "stdout",
     "output_type": "stream",
     "text": [
      "16470 4170\n"
     ]
    },
    {
     "name": "stderr",
     "output_type": "stream",
     "text": [
      "                                                                                \r"
     ]
    }
   ],
   "source": [
    "# просматриваю деление, имеем 16470 строк для обучения и 4170 для проверки\n",
    "print(train_data_one.count(), test_data_one.count())"
   ]
  },
  {
   "cell_type": "code",
   "execution_count": 21,
   "id": "b910d672",
   "metadata": {},
   "outputs": [
    {
     "name": "stderr",
     "output_type": "stream",
     "text": [
      "22/04/03 22:17:16 WARN BLAS: Failed to load implementation from: com.github.fommil.netlib.NativeSystemBLAS\n",
      "22/04/03 22:17:16 WARN BLAS: Failed to load implementation from: com.github.fommil.netlib.NativeRefBLAS\n",
      "22/04/03 22:17:23 WARN LAPACK: Failed to load implementation from: com.github.fommil.netlib.NativeSystemLAPACK\n",
      "22/04/03 22:17:23 WARN LAPACK: Failed to load implementation from: com.github.fommil.netlib.NativeRefLAPACK\n",
      "                                                                                \r"
     ]
    }
   ],
   "source": [
    "# обучаю линейную регрессию\n",
    "lr = LinearRegression(labelCol=target, featuresCol='features', regParam=0.5)\n",
    "\n",
    "model = lr.fit(train_data_one) "
   ]
  },
  {
   "cell_type": "code",
   "execution_count": 22,
   "id": "cefe440c",
   "metadata": {
    "scrolled": false
   },
   "outputs": [
    {
     "name": "stdout",
     "output_type": "stream",
     "text": [
      "+------------------+------------------+\n",
      "|        prediction|median_house_value|\n",
      "+------------------+------------------+\n",
      "|233932.49250473315|          269200.0|\n",
      "|254201.83882431872|          339700.0|\n",
      "| 279649.5826158263|          158200.0|\n",
      "|108882.67673560698|           83900.0|\n",
      "|117890.55080193141|           53200.0|\n",
      "| 328052.8794147703|          275000.0|\n",
      "|198426.59207819356|          217200.0|\n",
      "|  278392.689591439|          381200.0|\n",
      "|205380.47557643335|          234100.0|\n",
      "|136117.64086359367|          133600.0|\n",
      "|121790.64851125749|          117600.0|\n",
      "|129629.72803935921|          145800.0|\n",
      "| 176125.5761008705|          119600.0|\n",
      "| 294664.4295156887|          278700.0|\n",
      "| 194080.7707334836|          336800.0|\n",
      "| 359621.4017744935|          356200.0|\n",
      "|129355.82289745053|           94300.0|\n",
      "| 97721.06995718041|           59600.0|\n",
      "|261486.72256571753|          286700.0|\n",
      "|251735.83740368485|          203400.0|\n",
      "+------------------+------------------+\n",
      "only showing top 20 rows\n",
      "\n"
     ]
    }
   ],
   "source": [
    "# просматриваю предсказание модели\n",
    "predictions = model.transform(test_data_one)\n",
    "\n",
    "predictedLabes = predictions.select([\"prediction\", target])#КОД РЕВЬЮЕРА\n",
    "predictedLabes.show() "
   ]
  },
  {
   "cell_type": "markdown",
   "id": "9b7136df",
   "metadata": {},
   "source": [
    "### Вторая модель(без категориального признака)"
   ]
  },
  {
   "cell_type": "code",
   "execution_count": 23,
   "id": "0ceebc80",
   "metadata": {},
   "outputs": [],
   "source": [
    "# создаю выборку для обучения модели\n",
    "features_two = ['numerical_features_scaled']\n",
    "\n",
    "target = 'median_house_value'\n",
    "\n",
    "\n",
    "final_assembler_one = VectorAssembler(inputCols=features_two, \n",
    "                                      outputCol=\"features\") \n",
    "\n",
    "df_two = final_assembler_one.transform(df_two)"
   ]
  },
  {
   "cell_type": "code",
   "execution_count": 24,
   "id": "0750ce43",
   "metadata": {},
   "outputs": [
    {
     "name": "stdout",
     "output_type": "stream",
     "text": [
      "+-------------------------+\n",
      "|numerical_features_scaled|\n",
      "+-------------------------+\n",
      "|     [-58.980847976499...|\n",
      "|     [-59.025768652795...|\n",
      "|     [-58.866050692632...|\n",
      "+-------------------------+\n",
      "only showing top 3 rows\n",
      "\n"
     ]
    }
   ],
   "source": [
    "df_two.select(features_two).show(3) "
   ]
  },
  {
   "cell_type": "code",
   "execution_count": 25,
   "id": "43f38dd5",
   "metadata": {},
   "outputs": [],
   "source": [
    "# задаю random_seed и делю выборку на 80 и 20\n",
    "RANDOM_SEED = 777\n",
    "\n",
    "train_data_two, test_data_two = df_two.randomSplit([.8,.2], seed=RANDOM_SEED)"
   ]
  },
  {
   "cell_type": "code",
   "execution_count": 26,
   "id": "befd327f",
   "metadata": {},
   "outputs": [
    {
     "name": "stderr",
     "output_type": "stream",
     "text": [
      "[Stage 68:=================================================>    (185 + 1) / 200]\r"
     ]
    },
    {
     "name": "stdout",
     "output_type": "stream",
     "text": [
      "16470 4170\n"
     ]
    },
    {
     "name": "stderr",
     "output_type": "stream",
     "text": [
      "                                                                                \r"
     ]
    }
   ],
   "source": [
    "# просматриваю деление, имеем 16470 строк для обучения и 4170 для проверки\n",
    "print(train_data_two.count(), test_data_two.count())"
   ]
  },
  {
   "cell_type": "code",
   "execution_count": 27,
   "id": "70bef525",
   "metadata": {},
   "outputs": [
    {
     "name": "stderr",
     "output_type": "stream",
     "text": [
      "                                                                                \r"
     ]
    }
   ],
   "source": [
    "# обучаю линейную регрессию\n",
    "lr = LinearRegression(labelCol=target, featuresCol='features', regParam=0.5)\n",
    "\n",
    "model = lr.fit(train_data_two) "
   ]
  },
  {
   "cell_type": "code",
   "execution_count": 28,
   "id": "870375d7",
   "metadata": {},
   "outputs": [
    {
     "name": "stdout",
     "output_type": "stream",
     "text": [
      "+------------------+------------------+\n",
      "|        prediction|median_house_value|\n",
      "+------------------+------------------+\n",
      "|220385.32900370192|          269200.0|\n",
      "| 249675.6015689373|          339700.0|\n",
      "| 291075.6828733203|          158200.0|\n",
      "|113806.13667949196|           83900.0|\n",
      "|138133.33572148904|           53200.0|\n",
      "| 329935.1741443067|          275000.0|\n",
      "| 193038.2443308453|          217200.0|\n",
      "| 279106.5935451449|          381200.0|\n",
      "| 201838.4837657502|          234100.0|\n",
      "|130081.83532831818|          133600.0|\n",
      "| 114181.7679948546|          117600.0|\n",
      "|121687.84564504214|          145800.0|\n",
      "|194204.93574217614|          119600.0|\n",
      "|286418.12433721963|          278700.0|\n",
      "|193030.93915740633|          336800.0|\n",
      "| 353642.6565334243|          356200.0|\n",
      "|138431.70487036603|           94300.0|\n",
      "|106866.35075569432|           59600.0|\n",
      "|257124.24472554075|          286700.0|\n",
      "| 242526.9504041029|          203400.0|\n",
      "+------------------+------------------+\n",
      "only showing top 20 rows\n",
      "\n"
     ]
    }
   ],
   "source": [
    "# просматриваю предсказание модели\n",
    "predictions_two = model.transform(test_data_two)\n",
    "\n",
    "predictedLabes_two = predictions_two.select([ \"prediction\", target])\n",
    "predictedLabes_two.show() "
   ]
  },
  {
   "cell_type": "markdown",
   "id": "8437a9bd",
   "metadata": {},
   "source": [
    "<div style=\"border-radius: 15px; box-shadow: 4px 4px 4px; border: 3px solid indigo; padding: 15px\"> \n",
    "<h2 align=\"center\"> Вывод <a class=\"tocSkip\"> </h2>\n",
    "Были преобразованы признакми в 2: числовые и категориальные, а также обучены 2 модели линейной регрессии: 1 - со всеми данными, 2 - без категориальной фичи."
   ]
  },
  {
   "cell_type": "markdown",
   "id": "757fd103",
   "metadata": {
    "id": "757fd103"
   },
   "source": [
    "# Анализ результатов"
   ]
  },
  {
   "cell_type": "markdown",
   "id": "9c571802",
   "metadata": {},
   "source": [
    "### Первая модель(все признаки)"
   ]
  },
  {
   "cell_type": "code",
   "execution_count": 29,
   "id": "7e4c1a4e",
   "metadata": {},
   "outputs": [
    {
     "name": "stderr",
     "output_type": "stream",
     "text": [
      "                                                                                \r"
     ]
    }
   ],
   "source": [
    "# создаю RDD, чтобы посмотреть результаты метрик\n",
    "predicted_collect = predictedLabes.collect()\n",
    "predict_list = [ (float(i[0]), float(i[1])) for i in predicted_collect]\n",
    "predictAndLabels = spark.sparkContext.parallelize(predict_list)\n",
    "\n",
    "metrics = RegressionMetrics(predictAndLabels)"
   ]
  },
  {
   "cell_type": "code",
   "execution_count": 30,
   "id": "65f9e83b",
   "metadata": {},
   "outputs": [
    {
     "name": "stdout",
     "output_type": "stream",
     "text": [
      "RMSE = 69203.58846424552\n",
      "R-squared = 0.6516668766192801\n",
      "MAE = 49522.72714131923\n"
     ]
    }
   ],
   "source": [
    "# просматриваю метрики, а именно: MAE, R2, RMSE\n",
    "print(\"RMSE = %s\" % metrics.rootMeanSquaredError)\n",
    "\n",
    "print(\"R-squared = %s\" % metrics.r2)\n",
    "\n",
    "print(\"MAE = %s\" % metrics.meanAbsoluteError)"
   ]
  },
  {
   "cell_type": "markdown",
   "id": "7a9d4cf4",
   "metadata": {},
   "source": [
    "### Вторая модель(без категориального признака)"
   ]
  },
  {
   "cell_type": "code",
   "execution_count": 31,
   "id": "73b7c56c",
   "metadata": {},
   "outputs": [
    {
     "name": "stderr",
     "output_type": "stream",
     "text": [
      "                                                                                \r"
     ]
    }
   ],
   "source": [
    "# создаю RDD, чтобы посмотреть результаты метрик\n",
    "predicted_collect = predictedLabes_two.collect()\n",
    "predict_list = [ (float(i[0]), float(i[1])) for i in predicted_collect]\n",
    "predictAndLabels_two = spark.sparkContext.parallelize(predict_list)\n",
    "\n",
    "metrics = RegressionMetrics(predictAndLabels_two)"
   ]
  },
  {
   "cell_type": "code",
   "execution_count": 32,
   "id": "a4d6991b",
   "metadata": {},
   "outputs": [
    {
     "name": "stdout",
     "output_type": "stream",
     "text": [
      "RMSE = 69700.69633780871\n",
      "R-squared = 0.6466445629994498\n",
      "MAE = 50130.32250520992\n"
     ]
    }
   ],
   "source": [
    "# просматриваю метрики, а именно: MAE, R2, RMSE\n",
    "print(\"RMSE = %s\" % metrics.rootMeanSquaredError)\n",
    "\n",
    "print(\"R-squared = %s\" % metrics.r2)\n",
    "\n",
    "print(\"MAE = %s\" % metrics.meanAbsoluteError)"
   ]
  },
  {
   "cell_type": "markdown",
   "id": "dffeeaf1",
   "metadata": {},
   "source": [
    "<div style=\"border-radius: 15px; box-shadow: 4px 4px 4px; border: 3px solid indigo; padding: 15px\"> \n",
    "<h2 align=\"center\"> Вывод <a class=\"tocSkip\"> </h2>\n",
    "Исходя из различных метрик регрессии можно сказать, что обе модели предсказали одинаково, как ни странно :)"
   ]
  }
 ],
 "metadata": {
  "ExecuteTimeLog": [
   {
    "duration": 392,
    "start_time": "2022-03-27T16:34:48.716Z"
   },
   {
    "duration": 130,
    "start_time": "2022-03-27T16:37:08.920Z"
   },
   {
    "duration": 130,
    "start_time": "2022-03-27T16:37:27.544Z"
   },
   {
    "duration": 126,
    "start_time": "2022-03-27T16:37:32.376Z"
   },
   {
    "duration": 109,
    "start_time": "2022-03-27T16:37:36.888Z"
   },
   {
    "duration": 118,
    "start_time": "2022-03-27T16:37:56.647Z"
   },
   {
    "duration": 412,
    "start_time": "2022-03-27T16:38:00.644Z"
   },
   {
    "duration": 118,
    "start_time": "2022-03-27T16:38:04.916Z"
   },
   {
    "duration": 19197,
    "start_time": "2022-03-27T16:38:44.208Z"
   },
   {
    "duration": 6,
    "start_time": "2022-03-27T17:06:22.301Z"
   },
   {
    "duration": 12620,
    "start_time": "2022-03-27T17:07:37.074Z"
   },
   {
    "duration": 91,
    "start_time": "2022-03-27T17:07:54.801Z"
   },
   {
    "duration": 1475,
    "start_time": "2022-03-27T17:08:03.205Z"
   },
   {
    "duration": 734,
    "start_time": "2022-03-27T17:09:08.457Z"
   },
   {
    "duration": 6,
    "start_time": "2022-03-27T17:11:44.718Z"
   },
   {
    "duration": 103,
    "start_time": "2022-03-27T17:22:41.155Z"
   },
   {
    "duration": 461,
    "start_time": "2022-03-27T17:22:45.914Z"
   },
   {
    "duration": 5471,
    "start_time": "2022-03-27T17:23:09.126Z"
   },
   {
    "duration": 4,
    "start_time": "2022-03-27T17:24:29.474Z"
   },
   {
    "duration": 10,
    "start_time": "2022-03-27T17:25:45.682Z"
   },
   {
    "duration": 162,
    "start_time": "2022-03-27T17:25:50.947Z"
   },
   {
    "duration": 32,
    "start_time": "2022-03-27T17:25:58.894Z"
   },
   {
    "duration": 36,
    "start_time": "2022-03-27T17:26:13.122Z"
   },
   {
    "duration": 26,
    "start_time": "2022-03-27T17:26:40.222Z"
   },
   {
    "duration": 39,
    "start_time": "2022-03-27T17:26:47.146Z"
   },
   {
    "duration": 109,
    "start_time": "2022-03-27T17:27:11.342Z"
   },
   {
    "duration": 42,
    "start_time": "2022-03-27T17:27:14.830Z"
   },
   {
    "duration": 32,
    "start_time": "2022-03-27T17:27:18.482Z"
   },
   {
    "duration": 6131,
    "start_time": "2022-03-27T17:27:30.074Z"
   },
   {
    "duration": 4390,
    "start_time": "2022-03-27T17:28:04.422Z"
   },
   {
    "duration": 38,
    "start_time": "2022-03-27T17:28:24.134Z"
   },
   {
    "duration": 550,
    "start_time": "2022-03-27T18:34:42.800Z"
   },
   {
    "duration": 21208,
    "start_time": "2022-03-27T18:34:44.477Z"
   },
   {
    "duration": 10169,
    "start_time": "2022-03-27T18:35:05.687Z"
   },
   {
    "duration": 875,
    "start_time": "2022-03-27T18:35:15.858Z"
   },
   {
    "duration": 5,
    "start_time": "2022-03-27T18:35:16.735Z"
   },
   {
    "duration": 4615,
    "start_time": "2022-03-27T18:35:16.742Z"
   },
   {
    "duration": 4550,
    "start_time": "2022-03-27T18:36:36.209Z"
   },
   {
    "duration": 37,
    "start_time": "2022-03-27T18:36:59.317Z"
   },
   {
    "duration": 68,
    "start_time": "2022-03-27T18:37:13.893Z"
   },
   {
    "duration": 30,
    "start_time": "2022-03-27T18:37:20.519Z"
   },
   {
    "duration": 24,
    "start_time": "2022-03-27T18:37:28.013Z"
   },
   {
    "duration": 29,
    "start_time": "2022-03-27T18:37:31.581Z"
   },
   {
    "duration": 28,
    "start_time": "2022-03-27T18:37:59.632Z"
   },
   {
    "duration": 321,
    "start_time": "2022-03-27T18:38:17.813Z"
   },
   {
    "duration": 260,
    "start_time": "2022-03-27T18:38:28.101Z"
   },
   {
    "duration": 297,
    "start_time": "2022-03-27T18:38:30.965Z"
   },
   {
    "duration": 469,
    "start_time": "2022-03-27T18:38:39.097Z"
   },
   {
    "duration": 21,
    "start_time": "2022-03-27T18:38:50.493Z"
   },
   {
    "duration": 341,
    "start_time": "2022-03-27T18:39:19.093Z"
   },
   {
    "duration": 3426,
    "start_time": "2022-03-27T18:39:30.421Z"
   },
   {
    "duration": 2626,
    "start_time": "2022-03-27T18:39:59.846Z"
   },
   {
    "duration": 270,
    "start_time": "2022-03-27T18:40:12.889Z"
   },
   {
    "duration": 478,
    "start_time": "2022-03-28T14:54:09.738Z"
   },
   {
    "duration": 15312,
    "start_time": "2022-03-28T14:54:10.722Z"
   },
   {
    "duration": 9200,
    "start_time": "2022-03-28T14:54:26.037Z"
   },
   {
    "duration": 892,
    "start_time": "2022-03-28T14:54:35.240Z"
   },
   {
    "duration": 5,
    "start_time": "2022-03-28T14:54:36.135Z"
   },
   {
    "duration": 4522,
    "start_time": "2022-03-28T14:54:36.142Z"
   },
   {
    "duration": 131,
    "start_time": "2022-03-28T14:55:28.853Z"
   },
   {
    "duration": 102,
    "start_time": "2022-03-28T14:55:44.485Z"
   },
   {
    "duration": 615,
    "start_time": "2022-03-28T14:56:00.125Z"
   },
   {
    "duration": 530,
    "start_time": "2022-03-28T14:56:10.433Z"
   },
   {
    "duration": 413,
    "start_time": "2022-03-28T14:56:19.433Z"
   },
   {
    "duration": 39,
    "start_time": "2022-03-28T14:56:24.427Z"
   },
   {
    "duration": 4145,
    "start_time": "2022-03-28T14:56:34.213Z"
   },
   {
    "duration": 3811,
    "start_time": "2022-03-28T14:56:46.241Z"
   },
   {
    "duration": 220,
    "start_time": "2022-03-28T14:57:01.849Z"
   },
   {
    "duration": 71,
    "start_time": "2022-03-28T14:57:10.565Z"
   },
   {
    "duration": 1298,
    "start_time": "2022-03-28T14:57:15.141Z"
   },
   {
    "duration": 2287,
    "start_time": "2022-03-28T14:57:20.273Z"
   },
   {
    "duration": 159,
    "start_time": "2022-03-28T14:58:31.393Z"
   },
   {
    "duration": 153,
    "start_time": "2022-03-28T14:58:36.209Z"
   },
   {
    "duration": 21,
    "start_time": "2022-03-28T15:02:27.265Z"
   },
   {
    "duration": 21,
    "start_time": "2022-03-28T15:02:33.021Z"
   },
   {
    "duration": 3,
    "start_time": "2022-03-28T15:02:47.021Z"
   },
   {
    "duration": 3,
    "start_time": "2022-03-28T15:02:52.657Z"
   },
   {
    "duration": 4,
    "start_time": "2022-03-28T15:02:57.213Z"
   },
   {
    "duration": 4,
    "start_time": "2022-03-28T15:03:02.433Z"
   },
   {
    "duration": 3,
    "start_time": "2022-03-28T15:03:10.018Z"
   },
   {
    "duration": 333,
    "start_time": "2022-03-28T15:03:24.934Z"
   },
   {
    "duration": 19,
    "start_time": "2022-03-28T15:03:27.809Z"
   },
   {
    "duration": 157,
    "start_time": "2022-03-28T15:03:41.493Z"
   },
   {
    "duration": 12,
    "start_time": "2022-03-28T15:04:27.206Z"
   },
   {
    "duration": 12,
    "start_time": "2022-03-28T15:04:59.308Z"
   },
   {
    "duration": 13,
    "start_time": "2022-03-28T15:05:20.025Z"
   },
   {
    "duration": 9,
    "start_time": "2022-03-28T15:05:39.262Z"
   },
   {
    "duration": 680,
    "start_time": "2022-03-28T15:05:45.678Z"
   },
   {
    "duration": 406,
    "start_time": "2022-03-28T15:05:53.342Z"
   },
   {
    "duration": 400,
    "start_time": "2022-03-28T15:06:00.734Z"
   },
   {
    "duration": 295,
    "start_time": "2022-03-28T15:06:08.977Z"
   },
   {
    "duration": 998,
    "start_time": "2022-03-28T15:06:25.493Z"
   },
   {
    "duration": 338,
    "start_time": "2022-03-28T15:06:49.957Z"
   },
   {
    "duration": 13,
    "start_time": "2022-03-28T15:07:21.812Z"
   },
   {
    "duration": 306,
    "start_time": "2022-03-28T15:07:45.973Z"
   },
   {
    "duration": 325,
    "start_time": "2022-03-28T15:07:48.797Z"
   },
   {
    "duration": 216,
    "start_time": "2022-03-28T15:08:11.693Z"
   },
   {
    "duration": 190,
    "start_time": "2022-03-28T15:14:09.422Z"
   },
   {
    "duration": 12,
    "start_time": "2022-03-28T15:14:23.209Z"
   },
   {
    "duration": 146,
    "start_time": "2022-03-28T15:15:24.862Z"
   },
   {
    "duration": 12,
    "start_time": "2022-03-28T15:15:31.553Z"
   },
   {
    "duration": 219,
    "start_time": "2022-03-28T15:15:39.933Z"
   },
   {
    "duration": 9,
    "start_time": "2022-03-28T15:16:33.946Z"
   },
   {
    "duration": 7,
    "start_time": "2022-03-28T15:16:59.350Z"
   },
   {
    "duration": 129,
    "start_time": "2022-03-28T15:18:50.672Z"
   },
   {
    "duration": 136,
    "start_time": "2022-03-28T15:18:53.269Z"
   },
   {
    "duration": 7,
    "start_time": "2022-03-28T15:18:59.981Z"
   },
   {
    "duration": 7,
    "start_time": "2022-03-28T15:19:04.854Z"
   },
   {
    "duration": 148,
    "start_time": "2022-03-28T15:19:10.925Z"
   },
   {
    "duration": 7,
    "start_time": "2022-03-28T15:19:18.313Z"
   },
   {
    "duration": 498,
    "start_time": "2022-03-28T15:19:21.465Z"
   },
   {
    "duration": 133,
    "start_time": "2022-03-28T15:19:26.421Z"
   },
   {
    "duration": 288,
    "start_time": "2022-03-28T15:19:33.177Z"
   },
   {
    "duration": 9,
    "start_time": "2022-03-28T15:19:59.224Z"
   },
   {
    "duration": 9,
    "start_time": "2022-03-28T15:20:02.646Z"
   },
   {
    "duration": 7,
    "start_time": "2022-03-28T15:20:09.961Z"
   },
   {
    "duration": 7,
    "start_time": "2022-03-28T15:20:15.225Z"
   },
   {
    "duration": 7,
    "start_time": "2022-03-28T15:20:27.273Z"
   },
   {
    "duration": 22,
    "start_time": "2022-03-28T15:20:45.861Z"
   },
   {
    "duration": 253,
    "start_time": "2022-03-28T15:21:07.724Z"
   },
   {
    "duration": 9,
    "start_time": "2022-03-28T15:21:41.248Z"
   },
   {
    "duration": 288,
    "start_time": "2022-03-28T15:21:46.156Z"
   },
   {
    "duration": 171,
    "start_time": "2022-03-28T15:21:50.705Z"
   },
   {
    "duration": 126,
    "start_time": "2022-03-28T15:21:55.980Z"
   },
   {
    "duration": 29,
    "start_time": "2022-03-28T15:21:59.909Z"
   },
   {
    "duration": 37,
    "start_time": "2022-03-28T15:25:25.208Z"
   },
   {
    "duration": 230,
    "start_time": "2022-03-28T15:25:34.749Z"
   },
   {
    "duration": 186,
    "start_time": "2022-03-28T15:25:41.508Z"
   },
   {
    "duration": 8,
    "start_time": "2022-03-28T15:25:54.772Z"
   },
   {
    "duration": 215,
    "start_time": "2022-03-28T15:25:57.744Z"
   },
   {
    "duration": 250,
    "start_time": "2022-03-28T15:31:32.239Z"
   },
   {
    "duration": 12,
    "start_time": "2022-03-28T15:31:37.663Z"
   },
   {
    "duration": 4,
    "start_time": "2022-03-28T15:31:42.571Z"
   },
   {
    "duration": 17,
    "start_time": "2022-03-28T15:32:02.452Z"
   },
   {
    "duration": 4,
    "start_time": "2022-03-28T15:32:05.864Z"
   },
   {
    "duration": 324,
    "start_time": "2022-03-28T15:32:13.160Z"
   },
   {
    "duration": 656,
    "start_time": "2022-03-28T15:32:35.083Z"
   },
   {
    "duration": 2339,
    "start_time": "2022-03-28T15:32:38.699Z"
   },
   {
    "duration": 29,
    "start_time": "2022-03-28T15:35:37.567Z"
   },
   {
    "duration": 28,
    "start_time": "2022-03-28T15:35:51.107Z"
   },
   {
    "duration": 19,
    "start_time": "2022-03-28T15:36:05.959Z"
   },
   {
    "duration": 173,
    "start_time": "2022-03-28T15:36:09.091Z"
   },
   {
    "duration": 197,
    "start_time": "2022-03-28T15:36:17.251Z"
   },
   {
    "duration": 574,
    "start_time": "2022-03-29T15:42:51.877Z"
   },
   {
    "duration": 18193,
    "start_time": "2022-03-29T15:43:26.534Z"
   },
   {
    "duration": 11472,
    "start_time": "2022-03-29T15:43:44.730Z"
   },
   {
    "duration": 1109,
    "start_time": "2022-03-29T15:43:56.204Z"
   },
   {
    "duration": 7,
    "start_time": "2022-03-29T15:43:57.384Z"
   },
   {
    "duration": 6424,
    "start_time": "2022-03-29T15:43:57.393Z"
   },
   {
    "duration": 1520,
    "start_time": "2022-03-29T15:44:03.819Z"
   },
   {
    "duration": 5,
    "start_time": "2022-03-29T15:44:23.998Z"
   },
   {
    "duration": 5265,
    "start_time": "2022-03-29T15:44:56.526Z"
   },
   {
    "duration": 477,
    "start_time": "2022-03-29T15:45:30.522Z"
   },
   {
    "duration": 5,
    "start_time": "2022-03-29T15:48:44.206Z"
   },
   {
    "duration": 5,
    "start_time": "2022-03-29T15:48:48.134Z"
   },
   {
    "duration": 135,
    "start_time": "2022-03-29T15:56:17.571Z"
   },
   {
    "duration": 140,
    "start_time": "2022-03-29T15:57:20.507Z"
   },
   {
    "duration": 190,
    "start_time": "2022-03-29T15:57:24.279Z"
   },
   {
    "duration": 326,
    "start_time": "2022-03-29T15:58:02.659Z"
   },
   {
    "duration": 156,
    "start_time": "2022-03-29T15:58:24.963Z"
   },
   {
    "duration": 1838,
    "start_time": "2022-03-29T15:58:33.462Z"
   },
   {
    "duration": 9695,
    "start_time": "2022-03-29T15:59:36.427Z"
   },
   {
    "duration": 7341,
    "start_time": "2022-03-29T16:00:11.481Z"
   },
   {
    "duration": 128,
    "start_time": "2022-03-29T16:00:21.319Z"
   },
   {
    "duration": 5325,
    "start_time": "2022-03-29T16:00:22.878Z"
   },
   {
    "duration": 656,
    "start_time": "2022-03-29T16:01:48.491Z"
   },
   {
    "duration": 31,
    "start_time": "2022-03-29T16:01:52.699Z"
   },
   {
    "duration": 103,
    "start_time": "2022-03-29T16:02:30.295Z"
   },
   {
    "duration": 14,
    "start_time": "2022-03-29T16:02:34.016Z"
   },
   {
    "duration": 12,
    "start_time": "2022-03-29T16:02:53.487Z"
   },
   {
    "duration": 12,
    "start_time": "2022-03-29T16:02:59.687Z"
   },
   {
    "duration": 13,
    "start_time": "2022-03-29T16:03:02.579Z"
   },
   {
    "duration": 10,
    "start_time": "2022-03-29T16:04:16.411Z"
   },
   {
    "duration": 30,
    "start_time": "2022-03-29T16:04:19.951Z"
   },
   {
    "duration": 123,
    "start_time": "2022-03-29T16:06:05.419Z"
   },
   {
    "duration": 6,
    "start_time": "2022-03-29T16:06:38.587Z"
   },
   {
    "duration": 150,
    "start_time": "2022-03-29T16:06:48.319Z"
   },
   {
    "duration": 39,
    "start_time": "2022-03-29T16:07:00.811Z"
   },
   {
    "duration": 7,
    "start_time": "2022-03-29T16:07:30.295Z"
   },
   {
    "duration": 161,
    "start_time": "2022-03-29T16:07:50.531Z"
   },
   {
    "duration": 45,
    "start_time": "2022-03-29T16:07:53.103Z"
   },
   {
    "duration": 6,
    "start_time": "2022-03-29T16:07:59.591Z"
   },
   {
    "duration": 19,
    "start_time": "2022-03-29T16:08:42.955Z"
   },
   {
    "duration": 127,
    "start_time": "2022-03-29T16:08:46.332Z"
   },
   {
    "duration": 16,
    "start_time": "2022-03-29T16:09:05.232Z"
   },
   {
    "duration": 46,
    "start_time": "2022-03-29T16:09:14.383Z"
   },
   {
    "duration": 19,
    "start_time": "2022-03-29T16:09:25.811Z"
   },
   {
    "duration": 5,
    "start_time": "2022-03-29T16:09:39.820Z"
   },
   {
    "duration": 10,
    "start_time": "2022-03-29T16:10:08.559Z"
   },
   {
    "duration": 24,
    "start_time": "2022-03-29T16:10:11.374Z"
   },
   {
    "duration": 129,
    "start_time": "2022-03-29T16:10:22.688Z"
   },
   {
    "duration": 20,
    "start_time": "2022-03-29T16:10:25.632Z"
   },
   {
    "duration": 14,
    "start_time": "2022-03-29T16:10:31.120Z"
   },
   {
    "duration": 14,
    "start_time": "2022-03-29T16:10:37.004Z"
   },
   {
    "duration": 21,
    "start_time": "2022-03-29T16:10:45.656Z"
   },
   {
    "duration": 19,
    "start_time": "2022-03-29T16:10:48.676Z"
   },
   {
    "duration": 15,
    "start_time": "2022-03-29T16:10:51.172Z"
   },
   {
    "duration": 19,
    "start_time": "2022-03-29T16:10:56.564Z"
   },
   {
    "duration": 712,
    "start_time": "2022-03-29T17:00:46.125Z"
   },
   {
    "duration": 20519,
    "start_time": "2022-03-29T17:00:46.840Z"
   },
   {
    "duration": 14504,
    "start_time": "2022-03-29T17:01:07.362Z"
   },
   {
    "duration": 1581,
    "start_time": "2022-03-29T17:01:21.870Z"
   },
   {
    "duration": 14,
    "start_time": "2022-03-29T17:01:23.453Z"
   },
   {
    "duration": 8516,
    "start_time": "2022-03-29T17:01:23.470Z"
   },
   {
    "duration": 1983,
    "start_time": "2022-03-29T17:01:31.988Z"
   },
   {
    "duration": 3,
    "start_time": "2022-03-29T17:01:33.974Z"
   },
   {
    "duration": 7487,
    "start_time": "2022-03-29T17:01:33.980Z"
   },
   {
    "duration": 1288,
    "start_time": "2022-03-29T17:01:41.472Z"
   },
   {
    "duration": 531,
    "start_time": "2022-03-29T17:01:42.763Z"
   },
   {
    "duration": 1190,
    "start_time": "2022-03-29T17:01:43.296Z"
   },
   {
    "duration": 292,
    "start_time": "2022-03-29T17:01:44.489Z"
   },
   {
    "duration": 9,
    "start_time": "2022-03-29T17:02:55.383Z"
   },
   {
    "duration": 5544,
    "start_time": "2022-03-29T17:03:10.342Z"
   },
   {
    "duration": 23,
    "start_time": "2022-03-29T17:03:30.512Z"
   },
   {
    "duration": 116,
    "start_time": "2022-03-29T17:03:34.462Z"
   },
   {
    "duration": 24,
    "start_time": "2022-03-29T17:03:47.047Z"
   },
   {
    "duration": 16,
    "start_time": "2022-03-29T17:03:52.156Z"
   },
   {
    "duration": 214,
    "start_time": "2022-03-29T17:05:09.063Z"
   },
   {
    "duration": 191852,
    "start_time": "2022-03-29T17:05:12.467Z"
   },
   {
    "duration": 5988,
    "start_time": "2022-03-29T17:33:39.195Z"
   },
   {
    "duration": 3907,
    "start_time": "2022-03-29T17:34:06.363Z"
   },
   {
    "duration": 57,
    "start_time": "2022-03-29T17:34:19.698Z"
   },
   {
    "duration": 179,
    "start_time": "2022-03-29T17:34:23.079Z"
   },
   {
    "duration": 1666,
    "start_time": "2022-03-29T17:34:51.111Z"
   },
   {
    "duration": 9,
    "start_time": "2022-03-29T17:34:55.007Z"
   },
   {
    "duration": 1584,
    "start_time": "2022-03-29T17:34:58.570Z"
   },
   {
    "duration": 1218,
    "start_time": "2022-03-29T17:35:34.015Z"
   },
   {
    "duration": 32,
    "start_time": "2022-03-29T17:35:39.623Z"
   },
   {
    "duration": 4580,
    "start_time": "2022-03-29T17:36:00.780Z"
   },
   {
    "duration": 592,
    "start_time": "2022-03-30T14:46:14.336Z"
   },
   {
    "duration": 18189,
    "start_time": "2022-03-30T14:46:14.931Z"
   },
   {
    "duration": 11567,
    "start_time": "2022-03-30T14:46:33.123Z"
   },
   {
    "duration": 1118,
    "start_time": "2022-03-30T14:46:44.693Z"
   },
   {
    "duration": 75,
    "start_time": "2022-03-30T14:46:45.813Z"
   },
   {
    "duration": 6230,
    "start_time": "2022-03-30T14:46:45.890Z"
   },
   {
    "duration": 1403,
    "start_time": "2022-03-30T14:46:52.123Z"
   },
   {
    "duration": 3,
    "start_time": "2022-03-30T14:46:53.528Z"
   },
   {
    "duration": 5099,
    "start_time": "2022-03-30T14:46:53.586Z"
   },
   {
    "duration": 99,
    "start_time": "2022-03-30T14:47:14.376Z"
   },
   {
    "duration": 7,
    "start_time": "2022-03-30T14:47:14.560Z"
   },
   {
    "duration": 909,
    "start_time": "2022-03-30T14:47:25.530Z"
   },
   {
    "duration": 9,
    "start_time": "2022-03-30T14:47:26.442Z"
   },
   {
    "duration": 1842,
    "start_time": "2022-03-30T14:47:26.454Z"
   },
   {
    "duration": 6,
    "start_time": "2022-03-30T14:47:28.299Z"
   },
   {
    "duration": 1666,
    "start_time": "2022-03-30T14:47:32.832Z"
   },
   {
    "duration": 10059,
    "start_time": "2022-03-30T14:47:51.872Z"
   },
   {
    "duration": 25,
    "start_time": "2022-03-30T14:49:55.552Z"
   },
   {
    "duration": 7418,
    "start_time": "2022-03-30T14:50:04.492Z"
   },
   {
    "duration": 5,
    "start_time": "2022-03-30T14:50:52.825Z"
   },
   {
    "duration": 234,
    "start_time": "2022-03-30T14:50:55.893Z"
   },
   {
    "duration": 5987,
    "start_time": "2022-03-30T14:51:22.352Z"
   },
   {
    "duration": 21,
    "start_time": "2022-03-30T14:52:11.348Z"
   },
   {
    "duration": 28,
    "start_time": "2022-03-30T14:53:18.848Z"
   },
   {
    "duration": 27,
    "start_time": "2022-03-30T14:53:27.616Z"
   },
   {
    "duration": 27,
    "start_time": "2022-03-30T14:53:34.133Z"
   },
   {
    "duration": 26,
    "start_time": "2022-03-30T14:53:41.956Z"
   },
   {
    "duration": 5832,
    "start_time": "2022-03-30T14:53:44.973Z"
   },
   {
    "duration": 48,
    "start_time": "2022-03-30T15:12:10.253Z"
   },
   {
    "duration": 14057,
    "start_time": "2022-03-30T15:12:15.053Z"
   },
   {
    "duration": 539,
    "start_time": "2022-03-30T15:15:44.508Z"
   },
   {
    "duration": 18234,
    "start_time": "2022-03-30T15:15:45.050Z"
   },
   {
    "duration": 11718,
    "start_time": "2022-03-30T15:16:03.287Z"
   },
   {
    "duration": 1086,
    "start_time": "2022-03-30T15:16:15.008Z"
   },
   {
    "duration": 8,
    "start_time": "2022-03-30T15:16:16.096Z"
   },
   {
    "duration": 7279,
    "start_time": "2022-03-30T15:16:16.106Z"
   },
   {
    "duration": 1209,
    "start_time": "2022-03-30T15:16:23.388Z"
   },
   {
    "duration": 3,
    "start_time": "2022-03-30T15:16:24.599Z"
   },
   {
    "duration": 5295,
    "start_time": "2022-03-30T15:16:24.605Z"
   },
   {
    "duration": 833,
    "start_time": "2022-03-30T15:16:29.902Z"
   },
   {
    "duration": 673,
    "start_time": "2022-03-30T15:16:30.738Z"
   },
   {
    "duration": 114,
    "start_time": "2022-03-30T15:17:38.074Z"
   },
   {
    "duration": 10,
    "start_time": "2022-03-30T15:17:41.314Z"
   },
   {
    "duration": 1741,
    "start_time": "2022-03-30T15:17:46.158Z"
   },
   {
    "duration": 108,
    "start_time": "2022-03-30T15:18:13.234Z"
   },
   {
    "duration": 137,
    "start_time": "2022-03-30T15:18:17.678Z"
   },
   {
    "duration": 9,
    "start_time": "2022-03-30T15:18:22.426Z"
   },
   {
    "duration": 20,
    "start_time": "2022-03-30T15:18:30.455Z"
   },
   {
    "duration": 9673,
    "start_time": "2022-03-30T15:18:43.166Z"
   },
   {
    "duration": 39,
    "start_time": "2022-03-30T15:19:23.019Z"
   },
   {
    "duration": 138,
    "start_time": "2022-03-30T15:20:20.754Z"
   },
   {
    "duration": 7013,
    "start_time": "2022-03-30T15:20:34.174Z"
   },
   {
    "duration": 49,
    "start_time": "2022-03-30T15:21:12.361Z"
   },
   {
    "duration": 5960,
    "start_time": "2022-03-30T15:21:19.945Z"
   },
   {
    "duration": 45,
    "start_time": "2022-03-30T15:22:18.819Z"
   },
   {
    "duration": 6172,
    "start_time": "2022-03-30T15:22:29.054Z"
   },
   {
    "duration": 788,
    "start_time": "2022-03-30T15:22:50.654Z"
   },
   {
    "duration": 17875,
    "start_time": "2022-03-30T15:22:51.445Z"
   },
   {
    "duration": 13584,
    "start_time": "2022-03-30T15:23:09.324Z"
   },
   {
    "duration": 1481,
    "start_time": "2022-03-30T15:23:22.911Z"
   },
   {
    "duration": 6,
    "start_time": "2022-03-30T15:23:24.395Z"
   },
   {
    "duration": 7014,
    "start_time": "2022-03-30T15:23:24.404Z"
   },
   {
    "duration": 1605,
    "start_time": "2022-03-30T15:23:31.420Z"
   },
   {
    "duration": 56,
    "start_time": "2022-03-30T15:23:33.028Z"
   },
   {
    "duration": 5723,
    "start_time": "2022-03-30T15:23:33.088Z"
   },
   {
    "duration": 1188,
    "start_time": "2022-03-30T15:23:38.814Z"
   },
   {
    "duration": 508,
    "start_time": "2022-03-30T15:23:40.005Z"
   },
   {
    "duration": 1080,
    "start_time": "2022-03-30T15:23:40.516Z"
   },
   {
    "duration": 12,
    "start_time": "2022-03-30T15:23:41.599Z"
   },
   {
    "duration": 1884,
    "start_time": "2022-03-30T15:23:41.614Z"
   },
   {
    "duration": 8,
    "start_time": "2022-03-30T15:23:56.094Z"
   },
   {
    "duration": 1439,
    "start_time": "2022-03-30T15:24:04.070Z"
   },
   {
    "duration": 1419,
    "start_time": "2022-03-30T15:24:15.783Z"
   },
   {
    "duration": 9,
    "start_time": "2022-03-30T15:24:51.654Z"
   },
   {
    "duration": 1936,
    "start_time": "2022-03-30T15:24:54.150Z"
   },
   {
    "duration": 1175,
    "start_time": "2022-03-30T15:24:56.089Z"
   },
   {
    "duration": 780,
    "start_time": "2022-03-30T15:25:14.960Z"
   },
   {
    "duration": 19345,
    "start_time": "2022-03-30T15:25:15.744Z"
   },
   {
    "duration": 13494,
    "start_time": "2022-03-30T15:25:35.093Z"
   },
   {
    "duration": 1119,
    "start_time": "2022-03-30T15:25:48.591Z"
   },
   {
    "duration": 73,
    "start_time": "2022-03-30T15:25:49.712Z"
   },
   {
    "duration": 7104,
    "start_time": "2022-03-30T15:25:49.788Z"
   },
   {
    "duration": 1389,
    "start_time": "2022-03-30T15:25:56.895Z"
   },
   {
    "duration": 3,
    "start_time": "2022-03-30T15:25:58.286Z"
   },
   {
    "duration": 5698,
    "start_time": "2022-03-30T15:25:58.294Z"
   },
   {
    "duration": 1119,
    "start_time": "2022-03-30T15:26:03.994Z"
   },
   {
    "duration": 574,
    "start_time": "2022-03-30T15:26:05.115Z"
   },
   {
    "duration": 936,
    "start_time": "2022-03-30T15:26:05.692Z"
   },
   {
    "duration": 9,
    "start_time": "2022-03-30T15:26:06.631Z"
   },
   {
    "duration": 1742,
    "start_time": "2022-03-30T15:26:06.642Z"
   },
   {
    "duration": 367,
    "start_time": "2022-03-30T15:26:08.387Z"
   },
   {
    "duration": 1519,
    "start_time": "2022-03-30T15:26:29.968Z"
   },
   {
    "duration": 899,
    "start_time": "2022-03-30T15:26:43.424Z"
   },
   {
    "duration": 34,
    "start_time": "2022-03-30T15:27:35.299Z"
   },
   {
    "duration": 19,
    "start_time": "2022-03-30T15:27:55.291Z"
   },
   {
    "duration": 40,
    "start_time": "2022-03-30T15:28:18.379Z"
   },
   {
    "duration": 34,
    "start_time": "2022-03-30T15:28:30.727Z"
   },
   {
    "duration": 189,
    "start_time": "2022-03-30T15:28:42.508Z"
   },
   {
    "duration": 9,
    "start_time": "2022-03-30T15:28:44.851Z"
   },
   {
    "duration": 10621,
    "start_time": "2022-03-30T15:28:45.007Z"
   },
   {
    "duration": 14,
    "start_time": "2022-03-30T15:29:35.607Z"
   },
   {
    "duration": 7314,
    "start_time": "2022-03-30T15:29:42.900Z"
   },
   {
    "duration": 35,
    "start_time": "2022-03-30T15:30:53.912Z"
   },
   {
    "duration": 436,
    "start_time": "2022-03-31T14:41:12.260Z"
   },
   {
    "duration": 15314,
    "start_time": "2022-03-31T14:41:12.698Z"
   },
   {
    "duration": 7614,
    "start_time": "2022-03-31T14:41:28.015Z"
   },
   {
    "duration": 977,
    "start_time": "2022-03-31T14:41:35.631Z"
   },
   {
    "duration": 5,
    "start_time": "2022-03-31T14:41:36.612Z"
   },
   {
    "duration": 3994,
    "start_time": "2022-03-31T14:41:36.619Z"
   },
   {
    "duration": 1025,
    "start_time": "2022-03-31T14:41:40.615Z"
   },
   {
    "duration": 3,
    "start_time": "2022-03-31T14:41:41.641Z"
   },
   {
    "duration": 3682,
    "start_time": "2022-03-31T14:41:41.645Z"
   },
   {
    "duration": 509,
    "start_time": "2022-03-31T14:41:45.328Z"
   },
   {
    "duration": 294,
    "start_time": "2022-03-31T14:41:45.840Z"
   },
   {
    "duration": 573,
    "start_time": "2022-03-31T14:41:46.136Z"
   },
   {
    "duration": 7,
    "start_time": "2022-03-31T14:41:46.710Z"
   },
   {
    "duration": 21,
    "start_time": "2022-03-31T14:41:46.718Z"
   },
   {
    "duration": 71,
    "start_time": "2022-03-31T14:41:46.740Z"
   },
   {
    "duration": 927,
    "start_time": "2022-03-31T14:41:46.812Z"
   },
   {
    "duration": 1272,
    "start_time": "2022-03-31T14:41:47.740Z"
   },
   {
    "duration": 231,
    "start_time": "2022-03-31T14:41:49.014Z"
   },
   {
    "duration": 3,
    "start_time": "2022-03-31T14:41:49.247Z"
   },
   {
    "duration": 87,
    "start_time": "2022-03-31T14:41:49.251Z"
   },
   {
    "duration": 6791,
    "start_time": "2022-03-31T14:41:49.339Z"
   },
   {
    "duration": 65,
    "start_time": "2022-03-31T14:42:09.307Z"
   },
   {
    "duration": 5,
    "start_time": "2022-03-31T14:42:11.552Z"
   },
   {
    "duration": 719,
    "start_time": "2022-03-31T14:42:18.283Z"
   },
   {
    "duration": 63,
    "start_time": "2022-03-31T15:18:28.389Z"
   },
   {
    "duration": 4,
    "start_time": "2022-03-31T15:20:56.174Z"
   },
   {
    "duration": 5,
    "start_time": "2022-03-31T15:21:22.666Z"
   },
   {
    "duration": 64,
    "start_time": "2022-03-31T15:23:13.149Z"
   },
   {
    "duration": 4,
    "start_time": "2022-03-31T15:27:35.059Z"
   },
   {
    "duration": 38,
    "start_time": "2022-03-31T15:28:53.879Z"
   },
   {
    "duration": 52,
    "start_time": "2022-03-31T15:29:14.750Z"
   },
   {
    "duration": 38,
    "start_time": "2022-03-31T15:29:56.558Z"
   },
   {
    "duration": 4,
    "start_time": "2022-03-31T15:30:59.094Z"
   },
   {
    "duration": 53,
    "start_time": "2022-03-31T15:31:11.466Z"
   },
   {
    "duration": 25,
    "start_time": "2022-03-31T15:32:40.575Z"
   },
   {
    "duration": 4,
    "start_time": "2022-03-31T15:33:02.707Z"
   },
   {
    "duration": 17,
    "start_time": "2022-03-31T15:33:46.207Z"
   },
   {
    "duration": 1332,
    "start_time": "2022-03-31T15:34:04.279Z"
   },
   {
    "duration": 7,
    "start_time": "2022-03-31T15:34:08.927Z"
   },
   {
    "duration": 574,
    "start_time": "2022-03-31T15:34:12.227Z"
   },
   {
    "duration": 4,
    "start_time": "2022-03-31T15:34:23.691Z"
   },
   {
    "duration": 4,
    "start_time": "2022-03-31T15:34:27.127Z"
   },
   {
    "duration": 373,
    "start_time": "2022-03-31T15:36:32.151Z"
   },
   {
    "duration": 228,
    "start_time": "2022-03-31T15:38:07.559Z"
   },
   {
    "duration": 197,
    "start_time": "2022-03-31T15:38:34.203Z"
   },
   {
    "duration": 28,
    "start_time": "2022-03-31T15:38:51.191Z"
   },
   {
    "duration": 178,
    "start_time": "2022-03-31T15:39:02.967Z"
   },
   {
    "duration": 8,
    "start_time": "2022-03-31T15:39:05.944Z"
   },
   {
    "duration": 919,
    "start_time": "2022-03-31T15:39:11.683Z"
   },
   {
    "duration": 627,
    "start_time": "2022-04-01T16:18:27.880Z"
   },
   {
    "duration": 17462,
    "start_time": "2022-04-01T16:18:28.509Z"
   },
   {
    "duration": 10704,
    "start_time": "2022-04-01T16:18:45.974Z"
   },
   {
    "duration": 1215,
    "start_time": "2022-04-01T16:18:56.744Z"
   },
   {
    "duration": 10,
    "start_time": "2022-04-01T16:18:57.962Z"
   },
   {
    "duration": 7392,
    "start_time": "2022-04-01T16:18:57.974Z"
   },
   {
    "duration": 1384,
    "start_time": "2022-04-01T16:19:05.368Z"
   },
   {
    "duration": 6014,
    "start_time": "2022-04-01T16:19:06.754Z"
   },
   {
    "duration": 1099,
    "start_time": "2022-04-01T16:19:12.770Z"
   },
   {
    "duration": 512,
    "start_time": "2022-04-01T16:19:13.871Z"
   },
   {
    "duration": 102,
    "start_time": "2022-04-01T16:19:36.624Z"
   },
   {
    "duration": 11,
    "start_time": "2022-04-01T16:19:41.584Z"
   },
   {
    "duration": 420,
    "start_time": "2022-04-01T16:19:46.944Z"
   },
   {
    "duration": 175,
    "start_time": "2022-04-01T16:19:54.690Z"
   },
   {
    "duration": 9203,
    "start_time": "2022-04-01T16:19:56.764Z"
   },
   {
    "duration": 656,
    "start_time": "2022-04-01T16:20:57.916Z"
   },
   {
    "duration": 17491,
    "start_time": "2022-04-01T16:20:58.574Z"
   },
   {
    "duration": 11102,
    "start_time": "2022-04-01T16:21:16.068Z"
   },
   {
    "duration": 1203,
    "start_time": "2022-04-01T16:21:27.173Z"
   },
   {
    "duration": 8,
    "start_time": "2022-04-01T16:21:28.444Z"
   },
   {
    "duration": 6196,
    "start_time": "2022-04-01T16:21:28.455Z"
   },
   {
    "duration": 5723,
    "start_time": "2022-04-01T16:21:34.654Z"
   },
   {
    "duration": 1299,
    "start_time": "2022-04-01T16:21:40.444Z"
   },
   {
    "duration": 501,
    "start_time": "2022-04-01T16:21:41.745Z"
   },
   {
    "duration": 406,
    "start_time": "2022-04-01T16:21:42.249Z"
   },
   {
    "duration": 577,
    "start_time": "2022-04-01T16:21:42.658Z"
   },
   {
    "duration": 0,
    "start_time": "2022-04-01T16:21:43.238Z"
   },
   {
    "duration": 0,
    "start_time": "2022-04-01T16:21:43.240Z"
   },
   {
    "duration": 0,
    "start_time": "2022-04-01T16:21:43.242Z"
   },
   {
    "duration": 0,
    "start_time": "2022-04-01T16:21:43.243Z"
   },
   {
    "duration": 0,
    "start_time": "2022-04-01T16:21:43.244Z"
   },
   {
    "duration": 0,
    "start_time": "2022-04-01T16:21:43.246Z"
   },
   {
    "duration": 0,
    "start_time": "2022-04-01T16:21:43.247Z"
   },
   {
    "duration": 128,
    "start_time": "2022-04-01T16:21:59.419Z"
   },
   {
    "duration": 9776,
    "start_time": "2022-04-01T16:22:02.279Z"
   },
   {
    "duration": 57,
    "start_time": "2022-04-01T16:23:06.799Z"
   },
   {
    "duration": 9488,
    "start_time": "2022-04-01T16:23:31.388Z"
   },
   {
    "duration": 978,
    "start_time": "2022-04-01T16:24:15.705Z"
   },
   {
    "duration": 662,
    "start_time": "2022-04-01T16:24:32.617Z"
   },
   {
    "duration": 18387,
    "start_time": "2022-04-01T16:24:33.281Z"
   },
   {
    "duration": 11204,
    "start_time": "2022-04-01T16:24:51.671Z"
   },
   {
    "duration": 1184,
    "start_time": "2022-04-01T16:25:02.877Z"
   },
   {
    "duration": 6,
    "start_time": "2022-04-01T16:25:04.064Z"
   },
   {
    "duration": 7389,
    "start_time": "2022-04-01T16:25:04.073Z"
   },
   {
    "duration": 5997,
    "start_time": "2022-04-01T16:25:11.465Z"
   },
   {
    "duration": 1283,
    "start_time": "2022-04-01T16:25:17.465Z"
   },
   {
    "duration": 500,
    "start_time": "2022-04-01T16:25:18.750Z"
   },
   {
    "duration": 419,
    "start_time": "2022-04-01T16:25:19.253Z"
   },
   {
    "duration": 279,
    "start_time": "2022-04-01T16:25:19.674Z"
   },
   {
    "duration": 1713,
    "start_time": "2022-04-01T16:25:19.955Z"
   },
   {
    "duration": 8503,
    "start_time": "2022-04-01T16:25:21.670Z"
   },
   {
    "duration": 1004,
    "start_time": "2022-04-01T16:25:30.177Z"
   },
   {
    "duration": 642,
    "start_time": "2022-04-01T16:25:31.245Z"
   },
   {
    "duration": 1507,
    "start_time": "2022-04-01T16:25:31.944Z"
   },
   {
    "duration": 411,
    "start_time": "2022-04-01T16:25:33.453Z"
   },
   {
    "duration": 1276,
    "start_time": "2022-04-01T16:25:33.867Z"
   },
   {
    "duration": 148,
    "start_time": "2022-04-01T16:25:35.146Z"
   },
   {
    "duration": 653,
    "start_time": "2022-04-01T16:26:47.796Z"
   },
   {
    "duration": 17740,
    "start_time": "2022-04-01T16:26:48.452Z"
   },
   {
    "duration": 12634,
    "start_time": "2022-04-01T16:27:06.242Z"
   },
   {
    "duration": 1294,
    "start_time": "2022-04-01T16:27:18.879Z"
   },
   {
    "duration": 72,
    "start_time": "2022-04-01T16:27:20.175Z"
   },
   {
    "duration": 6029,
    "start_time": "2022-04-01T16:27:20.249Z"
   },
   {
    "duration": 5364,
    "start_time": "2022-04-01T16:27:26.280Z"
   },
   {
    "duration": 1619,
    "start_time": "2022-04-01T16:27:31.646Z"
   },
   {
    "duration": 789,
    "start_time": "2022-04-01T16:27:33.268Z"
   },
   {
    "duration": 711,
    "start_time": "2022-04-01T16:27:34.062Z"
   },
   {
    "duration": 296,
    "start_time": "2022-04-01T16:27:34.775Z"
   },
   {
    "duration": 1992,
    "start_time": "2022-04-01T16:27:35.073Z"
   },
   {
    "duration": 8287,
    "start_time": "2022-04-01T16:27:37.067Z"
   },
   {
    "duration": 820,
    "start_time": "2022-04-01T16:27:45.356Z"
   },
   {
    "duration": 703,
    "start_time": "2022-04-01T16:27:46.179Z"
   },
   {
    "duration": 1794,
    "start_time": "2022-04-01T16:27:46.885Z"
   },
   {
    "duration": 516,
    "start_time": "2022-04-01T16:27:48.744Z"
   },
   {
    "duration": 1190,
    "start_time": "2022-04-01T16:27:49.264Z"
   },
   {
    "duration": 223,
    "start_time": "2022-04-01T16:27:50.457Z"
   },
   {
    "duration": 632,
    "start_time": "2022-04-01T16:28:16.612Z"
   },
   {
    "duration": 8478,
    "start_time": "2022-04-01T16:28:38.492Z"
   },
   {
    "duration": 5786,
    "start_time": "2022-04-01T16:39:12.674Z"
   },
   {
    "duration": 5186,
    "start_time": "2022-04-01T16:39:23.284Z"
   },
   {
    "duration": 0,
    "start_time": "2022-04-01T16:39:37.037Z"
   },
   {
    "duration": 5485,
    "start_time": "2022-04-01T16:39:41.005Z"
   },
   {
    "duration": 42,
    "start_time": "2022-04-01T16:39:47.061Z"
   },
   {
    "duration": 11,
    "start_time": "2022-04-01T16:39:50.129Z"
   },
   {
    "duration": 5,
    "start_time": "2022-04-01T16:39:51.374Z"
   },
   {
    "duration": 4,
    "start_time": "2022-04-01T16:41:01.697Z"
   },
   {
    "duration": 12,
    "start_time": "2022-04-01T16:41:52.149Z"
   },
   {
    "duration": 90,
    "start_time": "2022-04-01T16:42:00.265Z"
   },
   {
    "duration": 6720,
    "start_time": "2022-04-01T16:42:18.357Z"
   },
   {
    "duration": 4,
    "start_time": "2022-04-01T16:43:47.749Z"
   },
   {
    "duration": 3,
    "start_time": "2022-04-01T16:44:16.810Z"
   },
   {
    "duration": 3,
    "start_time": "2022-04-01T16:44:50.914Z"
   },
   {
    "duration": 32,
    "start_time": "2022-04-01T16:47:08.162Z"
   },
   {
    "duration": 251,
    "start_time": "2022-04-01T16:47:27.306Z"
   },
   {
    "duration": 162,
    "start_time": "2022-04-01T16:47:43.609Z"
   },
   {
    "duration": 41,
    "start_time": "2022-04-01T16:48:42.253Z"
   },
   {
    "duration": 1878,
    "start_time": "2022-04-01T16:48:57.953Z"
   },
   {
    "duration": 906,
    "start_time": "2022-04-01T16:50:54.381Z"
   },
   {
    "duration": 24,
    "start_time": "2022-04-01T16:51:09.618Z"
   },
   {
    "duration": 1086,
    "start_time": "2022-04-01T16:51:31.701Z"
   },
   {
    "duration": 973,
    "start_time": "2022-04-01T16:51:56.118Z"
   },
   {
    "duration": 273,
    "start_time": "2022-04-01T16:52:04.666Z"
   },
   {
    "duration": 1131,
    "start_time": "2022-04-01T16:52:07.557Z"
   },
   {
    "duration": 822,
    "start_time": "2022-04-01T16:52:16.718Z"
   },
   {
    "duration": 211,
    "start_time": "2022-04-01T16:52:29.370Z"
   },
   {
    "duration": 950,
    "start_time": "2022-04-01T16:52:34.534Z"
   },
   {
    "duration": 741,
    "start_time": "2022-04-01T17:19:38.808Z"
   },
   {
    "duration": 43,
    "start_time": "2022-04-01T17:24:57.228Z"
   },
   {
    "duration": 41,
    "start_time": "2022-04-01T17:27:03.324Z"
   },
   {
    "duration": 41,
    "start_time": "2022-04-01T17:27:58.919Z"
   },
   {
    "duration": 92,
    "start_time": "2022-04-01T17:28:05.468Z"
   },
   {
    "duration": 999,
    "start_time": "2022-04-01T17:28:18.136Z"
   },
   {
    "duration": 6,
    "start_time": "2022-04-01T17:28:52.028Z"
   },
   {
    "duration": 635,
    "start_time": "2022-04-01T17:57:29.866Z"
   },
   {
    "duration": 17378,
    "start_time": "2022-04-01T17:57:30.504Z"
   },
   {
    "duration": 11179,
    "start_time": "2022-04-01T17:57:47.884Z"
   },
   {
    "duration": 1184,
    "start_time": "2022-04-01T17:57:59.066Z"
   },
   {
    "duration": 7,
    "start_time": "2022-04-01T17:58:00.253Z"
   },
   {
    "duration": 6890,
    "start_time": "2022-04-01T17:58:00.263Z"
   },
   {
    "duration": 5189,
    "start_time": "2022-04-01T17:58:07.156Z"
   },
   {
    "duration": 1504,
    "start_time": "2022-04-01T17:58:12.348Z"
   },
   {
    "duration": 5,
    "start_time": "2022-04-01T17:58:13.855Z"
   },
   {
    "duration": 579,
    "start_time": "2022-04-01T17:58:13.864Z"
   },
   {
    "duration": 331,
    "start_time": "2022-04-01T17:58:14.445Z"
   },
   {
    "duration": 193,
    "start_time": "2022-04-01T17:58:14.779Z"
   },
   {
    "duration": 1580,
    "start_time": "2022-04-01T17:58:14.975Z"
   },
   {
    "duration": 8211,
    "start_time": "2022-04-01T17:58:16.558Z"
   },
   {
    "duration": 805,
    "start_time": "2022-04-01T17:58:24.771Z"
   },
   {
    "duration": 6589,
    "start_time": "2022-04-01T17:58:25.578Z"
   },
   {
    "duration": 117,
    "start_time": "2022-04-01T17:58:32.169Z"
   },
   {
    "duration": 1858,
    "start_time": "2022-04-01T17:58:32.289Z"
   },
   {
    "duration": 396,
    "start_time": "2022-04-01T17:58:34.149Z"
   },
   {
    "duration": 209,
    "start_time": "2022-04-01T17:58:34.547Z"
   },
   {
    "duration": 8,
    "start_time": "2022-04-01T17:58:34.759Z"
   },
   {
    "duration": 192,
    "start_time": "2022-04-01T17:58:34.770Z"
   },
   {
    "duration": 0,
    "start_time": "2022-04-01T17:58:34.964Z"
   },
   {
    "duration": 0,
    "start_time": "2022-04-01T17:58:34.966Z"
   },
   {
    "duration": 0,
    "start_time": "2022-04-01T17:58:34.968Z"
   },
   {
    "duration": 0,
    "start_time": "2022-04-01T17:58:34.969Z"
   },
   {
    "duration": 32,
    "start_time": "2022-04-01T17:59:32.443Z"
   },
   {
    "duration": 32,
    "start_time": "2022-04-01T17:59:46.158Z"
   },
   {
    "duration": 2192,
    "start_time": "2022-04-01T17:59:47.407Z"
   },
   {
    "duration": 969,
    "start_time": "2022-04-01T17:59:57.222Z"
   },
   {
    "duration": 974,
    "start_time": "2022-04-01T18:00:03.403Z"
   },
   {
    "duration": 10,
    "start_time": "2022-04-01T18:26:17.560Z"
   },
   {
    "duration": 12,
    "start_time": "2022-04-01T18:26:27.836Z"
   },
   {
    "duration": 8052,
    "start_time": "2022-04-01T18:26:31.565Z"
   },
   {
    "duration": 6,
    "start_time": "2022-04-01T18:35:36.573Z"
   },
   {
    "duration": 2398,
    "start_time": "2022-04-01T18:36:10.033Z"
   },
   {
    "duration": 640,
    "start_time": "2022-04-01T18:36:25.446Z"
   },
   {
    "duration": 17782,
    "start_time": "2022-04-01T18:36:26.088Z"
   },
   {
    "duration": 10473,
    "start_time": "2022-04-01T18:36:43.876Z"
   },
   {
    "duration": 1112,
    "start_time": "2022-04-01T18:36:54.351Z"
   },
   {
    "duration": 78,
    "start_time": "2022-04-01T18:36:55.465Z"
   },
   {
    "duration": 6137,
    "start_time": "2022-04-01T18:36:55.546Z"
   },
   {
    "duration": 5228,
    "start_time": "2022-04-01T18:37:01.743Z"
   },
   {
    "duration": 1393,
    "start_time": "2022-04-01T18:37:06.974Z"
   },
   {
    "duration": 7,
    "start_time": "2022-04-01T18:37:08.372Z"
   },
   {
    "duration": 675,
    "start_time": "2022-04-01T18:37:08.382Z"
   },
   {
    "duration": 517,
    "start_time": "2022-04-01T18:37:09.059Z"
   },
   {
    "duration": 280,
    "start_time": "2022-04-01T18:37:09.578Z"
   },
   {
    "duration": 1684,
    "start_time": "2022-04-01T18:37:09.861Z"
   },
   {
    "duration": 8017,
    "start_time": "2022-04-01T18:37:11.547Z"
   },
   {
    "duration": 883,
    "start_time": "2022-04-01T18:37:19.566Z"
   },
   {
    "duration": 6999,
    "start_time": "2022-04-01T18:37:20.451Z"
   },
   {
    "duration": 117,
    "start_time": "2022-04-01T18:37:27.452Z"
   },
   {
    "duration": 1894,
    "start_time": "2022-04-01T18:37:27.572Z"
   },
   {
    "duration": 679,
    "start_time": "2022-04-01T18:37:29.468Z"
   },
   {
    "duration": 7509,
    "start_time": "2022-04-01T18:37:30.149Z"
   },
   {
    "duration": 226,
    "start_time": "2022-04-01T18:37:37.660Z"
   },
   {
    "duration": 57,
    "start_time": "2022-04-01T18:37:37.889Z"
   },
   {
    "duration": 6300,
    "start_time": "2022-04-01T18:37:37.948Z"
   },
   {
    "duration": 36,
    "start_time": "2022-04-01T18:37:44.251Z"
   },
   {
    "duration": 956,
    "start_time": "2022-04-01T18:37:44.290Z"
   },
   {
    "duration": 95,
    "start_time": "2022-04-01T18:37:45.249Z"
   },
   {
    "duration": 3590,
    "start_time": "2022-04-01T18:37:45.349Z"
   },
   {
    "duration": 778,
    "start_time": "2022-04-02T10:05:21.273Z"
   },
   {
    "duration": 6,
    "start_time": "2022-04-02T10:07:02.649Z"
   },
   {
    "duration": 18565,
    "start_time": "2022-04-02T10:07:02.945Z"
   },
   {
    "duration": 11305,
    "start_time": "2022-04-02T10:07:21.513Z"
   },
   {
    "duration": 1367,
    "start_time": "2022-04-02T10:07:32.821Z"
   },
   {
    "duration": 7,
    "start_time": "2022-04-02T10:07:34.192Z"
   },
   {
    "duration": 6520,
    "start_time": "2022-04-02T10:07:34.201Z"
   },
   {
    "duration": 5083,
    "start_time": "2022-04-02T10:07:40.724Z"
   },
   {
    "duration": 1195,
    "start_time": "2022-04-02T10:07:45.810Z"
   },
   {
    "duration": 6,
    "start_time": "2022-04-02T10:07:47.007Z"
   },
   {
    "duration": 594,
    "start_time": "2022-04-02T10:07:47.015Z"
   },
   {
    "duration": 399,
    "start_time": "2022-04-02T10:07:47.613Z"
   },
   {
    "duration": 294,
    "start_time": "2022-04-02T10:07:48.015Z"
   },
   {
    "duration": 1692,
    "start_time": "2022-04-02T10:07:48.311Z"
   },
   {
    "duration": 9285,
    "start_time": "2022-04-02T10:07:50.006Z"
   },
   {
    "duration": 891,
    "start_time": "2022-04-02T10:07:59.293Z"
   },
   {
    "duration": 7920,
    "start_time": "2022-04-02T10:08:00.187Z"
   },
   {
    "duration": 101,
    "start_time": "2022-04-02T10:08:08.109Z"
   },
   {
    "duration": 1694,
    "start_time": "2022-04-02T10:08:08.213Z"
   },
   {
    "duration": 598,
    "start_time": "2022-04-02T10:08:09.909Z"
   },
   {
    "duration": 8391,
    "start_time": "2022-04-02T10:08:10.510Z"
   },
   {
    "duration": 164,
    "start_time": "2022-04-02T10:10:54.841Z"
   },
   {
    "duration": 6,
    "start_time": "2022-04-02T10:11:00.802Z"
   },
   {
    "duration": 35,
    "start_time": "2022-04-02T10:11:10.993Z"
   },
   {
    "duration": 1047,
    "start_time": "2022-04-02T10:11:12.765Z"
   },
   {
    "duration": 30,
    "start_time": "2022-04-02T10:11:23.174Z"
   },
   {
    "duration": 6,
    "start_time": "2022-04-02T10:18:09.098Z"
   },
   {
    "duration": 3231,
    "start_time": "2022-04-02T10:19:23.498Z"
   },
   {
    "duration": 203,
    "start_time": "2022-04-02T10:19:56.010Z"
   },
   {
    "duration": 9,
    "start_time": "2022-04-02T10:21:20.434Z"
   },
   {
    "duration": 1182,
    "start_time": "2022-04-02T10:21:29.398Z"
   },
   {
    "duration": 17,
    "start_time": "2022-04-02T10:22:00.969Z"
   },
   {
    "duration": 950,
    "start_time": "2022-04-02T10:22:07.574Z"
   },
   {
    "duration": 716,
    "start_time": "2022-04-02T10:22:32.901Z"
   },
   {
    "duration": 18473,
    "start_time": "2022-04-02T10:22:33.620Z"
   },
   {
    "duration": 12202,
    "start_time": "2022-04-02T10:22:52.100Z"
   },
   {
    "duration": 1104,
    "start_time": "2022-04-02T10:23:04.306Z"
   },
   {
    "duration": 7,
    "start_time": "2022-04-02T10:23:05.485Z"
   },
   {
    "duration": 6722,
    "start_time": "2022-04-02T10:23:05.495Z"
   },
   {
    "duration": 5688,
    "start_time": "2022-04-02T10:23:12.219Z"
   },
   {
    "duration": 1675,
    "start_time": "2022-04-02T10:23:17.909Z"
   },
   {
    "duration": 6,
    "start_time": "2022-04-02T10:23:19.586Z"
   },
   {
    "duration": 526,
    "start_time": "2022-04-02T10:23:19.594Z"
   },
   {
    "duration": 472,
    "start_time": "2022-04-02T10:23:20.122Z"
   },
   {
    "duration": 208,
    "start_time": "2022-04-02T10:23:20.597Z"
   },
   {
    "duration": 1504,
    "start_time": "2022-04-02T10:23:20.807Z"
   },
   {
    "duration": 8910,
    "start_time": "2022-04-02T10:23:22.315Z"
   },
   {
    "duration": 664,
    "start_time": "2022-04-02T10:23:31.227Z"
   },
   {
    "duration": 7292,
    "start_time": "2022-04-02T10:23:31.893Z"
   },
   {
    "duration": 112,
    "start_time": "2022-04-02T10:23:39.187Z"
   },
   {
    "duration": 1590,
    "start_time": "2022-04-02T10:23:39.302Z"
   },
   {
    "duration": 519,
    "start_time": "2022-04-02T10:23:40.894Z"
   },
   {
    "duration": 154,
    "start_time": "2022-04-02T10:23:41.416Z"
   },
   {
    "duration": 0,
    "start_time": "2022-04-02T10:23:41.573Z"
   },
   {
    "duration": 0,
    "start_time": "2022-04-02T10:23:41.575Z"
   },
   {
    "duration": 0,
    "start_time": "2022-04-02T10:23:41.578Z"
   },
   {
    "duration": 0,
    "start_time": "2022-04-02T10:23:41.580Z"
   },
   {
    "duration": 0,
    "start_time": "2022-04-02T10:23:41.583Z"
   },
   {
    "duration": 0,
    "start_time": "2022-04-02T10:23:41.584Z"
   },
   {
    "duration": 217,
    "start_time": "2022-04-02T10:24:10.185Z"
   },
   {
    "duration": 111,
    "start_time": "2022-04-02T10:24:12.792Z"
   },
   {
    "duration": 1607,
    "start_time": "2022-04-02T10:24:15.565Z"
   },
   {
    "duration": 19859,
    "start_time": "2022-04-02T10:26:43.824Z"
   },
   {
    "duration": 641,
    "start_time": "2022-04-02T10:30:37.220Z"
   },
   {
    "duration": 18137,
    "start_time": "2022-04-02T10:30:37.864Z"
   },
   {
    "duration": 12000,
    "start_time": "2022-04-02T10:30:56.003Z"
   },
   {
    "duration": 1080,
    "start_time": "2022-04-02T10:31:08.007Z"
   },
   {
    "duration": 6,
    "start_time": "2022-04-02T10:31:09.089Z"
   },
   {
    "duration": 6524,
    "start_time": "2022-04-02T10:31:09.098Z"
   },
   {
    "duration": 5077,
    "start_time": "2022-04-02T10:31:15.624Z"
   },
   {
    "duration": 1294,
    "start_time": "2022-04-02T10:31:20.704Z"
   },
   {
    "duration": 6,
    "start_time": "2022-04-02T10:31:22.000Z"
   },
   {
    "duration": 589,
    "start_time": "2022-04-02T10:31:22.010Z"
   },
   {
    "duration": 483,
    "start_time": "2022-04-02T10:31:22.601Z"
   },
   {
    "duration": 499,
    "start_time": "2022-04-02T10:31:23.086Z"
   },
   {
    "duration": 0,
    "start_time": "2022-04-02T10:31:23.588Z"
   },
   {
    "duration": 0,
    "start_time": "2022-04-02T10:31:23.590Z"
   },
   {
    "duration": 0,
    "start_time": "2022-04-02T10:31:23.592Z"
   },
   {
    "duration": 0,
    "start_time": "2022-04-02T10:31:23.594Z"
   },
   {
    "duration": 0,
    "start_time": "2022-04-02T10:31:23.597Z"
   },
   {
    "duration": 0,
    "start_time": "2022-04-02T10:31:23.599Z"
   },
   {
    "duration": 0,
    "start_time": "2022-04-02T10:31:23.600Z"
   },
   {
    "duration": 0,
    "start_time": "2022-04-02T10:31:23.603Z"
   },
   {
    "duration": 0,
    "start_time": "2022-04-02T10:31:23.605Z"
   },
   {
    "duration": 0,
    "start_time": "2022-04-02T10:31:23.606Z"
   },
   {
    "duration": 0,
    "start_time": "2022-04-02T10:31:23.608Z"
   },
   {
    "duration": 0,
    "start_time": "2022-04-02T10:31:23.611Z"
   },
   {
    "duration": 0,
    "start_time": "2022-04-02T10:31:23.685Z"
   },
   {
    "duration": 0,
    "start_time": "2022-04-02T10:31:23.688Z"
   },
   {
    "duration": 0,
    "start_time": "2022-04-02T10:31:23.689Z"
   },
   {
    "duration": 10,
    "start_time": "2022-04-02T10:33:05.472Z"
   },
   {
    "duration": 9,
    "start_time": "2022-04-02T10:33:21.437Z"
   },
   {
    "duration": 26,
    "start_time": "2022-04-02T10:33:23.985Z"
   },
   {
    "duration": 9198,
    "start_time": "2022-04-02T10:33:29.413Z"
   },
   {
    "duration": 6539,
    "start_time": "2022-04-02T10:33:56.957Z"
   },
   {
    "duration": 129,
    "start_time": "2022-04-02T10:34:20.645Z"
   },
   {
    "duration": 128,
    "start_time": "2022-04-02T10:34:27.241Z"
   },
   {
    "duration": 4993,
    "start_time": "2022-04-02T10:34:30.908Z"
   },
   {
    "duration": 4935,
    "start_time": "2022-04-02T10:34:44.280Z"
   },
   {
    "duration": 20,
    "start_time": "2022-04-02T10:34:53.580Z"
   },
   {
    "duration": 220,
    "start_time": "2022-04-02T10:35:05.377Z"
   },
   {
    "duration": 11,
    "start_time": "2022-04-02T10:36:00.453Z"
   },
   {
    "duration": 79,
    "start_time": "2022-04-02T10:36:04.940Z"
   },
   {
    "duration": 110,
    "start_time": "2022-04-02T10:36:11.905Z"
   },
   {
    "duration": 14,
    "start_time": "2022-04-02T10:36:40.936Z"
   },
   {
    "duration": 20,
    "start_time": "2022-04-02T10:37:11.928Z"
   },
   {
    "duration": 4383,
    "start_time": "2022-04-02T10:37:42.309Z"
   },
   {
    "duration": 8,
    "start_time": "2022-04-02T10:37:48.840Z"
   },
   {
    "duration": 7,
    "start_time": "2022-04-02T10:38:11.084Z"
   },
   {
    "duration": 2536,
    "start_time": "2022-04-02T10:38:22.141Z"
   },
   {
    "duration": 2450,
    "start_time": "2022-04-02T10:38:27.148Z"
   },
   {
    "duration": 9,
    "start_time": "2022-04-02T10:38:34.321Z"
   },
   {
    "duration": 24,
    "start_time": "2022-04-02T10:41:25.443Z"
   },
   {
    "duration": 4377,
    "start_time": "2022-04-02T10:41:37.317Z"
   },
   {
    "duration": 5462,
    "start_time": "2022-04-02T10:43:08.949Z"
   },
   {
    "duration": 6,
    "start_time": "2022-04-02T10:43:16.810Z"
   },
   {
    "duration": 131,
    "start_time": "2022-04-02T10:43:25.577Z"
   },
   {
    "duration": 4785,
    "start_time": "2022-04-02T10:43:38.537Z"
   },
   {
    "duration": 883,
    "start_time": "2022-04-02T10:43:43.325Z"
   },
   {
    "duration": 5530,
    "start_time": "2022-04-02T10:43:44.211Z"
   },
   {
    "duration": 143,
    "start_time": "2022-04-02T10:43:49.743Z"
   },
   {
    "duration": 0,
    "start_time": "2022-04-02T10:43:49.888Z"
   },
   {
    "duration": 0,
    "start_time": "2022-04-02T10:43:49.891Z"
   },
   {
    "duration": 0,
    "start_time": "2022-04-02T10:43:49.893Z"
   },
   {
    "duration": 0,
    "start_time": "2022-04-02T10:43:49.894Z"
   },
   {
    "duration": 0,
    "start_time": "2022-04-02T10:43:49.897Z"
   },
   {
    "duration": 108,
    "start_time": "2022-04-02T10:44:22.486Z"
   },
   {
    "duration": 2095,
    "start_time": "2022-04-02T10:44:22.897Z"
   },
   {
    "duration": 501,
    "start_time": "2022-04-02T10:44:24.996Z"
   },
   {
    "duration": 7403,
    "start_time": "2022-04-02T10:44:25.500Z"
   },
   {
    "duration": 117,
    "start_time": "2022-04-02T10:44:32.906Z"
   },
   {
    "duration": 18340,
    "start_time": "2022-04-02T10:44:33.084Z"
   },
   {
    "duration": 16,
    "start_time": "2022-04-02T10:45:42.481Z"
   },
   {
    "duration": 29,
    "start_time": "2022-04-02T10:46:02.722Z"
   },
   {
    "duration": 27,
    "start_time": "2022-04-02T10:46:09.021Z"
   },
   {
    "duration": 9233,
    "start_time": "2022-04-02T10:46:16.073Z"
   },
   {
    "duration": 12837,
    "start_time": "2022-04-02T10:46:38.282Z"
   },
   {
    "duration": 23101,
    "start_time": "2022-04-02T10:46:53.902Z"
   },
   {
    "duration": 1042,
    "start_time": "2022-04-02T10:48:33.159Z"
   },
   {
    "duration": 13,
    "start_time": "2022-04-02T10:51:41.162Z"
   },
   {
    "duration": 13,
    "start_time": "2022-04-02T10:54:26.172Z"
   },
   {
    "duration": 6611,
    "start_time": "2022-04-02T11:05:17.630Z"
   },
   {
    "duration": 278,
    "start_time": "2022-04-02T11:06:11.427Z"
   },
   {
    "duration": 143,
    "start_time": "2022-04-02T13:42:53.823Z"
   },
   {
    "duration": 739,
    "start_time": "2022-04-02T13:42:59.376Z"
   },
   {
    "duration": 19170,
    "start_time": "2022-04-02T13:43:00.118Z"
   },
   {
    "duration": 11202,
    "start_time": "2022-04-02T13:43:19.291Z"
   },
   {
    "duration": 1017,
    "start_time": "2022-04-02T13:43:30.495Z"
   },
   {
    "duration": 6,
    "start_time": "2022-04-02T13:43:31.584Z"
   },
   {
    "duration": 6293,
    "start_time": "2022-04-02T13:43:31.592Z"
   },
   {
    "duration": 5314,
    "start_time": "2022-04-02T13:43:37.888Z"
   },
   {
    "duration": 1593,
    "start_time": "2022-04-02T13:43:43.204Z"
   },
   {
    "duration": 6,
    "start_time": "2022-04-02T13:43:44.800Z"
   },
   {
    "duration": 574,
    "start_time": "2022-04-02T13:43:44.811Z"
   },
   {
    "duration": 499,
    "start_time": "2022-04-02T13:43:45.388Z"
   },
   {
    "duration": 9799,
    "start_time": "2022-04-02T13:43:45.889Z"
   },
   {
    "duration": 7218,
    "start_time": "2022-04-02T13:43:55.690Z"
   },
   {
    "duration": 975,
    "start_time": "2022-04-02T13:44:02.910Z"
   },
   {
    "duration": 6583,
    "start_time": "2022-04-02T13:44:03.887Z"
   },
   {
    "duration": 123,
    "start_time": "2022-04-02T13:44:10.483Z"
   },
   {
    "duration": 2101,
    "start_time": "2022-04-02T13:44:10.609Z"
   },
   {
    "duration": 411,
    "start_time": "2022-04-02T13:44:12.712Z"
   },
   {
    "duration": 8412,
    "start_time": "2022-04-02T13:44:13.185Z"
   },
   {
    "duration": 199,
    "start_time": "2022-04-02T13:44:21.600Z"
   },
   {
    "duration": 409,
    "start_time": "2022-04-02T13:44:21.802Z"
   },
   {
    "duration": 0,
    "start_time": "2022-04-02T13:44:22.214Z"
   },
   {
    "duration": 0,
    "start_time": "2022-04-02T13:44:22.216Z"
   },
   {
    "duration": 1,
    "start_time": "2022-04-02T13:44:22.217Z"
   },
   {
    "duration": 0,
    "start_time": "2022-04-02T13:44:22.219Z"
   },
   {
    "duration": 0,
    "start_time": "2022-04-02T13:44:22.221Z"
   },
   {
    "duration": 0,
    "start_time": "2022-04-02T13:44:22.223Z"
   },
   {
    "duration": 0,
    "start_time": "2022-04-02T13:44:22.224Z"
   },
   {
    "duration": 0,
    "start_time": "2022-04-02T13:44:22.225Z"
   },
   {
    "duration": 1286,
    "start_time": "2022-04-02T13:53:47.921Z"
   },
   {
    "duration": 180,
    "start_time": "2022-04-02T13:54:05.393Z"
   },
   {
    "duration": 821,
    "start_time": "2022-04-02T13:54:05.677Z"
   },
   {
    "duration": 99,
    "start_time": "2022-04-02T13:54:06.501Z"
   },
   {
    "duration": 18086,
    "start_time": "2022-04-02T13:54:06.602Z"
   },
   {
    "duration": 405,
    "start_time": "2022-04-02T13:54:24.692Z"
   },
   {
    "duration": 0,
    "start_time": "2022-04-02T13:54:25.100Z"
   },
   {
    "duration": 694,
    "start_time": "2022-04-02T13:54:52.891Z"
   },
   {
    "duration": 18701,
    "start_time": "2022-04-02T13:54:53.588Z"
   },
   {
    "duration": 13210,
    "start_time": "2022-04-02T13:55:12.291Z"
   },
   {
    "duration": 1303,
    "start_time": "2022-04-02T13:55:25.505Z"
   },
   {
    "duration": 73,
    "start_time": "2022-04-02T13:55:26.810Z"
   },
   {
    "duration": 6608,
    "start_time": "2022-04-02T13:55:26.887Z"
   },
   {
    "duration": 5510,
    "start_time": "2022-04-02T13:55:33.498Z"
   },
   {
    "duration": 1493,
    "start_time": "2022-04-02T13:55:39.010Z"
   },
   {
    "duration": 8,
    "start_time": "2022-04-02T13:55:40.506Z"
   },
   {
    "duration": 588,
    "start_time": "2022-04-02T13:55:40.518Z"
   },
   {
    "duration": 499,
    "start_time": "2022-04-02T13:55:41.108Z"
   },
   {
    "duration": 12074,
    "start_time": "2022-04-02T13:55:41.610Z"
   },
   {
    "duration": 7361,
    "start_time": "2022-04-02T13:55:53.687Z"
   },
   {
    "duration": 1043,
    "start_time": "2022-04-02T13:56:01.051Z"
   },
   {
    "duration": 6828,
    "start_time": "2022-04-02T13:56:02.096Z"
   },
   {
    "duration": 85,
    "start_time": "2022-04-02T13:56:08.926Z"
   },
   {
    "duration": 1906,
    "start_time": "2022-04-02T13:56:09.013Z"
   },
   {
    "duration": 582,
    "start_time": "2022-04-02T13:56:10.921Z"
   },
   {
    "duration": 8405,
    "start_time": "2022-04-02T13:56:11.506Z"
   },
   {
    "duration": 180,
    "start_time": "2022-04-02T13:56:19.914Z"
   },
   {
    "duration": 4,
    "start_time": "2022-04-02T13:56:20.097Z"
   },
   {
    "duration": 165,
    "start_time": "2022-04-02T13:56:20.103Z"
   },
   {
    "duration": 0,
    "start_time": "2022-04-02T13:56:20.271Z"
   },
   {
    "duration": 0,
    "start_time": "2022-04-02T13:56:20.273Z"
   },
   {
    "duration": 1,
    "start_time": "2022-04-02T13:56:20.274Z"
   },
   {
    "duration": 0,
    "start_time": "2022-04-02T13:56:20.276Z"
   },
   {
    "duration": 0,
    "start_time": "2022-04-02T13:56:20.278Z"
   },
   {
    "duration": 0,
    "start_time": "2022-04-02T13:56:20.279Z"
   },
   {
    "duration": 0,
    "start_time": "2022-04-02T13:56:20.281Z"
   },
   {
    "duration": 303,
    "start_time": "2022-04-02T14:09:17.822Z"
   },
   {
    "duration": 34,
    "start_time": "2022-04-02T14:09:34.652Z"
   },
   {
    "duration": 1485,
    "start_time": "2022-04-02T14:09:36.199Z"
   },
   {
    "duration": 35,
    "start_time": "2022-04-02T14:09:46.494Z"
   },
   {
    "duration": 25151,
    "start_time": "2022-04-02T14:09:46.741Z"
   },
   {
    "duration": 29899,
    "start_time": "2022-04-02T14:10:11.895Z"
   },
   {
    "duration": 1409,
    "start_time": "2022-04-02T14:10:41.796Z"
   },
   {
    "duration": 9031,
    "start_time": "2022-04-02T14:12:35.591Z"
   },
   {
    "duration": 412,
    "start_time": "2022-04-02T14:12:44.684Z"
   },
   {
    "duration": 38,
    "start_time": "2022-04-02T14:20:48.471Z"
   },
   {
    "duration": 33,
    "start_time": "2022-04-02T14:21:10.628Z"
   },
   {
    "duration": 21,
    "start_time": "2022-04-02T14:22:16.491Z"
   },
   {
    "duration": 12969,
    "start_time": "2022-04-02T14:22:16.715Z"
   },
   {
    "duration": 18661,
    "start_time": "2022-04-02T14:22:29.687Z"
   },
   {
    "duration": 787,
    "start_time": "2022-04-02T14:22:48.350Z"
   },
   {
    "duration": 803,
    "start_time": "2022-04-02T14:23:21.527Z"
   },
   {
    "duration": 6699,
    "start_time": "2022-04-02T14:23:54.043Z"
   },
   {
    "duration": 113,
    "start_time": "2022-04-02T14:24:00.785Z"
   },
   {
    "duration": 9,
    "start_time": "2022-04-02T16:00:00.747Z"
   },
   {
    "duration": 774,
    "start_time": "2022-04-02T16:00:14.138Z"
   },
   {
    "duration": 23512,
    "start_time": "2022-04-02T17:32:06.880Z"
   },
   {
    "duration": 690,
    "start_time": "2022-04-02T17:33:00.362Z"
   },
   {
    "duration": 6337,
    "start_time": "2022-04-02T17:33:08.765Z"
   },
   {
    "duration": 104,
    "start_time": "2022-04-02T17:33:15.105Z"
   },
   {
    "duration": 183,
    "start_time": "2022-04-02T17:34:01.453Z"
   },
   {
    "duration": 18484,
    "start_time": "2022-04-02T17:35:05.817Z"
   },
   {
    "duration": 295,
    "start_time": "2022-04-02T17:36:05.998Z"
   },
   {
    "duration": 18823,
    "start_time": "2022-04-02T17:36:19.386Z"
   },
   {
    "duration": 531,
    "start_time": "2022-04-02T17:37:03.309Z"
   },
   {
    "duration": 7242,
    "start_time": "2022-04-02T17:37:11.486Z"
   },
   {
    "duration": 158,
    "start_time": "2022-04-02T17:37:18.730Z"
   },
   {
    "duration": 132,
    "start_time": "2022-04-02T17:37:56.742Z"
   },
   {
    "duration": 18875,
    "start_time": "2022-04-02T17:37:59.819Z"
   },
   {
    "duration": 535,
    "start_time": "2022-04-02T17:38:33.022Z"
   },
   {
    "duration": 17312,
    "start_time": "2022-04-02T17:38:36.482Z"
   },
   {
    "duration": 759,
    "start_time": "2022-04-02T17:39:10.095Z"
   },
   {
    "duration": 17868,
    "start_time": "2022-04-02T17:39:16.022Z"
   },
   {
    "duration": 936,
    "start_time": "2022-04-02T17:39:46.482Z"
   },
   {
    "duration": 16548,
    "start_time": "2022-04-02T17:40:20.849Z"
   },
   {
    "duration": 860,
    "start_time": "2022-04-02T17:40:41.954Z"
   },
   {
    "duration": 5774,
    "start_time": "2022-04-02T17:40:51.166Z"
   },
   {
    "duration": 159,
    "start_time": "2022-04-02T17:40:56.942Z"
   },
   {
    "duration": 5202,
    "start_time": "2022-04-02T17:41:22.098Z"
   },
   {
    "duration": 150,
    "start_time": "2022-04-02T17:41:27.303Z"
   },
   {
    "duration": 18715,
    "start_time": "2022-04-02T17:45:51.394Z"
   },
   {
    "duration": 424,
    "start_time": "2022-04-02T17:46:56.974Z"
   },
   {
    "duration": 5313,
    "start_time": "2022-04-02T17:47:01.474Z"
   },
   {
    "duration": 200,
    "start_time": "2022-04-02T17:47:06.790Z"
   },
   {
    "duration": 15841,
    "start_time": "2022-04-02T17:47:28.410Z"
   },
   {
    "duration": 436,
    "start_time": "2022-04-02T17:48:16.469Z"
   },
   {
    "duration": 463,
    "start_time": "2022-04-03T12:59:56.110Z"
   },
   {
    "duration": 13921,
    "start_time": "2022-04-03T12:59:56.575Z"
   },
   {
    "duration": 7575,
    "start_time": "2022-04-03T13:00:10.498Z"
   },
   {
    "duration": 704,
    "start_time": "2022-04-03T13:00:18.075Z"
   },
   {
    "duration": 4,
    "start_time": "2022-04-03T13:00:18.781Z"
   },
   {
    "duration": 3887,
    "start_time": "2022-04-03T13:00:18.787Z"
   },
   {
    "duration": 3634,
    "start_time": "2022-04-03T13:00:22.676Z"
   },
   {
    "duration": 391,
    "start_time": "2022-04-03T13:00:26.312Z"
   },
   {
    "duration": 7890,
    "start_time": "2022-04-03T13:00:26.705Z"
   },
   {
    "duration": 4980,
    "start_time": "2022-04-03T13:00:34.597Z"
   },
   {
    "duration": 4491,
    "start_time": "2022-04-03T13:00:39.579Z"
   },
   {
    "duration": 104,
    "start_time": "2022-04-03T13:00:44.071Z"
   },
   {
    "duration": 1302,
    "start_time": "2022-04-03T13:00:44.177Z"
   },
   {
    "duration": 310,
    "start_time": "2022-04-03T13:00:45.481Z"
   },
   {
    "duration": 6975,
    "start_time": "2022-04-03T13:00:45.792Z"
   },
   {
    "duration": 197,
    "start_time": "2022-04-03T13:00:52.769Z"
   },
   {
    "duration": 7679,
    "start_time": "2022-04-03T13:00:52.968Z"
   },
   {
    "duration": 4,
    "start_time": "2022-04-03T13:54:11.940Z"
   },
   {
    "duration": 5,
    "start_time": "2022-04-03T13:54:11.948Z"
   },
   {
    "duration": 530,
    "start_time": "2022-04-03T13:54:11.955Z"
   },
   {
    "duration": 181,
    "start_time": "2022-04-03T13:54:12.488Z"
   },
   {
    "duration": 4,
    "start_time": "2022-04-03T13:54:12.672Z"
   },
   {
    "duration": 1252,
    "start_time": "2022-04-03T13:54:12.679Z"
   },
   {
    "duration": 1783,
    "start_time": "2022-04-03T13:54:13.933Z"
   },
   {
    "duration": 214,
    "start_time": "2022-04-03T13:54:15.718Z"
   },
   {
    "duration": 3772,
    "start_time": "2022-04-03T13:54:15.934Z"
   },
   {
    "duration": 3068,
    "start_time": "2022-04-03T13:54:19.707Z"
   },
   {
    "duration": 3203,
    "start_time": "2022-04-03T13:54:22.777Z"
   },
   {
    "duration": 32,
    "start_time": "2022-04-03T13:54:25.982Z"
   },
   {
    "duration": 467,
    "start_time": "2022-04-03T13:54:26.016Z"
   },
   {
    "duration": 103,
    "start_time": "2022-04-03T13:54:26.484Z"
   },
   {
    "duration": 4696,
    "start_time": "2022-04-03T13:54:26.589Z"
   },
   {
    "duration": 81,
    "start_time": "2022-04-03T13:54:31.287Z"
   },
   {
    "duration": 29,
    "start_time": "2022-04-03T13:54:31.370Z"
   },
   {
    "duration": 88,
    "start_time": "2022-04-03T13:54:31.401Z"
   },
   {
    "duration": 712,
    "start_time": "2022-04-03T13:54:31.491Z"
   },
   {
    "duration": 78,
    "start_time": "2022-04-03T13:54:32.205Z"
   },
   {
    "duration": 11682,
    "start_time": "2022-04-03T13:54:32.284Z"
   },
   {
    "duration": 19017,
    "start_time": "2022-04-03T13:54:43.967Z"
   },
   {
    "duration": 188,
    "start_time": "2022-04-03T13:55:02.985Z"
   },
   {
    "duration": 6,
    "start_time": "2022-04-03T13:56:18.829Z"
   },
   {
    "duration": 15,
    "start_time": "2022-04-03T13:56:27.215Z"
   },
   {
    "duration": 4,
    "start_time": "2022-04-03T14:04:02.614Z"
   },
   {
    "duration": 5,
    "start_time": "2022-04-03T14:04:18.956Z"
   },
   {
    "duration": 5,
    "start_time": "2022-04-03T14:04:27.724Z"
   },
   {
    "duration": 5,
    "start_time": "2022-04-03T14:04:54.987Z"
   },
   {
    "duration": 4,
    "start_time": "2022-04-03T14:05:10.528Z"
   },
   {
    "duration": 61,
    "start_time": "2022-04-03T14:05:46.669Z"
   },
   {
    "duration": 6866,
    "start_time": "2022-04-03T14:06:12.833Z"
   },
   {
    "duration": 6124,
    "start_time": "2022-04-03T14:07:32.450Z"
   },
   {
    "duration": 6,
    "start_time": "2022-04-03T14:07:44.280Z"
   },
   {
    "duration": 8,
    "start_time": "2022-04-03T14:07:50.804Z"
   },
   {
    "duration": 21,
    "start_time": "2022-04-03T14:08:28.409Z"
   },
   {
    "duration": 4,
    "start_time": "2022-04-03T14:08:43.720Z"
   },
   {
    "duration": 6,
    "start_time": "2022-04-03T14:09:07.095Z"
   },
   {
    "duration": 12,
    "start_time": "2022-04-03T14:10:13.297Z"
   },
   {
    "duration": 9,
    "start_time": "2022-04-03T14:10:19.967Z"
   },
   {
    "duration": 4,
    "start_time": "2022-04-03T14:10:34.936Z"
   },
   {
    "duration": 4,
    "start_time": "2022-04-03T14:10:41.113Z"
   },
   {
    "duration": 30,
    "start_time": "2022-04-03T14:12:17.467Z"
   },
   {
    "duration": 36,
    "start_time": "2022-04-03T14:12:47.389Z"
   },
   {
    "duration": 34,
    "start_time": "2022-04-03T14:12:50.189Z"
   },
   {
    "duration": 3164,
    "start_time": "2022-04-03T14:13:02.331Z"
   },
   {
    "duration": 2882,
    "start_time": "2022-04-03T14:13:17.461Z"
   },
   {
    "duration": 5,
    "start_time": "2022-04-03T14:13:29.910Z"
   },
   {
    "duration": 2639,
    "start_time": "2022-04-03T14:13:36.188Z"
   },
   {
    "duration": 3,
    "start_time": "2022-04-03T14:13:56.610Z"
   },
   {
    "duration": 6,
    "start_time": "2022-04-03T14:13:56.617Z"
   },
   {
    "duration": 239,
    "start_time": "2022-04-03T14:13:56.629Z"
   },
   {
    "duration": 140,
    "start_time": "2022-04-03T14:13:56.870Z"
   },
   {
    "duration": 4,
    "start_time": "2022-04-03T14:13:57.012Z"
   },
   {
    "duration": 1044,
    "start_time": "2022-04-03T14:13:57.062Z"
   },
   {
    "duration": 1159,
    "start_time": "2022-04-03T14:13:58.164Z"
   },
   {
    "duration": 160,
    "start_time": "2022-04-03T14:13:59.325Z"
   },
   {
    "duration": 2086,
    "start_time": "2022-04-03T14:13:59.487Z"
   },
   {
    "duration": 1968,
    "start_time": "2022-04-03T14:14:01.575Z"
   },
   {
    "duration": 2785,
    "start_time": "2022-04-03T14:14:03.563Z"
   },
   {
    "duration": 38,
    "start_time": "2022-04-03T14:14:06.350Z"
   },
   {
    "duration": 4,
    "start_time": "2022-04-03T14:14:23.806Z"
   },
   {
    "duration": 5525,
    "start_time": "2022-04-03T14:14:33.296Z"
   },
   {
    "duration": 10,
    "start_time": "2022-04-03T14:14:38.863Z"
   },
   {
    "duration": 793,
    "start_time": "2022-04-03T14:15:22.201Z"
   },
   {
    "duration": 1002,
    "start_time": "2022-04-03T14:15:23.724Z"
   },
   {
    "duration": 780,
    "start_time": "2022-04-03T14:16:06.670Z"
   },
   {
    "duration": 845,
    "start_time": "2022-04-03T14:16:13.846Z"
   },
   {
    "duration": 507,
    "start_time": "2022-04-03T14:38:06.062Z"
   },
   {
    "duration": 14496,
    "start_time": "2022-04-03T14:38:06.571Z"
   },
   {
    "duration": 7514,
    "start_time": "2022-04-03T14:38:21.069Z"
   },
   {
    "duration": 709,
    "start_time": "2022-04-03T14:38:28.585Z"
   },
   {
    "duration": 70,
    "start_time": "2022-04-03T14:38:29.297Z"
   },
   {
    "duration": 5100,
    "start_time": "2022-04-03T14:38:29.369Z"
   },
   {
    "duration": 4604,
    "start_time": "2022-04-03T14:38:34.471Z"
   },
   {
    "duration": 424,
    "start_time": "2022-04-03T14:38:39.076Z"
   },
   {
    "duration": 7191,
    "start_time": "2022-04-03T14:38:39.502Z"
   },
   {
    "duration": 4700,
    "start_time": "2022-04-03T14:38:46.696Z"
   },
   {
    "duration": 4795,
    "start_time": "2022-04-03T14:38:51.398Z"
   },
   {
    "duration": 89,
    "start_time": "2022-04-03T14:38:56.194Z"
   },
   {
    "duration": 1218,
    "start_time": "2022-04-03T14:38:56.285Z"
   },
   {
    "duration": 322,
    "start_time": "2022-04-03T14:38:57.564Z"
   },
   {
    "duration": 6386,
    "start_time": "2022-04-03T14:38:57.888Z"
   },
   {
    "duration": 126,
    "start_time": "2022-04-03T14:39:04.276Z"
   },
   {
    "duration": 82,
    "start_time": "2022-04-03T14:39:04.404Z"
   },
   {
    "duration": 94,
    "start_time": "2022-04-03T14:39:04.488Z"
   },
   {
    "duration": 879,
    "start_time": "2022-04-03T14:39:04.584Z"
   },
   {
    "duration": 22,
    "start_time": "2022-04-03T14:39:05.465Z"
   },
   {
    "duration": 17407,
    "start_time": "2022-04-03T14:39:05.488Z"
   },
   {
    "duration": 21389,
    "start_time": "2022-04-03T14:39:22.897Z"
   },
   {
    "duration": 1276,
    "start_time": "2022-04-03T14:39:44.288Z"
   },
   {
    "duration": 23,
    "start_time": "2022-04-03T14:39:45.567Z"
   },
   {
    "duration": 86,
    "start_time": "2022-04-03T14:39:45.592Z"
   },
   {
    "duration": 11335,
    "start_time": "2022-04-03T14:39:45.680Z"
   },
   {
    "duration": 14146,
    "start_time": "2022-04-03T14:39:57.064Z"
   },
   {
    "duration": 495,
    "start_time": "2022-04-03T14:40:11.213Z"
   },
   {
    "duration": 4710,
    "start_time": "2022-04-03T14:40:11.709Z"
   },
   {
    "duration": 270,
    "start_time": "2022-04-03T14:40:16.420Z"
   },
   {
    "duration": 4028,
    "start_time": "2022-04-03T14:40:16.763Z"
   },
   {
    "duration": 111,
    "start_time": "2022-04-03T14:40:20.793Z"
   },
   {
    "duration": 480,
    "start_time": "2022-04-03T17:39:00.215Z"
   },
   {
    "duration": 14429,
    "start_time": "2022-04-03T17:39:00.697Z"
   },
   {
    "duration": 7405,
    "start_time": "2022-04-03T17:39:15.180Z"
   },
   {
    "duration": 723,
    "start_time": "2022-04-03T17:39:22.588Z"
   },
   {
    "duration": 67,
    "start_time": "2022-04-03T17:39:23.314Z"
   },
   {
    "duration": 3813,
    "start_time": "2022-04-03T17:39:23.383Z"
   },
   {
    "duration": 3694,
    "start_time": "2022-04-03T17:39:27.198Z"
   },
   {
    "duration": 488,
    "start_time": "2022-04-03T17:39:30.894Z"
   },
   {
    "duration": 6798,
    "start_time": "2022-04-03T17:39:31.384Z"
   },
   {
    "duration": 4635,
    "start_time": "2022-04-03T17:39:38.185Z"
   },
   {
    "duration": 3867,
    "start_time": "2022-04-03T17:39:42.821Z"
   },
   {
    "duration": 110,
    "start_time": "2022-04-03T17:39:46.689Z"
   },
   {
    "duration": 1297,
    "start_time": "2022-04-03T17:39:46.800Z"
   },
   {
    "duration": 289,
    "start_time": "2022-04-03T17:39:48.098Z"
   },
   {
    "duration": 5150,
    "start_time": "2022-04-03T17:39:48.389Z"
   },
   {
    "duration": 204,
    "start_time": "2022-04-03T17:39:53.540Z"
   },
   {
    "duration": 0,
    "start_time": "2022-04-03T17:39:53.746Z"
   },
   {
    "duration": 0,
    "start_time": "2022-04-03T17:39:53.747Z"
   },
   {
    "duration": 0,
    "start_time": "2022-04-03T17:39:53.748Z"
   },
   {
    "duration": 0,
    "start_time": "2022-04-03T17:39:53.749Z"
   },
   {
    "duration": 0,
    "start_time": "2022-04-03T17:39:53.750Z"
   },
   {
    "duration": 0,
    "start_time": "2022-04-03T17:39:53.751Z"
   },
   {
    "duration": 0,
    "start_time": "2022-04-03T17:39:53.781Z"
   },
   {
    "duration": 0,
    "start_time": "2022-04-03T17:39:53.782Z"
   },
   {
    "duration": 0,
    "start_time": "2022-04-03T17:39:53.783Z"
   },
   {
    "duration": 0,
    "start_time": "2022-04-03T17:39:53.784Z"
   },
   {
    "duration": 0,
    "start_time": "2022-04-03T17:39:53.785Z"
   },
   {
    "duration": 0,
    "start_time": "2022-04-03T17:39:53.786Z"
   },
   {
    "duration": 0,
    "start_time": "2022-04-03T17:39:53.787Z"
   },
   {
    "duration": 0,
    "start_time": "2022-04-03T17:39:53.788Z"
   },
   {
    "duration": 0,
    "start_time": "2022-04-03T17:39:53.789Z"
   },
   {
    "duration": 0,
    "start_time": "2022-04-03T17:39:53.790Z"
   },
   {
    "duration": 4,
    "start_time": "2022-04-03T17:41:00.212Z"
   },
   {
    "duration": 502,
    "start_time": "2022-04-03T17:50:48.976Z"
   },
   {
    "duration": 14419,
    "start_time": "2022-04-03T17:50:49.480Z"
   },
   {
    "duration": 7393,
    "start_time": "2022-04-03T17:51:03.901Z"
   },
   {
    "duration": 694,
    "start_time": "2022-04-03T17:51:11.296Z"
   },
   {
    "duration": 5,
    "start_time": "2022-04-03T17:51:11.993Z"
   },
   {
    "duration": 4904,
    "start_time": "2022-04-03T17:51:12.000Z"
   },
   {
    "duration": 4017,
    "start_time": "2022-04-03T17:51:16.906Z"
   },
   {
    "duration": 561,
    "start_time": "2022-04-03T17:51:20.925Z"
   },
   {
    "duration": 6930,
    "start_time": "2022-04-03T17:51:21.488Z"
   },
   {
    "duration": 4893,
    "start_time": "2022-04-03T17:51:28.419Z"
   },
   {
    "duration": 4580,
    "start_time": "2022-04-03T17:51:33.314Z"
   },
   {
    "duration": 110,
    "start_time": "2022-04-03T17:51:37.896Z"
   },
   {
    "duration": 1291,
    "start_time": "2022-04-03T17:51:38.008Z"
   },
   {
    "duration": 308,
    "start_time": "2022-04-03T17:51:39.303Z"
   },
   {
    "duration": 5497,
    "start_time": "2022-04-03T17:51:39.613Z"
   },
   {
    "duration": 5791,
    "start_time": "2022-04-03T17:51:45.112Z"
   },
   {
    "duration": 4610,
    "start_time": "2022-04-03T17:51:50.906Z"
   },
   {
    "duration": 85,
    "start_time": "2022-04-03T17:51:55.518Z"
   },
   {
    "duration": 516,
    "start_time": "2022-04-03T17:51:55.605Z"
   },
   {
    "duration": 19,
    "start_time": "2022-04-03T17:51:56.182Z"
   },
   {
    "duration": 12794,
    "start_time": "2022-04-03T17:51:56.204Z"
   },
   {
    "duration": 19801,
    "start_time": "2022-04-03T17:52:09.000Z"
   },
   {
    "duration": 882,
    "start_time": "2022-04-03T17:52:28.803Z"
   },
   {
    "duration": 20,
    "start_time": "2022-04-03T17:52:29.688Z"
   },
   {
    "duration": 75,
    "start_time": "2022-04-03T17:52:29.709Z"
   },
   {
    "duration": 9538,
    "start_time": "2022-04-03T17:52:29.786Z"
   },
   {
    "duration": 12472,
    "start_time": "2022-04-03T17:52:39.326Z"
   },
   {
    "duration": 637,
    "start_time": "2022-04-03T17:52:51.800Z"
   },
   {
    "duration": 5308,
    "start_time": "2022-04-03T17:52:52.439Z"
   },
   {
    "duration": 336,
    "start_time": "2022-04-03T17:52:57.749Z"
   },
   {
    "duration": 4127,
    "start_time": "2022-04-03T17:52:58.087Z"
   },
   {
    "duration": 170,
    "start_time": "2022-04-03T17:53:02.216Z"
   },
   {
    "duration": 7,
    "start_time": "2022-04-03T17:53:32.372Z"
   },
   {
    "duration": 419,
    "start_time": "2022-04-03T17:53:37.988Z"
   },
   {
    "duration": 552,
    "start_time": "2022-04-03T17:54:10.972Z"
   },
   {
    "duration": 509,
    "start_time": "2022-04-03T17:55:20.457Z"
   },
   {
    "duration": 13848,
    "start_time": "2022-04-03T17:55:20.968Z"
   },
   {
    "duration": 6978,
    "start_time": "2022-04-03T17:55:34.818Z"
   },
   {
    "duration": 688,
    "start_time": "2022-04-03T17:55:41.798Z"
   },
   {
    "duration": 5,
    "start_time": "2022-04-03T17:55:42.487Z"
   },
   {
    "duration": 3808,
    "start_time": "2022-04-03T17:55:42.494Z"
   },
   {
    "duration": 3793,
    "start_time": "2022-04-03T17:55:46.303Z"
   },
   {
    "duration": 320,
    "start_time": "2022-04-03T17:55:50.098Z"
   },
   {
    "duration": 6787,
    "start_time": "2022-04-03T17:55:50.420Z"
   },
   {
    "duration": 4510,
    "start_time": "2022-04-03T17:55:57.211Z"
   },
   {
    "duration": 4474,
    "start_time": "2022-04-03T17:56:01.723Z"
   },
   {
    "duration": 106,
    "start_time": "2022-04-03T17:56:06.198Z"
   },
   {
    "duration": 1306,
    "start_time": "2022-04-03T17:56:06.306Z"
   },
   {
    "duration": 375,
    "start_time": "2022-04-03T17:56:07.614Z"
   },
   {
    "duration": 6219,
    "start_time": "2022-04-03T17:56:07.990Z"
   },
   {
    "duration": 5997,
    "start_time": "2022-04-03T17:56:14.211Z"
   },
   {
    "duration": 5470,
    "start_time": "2022-04-03T17:56:20.210Z"
   },
   {
    "duration": 160,
    "start_time": "2022-04-03T17:56:25.682Z"
   },
   {
    "duration": 0,
    "start_time": "2022-04-03T17:56:25.844Z"
   },
   {
    "duration": 0,
    "start_time": "2022-04-03T17:56:25.849Z"
   },
   {
    "duration": 0,
    "start_time": "2022-04-03T17:56:25.851Z"
   },
   {
    "duration": 0,
    "start_time": "2022-04-03T17:56:25.852Z"
   },
   {
    "duration": 0,
    "start_time": "2022-04-03T17:56:25.882Z"
   },
   {
    "duration": 0,
    "start_time": "2022-04-03T17:56:25.883Z"
   },
   {
    "duration": 0,
    "start_time": "2022-04-03T17:56:25.885Z"
   },
   {
    "duration": 0,
    "start_time": "2022-04-03T17:56:25.886Z"
   },
   {
    "duration": 1,
    "start_time": "2022-04-03T17:56:25.887Z"
   },
   {
    "duration": 0,
    "start_time": "2022-04-03T17:56:25.889Z"
   },
   {
    "duration": 0,
    "start_time": "2022-04-03T17:56:25.891Z"
   },
   {
    "duration": 0,
    "start_time": "2022-04-03T17:56:25.892Z"
   },
   {
    "duration": 0,
    "start_time": "2022-04-03T17:56:25.893Z"
   },
   {
    "duration": 0,
    "start_time": "2022-04-03T17:56:25.895Z"
   },
   {
    "duration": 793,
    "start_time": "2022-04-03T17:57:02.021Z"
   },
   {
    "duration": 22,
    "start_time": "2022-04-03T17:57:10.841Z"
   },
   {
    "duration": 657,
    "start_time": "2022-04-03T17:57:20.657Z"
   },
   {
    "duration": 20,
    "start_time": "2022-04-03T17:59:48.585Z"
   },
   {
    "duration": 14048,
    "start_time": "2022-04-03T17:59:48.761Z"
   },
   {
    "duration": 18397,
    "start_time": "2022-04-03T18:00:02.811Z"
   },
   {
    "duration": 1011,
    "start_time": "2022-04-03T18:00:21.210Z"
   },
   {
    "duration": 78,
    "start_time": "2022-04-03T18:00:22.223Z"
   },
   {
    "duration": 11,
    "start_time": "2022-04-03T18:00:22.303Z"
   },
   {
    "duration": 8000,
    "start_time": "2022-04-03T18:00:22.316Z"
   },
   {
    "duration": 12422,
    "start_time": "2022-04-03T18:00:30.317Z"
   },
   {
    "duration": 699,
    "start_time": "2022-04-03T18:00:42.740Z"
   },
   {
    "duration": 4800,
    "start_time": "2022-04-03T18:00:43.440Z"
   },
   {
    "duration": 306,
    "start_time": "2022-04-03T18:00:48.282Z"
   },
   {
    "duration": 4232,
    "start_time": "2022-04-03T18:00:48.589Z"
   },
   {
    "duration": 112,
    "start_time": "2022-04-03T18:00:52.882Z"
   },
   {
    "duration": 11428,
    "start_time": "2022-04-03T18:24:27.575Z"
   },
   {
    "duration": 11082,
    "start_time": "2022-04-03T18:24:39.005Z"
   },
   {
    "duration": 3618,
    "start_time": "2022-04-03T18:24:50.089Z"
   },
   {
    "duration": 175,
    "start_time": "2022-04-03T18:24:53.709Z"
   },
   {
    "duration": 3217,
    "start_time": "2022-04-03T18:24:53.886Z"
   },
   {
    "duration": 90,
    "start_time": "2022-04-03T18:24:57.105Z"
   },
   {
    "duration": 530,
    "start_time": "2022-04-03T18:25:51.033Z"
   },
   {
    "duration": 15440,
    "start_time": "2022-04-03T18:25:51.565Z"
   },
   {
    "duration": 8287,
    "start_time": "2022-04-03T18:26:07.007Z"
   },
   {
    "duration": 900,
    "start_time": "2022-04-03T18:26:15.296Z"
   },
   {
    "duration": 5,
    "start_time": "2022-04-03T18:26:16.198Z"
   },
   {
    "duration": 4411,
    "start_time": "2022-04-03T18:26:16.205Z"
   },
   {
    "duration": 3895,
    "start_time": "2022-04-03T18:26:20.618Z"
   },
   {
    "duration": 407,
    "start_time": "2022-04-03T18:26:24.516Z"
   },
   {
    "duration": 8070,
    "start_time": "2022-04-03T18:26:24.925Z"
   },
   {
    "duration": 5185,
    "start_time": "2022-04-03T18:26:32.998Z"
   },
   {
    "duration": 5034,
    "start_time": "2022-04-03T18:26:38.185Z"
   },
   {
    "duration": 174,
    "start_time": "2022-04-03T18:26:43.222Z"
   },
   {
    "duration": 1196,
    "start_time": "2022-04-03T18:26:43.398Z"
   },
   {
    "duration": 225,
    "start_time": "2022-04-03T18:26:44.595Z"
   },
   {
    "duration": 6546,
    "start_time": "2022-04-03T18:26:44.823Z"
   },
   {
    "duration": 5910,
    "start_time": "2022-04-03T18:26:51.371Z"
   },
   {
    "duration": 4998,
    "start_time": "2022-04-03T18:26:57.284Z"
   },
   {
    "duration": 98,
    "start_time": "2022-04-03T18:27:02.285Z"
   },
   {
    "duration": 896,
    "start_time": "2022-04-03T18:27:02.385Z"
   },
   {
    "duration": 19,
    "start_time": "2022-04-03T18:27:03.283Z"
   },
   {
    "duration": 15679,
    "start_time": "2022-04-03T18:27:03.303Z"
   },
   {
    "duration": 22402,
    "start_time": "2022-04-03T18:27:18.984Z"
   },
   {
    "duration": 908,
    "start_time": "2022-04-03T18:27:41.388Z"
   },
   {
    "duration": 22,
    "start_time": "2022-04-03T18:27:42.298Z"
   },
   {
    "duration": 417,
    "start_time": "2022-04-03T18:27:42.382Z"
   },
   {
    "duration": 11,
    "start_time": "2022-04-03T18:27:42.801Z"
   },
   {
    "duration": 9307,
    "start_time": "2022-04-03T18:27:42.813Z"
   },
   {
    "duration": 12391,
    "start_time": "2022-04-03T18:27:52.124Z"
   },
   {
    "duration": 769,
    "start_time": "2022-04-03T18:28:04.516Z"
   },
   {
    "duration": 5006,
    "start_time": "2022-04-03T18:28:05.287Z"
   },
   {
    "duration": 294,
    "start_time": "2022-04-03T18:28:10.295Z"
   },
   {
    "duration": 4220,
    "start_time": "2022-04-03T18:28:10.591Z"
   },
   {
    "duration": 104,
    "start_time": "2022-04-03T18:28:14.813Z"
   },
   {
    "duration": 542,
    "start_time": "2022-04-03T19:41:45.933Z"
   },
   {
    "duration": 15099,
    "start_time": "2022-04-03T19:41:46.477Z"
   },
   {
    "duration": 8095,
    "start_time": "2022-04-03T19:42:01.578Z"
   },
   {
    "duration": 714,
    "start_time": "2022-04-03T19:42:09.675Z"
   },
   {
    "duration": 4,
    "start_time": "2022-04-03T19:42:10.390Z"
   },
   {
    "duration": 3932,
    "start_time": "2022-04-03T19:42:10.463Z"
   },
   {
    "duration": 3969,
    "start_time": "2022-04-03T19:42:14.397Z"
   },
   {
    "duration": 422,
    "start_time": "2022-04-03T19:42:18.367Z"
   },
   {
    "duration": 7881,
    "start_time": "2022-04-03T19:42:18.791Z"
   },
   {
    "duration": 5294,
    "start_time": "2022-04-03T19:42:26.675Z"
   },
   {
    "duration": 4628,
    "start_time": "2022-04-03T19:42:31.971Z"
   },
   {
    "duration": 170,
    "start_time": "2022-04-03T19:42:36.601Z"
   },
   {
    "duration": 1302,
    "start_time": "2022-04-03T19:42:36.773Z"
   },
   {
    "duration": 228,
    "start_time": "2022-04-03T19:42:38.076Z"
   },
   {
    "duration": 6358,
    "start_time": "2022-04-03T19:42:38.306Z"
   },
   {
    "duration": 6621,
    "start_time": "2022-04-03T19:42:44.666Z"
   },
   {
    "duration": 6405,
    "start_time": "2022-04-03T19:42:51.289Z"
   },
   {
    "duration": 90,
    "start_time": "2022-04-03T19:42:57.696Z"
   },
   {
    "duration": 1015,
    "start_time": "2022-04-03T19:42:57.787Z"
   },
   {
    "duration": 22,
    "start_time": "2022-04-03T19:42:58.863Z"
   },
   {
    "duration": 16091,
    "start_time": "2022-04-03T19:42:58.887Z"
   },
   {
    "duration": 19094,
    "start_time": "2022-04-03T19:43:14.980Z"
   },
   {
    "duration": 805,
    "start_time": "2022-04-03T19:43:34.076Z"
   },
   {
    "duration": 21,
    "start_time": "2022-04-03T19:43:34.883Z"
   },
   {
    "duration": 460,
    "start_time": "2022-04-03T19:43:34.905Z"
   },
   {
    "duration": 11,
    "start_time": "2022-04-03T19:43:35.367Z"
   },
   {
    "duration": 9193,
    "start_time": "2022-04-03T19:43:35.380Z"
   },
   {
    "duration": 14306,
    "start_time": "2022-04-03T19:43:44.576Z"
   },
   {
    "duration": 806,
    "start_time": "2022-04-03T19:43:58.883Z"
   },
   {
    "duration": 5798,
    "start_time": "2022-04-03T19:43:59.690Z"
   },
   {
    "duration": 391,
    "start_time": "2022-04-03T19:44:05.490Z"
   },
   {
    "duration": 4532,
    "start_time": "2022-04-03T19:44:05.883Z"
   },
   {
    "duration": 124,
    "start_time": "2022-04-03T19:44:10.466Z"
   },
   {
    "duration": 3,
    "start_time": "2022-04-03T19:47:38.355Z"
   },
   {
    "duration": 7,
    "start_time": "2022-04-03T19:47:38.361Z"
   },
   {
    "duration": 413,
    "start_time": "2022-04-03T19:47:38.370Z"
   },
   {
    "duration": 124,
    "start_time": "2022-04-03T19:47:38.785Z"
   },
   {
    "duration": 52,
    "start_time": "2022-04-03T19:47:38.912Z"
   },
   {
    "duration": 1109,
    "start_time": "2022-04-03T19:47:38.966Z"
   },
   {
    "duration": 1496,
    "start_time": "2022-04-03T19:47:40.076Z"
   },
   {
    "duration": 190,
    "start_time": "2022-04-03T19:47:41.574Z"
   },
   {
    "duration": 2314,
    "start_time": "2022-04-03T19:47:41.766Z"
   },
   {
    "duration": 2008,
    "start_time": "2022-04-03T19:47:44.082Z"
   },
   {
    "duration": 2413,
    "start_time": "2022-04-03T19:47:46.092Z"
   },
   {
    "duration": 30,
    "start_time": "2022-04-03T19:47:48.506Z"
   },
   {
    "duration": 337,
    "start_time": "2022-04-03T19:47:48.537Z"
   },
   {
    "duration": 26,
    "start_time": "2022-04-03T19:47:48.877Z"
   },
   {
    "duration": 2679,
    "start_time": "2022-04-03T19:47:48.905Z"
   },
   {
    "duration": 2511,
    "start_time": "2022-04-03T19:47:51.586Z"
   },
   {
    "duration": 2374,
    "start_time": "2022-04-03T19:47:54.099Z"
   },
   {
    "duration": 90,
    "start_time": "2022-04-03T19:47:56.476Z"
   },
   {
    "duration": 256,
    "start_time": "2022-04-03T19:47:56.568Z"
   },
   {
    "duration": 11,
    "start_time": "2022-04-03T19:47:56.862Z"
   },
   {
    "duration": 7988,
    "start_time": "2022-04-03T19:47:56.875Z"
   },
   {
    "duration": 14303,
    "start_time": "2022-04-03T19:48:04.865Z"
   },
   {
    "duration": 643,
    "start_time": "2022-04-03T19:48:19.170Z"
   },
   {
    "duration": 20,
    "start_time": "2022-04-03T19:48:19.815Z"
   },
   {
    "duration": 248,
    "start_time": "2022-04-03T19:48:19.864Z"
   },
   {
    "duration": 11,
    "start_time": "2022-04-03T19:48:20.114Z"
   },
   {
    "duration": 7442,
    "start_time": "2022-04-03T19:48:20.127Z"
   },
   {
    "duration": 11446,
    "start_time": "2022-04-03T19:48:27.572Z"
   },
   {
    "duration": 373,
    "start_time": "2022-04-03T19:48:39.019Z"
   },
   {
    "duration": 4572,
    "start_time": "2022-04-03T19:48:39.395Z"
   },
   {
    "duration": 94,
    "start_time": "2022-04-03T19:48:43.968Z"
   },
   {
    "duration": 4432,
    "start_time": "2022-04-03T19:48:44.064Z"
   },
   {
    "duration": 116,
    "start_time": "2022-04-03T19:48:48.497Z"
   },
   {
    "duration": 4915,
    "start_time": "2022-04-03T19:58:31.860Z"
   },
   {
    "duration": 6405,
    "start_time": "2022-04-03T19:58:46.147Z"
   },
   {
    "duration": 4621,
    "start_time": "2022-04-03T20:00:05.979Z"
   },
   {
    "duration": 5341,
    "start_time": "2022-04-03T20:00:15.391Z"
   },
   {
    "duration": 434,
    "start_time": "2022-04-03T20:02:14.409Z"
   },
   {
    "duration": 3177,
    "start_time": "2022-04-03T20:02:20.345Z"
   },
   {
    "duration": 79,
    "start_time": "2022-04-03T20:02:23.523Z"
   },
   {
    "duration": 3300,
    "start_time": "2022-04-03T20:02:30.220Z"
   },
   {
    "duration": 46,
    "start_time": "2022-04-03T20:02:33.563Z"
   },
   {
    "duration": 529,
    "start_time": "2022-04-03T20:14:25.138Z"
   },
   {
    "duration": 15243,
    "start_time": "2022-04-03T20:14:25.669Z"
   },
   {
    "duration": 8561,
    "start_time": "2022-04-03T20:14:40.914Z"
   },
   {
    "duration": 790,
    "start_time": "2022-04-03T20:14:49.478Z"
   },
   {
    "duration": 5,
    "start_time": "2022-04-03T20:14:50.270Z"
   },
   {
    "duration": 4203,
    "start_time": "2022-04-03T20:14:50.277Z"
   },
   {
    "duration": 3990,
    "start_time": "2022-04-03T20:14:54.482Z"
   },
   {
    "duration": 422,
    "start_time": "2022-04-03T20:14:58.474Z"
   },
   {
    "duration": 7698,
    "start_time": "2022-04-03T20:14:58.897Z"
   },
   {
    "duration": 4939,
    "start_time": "2022-04-03T20:15:06.664Z"
   },
   {
    "duration": 163,
    "start_time": "2022-04-03T20:15:11.604Z"
   },
   {
    "duration": 1294,
    "start_time": "2022-04-03T20:15:11.769Z"
   },
   {
    "duration": 324,
    "start_time": "2022-04-03T20:15:13.065Z"
   },
   {
    "duration": 6633,
    "start_time": "2022-04-03T20:15:13.391Z"
   },
   {
    "duration": 6462,
    "start_time": "2022-04-03T20:15:20.026Z"
   },
   {
    "duration": 5787,
    "start_time": "2022-04-03T20:15:26.490Z"
   },
   {
    "duration": 96,
    "start_time": "2022-04-03T20:15:32.280Z"
   },
   {
    "duration": 999,
    "start_time": "2022-04-03T20:15:32.378Z"
   },
   {
    "duration": 91,
    "start_time": "2022-04-03T20:15:33.379Z"
   },
   {
    "duration": 16405,
    "start_time": "2022-04-03T20:15:33.471Z"
   },
   {
    "duration": 22810,
    "start_time": "2022-04-03T20:15:49.878Z"
   },
   {
    "duration": 1178,
    "start_time": "2022-04-03T20:16:12.690Z"
   },
   {
    "duration": 29,
    "start_time": "2022-04-03T20:16:13.869Z"
   },
   {
    "duration": 402,
    "start_time": "2022-04-03T20:16:13.900Z"
   },
   {
    "duration": 60,
    "start_time": "2022-04-03T20:16:14.304Z"
   },
   {
    "duration": 9820,
    "start_time": "2022-04-03T20:16:14.366Z"
   },
   {
    "duration": 12903,
    "start_time": "2022-04-03T20:16:24.188Z"
   },
   {
    "duration": 831,
    "start_time": "2022-04-03T20:16:37.094Z"
   },
   {
    "duration": 5098,
    "start_time": "2022-04-03T20:16:37.926Z"
   },
   {
    "duration": 264,
    "start_time": "2022-04-03T20:16:43.025Z"
   },
   {
    "duration": 4097,
    "start_time": "2022-04-03T20:16:43.291Z"
   },
   {
    "duration": 191,
    "start_time": "2022-04-03T20:16:47.390Z"
   },
   {
    "duration": 4,
    "start_time": "2022-04-03T20:42:43.725Z"
   },
   {
    "duration": 8,
    "start_time": "2022-04-03T20:42:43.730Z"
   },
   {
    "duration": 466,
    "start_time": "2022-04-03T20:42:43.740Z"
   },
   {
    "duration": 185,
    "start_time": "2022-04-03T20:42:44.208Z"
   },
   {
    "duration": 4,
    "start_time": "2022-04-03T20:42:44.395Z"
   },
   {
    "duration": 1191,
    "start_time": "2022-04-03T20:42:44.401Z"
   },
   {
    "duration": 1632,
    "start_time": "2022-04-03T20:42:45.593Z"
   },
   {
    "duration": 164,
    "start_time": "2022-04-03T20:42:47.228Z"
   },
   {
    "duration": 2289,
    "start_time": "2022-04-03T20:42:47.393Z"
   },
   {
    "duration": 1998,
    "start_time": "2022-04-03T20:42:49.685Z"
   },
   {
    "duration": 107,
    "start_time": "2022-04-03T20:42:51.685Z"
   },
   {
    "duration": 401,
    "start_time": "2022-04-03T20:42:51.794Z"
   },
   {
    "duration": 95,
    "start_time": "2022-04-03T20:42:52.197Z"
   },
   {
    "duration": 3618,
    "start_time": "2022-04-03T20:42:52.293Z"
   },
   {
    "duration": 3184,
    "start_time": "2022-04-03T20:42:55.913Z"
   },
   {
    "duration": 4955,
    "start_time": "2022-04-03T20:43:15.864Z"
   },
   {
    "duration": 2588,
    "start_time": "2022-04-03T20:44:15.859Z"
   },
   {
    "duration": 5,
    "start_time": "2022-04-03T20:50:41.357Z"
   },
   {
    "duration": 16,
    "start_time": "2022-04-03T20:50:41.364Z"
   },
   {
    "duration": 314,
    "start_time": "2022-04-03T20:50:41.382Z"
   },
   {
    "duration": 176,
    "start_time": "2022-04-03T20:50:41.698Z"
   },
   {
    "duration": 4,
    "start_time": "2022-04-03T20:50:41.876Z"
   },
   {
    "duration": 1123,
    "start_time": "2022-04-03T20:50:41.881Z"
   },
   {
    "duration": 1412,
    "start_time": "2022-04-03T20:50:43.005Z"
   },
   {
    "duration": 135,
    "start_time": "2022-04-03T20:50:44.420Z"
   },
   {
    "duration": 2128,
    "start_time": "2022-04-03T20:50:44.564Z"
   },
   {
    "duration": 1907,
    "start_time": "2022-04-03T20:50:46.695Z"
   },
   {
    "duration": 80,
    "start_time": "2022-04-03T20:50:48.603Z"
   },
   {
    "duration": 310,
    "start_time": "2022-04-03T20:50:48.685Z"
   },
   {
    "duration": 96,
    "start_time": "2022-04-03T20:50:48.997Z"
   },
   {
    "duration": 3901,
    "start_time": "2022-04-03T20:50:49.094Z"
   },
   {
    "duration": 3381,
    "start_time": "2022-04-03T20:50:52.997Z"
   },
   {
    "duration": 2621,
    "start_time": "2022-04-03T20:50:56.379Z"
   },
   {
    "duration": 22,
    "start_time": "2022-04-03T20:50:59.063Z"
   },
   {
    "duration": 344,
    "start_time": "2022-04-03T20:50:59.086Z"
   },
   {
    "duration": 13,
    "start_time": "2022-04-03T20:51:06.453Z"
   },
   {
    "duration": 8622,
    "start_time": "2022-04-03T20:51:06.981Z"
   },
   {
    "duration": 14138,
    "start_time": "2022-04-03T20:51:25.151Z"
   },
   {
    "duration": 682,
    "start_time": "2022-04-03T20:51:39.292Z"
   },
   {
    "duration": 26,
    "start_time": "2022-04-03T20:51:39.976Z"
   },
   {
    "duration": 497,
    "start_time": "2022-04-03T20:51:40.004Z"
   },
   {
    "duration": 9,
    "start_time": "2022-04-03T20:51:40.503Z"
   },
   {
    "duration": 7687,
    "start_time": "2022-04-03T20:51:40.514Z"
   },
   {
    "duration": 12065,
    "start_time": "2022-04-03T20:51:48.203Z"
   },
   {
    "duration": 439,
    "start_time": "2022-04-03T20:52:00.270Z"
   },
   {
    "duration": 4007,
    "start_time": "2022-04-03T20:52:00.710Z"
   },
   {
    "duration": 147,
    "start_time": "2022-04-03T20:52:04.719Z"
   },
   {
    "duration": 3488,
    "start_time": "2022-04-03T20:52:11.476Z"
   },
   {
    "duration": 111,
    "start_time": "2022-04-03T20:52:14.966Z"
   },
   {
    "duration": 5,
    "start_time": "2022-04-03T20:56:46.204Z"
   },
   {
    "duration": 106,
    "start_time": "2022-04-03T20:59:10.539Z"
   },
   {
    "duration": 1015,
    "start_time": "2022-04-03T20:59:27.768Z"
   },
   {
    "duration": 509,
    "start_time": "2022-04-03T21:02:10.214Z"
   },
   {
    "duration": 15656,
    "start_time": "2022-04-03T21:02:10.725Z"
   },
   {
    "duration": 7795,
    "start_time": "2022-04-03T21:02:26.383Z"
   },
   {
    "duration": 716,
    "start_time": "2022-04-03T21:02:34.179Z"
   },
   {
    "duration": 6,
    "start_time": "2022-04-03T21:02:34.962Z"
   },
   {
    "duration": 3925,
    "start_time": "2022-04-03T21:02:34.969Z"
   },
   {
    "duration": 4380,
    "start_time": "2022-04-03T21:02:38.896Z"
   },
   {
    "duration": 398,
    "start_time": "2022-04-03T21:02:43.277Z"
   },
   {
    "duration": 8591,
    "start_time": "2022-04-03T21:02:43.677Z"
   },
   {
    "duration": 5500,
    "start_time": "2022-04-03T21:02:52.272Z"
   },
   {
    "duration": 106,
    "start_time": "2022-04-03T21:02:57.774Z"
   },
   {
    "duration": 1183,
    "start_time": "2022-04-03T21:02:57.881Z"
   },
   {
    "duration": 241,
    "start_time": "2022-04-03T21:02:59.066Z"
   },
   {
    "duration": 7187,
    "start_time": "2022-04-03T21:02:59.310Z"
   },
   {
    "duration": 7092,
    "start_time": "2022-04-03T21:03:06.499Z"
   },
   {
    "duration": 6690,
    "start_time": "2022-04-03T21:03:13.593Z"
   },
   {
    "duration": 101,
    "start_time": "2022-04-03T21:03:20.285Z"
   },
   {
    "duration": 699,
    "start_time": "2022-04-03T21:03:20.387Z"
   },
   {
    "duration": 93,
    "start_time": "2022-04-03T21:03:21.088Z"
   },
   {
    "duration": 19306,
    "start_time": "2022-04-03T21:03:21.182Z"
   },
   {
    "duration": 22212,
    "start_time": "2022-04-03T21:03:40.490Z"
   },
   {
    "duration": 4,
    "start_time": "2022-04-03T21:05:46.903Z"
   },
   {
    "duration": 17789,
    "start_time": "2022-04-03T21:05:48.837Z"
   },
   {
    "duration": 629,
    "start_time": "2022-04-03T21:18:05.947Z"
   },
   {
    "duration": 8885,
    "start_time": "2022-04-03T21:18:35.800Z"
   },
   {
    "duration": 294,
    "start_time": "2022-04-03T21:18:44.774Z"
   },
   {
    "duration": 74,
    "start_time": "2022-04-03T21:34:10.883Z"
   },
   {
    "duration": 23039,
    "start_time": "2022-04-03T21:34:26.030Z"
   },
   {
    "duration": 4,
    "start_time": "2022-04-03T21:34:50.653Z"
   },
   {
    "duration": 4263,
    "start_time": "2022-04-03T21:35:23.160Z"
   },
   {
    "duration": 142,
    "start_time": "2022-04-03T21:35:27.425Z"
   },
   {
    "duration": 419,
    "start_time": "2022-04-03T21:35:52.901Z"
   },
   {
    "duration": 5205,
    "start_time": "2022-04-03T21:37:13.972Z"
   },
   {
    "duration": 114,
    "start_time": "2022-04-03T21:37:19.181Z"
   },
   {
    "duration": 4,
    "start_time": "2022-04-03T21:37:42.924Z"
   },
   {
    "duration": 20,
    "start_time": "2022-04-03T21:38:31.962Z"
   },
   {
    "duration": 9974,
    "start_time": "2022-04-03T21:38:33.452Z"
   },
   {
    "duration": 15466,
    "start_time": "2022-04-03T21:38:43.429Z"
   },
   {
    "duration": 615,
    "start_time": "2022-04-03T21:39:32.507Z"
   },
   {
    "duration": 4821,
    "start_time": "2022-04-03T21:39:56.381Z"
   },
   {
    "duration": 159,
    "start_time": "2022-04-03T21:40:01.204Z"
   },
   {
    "duration": 12728,
    "start_time": "2022-04-03T21:40:45.682Z"
   },
   {
    "duration": 376,
    "start_time": "2022-04-03T21:40:58.411Z"
   },
   {
    "duration": 3803,
    "start_time": "2022-04-03T21:41:17.888Z"
   },
   {
    "duration": 59,
    "start_time": "2022-04-03T21:41:28.167Z"
   },
   {
    "duration": 4,
    "start_time": "2022-04-03T21:41:30.236Z"
   },
   {
    "duration": 4,
    "start_time": "2022-04-03T21:41:31.427Z"
   },
   {
    "duration": 3,
    "start_time": "2022-04-03T21:41:58.836Z"
   },
   {
    "duration": 16257,
    "start_time": "2022-04-03T21:42:37.434Z"
   },
   {
    "duration": 17856,
    "start_time": "2022-04-03T21:43:02.010Z"
   },
   {
    "duration": 555,
    "start_time": "2022-04-03T21:43:23.579Z"
   },
   {
    "duration": 3491,
    "start_time": "2022-04-03T21:44:59.105Z"
   },
   {
    "duration": 50,
    "start_time": "2022-04-03T21:45:04.323Z"
   },
   {
    "duration": 523,
    "start_time": "2022-04-03T21:45:46.265Z"
   },
   {
    "duration": 15120,
    "start_time": "2022-04-03T21:45:46.790Z"
   },
   {
    "duration": 9178,
    "start_time": "2022-04-03T21:46:01.913Z"
   },
   {
    "duration": 803,
    "start_time": "2022-04-03T21:46:11.093Z"
   },
   {
    "duration": 68,
    "start_time": "2022-04-03T21:46:11.898Z"
   },
   {
    "duration": 4934,
    "start_time": "2022-04-03T21:46:11.968Z"
   },
   {
    "duration": 4370,
    "start_time": "2022-04-03T21:46:16.903Z"
   },
   {
    "duration": 411,
    "start_time": "2022-04-03T21:46:21.276Z"
   },
   {
    "duration": 8001,
    "start_time": "2022-04-03T21:46:21.689Z"
   },
   {
    "duration": 5691,
    "start_time": "2022-04-03T21:46:29.693Z"
   },
   {
    "duration": 104,
    "start_time": "2022-04-03T21:46:35.386Z"
   },
   {
    "duration": 1585,
    "start_time": "2022-04-03T21:46:35.492Z"
   },
   {
    "duration": 303,
    "start_time": "2022-04-03T21:46:37.079Z"
   },
   {
    "duration": 6925,
    "start_time": "2022-04-03T21:46:37.383Z"
   },
   {
    "duration": 6825,
    "start_time": "2022-04-03T21:46:44.364Z"
   },
   {
    "duration": 5887,
    "start_time": "2022-04-03T21:46:51.191Z"
   },
   {
    "duration": 88,
    "start_time": "2022-04-03T21:46:57.079Z"
   },
   {
    "duration": 607,
    "start_time": "2022-04-03T21:46:57.169Z"
   },
   {
    "duration": 86,
    "start_time": "2022-04-03T21:46:57.779Z"
   },
   {
    "duration": 19519,
    "start_time": "2022-04-03T21:46:57.866Z"
   },
   {
    "duration": 24190,
    "start_time": "2022-04-03T21:47:17.387Z"
   },
   {
    "duration": 1013,
    "start_time": "2022-04-03T21:47:41.578Z"
   },
   {
    "duration": 592,
    "start_time": "2022-04-03T21:47:42.594Z"
   },
   {
    "duration": 6008,
    "start_time": "2022-04-03T21:55:53.279Z"
   },
   {
    "duration": 228,
    "start_time": "2022-04-03T21:56:01.552Z"
   },
   {
    "duration": 5,
    "start_time": "2022-04-03T21:56:33.690Z"
   },
   {
    "duration": 67,
    "start_time": "2022-04-03T21:56:38.735Z"
   },
   {
    "duration": 7,
    "start_time": "2022-04-03T21:56:47.036Z"
   },
   {
    "duration": 4,
    "start_time": "2022-04-03T21:56:49.741Z"
   },
   {
    "duration": 177,
    "start_time": "2022-04-03T21:57:06.218Z"
   },
   {
    "duration": 22765,
    "start_time": "2022-04-03T21:57:13.943Z"
   },
   {
    "duration": 26,
    "start_time": "2022-04-03T21:57:49.711Z"
   },
   {
    "duration": 3754,
    "start_time": "2022-04-03T21:58:10.056Z"
   },
   {
    "duration": 53,
    "start_time": "2022-04-03T21:58:13.812Z"
   },
   {
    "duration": 18572,
    "start_time": "2022-04-03T21:58:31.196Z"
   },
   {
    "duration": 4,
    "start_time": "2022-04-03T21:59:28.127Z"
   },
   {
    "duration": 4142,
    "start_time": "2022-04-03T21:59:57.627Z"
   },
   {
    "duration": 52,
    "start_time": "2022-04-03T22:00:07.522Z"
   },
   {
    "duration": 17687,
    "start_time": "2022-04-03T22:00:36.413Z"
   },
   {
    "duration": 4,
    "start_time": "2022-04-03T22:00:54.102Z"
   },
   {
    "duration": 4,
    "start_time": "2022-04-03T22:02:45.926Z"
   },
   {
    "duration": 11,
    "start_time": "2022-04-03T22:04:05.741Z"
   },
   {
    "duration": 8369,
    "start_time": "2022-04-03T22:04:07.302Z"
   },
   {
    "duration": 13400,
    "start_time": "2022-04-03T22:04:15.673Z"
   },
   {
    "duration": 362,
    "start_time": "2022-04-03T22:04:29.075Z"
   },
   {
    "duration": 3839,
    "start_time": "2022-04-03T22:04:29.462Z"
   },
   {
    "duration": 95,
    "start_time": "2022-04-03T22:04:33.302Z"
   },
   {
    "duration": 527,
    "start_time": "2022-04-03T22:09:03.436Z"
   },
   {
    "duration": 14815,
    "start_time": "2022-04-03T22:09:03.965Z"
   },
   {
    "duration": 8107,
    "start_time": "2022-04-03T22:09:18.782Z"
   },
   {
    "duration": 971,
    "start_time": "2022-04-03T22:09:26.892Z"
   },
   {
    "duration": 6,
    "start_time": "2022-04-03T22:09:27.866Z"
   },
   {
    "duration": 4492,
    "start_time": "2022-04-03T22:09:27.873Z"
   },
   {
    "duration": 4607,
    "start_time": "2022-04-03T22:09:32.367Z"
   },
   {
    "duration": 430,
    "start_time": "2022-04-03T22:09:36.976Z"
   },
   {
    "duration": 8187,
    "start_time": "2022-04-03T22:09:37.408Z"
   },
   {
    "duration": 5666,
    "start_time": "2022-04-03T22:09:45.598Z"
   },
   {
    "duration": 46,
    "start_time": "2022-04-03T22:09:51.267Z"
   },
   {
    "duration": 1278,
    "start_time": "2022-04-03T22:09:51.314Z"
   },
   {
    "duration": 330,
    "start_time": "2022-04-03T22:09:52.593Z"
   },
   {
    "duration": 6722,
    "start_time": "2022-04-03T22:09:52.925Z"
   },
   {
    "duration": 6629,
    "start_time": "2022-04-03T22:09:59.649Z"
   },
   {
    "duration": 5506,
    "start_time": "2022-04-03T22:10:06.280Z"
   },
   {
    "duration": 95,
    "start_time": "2022-04-03T22:10:11.787Z"
   },
   {
    "duration": 699,
    "start_time": "2022-04-03T22:10:11.884Z"
   },
   {
    "duration": 89,
    "start_time": "2022-04-03T22:10:12.584Z"
   },
   {
    "duration": 18992,
    "start_time": "2022-04-03T22:10:12.675Z"
   },
   {
    "duration": 25396,
    "start_time": "2022-04-03T22:10:31.669Z"
   },
   {
    "duration": 1313,
    "start_time": "2022-04-03T22:10:57.067Z"
   },
   {
    "duration": 88,
    "start_time": "2022-04-03T22:10:58.382Z"
   },
   {
    "duration": 496,
    "start_time": "2022-04-03T22:10:58.472Z"
   },
   {
    "duration": 11,
    "start_time": "2022-04-03T22:10:58.970Z"
   },
   {
    "duration": 10294,
    "start_time": "2022-04-03T22:10:58.982Z"
   },
   {
    "duration": 15025,
    "start_time": "2022-04-03T22:11:09.278Z"
   },
   {
    "duration": 862,
    "start_time": "2022-04-03T22:11:24.306Z"
   },
   {
    "duration": 5399,
    "start_time": "2022-04-03T22:11:25.169Z"
   },
   {
    "duration": 296,
    "start_time": "2022-04-03T22:11:30.569Z"
   },
   {
    "duration": 4297,
    "start_time": "2022-04-03T22:11:30.867Z"
   },
   {
    "duration": 200,
    "start_time": "2022-04-03T22:11:35.166Z"
   },
   {
    "duration": 488,
    "start_time": "2022-04-03T22:15:45.811Z"
   },
   {
    "duration": 15171,
    "start_time": "2022-04-03T22:15:46.301Z"
   },
   {
    "duration": 8213,
    "start_time": "2022-04-03T22:16:01.475Z"
   },
   {
    "duration": 774,
    "start_time": "2022-04-03T22:16:09.690Z"
   },
   {
    "duration": 6,
    "start_time": "2022-04-03T22:16:10.466Z"
   },
   {
    "duration": 3794,
    "start_time": "2022-04-03T22:16:10.473Z"
   },
   {
    "duration": 3818,
    "start_time": "2022-04-03T22:16:14.268Z"
   },
   {
    "duration": 393,
    "start_time": "2022-04-03T22:16:18.088Z"
   },
   {
    "duration": 8489,
    "start_time": "2022-04-03T22:16:18.483Z"
   },
   {
    "duration": 6426,
    "start_time": "2022-04-03T22:16:26.974Z"
   },
   {
    "duration": 94,
    "start_time": "2022-04-03T22:16:33.402Z"
   },
   {
    "duration": 1500,
    "start_time": "2022-04-03T22:16:33.498Z"
   },
   {
    "duration": 370,
    "start_time": "2022-04-03T22:16:35.000Z"
   },
   {
    "duration": 6510,
    "start_time": "2022-04-03T22:16:35.376Z"
   },
   {
    "duration": 6603,
    "start_time": "2022-04-03T22:16:41.888Z"
   },
   {
    "duration": 5703,
    "start_time": "2022-04-03T22:16:48.493Z"
   },
   {
    "duration": 87,
    "start_time": "2022-04-03T22:16:54.198Z"
   },
   {
    "duration": 985,
    "start_time": "2022-04-03T22:16:54.286Z"
   },
   {
    "duration": 94,
    "start_time": "2022-04-03T22:16:55.273Z"
   },
   {
    "duration": 19315,
    "start_time": "2022-04-03T22:16:55.369Z"
   },
   {
    "duration": 21901,
    "start_time": "2022-04-03T22:17:14.686Z"
   },
   {
    "duration": 1076,
    "start_time": "2022-04-03T22:17:36.588Z"
   },
   {
    "duration": 20,
    "start_time": "2022-04-03T22:17:37.665Z"
   },
   {
    "duration": 478,
    "start_time": "2022-04-03T22:17:37.686Z"
   },
   {
    "duration": 12,
    "start_time": "2022-04-03T22:17:38.165Z"
   },
   {
    "duration": 9302,
    "start_time": "2022-04-03T22:17:38.178Z"
   },
   {
    "duration": 13608,
    "start_time": "2022-04-03T22:17:47.482Z"
   },
   {
    "duration": 1087,
    "start_time": "2022-04-03T22:18:01.092Z"
   },
   {
    "duration": 5104,
    "start_time": "2022-04-03T22:18:02.181Z"
   },
   {
    "duration": 299,
    "start_time": "2022-04-03T22:18:07.286Z"
   },
   {
    "duration": 4613,
    "start_time": "2022-04-03T22:18:07.587Z"
   },
   {
    "duration": 171,
    "start_time": "2022-04-03T22:18:12.202Z"
   }
  ],
  "colab": {
   "name": "PySparkSprint.ipynb",
   "provenance": []
  },
  "kernelspec": {
   "display_name": "Python 3 (ipykernel)",
   "language": "python",
   "name": "python3"
  },
  "language_info": {
   "codemirror_mode": {
    "name": "ipython",
    "version": 3
   },
   "file_extension": ".py",
   "mimetype": "text/x-python",
   "name": "python",
   "nbconvert_exporter": "python",
   "pygments_lexer": "ipython3",
   "version": "3.9.12"
  },
  "toc": {
   "base_numbering": 1,
   "nav_menu": {},
   "number_sections": true,
   "sideBar": true,
   "skip_h1_title": true,
   "title_cell": "Table of Contents",
   "title_sidebar": "Contents",
   "toc_cell": false,
   "toc_position": {},
   "toc_section_display": true,
   "toc_window_display": false
  }
 },
 "nbformat": 4,
 "nbformat_minor": 5
}
